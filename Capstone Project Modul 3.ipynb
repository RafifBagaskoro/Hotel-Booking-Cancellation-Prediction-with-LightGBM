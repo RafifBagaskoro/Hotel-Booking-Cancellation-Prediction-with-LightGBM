{
 "cells": [
  {
   "cell_type": "markdown",
   "metadata": {},
   "source": [
    "# Hotel Booking Demand : Possibility of Cancel"
   ]
  },
  {
   "cell_type": "markdown",
   "metadata": {},
   "source": [
    "# Business Problem & Data Understanding"
   ]
  },
  {
   "cell_type": "markdown",
   "metadata": {},
   "source": [
    "## Business Problem "
   ]
  },
  {
   "cell_type": "markdown",
   "metadata": {},
   "source": [
    "**Contex**<br>\n",
    "Sebuah hotel di *Portugal* ingin mengetahui apakah sebuah hotel booking akan di *Canceled* atau tidak, Hotel ini ingin mengetahui apakah sebuah **Booking** akan berlanjut atau akan berakhir di *Cancel*, hal ini dapat membantu Hotel untuk mengingkatkan *revenue* karena jika sebuah booking akan berakhir *cancel*, hal itu bisa di alihkan kepada *Customer* yang lebih berpotensi menginap. \n",
    "\n",
    "Target: `is_canceled`\n",
    "\n",
    "0 : Tidak melakukan cancelation\n",
    "\n",
    "1 : Melakukan Cancelation"
   ]
  },
  {
   "cell_type": "markdown",
   "metadata": {},
   "source": [
    "**Problem Statement**<br>\n",
    "\n",
    "Jika menerima booking secara keseluruhan akan berpotensi adanya customer yang *cancel*, walaupun hal ini tidak memakan biaya, tapi hal ini sangat mempengaruhi hilangnnya potensi *revenue*.\n",
    "\n",
    "Perusahaan ingin memaksimalkan *revenue* dengan meminimalisirkan potensi *cancel*, hal ini juga dilakukan agar perusahaan akan lebih fokus memperbanyak jumlah penginap semaksimal mungkin."
   ]
  },
  {
   "cell_type": "markdown",
   "metadata": {},
   "source": [
    "**Goals**"
   ]
  },
  {
   "cell_type": "markdown",
   "metadata": {},
   "source": [
    "Dari *Problem Statement* diatas, perusahaan ingin bisa memprediksi *behaviour* dari customer, yang berpotensi untuk *cancel* atau yang tetap menginap di hotel tersebut.\n",
    "\n",
    "tentunya dengan mengetahui faktor apa yang sekiranya mempengaruhi hal ini terjadi, sehingga Hotel bisa lebih terfokus untuk menentukan apakah individu/kelompok mana yang berpotensi melakukan *cancel* atau tidak."
   ]
  },
  {
   "cell_type": "markdown",
   "metadata": {},
   "source": [
    "**Analytics approach**"
   ]
  },
  {
   "cell_type": "markdown",
   "metadata": {},
   "source": [
    "Disini kita akan melakukan analisa data pada *customer behaviour* dalam melakukan booking di hotel, antara melakukan *cancel* atau tidak\n",
    "\n",
    "Dengan analisa data ini, kita akan membangun model klasifikasi yang dapat membantu perusahaan dalam memprediksi apakah individu/kelompok ini akan melakukan *cancel* atau tidak"
   ]
  },
  {
   "cell_type": "markdown",
   "metadata": {},
   "source": [
    "**Metrics Evaluation**"
   ]
  },
  {
   "attachments": {},
   "cell_type": "markdown",
   "metadata": {},
   "source": [
    "|Actual/Predicted| P | N |\n",
    "|----------------|---|---|\n",
    "|P|TP|FN\n",
    "|N|FP|TN\n",
    "\n",
    "**Type 1 Error FP (False Positive):**<br>\n",
    "Memiliki konsekuensi kehilangan customer yang tidak cancel\n",
    "\n",
    "**Type 2 Error FN (False Negative):**<br>\n",
    "Memiliki konsekuensi dimana hotel mempertahankan customer yang akan cancel\n",
    "\n",
    "Melihat konsekuensi diatas, hal yang ingin di capai yaitu membuatkan model yang dapat meningkatkan *revenue* setinggi mungkin, oleh karena itu kedua FP dan FN merupakan hal yang penting untuk diperhatikan"
   ]
  },
  {
   "cell_type": "markdown",
   "metadata": {},
   "source": [
    "# Data Exploration"
   ]
  },
  {
   "cell_type": "markdown",
   "metadata": {},
   "source": [
    "## Big Picture"
   ]
  },
  {
   "attachments": {},
   "cell_type": "markdown",
   "metadata": {},
   "source": [
    "Pertama-tama kita akan import library sesuai dengan kebutuhan"
   ]
  },
  {
   "attachments": {},
   "cell_type": "markdown",
   "metadata": {},
   "source": [
    "Lalu kita akan lihat data secara big picturenya"
   ]
  },
  {
   "cell_type": "code",
   "execution_count": 181,
   "metadata": {},
   "outputs": [],
   "source": [
    "# Data manipulation\n",
    "import pandas as pd\n",
    "import numpy as np\n",
    "\n",
    "# Visualization\n",
    "import matplotlib.pyplot as plt\n",
    "import seaborn as sns\n",
    "\n",
    "# Pre-processing\n",
    "from sklearn.model_selection import train_test_split, StratifiedKFold, cross_val_score\n",
    "from sklearn.preprocessing import OneHotEncoder\n",
    "import category_encoders as ce\n",
    "from sklearn.compose import ColumnTransformer\n",
    "\n",
    "# Evaluation Metrics\n",
    "from sklearn.metrics import f1_score, accuracy_score, recall_score, precision_score, roc_auc_score, confusion_matrix\n",
    "\n",
    "# Algorithms\n",
    "from sklearn.linear_model import LogisticRegression\n",
    "from sklearn.tree import DecisionTreeClassifier\n",
    "from sklearn.ensemble import RandomForestClassifier\n",
    "from sklearn.naive_bayes import GaussianNB\n",
    "from sklearn.neighbors import KNeighborsClassifier\n",
    "from xgboost import XGBClassifier\n",
    "import lightgbm as lgb\n",
    "\n",
    "# Resampling\n",
    "from imblearn.under_sampling import RandomUnderSampler, NearMiss\n",
    "from imblearn.over_sampling import RandomOverSampler, SMOTE\n",
    "from imblearn.combine import SMOTEENN\n",
    "\n",
    "# Pipeline\n",
    "from imblearn.pipeline import Pipeline # note: Untuk data imbalance harus menggunakan pipeline dari imblearn (Untuk memasukkan resampling)\n",
    "\n",
    "# Report \n",
    "from sklearn.metrics import classification_report\n",
    "\n",
    "# Tuning\n",
    "import optuna \n",
    "\n",
    "# Saving model\n",
    "import pickle\n",
    "\n",
    "# Warnings\n",
    "import warnings\n",
    "warnings.filterwarnings(\"ignore\")"
   ]
  },
  {
   "cell_type": "code",
   "execution_count": 182,
   "metadata": {},
   "outputs": [
    {
     "data": {
      "text/html": [
       "<div>\n",
       "<style scoped>\n",
       "    .dataframe tbody tr th:only-of-type {\n",
       "        vertical-align: middle;\n",
       "    }\n",
       "\n",
       "    .dataframe tbody tr th {\n",
       "        vertical-align: top;\n",
       "    }\n",
       "\n",
       "    .dataframe thead th {\n",
       "        text-align: right;\n",
       "    }\n",
       "</style>\n",
       "<table border=\"1\" class=\"dataframe\">\n",
       "  <thead>\n",
       "    <tr style=\"text-align: right;\">\n",
       "      <th></th>\n",
       "      <th>country</th>\n",
       "      <th>market_segment</th>\n",
       "      <th>previous_cancellations</th>\n",
       "      <th>booking_changes</th>\n",
       "      <th>deposit_type</th>\n",
       "      <th>days_in_waiting_list</th>\n",
       "      <th>customer_type</th>\n",
       "      <th>reserved_room_type</th>\n",
       "      <th>required_car_parking_spaces</th>\n",
       "      <th>total_of_special_requests</th>\n",
       "      <th>is_canceled</th>\n",
       "    </tr>\n",
       "  </thead>\n",
       "  <tbody>\n",
       "    <tr>\n",
       "      <th>0</th>\n",
       "      <td>IRL</td>\n",
       "      <td>Offline TA/TO</td>\n",
       "      <td>0</td>\n",
       "      <td>0</td>\n",
       "      <td>No Deposit</td>\n",
       "      <td>0</td>\n",
       "      <td>Transient-Party</td>\n",
       "      <td>A</td>\n",
       "      <td>0</td>\n",
       "      <td>0</td>\n",
       "      <td>0</td>\n",
       "    </tr>\n",
       "    <tr>\n",
       "      <th>1</th>\n",
       "      <td>FRA</td>\n",
       "      <td>Online TA</td>\n",
       "      <td>0</td>\n",
       "      <td>0</td>\n",
       "      <td>No Deposit</td>\n",
       "      <td>0</td>\n",
       "      <td>Transient</td>\n",
       "      <td>A</td>\n",
       "      <td>0</td>\n",
       "      <td>2</td>\n",
       "      <td>0</td>\n",
       "    </tr>\n",
       "    <tr>\n",
       "      <th>2</th>\n",
       "      <td>PRT</td>\n",
       "      <td>Online TA</td>\n",
       "      <td>0</td>\n",
       "      <td>1</td>\n",
       "      <td>No Deposit</td>\n",
       "      <td>0</td>\n",
       "      <td>Transient</td>\n",
       "      <td>A</td>\n",
       "      <td>0</td>\n",
       "      <td>2</td>\n",
       "      <td>0</td>\n",
       "    </tr>\n",
       "    <tr>\n",
       "      <th>3</th>\n",
       "      <td>NLD</td>\n",
       "      <td>Online TA</td>\n",
       "      <td>0</td>\n",
       "      <td>0</td>\n",
       "      <td>No Deposit</td>\n",
       "      <td>0</td>\n",
       "      <td>Transient</td>\n",
       "      <td>A</td>\n",
       "      <td>0</td>\n",
       "      <td>1</td>\n",
       "      <td>1</td>\n",
       "    </tr>\n",
       "    <tr>\n",
       "      <th>4</th>\n",
       "      <td>PRT</td>\n",
       "      <td>Online TA</td>\n",
       "      <td>0</td>\n",
       "      <td>2</td>\n",
       "      <td>No Deposit</td>\n",
       "      <td>0</td>\n",
       "      <td>Transient</td>\n",
       "      <td>A</td>\n",
       "      <td>0</td>\n",
       "      <td>2</td>\n",
       "      <td>0</td>\n",
       "    </tr>\n",
       "  </tbody>\n",
       "</table>\n",
       "</div>"
      ],
      "text/plain": [
       "  country market_segment  previous_cancellations  booking_changes  \\\n",
       "0  IRL     Offline TA/TO  0                       0                 \n",
       "1  FRA     Online TA      0                       0                 \n",
       "2  PRT     Online TA      0                       1                 \n",
       "3  NLD     Online TA      0                       0                 \n",
       "4  PRT     Online TA      0                       2                 \n",
       "\n",
       "  deposit_type  days_in_waiting_list    customer_type reserved_room_type  \\\n",
       "0  No Deposit   0                     Transient-Party  A                   \n",
       "1  No Deposit   0                     Transient        A                   \n",
       "2  No Deposit   0                     Transient        A                   \n",
       "3  No Deposit   0                     Transient        A                   \n",
       "4  No Deposit   0                     Transient        A                   \n",
       "\n",
       "   required_car_parking_spaces  total_of_special_requests  is_canceled  \n",
       "0  0                            0                          0            \n",
       "1  0                            2                          0            \n",
       "2  0                            2                          0            \n",
       "3  0                            1                          1            \n",
       "4  0                            2                          0            "
      ]
     },
     "metadata": {},
     "output_type": "display_data"
    },
    {
     "data": {
      "text/html": [
       "<div>\n",
       "<style scoped>\n",
       "    .dataframe tbody tr th:only-of-type {\n",
       "        vertical-align: middle;\n",
       "    }\n",
       "\n",
       "    .dataframe tbody tr th {\n",
       "        vertical-align: top;\n",
       "    }\n",
       "\n",
       "    .dataframe thead th {\n",
       "        text-align: right;\n",
       "    }\n",
       "</style>\n",
       "<table border=\"1\" class=\"dataframe\">\n",
       "  <thead>\n",
       "    <tr style=\"text-align: right;\">\n",
       "      <th></th>\n",
       "      <th>country</th>\n",
       "      <th>market_segment</th>\n",
       "      <th>previous_cancellations</th>\n",
       "      <th>booking_changes</th>\n",
       "      <th>deposit_type</th>\n",
       "      <th>days_in_waiting_list</th>\n",
       "      <th>customer_type</th>\n",
       "      <th>reserved_room_type</th>\n",
       "      <th>required_car_parking_spaces</th>\n",
       "      <th>total_of_special_requests</th>\n",
       "      <th>is_canceled</th>\n",
       "    </tr>\n",
       "  </thead>\n",
       "  <tbody>\n",
       "    <tr>\n",
       "      <th>83568</th>\n",
       "      <td>PRT</td>\n",
       "      <td>Online TA</td>\n",
       "      <td>0</td>\n",
       "      <td>0</td>\n",
       "      <td>No Deposit</td>\n",
       "      <td>0</td>\n",
       "      <td>Contract</td>\n",
       "      <td>A</td>\n",
       "      <td>0</td>\n",
       "      <td>3</td>\n",
       "      <td>1</td>\n",
       "    </tr>\n",
       "    <tr>\n",
       "      <th>83569</th>\n",
       "      <td>FRA</td>\n",
       "      <td>Online TA</td>\n",
       "      <td>0</td>\n",
       "      <td>0</td>\n",
       "      <td>No Deposit</td>\n",
       "      <td>0</td>\n",
       "      <td>Transient</td>\n",
       "      <td>D</td>\n",
       "      <td>0</td>\n",
       "      <td>2</td>\n",
       "      <td>0</td>\n",
       "    </tr>\n",
       "    <tr>\n",
       "      <th>83570</th>\n",
       "      <td>PRT</td>\n",
       "      <td>Online TA</td>\n",
       "      <td>0</td>\n",
       "      <td>1</td>\n",
       "      <td>No Deposit</td>\n",
       "      <td>0</td>\n",
       "      <td>Transient</td>\n",
       "      <td>D</td>\n",
       "      <td>0</td>\n",
       "      <td>3</td>\n",
       "      <td>0</td>\n",
       "    </tr>\n",
       "    <tr>\n",
       "      <th>83571</th>\n",
       "      <td>CN</td>\n",
       "      <td>Offline TA/TO</td>\n",
       "      <td>0</td>\n",
       "      <td>0</td>\n",
       "      <td>No Deposit</td>\n",
       "      <td>0</td>\n",
       "      <td>Transient-Party</td>\n",
       "      <td>A</td>\n",
       "      <td>0</td>\n",
       "      <td>0</td>\n",
       "      <td>0</td>\n",
       "    </tr>\n",
       "    <tr>\n",
       "      <th>83572</th>\n",
       "      <td>PRT</td>\n",
       "      <td>Groups</td>\n",
       "      <td>0</td>\n",
       "      <td>0</td>\n",
       "      <td>Non Refund</td>\n",
       "      <td>0</td>\n",
       "      <td>Transient</td>\n",
       "      <td>A</td>\n",
       "      <td>0</td>\n",
       "      <td>0</td>\n",
       "      <td>1</td>\n",
       "    </tr>\n",
       "  </tbody>\n",
       "</table>\n",
       "</div>"
      ],
      "text/plain": [
       "      country market_segment  previous_cancellations  booking_changes  \\\n",
       "83568  PRT     Online TA      0                       0                 \n",
       "83569  FRA     Online TA      0                       0                 \n",
       "83570  PRT     Online TA      0                       1                 \n",
       "83571  CN      Offline TA/TO  0                       0                 \n",
       "83572  PRT     Groups         0                       0                 \n",
       "\n",
       "      deposit_type  days_in_waiting_list    customer_type reserved_room_type  \\\n",
       "83568  No Deposit   0                     Contract         A                   \n",
       "83569  No Deposit   0                     Transient        D                   \n",
       "83570  No Deposit   0                     Transient        D                   \n",
       "83571  No Deposit   0                     Transient-Party  A                   \n",
       "83572  Non Refund   0                     Transient        A                   \n",
       "\n",
       "       required_car_parking_spaces  total_of_special_requests  is_canceled  \n",
       "83568  0                            3                          1            \n",
       "83569  0                            2                          0            \n",
       "83570  0                            3                          0            \n",
       "83571  0                            0                          0            \n",
       "83572  0                            0                          1            "
      ]
     },
     "metadata": {},
     "output_type": "display_data"
    },
    {
     "name": "stdout",
     "output_type": "stream",
     "text": [
      "Data Size:\n",
      "Baris : 83573\n",
      "Kolom : 11\n"
     ]
    }
   ],
   "source": [
    "# Import Data \n",
    "\n",
    "df = pd.read_csv('data_hotel_booking_demand.csv')\n",
    "display(df.head(),df.tail())\n",
    "print('Data Size:\\nBaris : {}\\nKolom : {}'.format(df.shape[0],df.shape[1]))"
   ]
  },
  {
   "attachments": {},
   "cell_type": "markdown",
   "metadata": {},
   "source": [
    "Kita akan lihat info lebih detail"
   ]
  },
  {
   "cell_type": "code",
   "execution_count": 183,
   "metadata": {},
   "outputs": [
    {
     "name": "stdout",
     "output_type": "stream",
     "text": [
      "<class 'pandas.core.frame.DataFrame'>\n",
      "RangeIndex: 83573 entries, 0 to 83572\n",
      "Data columns (total 11 columns):\n",
      " #   Column                       Non-Null Count  Dtype \n",
      "---  ------                       --------------  ----- \n",
      " 0   country                      83222 non-null  object\n",
      " 1   market_segment               83573 non-null  object\n",
      " 2   previous_cancellations       83573 non-null  int64 \n",
      " 3   booking_changes              83573 non-null  int64 \n",
      " 4   deposit_type                 83573 non-null  object\n",
      " 5   days_in_waiting_list         83573 non-null  int64 \n",
      " 6   customer_type                83573 non-null  object\n",
      " 7   reserved_room_type           83573 non-null  object\n",
      " 8   required_car_parking_spaces  83573 non-null  int64 \n",
      " 9   total_of_special_requests    83573 non-null  int64 \n",
      " 10  is_canceled                  83573 non-null  int64 \n",
      "dtypes: int64(6), object(5)\n",
      "memory usage: 7.0+ MB\n"
     ]
    }
   ],
   "source": [
    "# data info\n",
    "df.info()"
   ]
  },
  {
   "cell_type": "code",
   "execution_count": 184,
   "metadata": {},
   "outputs": [
    {
     "data": {
      "text/html": [
       "<div>\n",
       "<style scoped>\n",
       "    .dataframe tbody tr th:only-of-type {\n",
       "        vertical-align: middle;\n",
       "    }\n",
       "\n",
       "    .dataframe tbody tr th {\n",
       "        vertical-align: top;\n",
       "    }\n",
       "\n",
       "    .dataframe thead th {\n",
       "        text-align: right;\n",
       "    }\n",
       "</style>\n",
       "<table border=\"1\" class=\"dataframe\">\n",
       "  <thead>\n",
       "    <tr style=\"text-align: right;\">\n",
       "      <th></th>\n",
       "      <th>previous_cancellations</th>\n",
       "      <th>booking_changes</th>\n",
       "      <th>days_in_waiting_list</th>\n",
       "      <th>required_car_parking_spaces</th>\n",
       "      <th>total_of_special_requests</th>\n",
       "      <th>is_canceled</th>\n",
       "    </tr>\n",
       "  </thead>\n",
       "  <tbody>\n",
       "    <tr>\n",
       "      <th>count</th>\n",
       "      <td>83573.000000</td>\n",
       "      <td>83573.000000</td>\n",
       "      <td>83573.000000</td>\n",
       "      <td>83573.000000</td>\n",
       "      <td>83573.000000</td>\n",
       "      <td>83573.000000</td>\n",
       "    </tr>\n",
       "    <tr>\n",
       "      <th>mean</th>\n",
       "      <td>0.086798</td>\n",
       "      <td>0.220897</td>\n",
       "      <td>2.330561</td>\n",
       "      <td>0.062999</td>\n",
       "      <td>0.573211</td>\n",
       "      <td>0.368277</td>\n",
       "    </tr>\n",
       "    <tr>\n",
       "      <th>std</th>\n",
       "      <td>0.841011</td>\n",
       "      <td>0.648635</td>\n",
       "      <td>17.673051</td>\n",
       "      <td>0.246919</td>\n",
       "      <td>0.795163</td>\n",
       "      <td>0.482340</td>\n",
       "    </tr>\n",
       "    <tr>\n",
       "      <th>min</th>\n",
       "      <td>0.000000</td>\n",
       "      <td>0.000000</td>\n",
       "      <td>0.000000</td>\n",
       "      <td>0.000000</td>\n",
       "      <td>0.000000</td>\n",
       "      <td>0.000000</td>\n",
       "    </tr>\n",
       "    <tr>\n",
       "      <th>25%</th>\n",
       "      <td>0.000000</td>\n",
       "      <td>0.000000</td>\n",
       "      <td>0.000000</td>\n",
       "      <td>0.000000</td>\n",
       "      <td>0.000000</td>\n",
       "      <td>0.000000</td>\n",
       "    </tr>\n",
       "    <tr>\n",
       "      <th>50%</th>\n",
       "      <td>0.000000</td>\n",
       "      <td>0.000000</td>\n",
       "      <td>0.000000</td>\n",
       "      <td>0.000000</td>\n",
       "      <td>0.000000</td>\n",
       "      <td>0.000000</td>\n",
       "    </tr>\n",
       "    <tr>\n",
       "      <th>75%</th>\n",
       "      <td>0.000000</td>\n",
       "      <td>0.000000</td>\n",
       "      <td>0.000000</td>\n",
       "      <td>0.000000</td>\n",
       "      <td>1.000000</td>\n",
       "      <td>1.000000</td>\n",
       "    </tr>\n",
       "    <tr>\n",
       "      <th>max</th>\n",
       "      <td>26.000000</td>\n",
       "      <td>21.000000</td>\n",
       "      <td>391.000000</td>\n",
       "      <td>8.000000</td>\n",
       "      <td>5.000000</td>\n",
       "      <td>1.000000</td>\n",
       "    </tr>\n",
       "  </tbody>\n",
       "</table>\n",
       "</div>"
      ],
      "text/plain": [
       "       previous_cancellations  booking_changes  days_in_waiting_list  \\\n",
       "count  83573.000000            83573.000000     83573.000000           \n",
       "mean   0.086798                0.220897         2.330561               \n",
       "std    0.841011                0.648635         17.673051              \n",
       "min    0.000000                0.000000         0.000000               \n",
       "25%    0.000000                0.000000         0.000000               \n",
       "50%    0.000000                0.000000         0.000000               \n",
       "75%    0.000000                0.000000         0.000000               \n",
       "max    26.000000               21.000000        391.000000             \n",
       "\n",
       "       required_car_parking_spaces  total_of_special_requests   is_canceled  \n",
       "count  83573.000000                 83573.000000               83573.000000  \n",
       "mean   0.062999                     0.573211                   0.368277      \n",
       "std    0.246919                     0.795163                   0.482340      \n",
       "min    0.000000                     0.000000                   0.000000      \n",
       "25%    0.000000                     0.000000                   0.000000      \n",
       "50%    0.000000                     0.000000                   0.000000      \n",
       "75%    0.000000                     1.000000                   1.000000      \n",
       "max    8.000000                     5.000000                   1.000000      "
      ]
     },
     "metadata": {},
     "output_type": "display_data"
    },
    {
     "data": {
      "text/html": [
       "<div>\n",
       "<style scoped>\n",
       "    .dataframe tbody tr th:only-of-type {\n",
       "        vertical-align: middle;\n",
       "    }\n",
       "\n",
       "    .dataframe tbody tr th {\n",
       "        vertical-align: top;\n",
       "    }\n",
       "\n",
       "    .dataframe thead th {\n",
       "        text-align: right;\n",
       "    }\n",
       "</style>\n",
       "<table border=\"1\" class=\"dataframe\">\n",
       "  <thead>\n",
       "    <tr style=\"text-align: right;\">\n",
       "      <th></th>\n",
       "      <th>country</th>\n",
       "      <th>market_segment</th>\n",
       "      <th>deposit_type</th>\n",
       "      <th>customer_type</th>\n",
       "      <th>reserved_room_type</th>\n",
       "    </tr>\n",
       "  </thead>\n",
       "  <tbody>\n",
       "    <tr>\n",
       "      <th>count</th>\n",
       "      <td>83222</td>\n",
       "      <td>83573</td>\n",
       "      <td>83573</td>\n",
       "      <td>83573</td>\n",
       "      <td>83573</td>\n",
       "    </tr>\n",
       "    <tr>\n",
       "      <th>unique</th>\n",
       "      <td>162</td>\n",
       "      <td>8</td>\n",
       "      <td>3</td>\n",
       "      <td>4</td>\n",
       "      <td>10</td>\n",
       "    </tr>\n",
       "    <tr>\n",
       "      <th>top</th>\n",
       "      <td>PRT</td>\n",
       "      <td>Online TA</td>\n",
       "      <td>No Deposit</td>\n",
       "      <td>Transient</td>\n",
       "      <td>A</td>\n",
       "    </tr>\n",
       "    <tr>\n",
       "      <th>freq</th>\n",
       "      <td>34097</td>\n",
       "      <td>39460</td>\n",
       "      <td>73352</td>\n",
       "      <td>62732</td>\n",
       "      <td>60041</td>\n",
       "    </tr>\n",
       "  </tbody>\n",
       "</table>\n",
       "</div>"
      ],
      "text/plain": [
       "       country market_segment deposit_type customer_type reserved_room_type\n",
       "count   83222   83573          83573        83573         83573            \n",
       "unique  162     8              3            4             10               \n",
       "top     PRT     Online TA      No Deposit   Transient     A                \n",
       "freq    34097   39460          73352        62732         60041            "
      ]
     },
     "metadata": {},
     "output_type": "display_data"
    }
   ],
   "source": [
    "# describe pada data numerik dan object\n",
    "display(df.describe(),df.describe(include=object))"
   ]
  },
  {
   "cell_type": "code",
   "execution_count": 185,
   "metadata": {},
   "outputs": [
    {
     "data": {
      "text/html": [
       "<div>\n",
       "<style scoped>\n",
       "    .dataframe tbody tr th:only-of-type {\n",
       "        vertical-align: middle;\n",
       "    }\n",
       "\n",
       "    .dataframe tbody tr th {\n",
       "        vertical-align: top;\n",
       "    }\n",
       "\n",
       "    .dataframe thead th {\n",
       "        text-align: right;\n",
       "    }\n",
       "</style>\n",
       "<table border=\"1\" class=\"dataframe\">\n",
       "  <thead>\n",
       "    <tr style=\"text-align: right;\">\n",
       "      <th></th>\n",
       "      <th>Column Name</th>\n",
       "      <th>Number of Unique</th>\n",
       "      <th>Unique Sample</th>\n",
       "    </tr>\n",
       "  </thead>\n",
       "  <tbody>\n",
       "    <tr>\n",
       "      <th>0</th>\n",
       "      <td>country</td>\n",
       "      <td>162</td>\n",
       "      <td>[IRL, FRA, PRT, NLD, ESP, UMI, CN, LUX, BRA, BEL, JPN, DEU, ITA, CHE, GBR, AGO, SRB, COL, CHN, SWE, AUT, CIV, CZE, POL, USA, SGP, RUS, ROU, DNK, IND, MAR, PHL, ARG, ISL, ZAF, LBN, MOZ, TUR, BGD, MEX, CAF, NOR, FIN, UKR, EGY, ISR, nan, KOR, AZE, HUN, AUS, EST, CHL, SVN, PRY, ABW, ALB, LTU, ARE, HRV, SAU, NZL, LVA, ATA, KAZ, DZA, TWN, CRI, BIH, BGR, IRQ, OMN, VEN, IDN, GEO, MLT, IRN, BLR, URY, LBY, TUN, BEN, MYS, MWI, GRC, CYP, CPV, HKG, PRI, MKD, MUS, IMN, PAN, NGA, GLP, KHM, PER, QAT, SEN, MAC, ...]</td>\n",
       "    </tr>\n",
       "    <tr>\n",
       "      <th>1</th>\n",
       "      <td>market_segment</td>\n",
       "      <td>8</td>\n",
       "      <td>[Offline TA/TO, Online TA, Direct, Groups, Corporate, Complementary, Aviation, Undefined]</td>\n",
       "    </tr>\n",
       "    <tr>\n",
       "      <th>2</th>\n",
       "      <td>previous_cancellations</td>\n",
       "      <td>15</td>\n",
       "      <td>[0, 1, 25, 2, 3, 11, 24, 13, 6, 26, 14, 4, 19, 5, 21]</td>\n",
       "    </tr>\n",
       "    <tr>\n",
       "      <th>3</th>\n",
       "      <td>booking_changes</td>\n",
       "      <td>19</td>\n",
       "      <td>[0, 1, 2, 5, 3, 4, 6, 7, 9, 8, 17, 10, 13, 12, 14, 21, 16, 20, 15]</td>\n",
       "    </tr>\n",
       "    <tr>\n",
       "      <th>4</th>\n",
       "      <td>deposit_type</td>\n",
       "      <td>3</td>\n",
       "      <td>[No Deposit, Non Refund, Refundable]</td>\n",
       "    </tr>\n",
       "    <tr>\n",
       "      <th>5</th>\n",
       "      <td>days_in_waiting_list</td>\n",
       "      <td>115</td>\n",
       "      <td>[0, 3, 39, 87, 77, 215, 97, 162, 46, 79, 4, 31, 122, 34, 57, 259, 50, 17, 32, 43, 75, 69, 44, 22, 113, 58, 38, 65, 48, 236, 176, 25, 108, 91, 19, 160, 68, 28, 63, 35, 42, 59, 24, 8, 183, 187, 21, 111, 56, 98, 101, 15, 16, 47, 93, 45, 14, 70, 10, 49, 178, 99, 60, 40, 85, 223, 6, 33, 391, 20, 1, 41, 147, 55, 80, 379, 150, 61, 330, 174, 107, 96, 18, 62, 13, 30, 120, 27, 207, 71, 2, 76, 125, 5, 9, 224, 53, 83, 84, 12, ...]</td>\n",
       "    </tr>\n",
       "    <tr>\n",
       "      <th>6</th>\n",
       "      <td>customer_type</td>\n",
       "      <td>4</td>\n",
       "      <td>[Transient-Party, Transient, Contract, Group]</td>\n",
       "    </tr>\n",
       "    <tr>\n",
       "      <th>7</th>\n",
       "      <td>reserved_room_type</td>\n",
       "      <td>10</td>\n",
       "      <td>[A, E, D, F, B, G, C, H, L, P]</td>\n",
       "    </tr>\n",
       "    <tr>\n",
       "      <th>8</th>\n",
       "      <td>required_car_parking_spaces</td>\n",
       "      <td>5</td>\n",
       "      <td>[0, 1, 2, 8, 3]</td>\n",
       "    </tr>\n",
       "    <tr>\n",
       "      <th>9</th>\n",
       "      <td>total_of_special_requests</td>\n",
       "      <td>6</td>\n",
       "      <td>[0, 2, 1, 3, 4, 5]</td>\n",
       "    </tr>\n",
       "    <tr>\n",
       "      <th>10</th>\n",
       "      <td>is_canceled</td>\n",
       "      <td>2</td>\n",
       "      <td>[0, 1]</td>\n",
       "    </tr>\n",
       "  </tbody>\n",
       "</table>\n",
       "</div>"
      ],
      "text/plain": [
       "                    Column Name  Number of Unique  \\\n",
       "0   country                      162                \n",
       "1   market_segment               8                  \n",
       "2   previous_cancellations       15                 \n",
       "3   booking_changes              19                 \n",
       "4   deposit_type                 3                  \n",
       "5   days_in_waiting_list         115                \n",
       "6   customer_type                4                  \n",
       "7   reserved_room_type           10                 \n",
       "8   required_car_parking_spaces  5                  \n",
       "9   total_of_special_requests    6                  \n",
       "10  is_canceled                  2                  \n",
       "\n",
       "                                                                                                                                                                                                                                                                                                                                                                                                                                                                                                               Unique Sample  \n",
       "0   [IRL, FRA, PRT, NLD, ESP, UMI, CN, LUX, BRA, BEL, JPN, DEU, ITA, CHE, GBR, AGO, SRB, COL, CHN, SWE, AUT, CIV, CZE, POL, USA, SGP, RUS, ROU, DNK, IND, MAR, PHL, ARG, ISL, ZAF, LBN, MOZ, TUR, BGD, MEX, CAF, NOR, FIN, UKR, EGY, ISR, nan, KOR, AZE, HUN, AUS, EST, CHL, SVN, PRY, ABW, ALB, LTU, ARE, HRV, SAU, NZL, LVA, ATA, KAZ, DZA, TWN, CRI, BIH, BGR, IRQ, OMN, VEN, IDN, GEO, MLT, IRN, BLR, URY, LBY, TUN, BEN, MYS, MWI, GRC, CYP, CPV, HKG, PRI, MKD, MUS, IMN, PAN, NGA, GLP, KHM, PER, QAT, SEN, MAC, ...]  \n",
       "1   [Offline TA/TO, Online TA, Direct, Groups, Corporate, Complementary, Aviation, Undefined]                                                                                                                                                                                                                                                                                                                                                                                                                                 \n",
       "2   [0, 1, 25, 2, 3, 11, 24, 13, 6, 26, 14, 4, 19, 5, 21]                                                                                                                                                                                                                                                                                                                                                                                                                                                                     \n",
       "3   [0, 1, 2, 5, 3, 4, 6, 7, 9, 8, 17, 10, 13, 12, 14, 21, 16, 20, 15]                                                                                                                                                                                                                                                                                                                                                                                                                                                        \n",
       "4   [No Deposit, Non Refund, Refundable]                                                                                                                                                                                                                                                                                                                                                                                                                                                                                      \n",
       "5   [0, 3, 39, 87, 77, 215, 97, 162, 46, 79, 4, 31, 122, 34, 57, 259, 50, 17, 32, 43, 75, 69, 44, 22, 113, 58, 38, 65, 48, 236, 176, 25, 108, 91, 19, 160, 68, 28, 63, 35, 42, 59, 24, 8, 183, 187, 21, 111, 56, 98, 101, 15, 16, 47, 93, 45, 14, 70, 10, 49, 178, 99, 60, 40, 85, 223, 6, 33, 391, 20, 1, 41, 147, 55, 80, 379, 150, 61, 330, 174, 107, 96, 18, 62, 13, 30, 120, 27, 207, 71, 2, 76, 125, 5, 9, 224, 53, 83, 84, 12, ...]                                                                                    \n",
       "6   [Transient-Party, Transient, Contract, Group]                                                                                                                                                                                                                                                                                                                                                                                                                                                                             \n",
       "7   [A, E, D, F, B, G, C, H, L, P]                                                                                                                                                                                                                                                                                                                                                                                                                                                                                            \n",
       "8   [0, 1, 2, 8, 3]                                                                                                                                                                                                                                                                                                                                                                                                                                                                                                           \n",
       "9   [0, 2, 1, 3, 4, 5]                                                                                                                                                                                                                                                                                                                                                                                                                                                                                                        \n",
       "10  [0, 1]                                                                                                                                                                                                                                                                                                                                                                                                                                                                                                                    "
      ]
     },
     "execution_count": 185,
     "metadata": {},
     "output_type": "execute_result"
    }
   ],
   "source": [
    "# Perbesar view\n",
    "pd.set_option('display.max_colwidth', -1)\n",
    "\n",
    "# data unique di tiap kolom\n",
    "listItem = []\n",
    "for col in df.columns :\n",
    "    listItem.append( [col, df[col].nunique(), df[col].unique()])\n",
    "\n",
    "tabel1Desc = pd.DataFrame(columns=['Column Name', 'Number of Unique', 'Unique Sample'],\n",
    "                     data=listItem)\n",
    "tabel1Desc"
   ]
  },
  {
   "cell_type": "markdown",
   "metadata": {},
   "source": [
    "Dari eksplorasi diatas, beberapa detail bisa dilihat di table di bawah ini:\n",
    "\n",
    "**Feature**\n",
    "\n",
    "|Feature | Type | Deskripsi\n",
    "|--------|------|----------\n",
    "|`Country` |Object|Negara asal\n",
    "|`market_segment` | Object | Segmentasi market\n",
    "|`previous_cancellations`| Int | Jumlah cancel sebelumnya\n",
    "|`booking_changes`|Int | Perubahan booking\n",
    "|`deposit_type` |Object | Tipe deposit\n",
    "|`days_in_waiting_list`|Int | Jumlah hari customer masuk kedalam waiting list\n",
    "|`customer_type` |Object | Tipe booking dari customer\n",
    "|`reserved_room_type`| Object | Tipe kamar\n",
    "|`required_car_parking_spaces`|Int | Kebutuhan tempat parkir mobil\n",
    "|`total_of_special_requests` |Int | Total permintaan khusus\n",
    "|`is_canceled`|Int | Cancel atau tidak\n",
    "       "
   ]
  },
  {
   "cell_type": "markdown",
   "metadata": {},
   "source": [
    "Secara garis besar:\n",
    "\n",
    "1. Data berukuran 83573 x 11, dimana ada 83573 baris dan 11 kolom\n",
    "2. `Country`, `market_segment`, `deposit_type`, `customer_type` dan `reserved_room_type` merupakan tipe object\n",
    "3. `previous_cancellations`, `booking_changes`, `days_in_waiting_list`, `required_car_parking_spaces`, `total_of_special_request` dan `is_canceled` merupakan bentuk integer"
   ]
  },
  {
   "attachments": {},
   "cell_type": "markdown",
   "metadata": {},
   "source": [
    "Selanjutnya kita akan melakukan data cleaning terlebih dahulu"
   ]
  },
  {
   "attachments": {},
   "cell_type": "markdown",
   "metadata": {},
   "source": [
    "## Data Cleaning"
   ]
  },
  {
   "attachments": {},
   "cell_type": "markdown",
   "metadata": {},
   "source": [
    "### Missing Value"
   ]
  },
  {
   "cell_type": "markdown",
   "metadata": {},
   "source": [
    "Sekarang kita akan melihat kehadiran missing value pada dataset ini."
   ]
  },
  {
   "cell_type": "code",
   "execution_count": 186,
   "metadata": {},
   "outputs": [
    {
     "data": {
      "text/plain": [
       "country                        351\n",
       "market_segment                 0  \n",
       "previous_cancellations         0  \n",
       "booking_changes                0  \n",
       "deposit_type                   0  \n",
       "days_in_waiting_list           0  \n",
       "customer_type                  0  \n",
       "reserved_room_type             0  \n",
       "required_car_parking_spaces    0  \n",
       "total_of_special_requests      0  \n",
       "is_canceled                    0  \n",
       "dtype: int64"
      ]
     },
     "execution_count": 186,
     "metadata": {},
     "output_type": "execute_result"
    }
   ],
   "source": [
    "# Missing value\n",
    "df.isna().sum()"
   ]
  },
  {
   "cell_type": "markdown",
   "metadata": {},
   "source": [
    "Terlihat bahwa hanya country yang memiliki missing value, sekarang kita cek berapa persen kehilangan data tersebut"
   ]
  },
  {
   "cell_type": "code",
   "execution_count": 187,
   "metadata": {},
   "outputs": [
    {
     "name": "stdout",
     "output_type": "stream",
     "text": [
      "Persentase missing value \"Country\": 0.004199921027125986\n"
     ]
    }
   ],
   "source": [
    "# Persentase missing value\n",
    "print('Persentase missing value \"Country\": {}'.format(df['country'].isna().sum()/df.shape[0]))"
   ]
  },
  {
   "cell_type": "markdown",
   "metadata": {},
   "source": [
    "Ternyata persentase missing value dari country hanyalah 0.004% dimana hal itu sangat sedikit, oleh karena itu kita bisa melakukan penghapusan data (tidak dilakukan modus agar tidak ada kesalahpahaman)"
   ]
  },
  {
   "cell_type": "code",
   "execution_count": 188,
   "metadata": {},
   "outputs": [],
   "source": [
    "# Drop pada missing value\n",
    "df.dropna(axis=0,inplace=True)"
   ]
  },
  {
   "cell_type": "code",
   "execution_count": 189,
   "metadata": {},
   "outputs": [
    {
     "data": {
      "text/plain": [
       "country                        0\n",
       "market_segment                 0\n",
       "previous_cancellations         0\n",
       "booking_changes                0\n",
       "deposit_type                   0\n",
       "days_in_waiting_list           0\n",
       "customer_type                  0\n",
       "reserved_room_type             0\n",
       "required_car_parking_spaces    0\n",
       "total_of_special_requests      0\n",
       "is_canceled                    0\n",
       "dtype: int64"
      ]
     },
     "execution_count": 189,
     "metadata": {},
     "output_type": "execute_result"
    }
   ],
   "source": [
    "# Missing value\n",
    "df.isna().sum()"
   ]
  },
  {
   "cell_type": "markdown",
   "metadata": {},
   "source": [
    "Sekarang *feature* `country` tidak lagi memiliki missing value"
   ]
  },
  {
   "attachments": {},
   "cell_type": "markdown",
   "metadata": {},
   "source": [
    "### Duplicates"
   ]
  },
  {
   "cell_type": "code",
   "execution_count": 190,
   "metadata": {},
   "outputs": [
    {
     "data": {
      "text/plain": [
       "73138"
      ]
     },
     "execution_count": 190,
     "metadata": {},
     "output_type": "execute_result"
    }
   ],
   "source": [
    "# Cek duplicates\n",
    "df[df.duplicated()].shape[0]"
   ]
  },
  {
   "cell_type": "markdown",
   "metadata": {},
   "source": [
    "Ternyata setelah memeriksa duplicates, terdapat bahwa lebih dari 70% data memiliki duplicates, hal ini cukup *challenging* dimana kalau kita melakukan drop duplicates maka data akan kehilangan informasi yang cukup banyak, dan kalau kita tetap *menginclude* data duplicate itu akan membuat data kita menjadi bias. oleh karena itu perlu ada **sensitivity analysis** dimana kita akan comparing performance dan juga evaluating performance dari data kita yang ada duplicates dan juga yang tidak ada duplicatesnya."
   ]
  },
  {
   "attachments": {},
   "cell_type": "markdown",
   "metadata": {},
   "source": [
    "Sebelum terjun lebih dalam lagi, kita perlu mengetahui nature dari data yang menyebabkan terjadinya duplicates yang cukup banyak"
   ]
  },
  {
   "cell_type": "code",
   "execution_count": 191,
   "metadata": {},
   "outputs": [
    {
     "data": {
      "text/html": [
       "<div>\n",
       "<style scoped>\n",
       "    .dataframe tbody tr th:only-of-type {\n",
       "        vertical-align: middle;\n",
       "    }\n",
       "\n",
       "    .dataframe tbody tr th {\n",
       "        vertical-align: top;\n",
       "    }\n",
       "\n",
       "    .dataframe thead th {\n",
       "        text-align: right;\n",
       "    }\n",
       "</style>\n",
       "<table border=\"1\" class=\"dataframe\">\n",
       "  <thead>\n",
       "    <tr style=\"text-align: right;\">\n",
       "      <th></th>\n",
       "      <th>country</th>\n",
       "      <th>market_segment</th>\n",
       "      <th>previous_cancellations</th>\n",
       "      <th>booking_changes</th>\n",
       "      <th>deposit_type</th>\n",
       "      <th>days_in_waiting_list</th>\n",
       "      <th>customer_type</th>\n",
       "      <th>reserved_room_type</th>\n",
       "      <th>required_car_parking_spaces</th>\n",
       "      <th>total_of_special_requests</th>\n",
       "      <th>is_canceled</th>\n",
       "      <th>Duplicates</th>\n",
       "    </tr>\n",
       "  </thead>\n",
       "  <tbody>\n",
       "    <tr>\n",
       "      <th>3643</th>\n",
       "      <td>PRT</td>\n",
       "      <td>Groups</td>\n",
       "      <td>0</td>\n",
       "      <td>0</td>\n",
       "      <td>Non Refund</td>\n",
       "      <td>0</td>\n",
       "      <td>Transient</td>\n",
       "      <td>A</td>\n",
       "      <td>0</td>\n",
       "      <td>0</td>\n",
       "      <td>1</td>\n",
       "      <td>4080</td>\n",
       "    </tr>\n",
       "    <tr>\n",
       "      <th>3833</th>\n",
       "      <td>PRT</td>\n",
       "      <td>Offline TA/TO</td>\n",
       "      <td>0</td>\n",
       "      <td>0</td>\n",
       "      <td>Non Refund</td>\n",
       "      <td>0</td>\n",
       "      <td>Transient</td>\n",
       "      <td>A</td>\n",
       "      <td>0</td>\n",
       "      <td>0</td>\n",
       "      <td>1</td>\n",
       "      <td>1851</td>\n",
       "    </tr>\n",
       "    <tr>\n",
       "      <th>3609</th>\n",
       "      <td>PRT</td>\n",
       "      <td>Groups</td>\n",
       "      <td>0</td>\n",
       "      <td>0</td>\n",
       "      <td>No Deposit</td>\n",
       "      <td>0</td>\n",
       "      <td>Transient-Party</td>\n",
       "      <td>A</td>\n",
       "      <td>0</td>\n",
       "      <td>0</td>\n",
       "      <td>1</td>\n",
       "      <td>1047</td>\n",
       "    </tr>\n",
       "    <tr>\n",
       "      <th>3989</th>\n",
       "      <td>PRT</td>\n",
       "      <td>Online TA</td>\n",
       "      <td>0</td>\n",
       "      <td>0</td>\n",
       "      <td>No Deposit</td>\n",
       "      <td>0</td>\n",
       "      <td>Transient</td>\n",
       "      <td>A</td>\n",
       "      <td>0</td>\n",
       "      <td>1</td>\n",
       "      <td>0</td>\n",
       "      <td>949</td>\n",
       "    </tr>\n",
       "    <tr>\n",
       "      <th>3988</th>\n",
       "      <td>PRT</td>\n",
       "      <td>Online TA</td>\n",
       "      <td>0</td>\n",
       "      <td>0</td>\n",
       "      <td>No Deposit</td>\n",
       "      <td>0</td>\n",
       "      <td>Transient</td>\n",
       "      <td>A</td>\n",
       "      <td>0</td>\n",
       "      <td>0</td>\n",
       "      <td>1</td>\n",
       "      <td>797</td>\n",
       "    </tr>\n",
       "  </tbody>\n",
       "</table>\n",
       "</div>"
      ],
      "text/plain": [
       "     country market_segment  previous_cancellations  booking_changes  \\\n",
       "3643  PRT     Groups         0                       0                 \n",
       "3833  PRT     Offline TA/TO  0                       0                 \n",
       "3609  PRT     Groups         0                       0                 \n",
       "3989  PRT     Online TA      0                       0                 \n",
       "3988  PRT     Online TA      0                       0                 \n",
       "\n",
       "     deposit_type  days_in_waiting_list    customer_type reserved_room_type  \\\n",
       "3643  Non Refund   0                     Transient        A                   \n",
       "3833  Non Refund   0                     Transient        A                   \n",
       "3609  No Deposit   0                     Transient-Party  A                   \n",
       "3989  No Deposit   0                     Transient        A                   \n",
       "3988  No Deposit   0                     Transient        A                   \n",
       "\n",
       "      required_car_parking_spaces  total_of_special_requests  is_canceled  \\\n",
       "3643  0                            0                          1             \n",
       "3833  0                            0                          1             \n",
       "3609  0                            0                          1             \n",
       "3989  0                            1                          0             \n",
       "3988  0                            0                          1             \n",
       "\n",
       "      Duplicates  \n",
       "3643  4080        \n",
       "3833  1851        \n",
       "3609  1047        \n",
       "3989  949         \n",
       "3988  797         "
      ]
     },
     "execution_count": 191,
     "metadata": {},
     "output_type": "execute_result"
    }
   ],
   "source": [
    "# Membuat DataFrame dengan menambahkan kolom Duplicates untuk mengetahui total duplicate tiap baris\n",
    "duplicates = df[df.duplicated(keep=False)]\n",
    "df_duplicates = duplicates.groupby(duplicates.columns.tolist()).size().reset_index(name='Duplicates')\n",
    "df_duplicates.sort_values(by='Duplicates', ascending=False).head(5)"
   ]
  },
  {
   "attachments": {},
   "cell_type": "markdown",
   "metadata": {},
   "source": [
    "Terlihat bahwa duplicatenya ada yang bisa melebihi 4000 dalam 1 row, kita akan analisa untuk selanjutnya"
   ]
  },
  {
   "cell_type": "code",
   "execution_count": 192,
   "metadata": {},
   "outputs": [
    {
     "data": {
      "text/plain": [
       "Online TA        2355\n",
       "Direct           832 \n",
       "Offline TA/TO    772 \n",
       "Groups           395 \n",
       "Corporate        240 \n",
       "Complementary    64  \n",
       "Aviation         33  \n",
       "Name: market_segment, dtype: int64"
      ]
     },
     "execution_count": 192,
     "metadata": {},
     "output_type": "execute_result"
    }
   ],
   "source": [
    "# Total Duplicate tiap variasi market segment\n",
    "df_duplicates['market_segment'].value_counts()"
   ]
  },
  {
   "attachments": {},
   "cell_type": "markdown",
   "metadata": {},
   "source": [
    "Setelah kita lihat `market_segment`nya terlihat bahwa duplicate tersebar disetiap market, namun hal yang perlu kita perhatikan disini adalah market segment selain **direct**, mengapa begitu? diketahui bahwa online/offline TA(Travel Agent), Groups, Corporate, Complementary, Aviation semua merupakan kumpulan yang kemungkinan memiliki kerjasama ataupun berlangganan kepada hotel tersebut. Dimana pada contohnya, sebuah perusahaan yang dinas ke portugal akan memesan untuk 500 kamar, dengan kebutuhan yang sama persis, ataupun travel agent yang memang mempromosikan hotel tersebut dengan spesifikasi yang selalu sama. \n",
    "\n",
    "Lalu bagaimana dengan yang direct? Setiap orang yang ingin menginap dihotel biasanya akan menghadapi receptionist secara langsung, dan terkadang kebutuhan orang tidaklah jauh berbeda, seperti ada yang hanya butuh penginapan dan ada juga yang ternyata butuh parkir dan hal itu sangat banyak di hadapi di perhotelan\n",
    "\n",
    "Hal-hal ini bisa terjadi dan menunjukkan bahwa penginputan spesifikasi kamar merupakan inputan yang valid dan terjadi di real-world data. bisa dibilang dengan data ini, kita dapat mengasumsikan bahwa group/kelompok ini memang melakukan pemesanan bundling yang cukup banyak sesuai dengan kebutuhannya. Hal ini berbeda dengan istilah 'Dirty Data' yang dikatakan oleh [**Heller Consulting**](https://teamheller.com/wp-content/uploads/2014/04/cgbestprac_datahygiene.pdf) dimana dirty duplicate data artinya adalah hasil dari human error dan tidak ada artinya. sedangkan disini duplicate memiliki *reasonnya* masing-masing"
   ]
  },
  {
   "attachments": {},
   "cell_type": "markdown",
   "metadata": {},
   "source": [
    "Sekarang coba kita lihat dari `days_in_waiting_listnya`"
   ]
  },
  {
   "cell_type": "code",
   "execution_count": 193,
   "metadata": {},
   "outputs": [
    {
     "data": {
      "text/plain": [
       "['Complementary',\n",
       " 'Corporate',\n",
       " 'Direct',\n",
       " 'Offline TA/TO',\n",
       " 'Online TA',\n",
       " 'Groups',\n",
       " 'Aviation']"
      ]
     },
     "execution_count": 193,
     "metadata": {},
     "output_type": "execute_result"
    }
   ],
   "source": [
    "# List segmen\n",
    "segmen = list(df_duplicates['market_segment'].unique())\n",
    "segmen"
   ]
  },
  {
   "cell_type": "code",
   "execution_count": 194,
   "metadata": {},
   "outputs": [
    {
     "data": {
      "text/html": [
       "<div>\n",
       "<style scoped>\n",
       "    .dataframe tbody tr th:only-of-type {\n",
       "        vertical-align: middle;\n",
       "    }\n",
       "\n",
       "    .dataframe tbody tr th {\n",
       "        vertical-align: top;\n",
       "    }\n",
       "\n",
       "    .dataframe thead th {\n",
       "        text-align: right;\n",
       "    }\n",
       "</style>\n",
       "<table border=\"1\" class=\"dataframe\">\n",
       "  <thead>\n",
       "    <tr style=\"text-align: right;\">\n",
       "      <th></th>\n",
       "      <th>Market_Segment</th>\n",
       "      <th>Unique Days</th>\n",
       "    </tr>\n",
       "  </thead>\n",
       "  <tbody>\n",
       "    <tr>\n",
       "      <th>0</th>\n",
       "      <td>Complementary</td>\n",
       "      <td>[0]</td>\n",
       "    </tr>\n",
       "    <tr>\n",
       "      <th>1</th>\n",
       "      <td>Corporate</td>\n",
       "      <td>[0, 15]</td>\n",
       "    </tr>\n",
       "    <tr>\n",
       "      <th>2</th>\n",
       "      <td>Direct</td>\n",
       "      <td>[0]</td>\n",
       "    </tr>\n",
       "    <tr>\n",
       "      <th>3</th>\n",
       "      <td>Offline TA/TO</td>\n",
       "      <td>[0, 99, 80, 147, 162, 178, 223, 63, 33, 65, 17, 27, 43, 68, 69, 108, 215, 187, 38, 40, 44, 77, 111, 4, 207, 3, 48, 50, 56, 58, 59, 224, 16, 21, 24, 34, 35, 39, 41, 55, 60, 62, 70, 71, 79, 85, 91, 96, 101, 120, 160, 15, 19, 25, 28, 42, 46, 31]</td>\n",
       "    </tr>\n",
       "    <tr>\n",
       "      <th>4</th>\n",
       "      <td>Online TA</td>\n",
       "      <td>[0]</td>\n",
       "    </tr>\n",
       "    <tr>\n",
       "      <th>5</th>\n",
       "      <td>Groups</td>\n",
       "      <td>[0, 53, 176, 60, 47, 25, 34, 38, 48, 61, 236, 259, 330, 379, 6, 101, 125, 150, 58, 174, 75, 49, 50, 87, 98, 122, 5, 17, 18, 20, 22, 26, 31, 32, 39, 41, 44, 46, 57, 71, 93, 391, 9, 10, 21, 35, 40, 45, 14, 96]</td>\n",
       "    </tr>\n",
       "    <tr>\n",
       "      <th>6</th>\n",
       "      <td>Aviation</td>\n",
       "      <td>[0]</td>\n",
       "    </tr>\n",
       "  </tbody>\n",
       "</table>\n",
       "</div>"
      ],
      "text/plain": [
       "  Market_Segment  \\\n",
       "0  Complementary   \n",
       "1  Corporate       \n",
       "2  Direct          \n",
       "3  Offline TA/TO   \n",
       "4  Online TA       \n",
       "5  Groups          \n",
       "6  Aviation        \n",
       "\n",
       "                                                                                                                                                                                                                                          Unique Days  \n",
       "0  [0]                                                                                                                                                                                                                                                 \n",
       "1  [0, 15]                                                                                                                                                                                                                                             \n",
       "2  [0]                                                                                                                                                                                                                                                 \n",
       "3  [0, 99, 80, 147, 162, 178, 223, 63, 33, 65, 17, 27, 43, 68, 69, 108, 215, 187, 38, 40, 44, 77, 111, 4, 207, 3, 48, 50, 56, 58, 59, 224, 16, 21, 24, 34, 35, 39, 41, 55, 60, 62, 70, 71, 79, 85, 91, 96, 101, 120, 160, 15, 19, 25, 28, 42, 46, 31]  \n",
       "4  [0]                                                                                                                                                                                                                                                 \n",
       "5  [0, 53, 176, 60, 47, 25, 34, 38, 48, 61, 236, 259, 330, 379, 6, 101, 125, 150, 58, 174, 75, 49, 50, 87, 98, 122, 5, 17, 18, 20, 22, 26, 31, 32, 39, 41, 44, 46, 57, 71, 93, 391, 9, 10, 21, 35, 40, 45, 14, 96]                                     \n",
       "6  [0]                                                                                                                                                                                                                                                 "
      ]
     },
     "execution_count": 194,
     "metadata": {},
     "output_type": "execute_result"
    }
   ],
   "source": [
    "# For loop untuk melihat secara lebih jelas \n",
    "days = []\n",
    "\n",
    "for i in segmen:\n",
    "    days_segment = list(df_duplicates[(df_duplicates['market_segment']==i)]['days_in_waiting_list'].unique())\n",
    "    days.append(days_segment)\n",
    "\n",
    "pd.DataFrame({'Market_Segment':segmen,'Unique Days':days})"
   ]
  },
  {
   "attachments": {},
   "cell_type": "markdown",
   "metadata": {},
   "source": [
    "Terlihat bahwa complementary, corporate, online TA dan Aviation memiliki sedikit unique value karena tendency dari kerjasama dengan hotel, lalu untuk Offline TA/TO dan Groups memiliki lebih banyak variasi hari, namun hal itu wajar saja karena Offline TA/TO dan Group tidak memiliki informasi terupdate maka akan memiliki hari-hari dimana mereka harus menunggu di waiting list. Dan tentunya Direct pasti memiliki 0 di waiting list karena secara langsung customer akan menghampiri hotel tersebut dan tidak akan menginap jika tidak ada room available. "
   ]
  },
  {
   "attachments": {},
   "cell_type": "markdown",
   "metadata": {},
   "source": [
    "**NOTE :**\n",
    "\n",
    "Tentunya, hal ini hanyalah spekulasi awal dari nature data hotel, dan hal ini belum bisa di buktikan kepastiannya, dikarenakan limited data dan juga feature yang memiliki tendency untuk terpilih secara bersamaan dengan feature2 lainnya. Oleh karena itu tentunya kita perlu penanganan dan pembuktian untuk status data ini. dikarenakan duplicates yang terlalu banyak (menghapusnya bisa berakibat hilang informasi), analisa ini perlu di lakukan. Dan dalam pembuktiannya kita akan melakukan **Sensitivity analysis**, dimana kita akan membandingkan performa dari data yang ada duplicatesnya dengan yang tidak memiliki duplicates, akan di bandingkan dengan Test set yang sama juga (Karena dalam real-world data repetisi atau kesamaan data dalam kasus ini sangat bisa terjadi) dan hal ini juga ditulis dalam jurnal dari [**Research Gate**](http://openjournal.unpam.ac.id/index.php/JTSI/article/view/4223/pdf). Penjelasan selanjutnya ada di bawah ini:"
   ]
  },
  {
   "cell_type": "markdown",
   "metadata": {},
   "source": [
    "Pertama kita akan split dataset menjadi 2 macam "
   ]
  },
  {
   "cell_type": "markdown",
   "metadata": {},
   "source": [
    "1. df : Dataset original (memiliki duplicates)\n",
    "2. df_no_dup : Dataset tanpa duplicates (tidak memiliki duplicates)"
   ]
  },
  {
   "cell_type": "code",
   "execution_count": 195,
   "metadata": {},
   "outputs": [],
   "source": [
    "# membuat dataset no dup \n",
    "df_no_dup = df.drop_duplicates()"
   ]
  },
  {
   "cell_type": "code",
   "execution_count": 196,
   "metadata": {},
   "outputs": [
    {
     "data": {
      "text/html": [
       "<div>\n",
       "<style scoped>\n",
       "    .dataframe tbody tr th:only-of-type {\n",
       "        vertical-align: middle;\n",
       "    }\n",
       "\n",
       "    .dataframe tbody tr th {\n",
       "        vertical-align: top;\n",
       "    }\n",
       "\n",
       "    .dataframe thead th {\n",
       "        text-align: right;\n",
       "    }\n",
       "</style>\n",
       "<table border=\"1\" class=\"dataframe\">\n",
       "  <thead>\n",
       "    <tr style=\"text-align: right;\">\n",
       "      <th></th>\n",
       "      <th>country</th>\n",
       "      <th>market_segment</th>\n",
       "      <th>previous_cancellations</th>\n",
       "      <th>booking_changes</th>\n",
       "      <th>deposit_type</th>\n",
       "      <th>days_in_waiting_list</th>\n",
       "      <th>customer_type</th>\n",
       "      <th>reserved_room_type</th>\n",
       "      <th>required_car_parking_spaces</th>\n",
       "      <th>total_of_special_requests</th>\n",
       "      <th>is_canceled</th>\n",
       "    </tr>\n",
       "  </thead>\n",
       "  <tbody>\n",
       "    <tr>\n",
       "      <th>0</th>\n",
       "      <td>IRL</td>\n",
       "      <td>Offline TA/TO</td>\n",
       "      <td>0</td>\n",
       "      <td>0</td>\n",
       "      <td>No Deposit</td>\n",
       "      <td>0</td>\n",
       "      <td>Transient-Party</td>\n",
       "      <td>A</td>\n",
       "      <td>0</td>\n",
       "      <td>0</td>\n",
       "      <td>0</td>\n",
       "    </tr>\n",
       "    <tr>\n",
       "      <th>1</th>\n",
       "      <td>FRA</td>\n",
       "      <td>Online TA</td>\n",
       "      <td>0</td>\n",
       "      <td>0</td>\n",
       "      <td>No Deposit</td>\n",
       "      <td>0</td>\n",
       "      <td>Transient</td>\n",
       "      <td>A</td>\n",
       "      <td>0</td>\n",
       "      <td>2</td>\n",
       "      <td>0</td>\n",
       "    </tr>\n",
       "    <tr>\n",
       "      <th>2</th>\n",
       "      <td>PRT</td>\n",
       "      <td>Online TA</td>\n",
       "      <td>0</td>\n",
       "      <td>1</td>\n",
       "      <td>No Deposit</td>\n",
       "      <td>0</td>\n",
       "      <td>Transient</td>\n",
       "      <td>A</td>\n",
       "      <td>0</td>\n",
       "      <td>2</td>\n",
       "      <td>0</td>\n",
       "    </tr>\n",
       "    <tr>\n",
       "      <th>3</th>\n",
       "      <td>NLD</td>\n",
       "      <td>Online TA</td>\n",
       "      <td>0</td>\n",
       "      <td>0</td>\n",
       "      <td>No Deposit</td>\n",
       "      <td>0</td>\n",
       "      <td>Transient</td>\n",
       "      <td>A</td>\n",
       "      <td>0</td>\n",
       "      <td>1</td>\n",
       "      <td>1</td>\n",
       "    </tr>\n",
       "    <tr>\n",
       "      <th>4</th>\n",
       "      <td>PRT</td>\n",
       "      <td>Online TA</td>\n",
       "      <td>0</td>\n",
       "      <td>2</td>\n",
       "      <td>No Deposit</td>\n",
       "      <td>0</td>\n",
       "      <td>Transient</td>\n",
       "      <td>A</td>\n",
       "      <td>0</td>\n",
       "      <td>2</td>\n",
       "      <td>0</td>\n",
       "    </tr>\n",
       "  </tbody>\n",
       "</table>\n",
       "</div>"
      ],
      "text/plain": [
       "  country market_segment  previous_cancellations  booking_changes  \\\n",
       "0  IRL     Offline TA/TO  0                       0                 \n",
       "1  FRA     Online TA      0                       0                 \n",
       "2  PRT     Online TA      0                       1                 \n",
       "3  NLD     Online TA      0                       0                 \n",
       "4  PRT     Online TA      0                       2                 \n",
       "\n",
       "  deposit_type  days_in_waiting_list    customer_type reserved_room_type  \\\n",
       "0  No Deposit   0                     Transient-Party  A                   \n",
       "1  No Deposit   0                     Transient        A                   \n",
       "2  No Deposit   0                     Transient        A                   \n",
       "3  No Deposit   0                     Transient        A                   \n",
       "4  No Deposit   0                     Transient        A                   \n",
       "\n",
       "   required_car_parking_spaces  total_of_special_requests  is_canceled  \n",
       "0  0                            0                          0            \n",
       "1  0                            2                          0            \n",
       "2  0                            2                          0            \n",
       "3  0                            1                          1            \n",
       "4  0                            2                          0            "
      ]
     },
     "metadata": {},
     "output_type": "display_data"
    },
    {
     "data": {
      "text/html": [
       "<div>\n",
       "<style scoped>\n",
       "    .dataframe tbody tr th:only-of-type {\n",
       "        vertical-align: middle;\n",
       "    }\n",
       "\n",
       "    .dataframe tbody tr th {\n",
       "        vertical-align: top;\n",
       "    }\n",
       "\n",
       "    .dataframe thead th {\n",
       "        text-align: right;\n",
       "    }\n",
       "</style>\n",
       "<table border=\"1\" class=\"dataframe\">\n",
       "  <thead>\n",
       "    <tr style=\"text-align: right;\">\n",
       "      <th></th>\n",
       "      <th>country</th>\n",
       "      <th>market_segment</th>\n",
       "      <th>previous_cancellations</th>\n",
       "      <th>booking_changes</th>\n",
       "      <th>deposit_type</th>\n",
       "      <th>days_in_waiting_list</th>\n",
       "      <th>customer_type</th>\n",
       "      <th>reserved_room_type</th>\n",
       "      <th>required_car_parking_spaces</th>\n",
       "      <th>total_of_special_requests</th>\n",
       "      <th>is_canceled</th>\n",
       "    </tr>\n",
       "  </thead>\n",
       "  <tbody>\n",
       "    <tr>\n",
       "      <th>0</th>\n",
       "      <td>IRL</td>\n",
       "      <td>Offline TA/TO</td>\n",
       "      <td>0</td>\n",
       "      <td>0</td>\n",
       "      <td>No Deposit</td>\n",
       "      <td>0</td>\n",
       "      <td>Transient-Party</td>\n",
       "      <td>A</td>\n",
       "      <td>0</td>\n",
       "      <td>0</td>\n",
       "      <td>0</td>\n",
       "    </tr>\n",
       "    <tr>\n",
       "      <th>1</th>\n",
       "      <td>FRA</td>\n",
       "      <td>Online TA</td>\n",
       "      <td>0</td>\n",
       "      <td>0</td>\n",
       "      <td>No Deposit</td>\n",
       "      <td>0</td>\n",
       "      <td>Transient</td>\n",
       "      <td>A</td>\n",
       "      <td>0</td>\n",
       "      <td>2</td>\n",
       "      <td>0</td>\n",
       "    </tr>\n",
       "    <tr>\n",
       "      <th>2</th>\n",
       "      <td>PRT</td>\n",
       "      <td>Online TA</td>\n",
       "      <td>0</td>\n",
       "      <td>1</td>\n",
       "      <td>No Deposit</td>\n",
       "      <td>0</td>\n",
       "      <td>Transient</td>\n",
       "      <td>A</td>\n",
       "      <td>0</td>\n",
       "      <td>2</td>\n",
       "      <td>0</td>\n",
       "    </tr>\n",
       "    <tr>\n",
       "      <th>3</th>\n",
       "      <td>NLD</td>\n",
       "      <td>Online TA</td>\n",
       "      <td>0</td>\n",
       "      <td>0</td>\n",
       "      <td>No Deposit</td>\n",
       "      <td>0</td>\n",
       "      <td>Transient</td>\n",
       "      <td>A</td>\n",
       "      <td>0</td>\n",
       "      <td>1</td>\n",
       "      <td>1</td>\n",
       "    </tr>\n",
       "    <tr>\n",
       "      <th>4</th>\n",
       "      <td>PRT</td>\n",
       "      <td>Online TA</td>\n",
       "      <td>0</td>\n",
       "      <td>2</td>\n",
       "      <td>No Deposit</td>\n",
       "      <td>0</td>\n",
       "      <td>Transient</td>\n",
       "      <td>A</td>\n",
       "      <td>0</td>\n",
       "      <td>2</td>\n",
       "      <td>0</td>\n",
       "    </tr>\n",
       "  </tbody>\n",
       "</table>\n",
       "</div>"
      ],
      "text/plain": [
       "  country market_segment  previous_cancellations  booking_changes  \\\n",
       "0  IRL     Offline TA/TO  0                       0                 \n",
       "1  FRA     Online TA      0                       0                 \n",
       "2  PRT     Online TA      0                       1                 \n",
       "3  NLD     Online TA      0                       0                 \n",
       "4  PRT     Online TA      0                       2                 \n",
       "\n",
       "  deposit_type  days_in_waiting_list    customer_type reserved_room_type  \\\n",
       "0  No Deposit   0                     Transient-Party  A                   \n",
       "1  No Deposit   0                     Transient        A                   \n",
       "2  No Deposit   0                     Transient        A                   \n",
       "3  No Deposit   0                     Transient        A                   \n",
       "4  No Deposit   0                     Transient        A                   \n",
       "\n",
       "   required_car_parking_spaces  total_of_special_requests  is_canceled  \n",
       "0  0                            0                          0            \n",
       "1  0                            2                          0            \n",
       "2  0                            2                          0            \n",
       "3  0                            1                          1            \n",
       "4  0                            2                          0            "
      ]
     },
     "metadata": {},
     "output_type": "display_data"
    },
    {
     "name": "stdout",
     "output_type": "stream",
     "text": [
      "\n",
      " Ukuran dataset dengan duplicates: (83222, 11)\n",
      "\n",
      " Ukuran dataset tanpa duplicates: (10084, 11)\n"
     ]
    }
   ],
   "source": [
    "# Hasil dari duplicates yang di hapus dan original dataset \n",
    "display(df.head(),df_no_dup.head())\n",
    "print('\\n Ukuran dataset dengan duplicates:',df.shape)\n",
    "print('\\n Ukuran dataset tanpa duplicates:',df_no_dup.shape)"
   ]
  },
  {
   "cell_type": "markdown",
   "metadata": {},
   "source": [
    "Terlihat dimana dataset dengan duplicate mempunyai **83.222** baris sedangkan yang duplicatesnya sudah di remove memiliki **10.084** baris  "
   ]
  },
  {
   "attachments": {},
   "cell_type": "markdown",
   "metadata": {},
   "source": [
    "**NOTE**:\n",
    "\n",
    "Untuk data splitting akan dilakukan pada tahap data splitting itu sendiri. yang nantinya akan dipisah menjadi:\n",
    "\n",
    "1. x_train : x train dengan duplikat\n",
    "2. y_train : y train dengan duplikat\n",
    "3. x_test : x test dengan duplikat\n",
    "4. y_test : y test dengan duplikat\n",
    "5. x_train_no_dup : x train tanpa duplikat\n",
    "6. y_train_no_dup : y train tanpa duplikat\n",
    "7. x_test_no_dup : x test tanpa duplikat\n",
    "8. y_test_no_dup : y test tanpa duplikat\n",
    "\n",
    "Lalu nantinya akan dilakukan sensitivity analysis."
   ]
  },
  {
   "attachments": {},
   "cell_type": "markdown",
   "metadata": {},
   "source": [
    "### Outliers"
   ]
  },
  {
   "attachments": {},
   "cell_type": "markdown",
   "metadata": {},
   "source": [
    "Dalam menangani outlier hanya `days_in_waiting_list` yang memiliki nilai discrete"
   ]
  },
  {
   "attachments": {},
   "cell_type": "markdown",
   "metadata": {},
   "source": [
    "pertama akan kita cek untuk hubungannya "
   ]
  },
  {
   "cell_type": "code",
   "execution_count": 197,
   "metadata": {},
   "outputs": [
    {
     "data": {
      "text/plain": [
       "<Axes: >"
      ]
     },
     "execution_count": 197,
     "metadata": {},
     "output_type": "execute_result"
    },
    {
     "data": {
      "image/png": "[encoded data removed]",
      "text/plain": [
       "<Figure size 640x480 with 2 Axes>"
      ]
     },
     "metadata": {},
     "output_type": "display_data"
    }
   ],
   "source": [
    "# Cek korelasi\n",
    "sns.heatmap(df[['days_in_waiting_list','is_canceled']].corr('spearman'),annot=True)"
   ]
  },
  {
   "attachments": {},
   "cell_type": "markdown",
   "metadata": {},
   "source": [
    "terlihat bahwa hubungannya cukup lemah yaitu di positif 0.1 "
   ]
  },
  {
   "attachments": {},
   "cell_type": "markdown",
   "metadata": {},
   "source": [
    "sekarang kita akan lihat untuk is_canceled diatas 50, 100, 200 dan 300"
   ]
  },
  {
   "cell_type": "code",
   "execution_count": 198,
   "metadata": {},
   "outputs": [
    {
     "data": {
      "image/png": "[encoded data removed]",
      "text/plain": [
       "<Figure size 800x800 with 4 Axes>"
      ]
     },
     "metadata": {},
     "output_type": "display_data"
    }
   ],
   "source": [
    "# membuatkan subplot berisikan pieplot\n",
    "fig, axs = plt.subplots(2, 2, figsize=(8, 8))\n",
    "\n",
    "# for loop untuk frekuensi days in waiting list\n",
    "i_values = [50, 100, 200, 300]\n",
    "for i, ax in zip(i_values, axs.flat):\n",
    "    df[df['days_in_waiting_list'] > i]['is_canceled'].value_counts().plot.pie(autopct='%.2f', ax=ax)\n",
    "    ax.set_title(f\"Days in Waiting List > {i}\")\n",
    "\n",
    "plt.tight_layout()\n",
    "plt.show()"
   ]
  },
  {
   "attachments": {},
   "cell_type": "markdown",
   "metadata": {},
   "source": [
    "Terlihat bahkan dalam waiting list lebih dari 300 hari masih ada yang tidak cancel, hal ini untuk menunjukkan bahwa penanganan outlier tidak diperlukan karena `days_in_waiting_list` pada outlier terbukti cukup merepresentasikan data dan tidak akan memperburuk model, dan jika kita akan menghapus outlier justru akan menimbulkan hilangnya informasi yang cukup penting (karena outlier justru menunjukkan adanya *unusual event*)"
   ]
  },
  {
   "cell_type": "markdown",
   "metadata": {},
   "source": [
    "## Data Analysis"
   ]
  },
  {
   "cell_type": "markdown",
   "metadata": {},
   "source": [
    "Dalam data analysis hanya dilakukan secara garis besar saja, dan diperlukan untuk mengetahui **nature** dari dataset "
   ]
  },
  {
   "cell_type": "code",
   "execution_count": 199,
   "metadata": {},
   "outputs": [
    {
     "data": {
      "text/html": [
       "<div>\n",
       "<style scoped>\n",
       "    .dataframe tbody tr th:only-of-type {\n",
       "        vertical-align: middle;\n",
       "    }\n",
       "\n",
       "    .dataframe tbody tr th {\n",
       "        vertical-align: top;\n",
       "    }\n",
       "\n",
       "    .dataframe thead th {\n",
       "        text-align: right;\n",
       "    }\n",
       "</style>\n",
       "<table border=\"1\" class=\"dataframe\">\n",
       "  <thead>\n",
       "    <tr style=\"text-align: right;\">\n",
       "      <th></th>\n",
       "      <th>market_segment</th>\n",
       "      <th>is_canceled</th>\n",
       "    </tr>\n",
       "  </thead>\n",
       "  <tbody>\n",
       "    <tr>\n",
       "      <th>0</th>\n",
       "      <td>Aviation</td>\n",
       "      <td>165</td>\n",
       "    </tr>\n",
       "    <tr>\n",
       "      <th>1</th>\n",
       "      <td>Complementary</td>\n",
       "      <td>506</td>\n",
       "    </tr>\n",
       "    <tr>\n",
       "      <th>2</th>\n",
       "      <td>Corporate</td>\n",
       "      <td>3668</td>\n",
       "    </tr>\n",
       "    <tr>\n",
       "      <th>3</th>\n",
       "      <td>Direct</td>\n",
       "      <td>8776</td>\n",
       "    </tr>\n",
       "    <tr>\n",
       "      <th>4</th>\n",
       "      <td>Groups</td>\n",
       "      <td>13718</td>\n",
       "    </tr>\n",
       "    <tr>\n",
       "      <th>5</th>\n",
       "      <td>Offline TA/TO</td>\n",
       "      <td>16980</td>\n",
       "    </tr>\n",
       "    <tr>\n",
       "      <th>6</th>\n",
       "      <td>Online TA</td>\n",
       "      <td>39408</td>\n",
       "    </tr>\n",
       "    <tr>\n",
       "      <th>7</th>\n",
       "      <td>Undefined</td>\n",
       "      <td>1</td>\n",
       "    </tr>\n",
       "  </tbody>\n",
       "</table>\n",
       "</div>"
      ],
      "text/plain": [
       "  market_segment  is_canceled\n",
       "0  Aviation       165        \n",
       "1  Complementary  506        \n",
       "2  Corporate      3668       \n",
       "3  Direct         8776       \n",
       "4  Groups         13718      \n",
       "5  Offline TA/TO  16980      \n",
       "6  Online TA      39408      \n",
       "7  Undefined      1          "
      ]
     },
     "execution_count": 199,
     "metadata": {},
     "output_type": "execute_result"
    }
   ],
   "source": [
    "# grouping by market segment\n",
    "grouping_ms = pd.DataFrame(df.groupby('market_segment')['is_canceled'].count())\n",
    "grouping_ms.reset_index(inplace=True)\n",
    "grouping_ms"
   ]
  },
  {
   "cell_type": "code",
   "execution_count": 200,
   "metadata": {},
   "outputs": [
    {
     "data": {
      "image/png": "[encoded data removed]",
      "text/plain": [
       "<Figure size 640x480 with 1 Axes>"
      ]
     },
     "metadata": {},
     "output_type": "display_data"
    }
   ],
   "source": [
    "# membuatkan barplotnya\n",
    "sns.barplot(x='market_segment', y='is_canceled', data=grouping_ms)\n",
    "plt.title('Jumlah Market Segment')\n",
    "plt.xlabel('Market Segment')\n",
    "plt.ylabel('Count')\n",
    "plt.xticks(rotation=45, ha='right')\n",
    "\n",
    "# show plot\n",
    "plt.show()"
   ]
  },
  {
   "attachments": {},
   "cell_type": "markdown",
   "metadata": {},
   "source": [
    "Dilihat market segement yang paling banyak ada pada Online TA, sedangkan undifined yang paling kecil (hanya 1)"
   ]
  },
  {
   "cell_type": "code",
   "execution_count": 201,
   "metadata": {},
   "outputs": [
    {
     "data": {
      "image/png": "[encoded data removed]",
      "text/plain": [
       "<Figure size 1200x800 with 6 Axes>"
      ]
     },
     "metadata": {},
     "output_type": "display_data"
    }
   ],
   "source": [
    "# membuat list dari kolom integer\n",
    "df_int = ['previous_cancellations', 'booking_changes', 'days_in_waiting_list',\n",
    "          'required_car_parking_spaces', 'total_of_special_requests', 'is_canceled']\n",
    "\n",
    "# membuat grid 2x3 subplots\n",
    "fig, axs = plt.subplots(nrows=2, ncols=3, figsize=(12, 8))\n",
    "\n",
    "# loop over kolom integer dan plot histogram di setiap subplot\n",
    "for i, col in enumerate(df_int):\n",
    "    sns.histplot(df[col], bins=10, ax=axs[i//3, i%3])\n",
    "    axs[i//3, i%3].set_title(f'Histogram of {col}')\n",
    "    axs[i//3, i%3].set_xlabel(col)\n",
    "    axs[i//3, i%3].set_ylabel('Frequency')\n",
    "\n",
    "# mengatur spacing antar subplots\n",
    "plt.tight_layout()\n",
    "plt.show()"
   ]
  },
  {
   "attachments": {},
   "cell_type": "markdown",
   "metadata": {},
   "source": [
    "Dari distribusi diatas, kebanyakan dari feature memiliki bar yang tinggi di dekat angka 0"
   ]
  },
  {
   "cell_type": "markdown",
   "metadata": {},
   "source": [
    "Sekarang kita akan lihat bagaimana proporsi dari target kita yaitu `is_canceled`"
   ]
  },
  {
   "cell_type": "code",
   "execution_count": 202,
   "metadata": {},
   "outputs": [
    {
     "data": {
      "text/plain": [
       "<Axes: ylabel='is_canceled'>"
      ]
     },
     "execution_count": 202,
     "metadata": {},
     "output_type": "execute_result"
    },
    {
     "data": {
      "image/png": "[encoded data removed]",
      "text/plain": [
       "<Figure size 640x480 with 1 Axes>"
      ]
     },
     "metadata": {},
     "output_type": "display_data"
    }
   ],
   "source": [
    "# Pieplot proporsi dari target variable\n",
    "df['is_canceled'].value_counts().plot.pie(autopct = '%.2f')"
   ]
  },
  {
   "attachments": {},
   "cell_type": "markdown",
   "metadata": {},
   "source": [
    "Terlihat bahwa dataset ini memiliki data yang Imbalance dimana sekitar 63:37 untuk proporsi dari targetnya"
   ]
  },
  {
   "cell_type": "markdown",
   "metadata": {},
   "source": [
    "# Data Preprocessing"
   ]
  },
  {
   "attachments": {},
   "cell_type": "markdown",
   "metadata": {},
   "source": [
    "## Feature Engineering"
   ]
  },
  {
   "attachments": {},
   "cell_type": "markdown",
   "metadata": {},
   "source": [
    "Pada tahapan ini, kita akan melakukan Feature Engineering, dimana tahapan ini merupakan cara untuk merubah atau memproses data menjadi data yang representatif dan juga berarti untuk dijalankan kedalam model machine learning"
   ]
  },
  {
   "cell_type": "code",
   "execution_count": 203,
   "metadata": {},
   "outputs": [
    {
     "data": {
      "text/html": [
       "<div>\n",
       "<style scoped>\n",
       "    .dataframe tbody tr th:only-of-type {\n",
       "        vertical-align: middle;\n",
       "    }\n",
       "\n",
       "    .dataframe tbody tr th {\n",
       "        vertical-align: top;\n",
       "    }\n",
       "\n",
       "    .dataframe thead th {\n",
       "        text-align: right;\n",
       "    }\n",
       "</style>\n",
       "<table border=\"1\" class=\"dataframe\">\n",
       "  <thead>\n",
       "    <tr style=\"text-align: right;\">\n",
       "      <th></th>\n",
       "      <th>country</th>\n",
       "      <th>market_segment</th>\n",
       "      <th>previous_cancellations</th>\n",
       "      <th>booking_changes</th>\n",
       "      <th>deposit_type</th>\n",
       "      <th>days_in_waiting_list</th>\n",
       "      <th>customer_type</th>\n",
       "      <th>reserved_room_type</th>\n",
       "      <th>required_car_parking_spaces</th>\n",
       "      <th>total_of_special_requests</th>\n",
       "      <th>is_canceled</th>\n",
       "    </tr>\n",
       "  </thead>\n",
       "  <tbody>\n",
       "    <tr>\n",
       "      <th>0</th>\n",
       "      <td>IRL</td>\n",
       "      <td>Offline TA/TO</td>\n",
       "      <td>0</td>\n",
       "      <td>0</td>\n",
       "      <td>No Deposit</td>\n",
       "      <td>0</td>\n",
       "      <td>Transient-Party</td>\n",
       "      <td>A</td>\n",
       "      <td>0</td>\n",
       "      <td>0</td>\n",
       "      <td>0</td>\n",
       "    </tr>\n",
       "    <tr>\n",
       "      <th>1</th>\n",
       "      <td>FRA</td>\n",
       "      <td>Online TA</td>\n",
       "      <td>0</td>\n",
       "      <td>0</td>\n",
       "      <td>No Deposit</td>\n",
       "      <td>0</td>\n",
       "      <td>Transient</td>\n",
       "      <td>A</td>\n",
       "      <td>0</td>\n",
       "      <td>2</td>\n",
       "      <td>0</td>\n",
       "    </tr>\n",
       "    <tr>\n",
       "      <th>2</th>\n",
       "      <td>PRT</td>\n",
       "      <td>Online TA</td>\n",
       "      <td>0</td>\n",
       "      <td>1</td>\n",
       "      <td>No Deposit</td>\n",
       "      <td>0</td>\n",
       "      <td>Transient</td>\n",
       "      <td>A</td>\n",
       "      <td>0</td>\n",
       "      <td>2</td>\n",
       "      <td>0</td>\n",
       "    </tr>\n",
       "    <tr>\n",
       "      <th>3</th>\n",
       "      <td>NLD</td>\n",
       "      <td>Online TA</td>\n",
       "      <td>0</td>\n",
       "      <td>0</td>\n",
       "      <td>No Deposit</td>\n",
       "      <td>0</td>\n",
       "      <td>Transient</td>\n",
       "      <td>A</td>\n",
       "      <td>0</td>\n",
       "      <td>1</td>\n",
       "      <td>1</td>\n",
       "    </tr>\n",
       "    <tr>\n",
       "      <th>4</th>\n",
       "      <td>PRT</td>\n",
       "      <td>Online TA</td>\n",
       "      <td>0</td>\n",
       "      <td>2</td>\n",
       "      <td>No Deposit</td>\n",
       "      <td>0</td>\n",
       "      <td>Transient</td>\n",
       "      <td>A</td>\n",
       "      <td>0</td>\n",
       "      <td>2</td>\n",
       "      <td>0</td>\n",
       "    </tr>\n",
       "  </tbody>\n",
       "</table>\n",
       "</div>"
      ],
      "text/plain": [
       "  country market_segment  previous_cancellations  booking_changes  \\\n",
       "0  IRL     Offline TA/TO  0                       0                 \n",
       "1  FRA     Online TA      0                       0                 \n",
       "2  PRT     Online TA      0                       1                 \n",
       "3  NLD     Online TA      0                       0                 \n",
       "4  PRT     Online TA      0                       2                 \n",
       "\n",
       "  deposit_type  days_in_waiting_list    customer_type reserved_room_type  \\\n",
       "0  No Deposit   0                     Transient-Party  A                   \n",
       "1  No Deposit   0                     Transient        A                   \n",
       "2  No Deposit   0                     Transient        A                   \n",
       "3  No Deposit   0                     Transient        A                   \n",
       "4  No Deposit   0                     Transient        A                   \n",
       "\n",
       "   required_car_parking_spaces  total_of_special_requests  is_canceled  \n",
       "0  0                            0                          0            \n",
       "1  0                            2                          0            \n",
       "2  0                            2                          0            \n",
       "3  0                            1                          1            \n",
       "4  0                            2                          0            "
      ]
     },
     "metadata": {},
     "output_type": "display_data"
    },
    {
     "name": "stdout",
     "output_type": "stream",
     "text": [
      "Ukuran data: (83222, 11)\n"
     ]
    }
   ],
   "source": [
    "display(df.head())\n",
    "print('Ukuran data:',df.shape)"
   ]
  },
  {
   "attachments": {},
   "cell_type": "markdown",
   "metadata": {},
   "source": [
    "Berdasarkan penjelasan singkat dari feature engineering diatas, kita dapat menyimpulkan bahwa:\n",
    "\n",
    "1. pada *feature* `country` melakukan transformasi data menggunakan *binary encoding*, hal ini dilakukan karena `country` memiliki category yang cukup banyak lebih dari 100, jadi pendekatan menggunakan *binary encoding* merupakan pendekatan yang tepat, dan juga karena tidak memiliki urutan maka binary encoding adalah pendekatan yang tepat.\n",
    "\n",
    "2. Melakukan transformasi juga pada feature `market_segment` dan `reserved_room_type` menggunakan *binary encoding*, hal ini juga serupa dengan `country` karena kedua feature ini memiliki category yang banyak, dan juga tidak memiliki urutan.\n",
    "\n",
    "3. Melakukan transformasi pada feature `deposit_type` dan `customer_type` dengan *one hot encoding*, dimana jumlahnya juga masih sedikit maka masih *manageable*, dan tentunya hal ini dilakukan juga karena kedua feature ini tidak memiliki urutan\n",
    "\n",
    "4. Untuk seluruh feature dengan tipe *integer* tidak akan kita berikan treatment, dikarenakan angkanya yang masih dalam jangkauan dan juga sudah sesuai/representatif.\n",
    "\n",
    "5. karena target `is_canceled` merupakan integer antara 1 dan 0, kita tidak akan memberikan treatment apapun karena sudah sesuai untuk kebutuhan pembuatan model."
   ]
  },
  {
   "attachments": {},
   "cell_type": "markdown",
   "metadata": {},
   "source": [
    "Hal pertama yang kita lakukan adalah melakukan onehot encoding dan juga binary encoding, hal ini dilakukan pada feature-feature khusus seperti di bawah ini: "
   ]
  },
  {
   "cell_type": "code",
   "execution_count": 204,
   "metadata": {},
   "outputs": [],
   "source": [
    "# definisikan onehot encoder kedalam variable\n",
    "onehot = OneHotEncoder(drop='first') #lakukan drop first agar tidak menjadi bias\n",
    "# variable yang akan dilakukan transformasi one hot\n",
    "onehot_var = ['deposit_type','customer_type']\n",
    "\n",
    "# definisikan binary encoder dan juga imputasi dengan pipeline\n",
    "binary = ce.BinaryEncoder()\n",
    "\n",
    "# variable yang akan di imputasi dan di transformasi \n",
    "binary_var = ['country','market_segment','reserved_room_type']"
   ]
  },
  {
   "cell_type": "code",
   "execution_count": 205,
   "metadata": {},
   "outputs": [],
   "source": [
    "# lakukan transformer kolom \n",
    "transformer = ColumnTransformer([\n",
    "    ('onehot',onehot,onehot_var),\n",
    "    ('binary',binary,binary_var)\n",
    "], remainder='passthrough') #tidak lupa untuk melakukan passthrough"
   ]
  },
  {
   "attachments": {},
   "cell_type": "markdown",
   "metadata": {},
   "source": [
    "**Note:**\n",
    "**Transformer ini akan selalu di pakai kedepannya**"
   ]
  },
  {
   "attachments": {},
   "cell_type": "markdown",
   "metadata": {},
   "source": [
    "Dari sini terlihat bahwa onehot encoding dan binary encoding sudah di masukkan kedalam variable transformer, hal ini tentunya untuk mengotomasikan perubahan dari dataset ini, dan tidak lupa untuk melakukan passthrough kepada feature yang tidak memerlukan perubahan"
   ]
  },
  {
   "attachments": {},
   "cell_type": "markdown",
   "metadata": {},
   "source": [
    "## Data Splitting"
   ]
  },
  {
   "attachments": {},
   "cell_type": "markdown",
   "metadata": {},
   "source": [
    "Dari nature data yang diatas hal yang kita dapat bahwa banyaknya terdapat **duplicates**, dan hal ini cukup challenging, karena kita harus melakukan perbandingan atau **sesitivity analysis**, oleh karena itu kita akan melakukan splitting data menjadi 8 bagian:\n",
    "1. x_train : x train dengan duplikat\n",
    "2. y_train : y train dengan duplikat\n",
    "3. x_train_no_dup : x train tanpa duplikat\n",
    "4. y_train_no_dup : y train tanpa duplikat\n",
    "5. x_test_no_dup : x test tanpa duplikat\n",
    "6. y_test_no_dup : y test tanpa duplikat\n",
    "7. x_test : x test dengan duplikat\n",
    "8. y_test : y test dengan duplikat\n"
   ]
  },
  {
   "attachments": {},
   "cell_type": "markdown",
   "metadata": {},
   "source": [
    "Sekarang kita akan melakukan splitting data, dimulai dari x/y train duplikat dan x/y test"
   ]
  },
  {
   "cell_type": "code",
   "execution_count": 206,
   "metadata": {},
   "outputs": [
    {
     "data": {
      "text/plain": [
       "(83222, 11)"
      ]
     },
     "metadata": {},
     "output_type": "display_data"
    },
    {
     "data": {
      "text/plain": [
       "(10084, 11)"
      ]
     },
     "metadata": {},
     "output_type": "display_data"
    }
   ],
   "source": [
    "display(df.shape,df_no_dup.shape)"
   ]
  },
  {
   "cell_type": "code",
   "execution_count": 207,
   "metadata": {},
   "outputs": [],
   "source": [
    "# x = independent\n",
    "# y = dependent (target)\n",
    "x = df.drop('is_canceled', axis=1)\n",
    "y = df['is_canceled']\n",
    "\n",
    "# x = independent no dup\n",
    "# y = dependent no dup (target)\n",
    "x_no_dup = df_no_dup.drop('is_canceled', axis=1)\n",
    "y_no_dup = df_no_dup['is_canceled']"
   ]
  },
  {
   "cell_type": "markdown",
   "metadata": {},
   "source": [
    "Kita akan definisikan terlebih dahulu antara train dan test"
   ]
  },
  {
   "cell_type": "code",
   "execution_count": 208,
   "metadata": {},
   "outputs": [],
   "source": [
    "# splitting data Train+validation and Test\n",
    "x_train, x_test, y_train, y_test = train_test_split(x, y, stratify=y, test_size=0.2, random_state=100)"
   ]
  },
  {
   "cell_type": "code",
   "execution_count": 209,
   "metadata": {},
   "outputs": [],
   "source": [
    "# Splitting juga pada data yang no dup\n",
    "x_train_no_dup, x_test_no_dup, y_train_no_dup, y_test_no_dup = train_test_split(x_no_dup, y_no_dup, stratify=y_no_dup, test_size=0.2, random_state=100)"
   ]
  },
  {
   "cell_type": "code",
   "execution_count": 210,
   "metadata": {},
   "outputs": [
    {
     "name": "stdout",
     "output_type": "stream",
     "text": [
      "x_train : (66577, 10)\n",
      "x_test : (16645, 10)\n",
      "\n",
      "x_train_no_dup : (8067, 10)\n",
      "x_test_no_dup : (2017, 10)\n"
     ]
    }
   ],
   "source": [
    "# cek size \n",
    "print('x_train :',x_train.shape)\n",
    "print('x_test :',x_test.shape)\n",
    "\n",
    "print('\\nx_train_no_dup :',x_train_no_dup.shape)\n",
    "print('x_test_no_dup :',x_test_no_dup.shape)\n"
   ]
  },
  {
   "attachments": {},
   "cell_type": "markdown",
   "metadata": {},
   "source": [
    "Terlihat seperti yang sudah di sampaikan bahwa *drawbacks* dari menghilangkan duplicate pada dataset ini adalah hilangnnya banyak informasi, hal ini terlihat dari ukuran data train yang turun secara drastis dari 66577 menjadi 8067"
   ]
  },
  {
   "attachments": {},
   "cell_type": "markdown",
   "metadata": {},
   "source": [
    "## Preprocessing Result"
   ]
  },
  {
   "attachments": {},
   "cell_type": "markdown",
   "metadata": {},
   "source": [
    "Untuk kedepannya preprocessing akan menggunakan pipeline, namun disini hanya untuk melihat hasil dari preprocessingnnya terlebih dahulu, kita ingin lihat transformasi data kita apakah sudah sesuai atau belum"
   ]
  },
  {
   "cell_type": "code",
   "execution_count": 211,
   "metadata": {},
   "outputs": [],
   "source": [
    "# fit & transform hanya pada x_train\n",
    "x_train_prep = pd.DataFrame(transformer.fit_transform(x_train)) # kita pakai 1 contoh saja dengan x_train yang ada duplikatnya"
   ]
  },
  {
   "cell_type": "markdown",
   "metadata": {},
   "source": [
    "Namun sampai tahapan ini, nama kolom masih hilang, seperti contoh dibawah ini"
   ]
  },
  {
   "cell_type": "code",
   "execution_count": 212,
   "metadata": {},
   "outputs": [
    {
     "data": {
      "text/html": [
       "<div>\n",
       "<style scoped>\n",
       "    .dataframe tbody tr th:only-of-type {\n",
       "        vertical-align: middle;\n",
       "    }\n",
       "\n",
       "    .dataframe tbody tr th {\n",
       "        vertical-align: top;\n",
       "    }\n",
       "\n",
       "    .dataframe thead th {\n",
       "        text-align: right;\n",
       "    }\n",
       "</style>\n",
       "<table border=\"1\" class=\"dataframe\">\n",
       "  <thead>\n",
       "    <tr style=\"text-align: right;\">\n",
       "      <th></th>\n",
       "      <th>0</th>\n",
       "      <th>1</th>\n",
       "      <th>2</th>\n",
       "      <th>3</th>\n",
       "      <th>4</th>\n",
       "      <th>5</th>\n",
       "      <th>6</th>\n",
       "      <th>7</th>\n",
       "      <th>8</th>\n",
       "      <th>9</th>\n",
       "      <th>10</th>\n",
       "      <th>11</th>\n",
       "      <th>12</th>\n",
       "      <th>13</th>\n",
       "      <th>14</th>\n",
       "      <th>15</th>\n",
       "      <th>16</th>\n",
       "      <th>17</th>\n",
       "      <th>18</th>\n",
       "      <th>19</th>\n",
       "      <th>20</th>\n",
       "      <th>21</th>\n",
       "      <th>22</th>\n",
       "      <th>23</th>\n",
       "      <th>24</th>\n",
       "      <th>25</th>\n",
       "    </tr>\n",
       "  </thead>\n",
       "  <tbody>\n",
       "    <tr>\n",
       "      <th>0</th>\n",
       "      <td>0.0</td>\n",
       "      <td>0.0</td>\n",
       "      <td>0.0</td>\n",
       "      <td>1.0</td>\n",
       "      <td>0.0</td>\n",
       "      <td>0.0</td>\n",
       "      <td>0.0</td>\n",
       "      <td>0.0</td>\n",
       "      <td>0.0</td>\n",
       "      <td>0.0</td>\n",
       "      <td>0.0</td>\n",
       "      <td>0.0</td>\n",
       "      <td>1.0</td>\n",
       "      <td>0.0</td>\n",
       "      <td>0.0</td>\n",
       "      <td>0.0</td>\n",
       "      <td>1.0</td>\n",
       "      <td>0.0</td>\n",
       "      <td>0.0</td>\n",
       "      <td>0.0</td>\n",
       "      <td>1.0</td>\n",
       "      <td>0.0</td>\n",
       "      <td>0.0</td>\n",
       "      <td>0.0</td>\n",
       "      <td>0.0</td>\n",
       "      <td>5.0</td>\n",
       "    </tr>\n",
       "    <tr>\n",
       "      <th>1</th>\n",
       "      <td>0.0</td>\n",
       "      <td>0.0</td>\n",
       "      <td>0.0</td>\n",
       "      <td>1.0</td>\n",
       "      <td>0.0</td>\n",
       "      <td>0.0</td>\n",
       "      <td>0.0</td>\n",
       "      <td>0.0</td>\n",
       "      <td>0.0</td>\n",
       "      <td>0.0</td>\n",
       "      <td>0.0</td>\n",
       "      <td>1.0</td>\n",
       "      <td>0.0</td>\n",
       "      <td>0.0</td>\n",
       "      <td>0.0</td>\n",
       "      <td>0.0</td>\n",
       "      <td>1.0</td>\n",
       "      <td>0.0</td>\n",
       "      <td>0.0</td>\n",
       "      <td>0.0</td>\n",
       "      <td>1.0</td>\n",
       "      <td>0.0</td>\n",
       "      <td>0.0</td>\n",
       "      <td>0.0</td>\n",
       "      <td>1.0</td>\n",
       "      <td>2.0</td>\n",
       "    </tr>\n",
       "    <tr>\n",
       "      <th>2</th>\n",
       "      <td>0.0</td>\n",
       "      <td>0.0</td>\n",
       "      <td>0.0</td>\n",
       "      <td>0.0</td>\n",
       "      <td>1.0</td>\n",
       "      <td>0.0</td>\n",
       "      <td>0.0</td>\n",
       "      <td>0.0</td>\n",
       "      <td>0.0</td>\n",
       "      <td>0.0</td>\n",
       "      <td>0.0</td>\n",
       "      <td>1.0</td>\n",
       "      <td>1.0</td>\n",
       "      <td>0.0</td>\n",
       "      <td>0.0</td>\n",
       "      <td>1.0</td>\n",
       "      <td>0.0</td>\n",
       "      <td>0.0</td>\n",
       "      <td>0.0</td>\n",
       "      <td>0.0</td>\n",
       "      <td>1.0</td>\n",
       "      <td>0.0</td>\n",
       "      <td>2.0</td>\n",
       "      <td>0.0</td>\n",
       "      <td>0.0</td>\n",
       "      <td>0.0</td>\n",
       "    </tr>\n",
       "    <tr>\n",
       "      <th>3</th>\n",
       "      <td>1.0</td>\n",
       "      <td>0.0</td>\n",
       "      <td>0.0</td>\n",
       "      <td>0.0</td>\n",
       "      <td>1.0</td>\n",
       "      <td>0.0</td>\n",
       "      <td>0.0</td>\n",
       "      <td>0.0</td>\n",
       "      <td>0.0</td>\n",
       "      <td>0.0</td>\n",
       "      <td>1.0</td>\n",
       "      <td>0.0</td>\n",
       "      <td>0.0</td>\n",
       "      <td>0.0</td>\n",
       "      <td>0.0</td>\n",
       "      <td>1.0</td>\n",
       "      <td>1.0</td>\n",
       "      <td>0.0</td>\n",
       "      <td>0.0</td>\n",
       "      <td>0.0</td>\n",
       "      <td>1.0</td>\n",
       "      <td>0.0</td>\n",
       "      <td>0.0</td>\n",
       "      <td>0.0</td>\n",
       "      <td>0.0</td>\n",
       "      <td>0.0</td>\n",
       "    </tr>\n",
       "    <tr>\n",
       "      <th>4</th>\n",
       "      <td>0.0</td>\n",
       "      <td>0.0</td>\n",
       "      <td>0.0</td>\n",
       "      <td>1.0</td>\n",
       "      <td>0.0</td>\n",
       "      <td>0.0</td>\n",
       "      <td>0.0</td>\n",
       "      <td>0.0</td>\n",
       "      <td>0.0</td>\n",
       "      <td>0.0</td>\n",
       "      <td>0.0</td>\n",
       "      <td>0.0</td>\n",
       "      <td>1.0</td>\n",
       "      <td>0.0</td>\n",
       "      <td>0.0</td>\n",
       "      <td>0.0</td>\n",
       "      <td>1.0</td>\n",
       "      <td>0.0</td>\n",
       "      <td>0.0</td>\n",
       "      <td>1.0</td>\n",
       "      <td>0.0</td>\n",
       "      <td>0.0</td>\n",
       "      <td>0.0</td>\n",
       "      <td>0.0</td>\n",
       "      <td>1.0</td>\n",
       "      <td>1.0</td>\n",
       "    </tr>\n",
       "  </tbody>\n",
       "</table>\n",
       "</div>"
      ],
      "text/plain": [
       "    0    1    2    3    4    5    6    7    8    9    10   11   12   13   14  \\\n",
       "0  0.0  0.0  0.0  1.0  0.0  0.0  0.0  0.0  0.0  0.0  0.0  0.0  1.0  0.0  0.0   \n",
       "1  0.0  0.0  0.0  1.0  0.0  0.0  0.0  0.0  0.0  0.0  0.0  1.0  0.0  0.0  0.0   \n",
       "2  0.0  0.0  0.0  0.0  1.0  0.0  0.0  0.0  0.0  0.0  0.0  1.0  1.0  0.0  0.0   \n",
       "3  1.0  0.0  0.0  0.0  1.0  0.0  0.0  0.0  0.0  0.0  1.0  0.0  0.0  0.0  0.0   \n",
       "4  0.0  0.0  0.0  1.0  0.0  0.0  0.0  0.0  0.0  0.0  0.0  0.0  1.0  0.0  0.0   \n",
       "\n",
       "    15   16   17   18   19   20   21   22   23   24   25  \n",
       "0  0.0  1.0  0.0  0.0  0.0  1.0  0.0  0.0  0.0  0.0  5.0  \n",
       "1  0.0  1.0  0.0  0.0  0.0  1.0  0.0  0.0  0.0  1.0  2.0  \n",
       "2  1.0  0.0  0.0  0.0  0.0  1.0  0.0  2.0  0.0  0.0  0.0  \n",
       "3  1.0  1.0  0.0  0.0  0.0  1.0  0.0  0.0  0.0  0.0  0.0  \n",
       "4  0.0  1.0  0.0  0.0  1.0  0.0  0.0  0.0  0.0  1.0  1.0  "
      ]
     },
     "execution_count": 212,
     "metadata": {},
     "output_type": "execute_result"
    }
   ],
   "source": [
    "x_train_prep.head()"
   ]
  },
  {
   "cell_type": "markdown",
   "metadata": {},
   "source": [
    "Oleh karena itu kita akan kembalikan namanya "
   ]
  },
  {
   "cell_type": "code",
   "execution_count": 213,
   "metadata": {},
   "outputs": [],
   "source": [
    "# mengambil nama kolom untuk dimasukkan kembali\n",
    "# disimpan dalam variable onehot_name\n",
    "onehot_name = list(transformer.transformers_[0][1].get_feature_names_out())"
   ]
  },
  {
   "cell_type": "code",
   "execution_count": 214,
   "metadata": {},
   "outputs": [],
   "source": [
    "# mengambil nama dari binary encoder\n",
    "# disimpan dalam variable binary_name\n",
    "binary_name = list(transformer.transformers_[1][1].get_feature_names_out())"
   ]
  },
  {
   "cell_type": "code",
   "execution_count": 215,
   "metadata": {},
   "outputs": [],
   "source": [
    "# hasil urutan penaaman\n",
    "features = onehot_name + binary_name + ['previous_cancellations','booking_changes','days_in_waiting_list','required_car_parking_spaces','total_of_special_requests']"
   ]
  },
  {
   "cell_type": "code",
   "execution_count": 216,
   "metadata": {},
   "outputs": [
    {
     "name": "stdout",
     "output_type": "stream",
     "text": [
      "Ukuran xtrain: 26\n"
     ]
    }
   ],
   "source": [
    "# kita cek untuk ukuran kolomnya\n",
    "print('Ukuran xtrain: {}'.format(x_train_prep.shape[1]))"
   ]
  },
  {
   "cell_type": "code",
   "execution_count": 217,
   "metadata": {},
   "outputs": [
    {
     "name": "stdout",
     "output_type": "stream",
     "text": [
      "Ukuran features name: 26\n"
     ]
    }
   ],
   "source": [
    "# Ukuran features\n",
    "print('Ukuran features name: {}'.format(len(features)))"
   ]
  },
  {
   "cell_type": "markdown",
   "metadata": {},
   "source": [
    "Terlihat bahwa sudah memiliki ukuran yang sama, sekarang kita akan memasukkan kedalam nama kolomnya"
   ]
  },
  {
   "cell_type": "code",
   "execution_count": 218,
   "metadata": {},
   "outputs": [],
   "source": [
    "# Memasukkan nama features kedalam data split\n",
    "x_train_prep.columns = features"
   ]
  },
  {
   "cell_type": "code",
   "execution_count": 219,
   "metadata": {},
   "outputs": [
    {
     "data": {
      "text/html": [
       "<div>\n",
       "<style scoped>\n",
       "    .dataframe tbody tr th:only-of-type {\n",
       "        vertical-align: middle;\n",
       "    }\n",
       "\n",
       "    .dataframe tbody tr th {\n",
       "        vertical-align: top;\n",
       "    }\n",
       "\n",
       "    .dataframe thead th {\n",
       "        text-align: right;\n",
       "    }\n",
       "</style>\n",
       "<table border=\"1\" class=\"dataframe\">\n",
       "  <thead>\n",
       "    <tr style=\"text-align: right;\">\n",
       "      <th></th>\n",
       "      <th>deposit_type_Non Refund</th>\n",
       "      <th>deposit_type_Refundable</th>\n",
       "      <th>customer_type_Group</th>\n",
       "      <th>customer_type_Transient</th>\n",
       "      <th>customer_type_Transient-Party</th>\n",
       "      <th>country_0</th>\n",
       "      <th>country_1</th>\n",
       "      <th>country_2</th>\n",
       "      <th>country_3</th>\n",
       "      <th>country_4</th>\n",
       "      <th>country_5</th>\n",
       "      <th>country_6</th>\n",
       "      <th>country_7</th>\n",
       "      <th>market_segment_0</th>\n",
       "      <th>market_segment_1</th>\n",
       "      <th>market_segment_2</th>\n",
       "      <th>market_segment_3</th>\n",
       "      <th>reserved_room_type_0</th>\n",
       "      <th>reserved_room_type_1</th>\n",
       "      <th>reserved_room_type_2</th>\n",
       "      <th>reserved_room_type_3</th>\n",
       "      <th>previous_cancellations</th>\n",
       "      <th>booking_changes</th>\n",
       "      <th>days_in_waiting_list</th>\n",
       "      <th>required_car_parking_spaces</th>\n",
       "      <th>total_of_special_requests</th>\n",
       "    </tr>\n",
       "  </thead>\n",
       "  <tbody>\n",
       "    <tr>\n",
       "      <th>0</th>\n",
       "      <td>0.0</td>\n",
       "      <td>0.0</td>\n",
       "      <td>0.0</td>\n",
       "      <td>1.0</td>\n",
       "      <td>0.0</td>\n",
       "      <td>0.0</td>\n",
       "      <td>0.0</td>\n",
       "      <td>0.0</td>\n",
       "      <td>0.0</td>\n",
       "      <td>0.0</td>\n",
       "      <td>0.0</td>\n",
       "      <td>0.0</td>\n",
       "      <td>1.0</td>\n",
       "      <td>0.0</td>\n",
       "      <td>0.0</td>\n",
       "      <td>0.0</td>\n",
       "      <td>1.0</td>\n",
       "      <td>0.0</td>\n",
       "      <td>0.0</td>\n",
       "      <td>0.0</td>\n",
       "      <td>1.0</td>\n",
       "      <td>0.0</td>\n",
       "      <td>0.0</td>\n",
       "      <td>0.0</td>\n",
       "      <td>0.0</td>\n",
       "      <td>5.0</td>\n",
       "    </tr>\n",
       "    <tr>\n",
       "      <th>1</th>\n",
       "      <td>0.0</td>\n",
       "      <td>0.0</td>\n",
       "      <td>0.0</td>\n",
       "      <td>1.0</td>\n",
       "      <td>0.0</td>\n",
       "      <td>0.0</td>\n",
       "      <td>0.0</td>\n",
       "      <td>0.0</td>\n",
       "      <td>0.0</td>\n",
       "      <td>0.0</td>\n",
       "      <td>0.0</td>\n",
       "      <td>1.0</td>\n",
       "      <td>0.0</td>\n",
       "      <td>0.0</td>\n",
       "      <td>0.0</td>\n",
       "      <td>0.0</td>\n",
       "      <td>1.0</td>\n",
       "      <td>0.0</td>\n",
       "      <td>0.0</td>\n",
       "      <td>0.0</td>\n",
       "      <td>1.0</td>\n",
       "      <td>0.0</td>\n",
       "      <td>0.0</td>\n",
       "      <td>0.0</td>\n",
       "      <td>1.0</td>\n",
       "      <td>2.0</td>\n",
       "    </tr>\n",
       "    <tr>\n",
       "      <th>2</th>\n",
       "      <td>0.0</td>\n",
       "      <td>0.0</td>\n",
       "      <td>0.0</td>\n",
       "      <td>0.0</td>\n",
       "      <td>1.0</td>\n",
       "      <td>0.0</td>\n",
       "      <td>0.0</td>\n",
       "      <td>0.0</td>\n",
       "      <td>0.0</td>\n",
       "      <td>0.0</td>\n",
       "      <td>0.0</td>\n",
       "      <td>1.0</td>\n",
       "      <td>1.0</td>\n",
       "      <td>0.0</td>\n",
       "      <td>0.0</td>\n",
       "      <td>1.0</td>\n",
       "      <td>0.0</td>\n",
       "      <td>0.0</td>\n",
       "      <td>0.0</td>\n",
       "      <td>0.0</td>\n",
       "      <td>1.0</td>\n",
       "      <td>0.0</td>\n",
       "      <td>2.0</td>\n",
       "      <td>0.0</td>\n",
       "      <td>0.0</td>\n",
       "      <td>0.0</td>\n",
       "    </tr>\n",
       "    <tr>\n",
       "      <th>3</th>\n",
       "      <td>1.0</td>\n",
       "      <td>0.0</td>\n",
       "      <td>0.0</td>\n",
       "      <td>0.0</td>\n",
       "      <td>1.0</td>\n",
       "      <td>0.0</td>\n",
       "      <td>0.0</td>\n",
       "      <td>0.0</td>\n",
       "      <td>0.0</td>\n",
       "      <td>0.0</td>\n",
       "      <td>1.0</td>\n",
       "      <td>0.0</td>\n",
       "      <td>0.0</td>\n",
       "      <td>0.0</td>\n",
       "      <td>0.0</td>\n",
       "      <td>1.0</td>\n",
       "      <td>1.0</td>\n",
       "      <td>0.0</td>\n",
       "      <td>0.0</td>\n",
       "      <td>0.0</td>\n",
       "      <td>1.0</td>\n",
       "      <td>0.0</td>\n",
       "      <td>0.0</td>\n",
       "      <td>0.0</td>\n",
       "      <td>0.0</td>\n",
       "      <td>0.0</td>\n",
       "    </tr>\n",
       "    <tr>\n",
       "      <th>4</th>\n",
       "      <td>0.0</td>\n",
       "      <td>0.0</td>\n",
       "      <td>0.0</td>\n",
       "      <td>1.0</td>\n",
       "      <td>0.0</td>\n",
       "      <td>0.0</td>\n",
       "      <td>0.0</td>\n",
       "      <td>0.0</td>\n",
       "      <td>0.0</td>\n",
       "      <td>0.0</td>\n",
       "      <td>0.0</td>\n",
       "      <td>0.0</td>\n",
       "      <td>1.0</td>\n",
       "      <td>0.0</td>\n",
       "      <td>0.0</td>\n",
       "      <td>0.0</td>\n",
       "      <td>1.0</td>\n",
       "      <td>0.0</td>\n",
       "      <td>0.0</td>\n",
       "      <td>1.0</td>\n",
       "      <td>0.0</td>\n",
       "      <td>0.0</td>\n",
       "      <td>0.0</td>\n",
       "      <td>0.0</td>\n",
       "      <td>1.0</td>\n",
       "      <td>1.0</td>\n",
       "    </tr>\n",
       "    <tr>\n",
       "      <th>...</th>\n",
       "      <td>...</td>\n",
       "      <td>...</td>\n",
       "      <td>...</td>\n",
       "      <td>...</td>\n",
       "      <td>...</td>\n",
       "      <td>...</td>\n",
       "      <td>...</td>\n",
       "      <td>...</td>\n",
       "      <td>...</td>\n",
       "      <td>...</td>\n",
       "      <td>...</td>\n",
       "      <td>...</td>\n",
       "      <td>...</td>\n",
       "      <td>...</td>\n",
       "      <td>...</td>\n",
       "      <td>...</td>\n",
       "      <td>...</td>\n",
       "      <td>...</td>\n",
       "      <td>...</td>\n",
       "      <td>...</td>\n",
       "      <td>...</td>\n",
       "      <td>...</td>\n",
       "      <td>...</td>\n",
       "      <td>...</td>\n",
       "      <td>...</td>\n",
       "      <td>...</td>\n",
       "    </tr>\n",
       "    <tr>\n",
       "      <th>66572</th>\n",
       "      <td>0.0</td>\n",
       "      <td>0.0</td>\n",
       "      <td>0.0</td>\n",
       "      <td>1.0</td>\n",
       "      <td>0.0</td>\n",
       "      <td>0.0</td>\n",
       "      <td>0.0</td>\n",
       "      <td>0.0</td>\n",
       "      <td>0.0</td>\n",
       "      <td>0.0</td>\n",
       "      <td>1.0</td>\n",
       "      <td>0.0</td>\n",
       "      <td>0.0</td>\n",
       "      <td>0.0</td>\n",
       "      <td>0.0</td>\n",
       "      <td>0.0</td>\n",
       "      <td>1.0</td>\n",
       "      <td>0.0</td>\n",
       "      <td>0.0</td>\n",
       "      <td>0.0</td>\n",
       "      <td>1.0</td>\n",
       "      <td>0.0</td>\n",
       "      <td>0.0</td>\n",
       "      <td>0.0</td>\n",
       "      <td>0.0</td>\n",
       "      <td>2.0</td>\n",
       "    </tr>\n",
       "    <tr>\n",
       "      <th>66573</th>\n",
       "      <td>0.0</td>\n",
       "      <td>0.0</td>\n",
       "      <td>0.0</td>\n",
       "      <td>0.0</td>\n",
       "      <td>1.0</td>\n",
       "      <td>0.0</td>\n",
       "      <td>0.0</td>\n",
       "      <td>0.0</td>\n",
       "      <td>0.0</td>\n",
       "      <td>0.0</td>\n",
       "      <td>1.0</td>\n",
       "      <td>0.0</td>\n",
       "      <td>0.0</td>\n",
       "      <td>0.0</td>\n",
       "      <td>0.0</td>\n",
       "      <td>1.0</td>\n",
       "      <td>0.0</td>\n",
       "      <td>0.0</td>\n",
       "      <td>0.0</td>\n",
       "      <td>0.0</td>\n",
       "      <td>1.0</td>\n",
       "      <td>0.0</td>\n",
       "      <td>0.0</td>\n",
       "      <td>0.0</td>\n",
       "      <td>0.0</td>\n",
       "      <td>0.0</td>\n",
       "    </tr>\n",
       "    <tr>\n",
       "      <th>66574</th>\n",
       "      <td>0.0</td>\n",
       "      <td>0.0</td>\n",
       "      <td>0.0</td>\n",
       "      <td>1.0</td>\n",
       "      <td>0.0</td>\n",
       "      <td>0.0</td>\n",
       "      <td>0.0</td>\n",
       "      <td>0.0</td>\n",
       "      <td>0.0</td>\n",
       "      <td>1.0</td>\n",
       "      <td>0.0</td>\n",
       "      <td>1.0</td>\n",
       "      <td>1.0</td>\n",
       "      <td>0.0</td>\n",
       "      <td>0.0</td>\n",
       "      <td>0.0</td>\n",
       "      <td>1.0</td>\n",
       "      <td>0.0</td>\n",
       "      <td>0.0</td>\n",
       "      <td>1.0</td>\n",
       "      <td>0.0</td>\n",
       "      <td>0.0</td>\n",
       "      <td>0.0</td>\n",
       "      <td>0.0</td>\n",
       "      <td>0.0</td>\n",
       "      <td>0.0</td>\n",
       "    </tr>\n",
       "    <tr>\n",
       "      <th>66575</th>\n",
       "      <td>1.0</td>\n",
       "      <td>0.0</td>\n",
       "      <td>0.0</td>\n",
       "      <td>1.0</td>\n",
       "      <td>0.0</td>\n",
       "      <td>0.0</td>\n",
       "      <td>0.0</td>\n",
       "      <td>0.0</td>\n",
       "      <td>0.0</td>\n",
       "      <td>0.0</td>\n",
       "      <td>1.0</td>\n",
       "      <td>0.0</td>\n",
       "      <td>0.0</td>\n",
       "      <td>0.0</td>\n",
       "      <td>0.0</td>\n",
       "      <td>1.0</td>\n",
       "      <td>0.0</td>\n",
       "      <td>0.0</td>\n",
       "      <td>0.0</td>\n",
       "      <td>0.0</td>\n",
       "      <td>1.0</td>\n",
       "      <td>0.0</td>\n",
       "      <td>0.0</td>\n",
       "      <td>0.0</td>\n",
       "      <td>0.0</td>\n",
       "      <td>0.0</td>\n",
       "    </tr>\n",
       "    <tr>\n",
       "      <th>66576</th>\n",
       "      <td>0.0</td>\n",
       "      <td>0.0</td>\n",
       "      <td>0.0</td>\n",
       "      <td>0.0</td>\n",
       "      <td>1.0</td>\n",
       "      <td>0.0</td>\n",
       "      <td>0.0</td>\n",
       "      <td>0.0</td>\n",
       "      <td>0.0</td>\n",
       "      <td>0.0</td>\n",
       "      <td>1.0</td>\n",
       "      <td>0.0</td>\n",
       "      <td>0.0</td>\n",
       "      <td>0.0</td>\n",
       "      <td>0.0</td>\n",
       "      <td>1.0</td>\n",
       "      <td>1.0</td>\n",
       "      <td>0.0</td>\n",
       "      <td>0.0</td>\n",
       "      <td>0.0</td>\n",
       "      <td>1.0</td>\n",
       "      <td>0.0</td>\n",
       "      <td>1.0</td>\n",
       "      <td>0.0</td>\n",
       "      <td>0.0</td>\n",
       "      <td>0.0</td>\n",
       "    </tr>\n",
       "  </tbody>\n",
       "</table>\n",
       "<p>66577 rows × 26 columns</p>\n",
       "</div>"
      ],
      "text/plain": [
       "       deposit_type_Non Refund  deposit_type_Refundable  customer_type_Group  \\\n",
       "0      0.0                      0.0                      0.0                   \n",
       "1      0.0                      0.0                      0.0                   \n",
       "2      0.0                      0.0                      0.0                   \n",
       "3      1.0                      0.0                      0.0                   \n",
       "4      0.0                      0.0                      0.0                   \n",
       "...    ...                      ...                      ...                   \n",
       "66572  0.0                      0.0                      0.0                   \n",
       "66573  0.0                      0.0                      0.0                   \n",
       "66574  0.0                      0.0                      0.0                   \n",
       "66575  1.0                      0.0                      0.0                   \n",
       "66576  0.0                      0.0                      0.0                   \n",
       "\n",
       "       customer_type_Transient  customer_type_Transient-Party  country_0  \\\n",
       "0      1.0                      0.0                            0.0         \n",
       "1      1.0                      0.0                            0.0         \n",
       "2      0.0                      1.0                            0.0         \n",
       "3      0.0                      1.0                            0.0         \n",
       "4      1.0                      0.0                            0.0         \n",
       "...    ...                      ...                            ...         \n",
       "66572  1.0                      0.0                            0.0         \n",
       "66573  0.0                      1.0                            0.0         \n",
       "66574  1.0                      0.0                            0.0         \n",
       "66575  1.0                      0.0                            0.0         \n",
       "66576  0.0                      1.0                            0.0         \n",
       "\n",
       "       country_1  country_2  country_3  country_4  country_5  country_6  \\\n",
       "0      0.0        0.0        0.0        0.0        0.0        0.0         \n",
       "1      0.0        0.0        0.0        0.0        0.0        1.0         \n",
       "2      0.0        0.0        0.0        0.0        0.0        1.0         \n",
       "3      0.0        0.0        0.0        0.0        1.0        0.0         \n",
       "4      0.0        0.0        0.0        0.0        0.0        0.0         \n",
       "...    ...        ...        ...        ...        ...        ...         \n",
       "66572  0.0        0.0        0.0        0.0        1.0        0.0         \n",
       "66573  0.0        0.0        0.0        0.0        1.0        0.0         \n",
       "66574  0.0        0.0        0.0        1.0        0.0        1.0         \n",
       "66575  0.0        0.0        0.0        0.0        1.0        0.0         \n",
       "66576  0.0        0.0        0.0        0.0        1.0        0.0         \n",
       "\n",
       "       country_7  market_segment_0  market_segment_1  market_segment_2  \\\n",
       "0      1.0        0.0               0.0               0.0                \n",
       "1      0.0        0.0               0.0               0.0                \n",
       "2      1.0        0.0               0.0               1.0                \n",
       "3      0.0        0.0               0.0               1.0                \n",
       "4      1.0        0.0               0.0               0.0                \n",
       "...    ...        ...               ...               ...                \n",
       "66572  0.0        0.0               0.0               0.0                \n",
       "66573  0.0        0.0               0.0               1.0                \n",
       "66574  1.0        0.0               0.0               0.0                \n",
       "66575  0.0        0.0               0.0               1.0                \n",
       "66576  0.0        0.0               0.0               1.0                \n",
       "\n",
       "       market_segment_3  reserved_room_type_0  reserved_room_type_1  \\\n",
       "0      1.0               0.0                   0.0                    \n",
       "1      1.0               0.0                   0.0                    \n",
       "2      0.0               0.0                   0.0                    \n",
       "3      1.0               0.0                   0.0                    \n",
       "4      1.0               0.0                   0.0                    \n",
       "...    ...               ...                   ...                    \n",
       "66572  1.0               0.0                   0.0                    \n",
       "66573  0.0               0.0                   0.0                    \n",
       "66574  1.0               0.0                   0.0                    \n",
       "66575  0.0               0.0                   0.0                    \n",
       "66576  1.0               0.0                   0.0                    \n",
       "\n",
       "       reserved_room_type_2  reserved_room_type_3  previous_cancellations  \\\n",
       "0      0.0                   1.0                   0.0                      \n",
       "1      0.0                   1.0                   0.0                      \n",
       "2      0.0                   1.0                   0.0                      \n",
       "3      0.0                   1.0                   0.0                      \n",
       "4      1.0                   0.0                   0.0                      \n",
       "...    ...                   ...                   ...                      \n",
       "66572  0.0                   1.0                   0.0                      \n",
       "66573  0.0                   1.0                   0.0                      \n",
       "66574  1.0                   0.0                   0.0                      \n",
       "66575  0.0                   1.0                   0.0                      \n",
       "66576  0.0                   1.0                   0.0                      \n",
       "\n",
       "       booking_changes  days_in_waiting_list  required_car_parking_spaces  \\\n",
       "0      0.0              0.0                   0.0                           \n",
       "1      0.0              0.0                   1.0                           \n",
       "2      2.0              0.0                   0.0                           \n",
       "3      0.0              0.0                   0.0                           \n",
       "4      0.0              0.0                   1.0                           \n",
       "...    ...              ...                   ...                           \n",
       "66572  0.0              0.0                   0.0                           \n",
       "66573  0.0              0.0                   0.0                           \n",
       "66574  0.0              0.0                   0.0                           \n",
       "66575  0.0              0.0                   0.0                           \n",
       "66576  1.0              0.0                   0.0                           \n",
       "\n",
       "       total_of_special_requests  \n",
       "0      5.0                        \n",
       "1      2.0                        \n",
       "2      0.0                        \n",
       "3      0.0                        \n",
       "4      1.0                        \n",
       "...    ...                        \n",
       "66572  2.0                        \n",
       "66573  0.0                        \n",
       "66574  0.0                        \n",
       "66575  0.0                        \n",
       "66576  0.0                        \n",
       "\n",
       "[66577 rows x 26 columns]"
      ]
     },
     "execution_count": 219,
     "metadata": {},
     "output_type": "execute_result"
    }
   ],
   "source": [
    "# Cek hasilnya\n",
    "pd.options.display.max_columns = None\n",
    "x_train_prep"
   ]
  },
  {
   "cell_type": "markdown",
   "metadata": {},
   "source": [
    "terlihat proses preprocessing sudah berjalan dengan lancar, sekarang saatnya kita akan memasuki tahap modelling & evaluation"
   ]
  },
  {
   "cell_type": "markdown",
   "metadata": {},
   "source": [
    "# Modelling & Evaluation"
   ]
  },
  {
   "attachments": {},
   "cell_type": "markdown",
   "metadata": {},
   "source": [
    "Pada tahap ini kita akan mulai melakukan modelling dengan beberapa algoritma untuk menyelesaikan masalah klasifikasi, dan juga melakukan evaluasi dari beberapa algoritma, hal ini dilakukan dengan melakukan cross validasi terlebih dahulu, baru kita akan melihat reportnya dengan melihat evaluasi dari test setnya, **dan tidak lupa juga kita akan melakukan komparasi hasil dengan duplikasi dan juga tanpa duplikasi**"
   ]
  },
  {
   "attachments": {},
   "cell_type": "markdown",
   "metadata": {},
   "source": [
    "Pertama kita akan definisikan tiap algoritmanya"
   ]
  },
  {
   "cell_type": "markdown",
   "metadata": {},
   "source": [
    "## Algorithms"
   ]
  },
  {
   "cell_type": "code",
   "execution_count": 220,
   "metadata": {},
   "outputs": [],
   "source": [
    "# membuatkan variable untuk setiap algorithm\n",
    "logreg = LogisticRegression()\n",
    "dt = DecisionTreeClassifier()\n",
    "rf = RandomForestClassifier()\n",
    "nb = GaussianNB()\n",
    "knn = KNeighborsClassifier()\n",
    "xgb = XGBClassifier()\n",
    "lgbm = lgb.LGBMClassifier()"
   ]
  },
  {
   "attachments": {},
   "cell_type": "markdown",
   "metadata": {},
   "source": [
    "## Model Benchmarking : K-Fold"
   ]
  },
  {
   "attachments": {},
   "cell_type": "markdown",
   "metadata": {},
   "source": [
    "Dalam model benchmarking *Evaluation Metrics* utama yang digunakan adalah **f1-score**<br>\n",
    "hal ini dilakukan karena sesuai dengan goal atau tujuan dari penyelesaian permasalahan disini"
   ]
  },
  {
   "attachments": {},
   "cell_type": "markdown",
   "metadata": {},
   "source": [
    "### With duplicates"
   ]
  },
  {
   "attachments": {},
   "cell_type": "markdown",
   "metadata": {},
   "source": [
    "Hal pertama yang perlu kita test adalah melakukan cross-validasi dimana **duplicates** terdapat pada training data"
   ]
  },
  {
   "cell_type": "code",
   "execution_count": 221,
   "metadata": {},
   "outputs": [
    {
     "data": {
      "text/html": [
       "<div>\n",
       "<style scoped>\n",
       "    .dataframe tbody tr th:only-of-type {\n",
       "        vertical-align: middle;\n",
       "    }\n",
       "\n",
       "    .dataframe tbody tr th {\n",
       "        vertical-align: top;\n",
       "    }\n",
       "\n",
       "    .dataframe thead th {\n",
       "        text-align: right;\n",
       "    }\n",
       "</style>\n",
       "<table border=\"1\" class=\"dataframe\">\n",
       "  <thead>\n",
       "    <tr style=\"text-align: right;\">\n",
       "      <th></th>\n",
       "      <th>f1-score</th>\n",
       "      <th>std_f1</th>\n",
       "      <th>roc_auc</th>\n",
       "      <th>roc_std</th>\n",
       "      <th>Accuracy</th>\n",
       "      <th>Precision</th>\n",
       "      <th>Recall</th>\n",
       "    </tr>\n",
       "    <tr>\n",
       "      <th>model</th>\n",
       "      <th></th>\n",
       "      <th></th>\n",
       "      <th></th>\n",
       "      <th></th>\n",
       "      <th></th>\n",
       "      <th></th>\n",
       "      <th></th>\n",
       "    </tr>\n",
       "  </thead>\n",
       "  <tbody>\n",
       "    <tr>\n",
       "      <th>LightGBM</th>\n",
       "      <td>0.728556</td>\n",
       "      <td>0.005566</td>\n",
       "      <td>0.891795</td>\n",
       "      <td>0.002096</td>\n",
       "      <td>0.810340</td>\n",
       "      <td>0.772631</td>\n",
       "      <td>0.689323</td>\n",
       "    </tr>\n",
       "    <tr>\n",
       "      <th>Random Forest</th>\n",
       "      <td>0.722385</td>\n",
       "      <td>0.006613</td>\n",
       "      <td>0.886460</td>\n",
       "      <td>0.002611</td>\n",
       "      <td>0.806420</td>\n",
       "      <td>0.768628</td>\n",
       "      <td>0.686272</td>\n",
       "    </tr>\n",
       "    <tr>\n",
       "      <th>Decision Tree</th>\n",
       "      <td>0.721229</td>\n",
       "      <td>0.007517</td>\n",
       "      <td>0.876275</td>\n",
       "      <td>0.002785</td>\n",
       "      <td>0.805083</td>\n",
       "      <td>0.764745</td>\n",
       "      <td>0.682815</td>\n",
       "    </tr>\n",
       "    <tr>\n",
       "      <th>XGBoost</th>\n",
       "      <td>0.720601</td>\n",
       "      <td>0.006255</td>\n",
       "      <td>0.891970</td>\n",
       "      <td>0.001857</td>\n",
       "      <td>0.810625</td>\n",
       "      <td>0.791635</td>\n",
       "      <td>0.661501</td>\n",
       "    </tr>\n",
       "    <tr>\n",
       "      <th>KNN</th>\n",
       "      <td>0.687596</td>\n",
       "      <td>0.003979</td>\n",
       "      <td>0.846490</td>\n",
       "      <td>0.003327</td>\n",
       "      <td>0.782658</td>\n",
       "      <td>0.733074</td>\n",
       "      <td>0.647875</td>\n",
       "    </tr>\n",
       "    <tr>\n",
       "      <th>Logistic Regression</th>\n",
       "      <td>0.649132</td>\n",
       "      <td>0.006773</td>\n",
       "      <td>0.850133</td>\n",
       "      <td>0.003028</td>\n",
       "      <td>0.778542</td>\n",
       "      <td>0.782142</td>\n",
       "      <td>0.554851</td>\n",
       "    </tr>\n",
       "    <tr>\n",
       "      <th>Naive Bayes</th>\n",
       "      <td>0.621622</td>\n",
       "      <td>0.010341</td>\n",
       "      <td>0.783653</td>\n",
       "      <td>0.003436</td>\n",
       "      <td>0.675580</td>\n",
       "      <td>0.555003</td>\n",
       "      <td>0.719138</td>\n",
       "    </tr>\n",
       "  </tbody>\n",
       "</table>\n",
       "</div>"
      ],
      "text/plain": [
       "                     f1-score    std_f1   roc_auc   roc_std  Accuracy  \\\n",
       "model                                                                   \n",
       "LightGBM             0.728556  0.005566  0.891795  0.002096  0.810340   \n",
       "Random Forest        0.722385  0.006613  0.886460  0.002611  0.806420   \n",
       "Decision Tree        0.721229  0.007517  0.876275  0.002785  0.805083   \n",
       "XGBoost              0.720601  0.006255  0.891970  0.001857  0.810625   \n",
       "KNN                  0.687596  0.003979  0.846490  0.003327  0.782658   \n",
       "Logistic Regression  0.649132  0.006773  0.850133  0.003028  0.778542   \n",
       "Naive Bayes          0.621622  0.010341  0.783653  0.003436  0.675580   \n",
       "\n",
       "                     Precision    Recall  \n",
       "model                                     \n",
       "LightGBM             0.772631   0.689323  \n",
       "Random Forest        0.768628   0.686272  \n",
       "Decision Tree        0.764745   0.682815  \n",
       "XGBoost              0.791635   0.661501  \n",
       "KNN                  0.733074   0.647875  \n",
       "Logistic Regression  0.782142   0.554851  \n",
       "Naive Bayes          0.555003   0.719138  "
      ]
     },
     "execution_count": 221,
     "metadata": {},
     "output_type": "execute_result"
    }
   ],
   "source": [
    "# buat list of models yang akan di iterasikan untuk menjalankan cross-val\n",
    "model = [logreg,dt,rf,nb,knn,xgb,lgbm]\n",
    "\n",
    "# buat list kosong untuk menampung hasil yang nanti akan di compile kedalam dataframe\n",
    "f1 = []\n",
    "f1_std = []\n",
    "roc_auc = []\n",
    "roc_std = []\n",
    "acc_scr = []\n",
    "pre = []\n",
    "rec = []\n",
    "\n",
    "# iterasi dari variable model \n",
    "for alg in model:\n",
    "    # SK-fold dengan 5 split\n",
    "    skfold = StratifiedKFold(n_splits=5)\n",
    "    # pipeline dengan transformer\n",
    "    estimator = Pipeline([\n",
    "    ('transformer',transformer),\n",
    "    ('model',alg)\n",
    "    ])\n",
    "    # membuatkan cross val pada masing2 metrics\n",
    "    model_f1 = cross_val_score(estimator, x_train,y_train,cv=skfold,scoring='f1')\n",
    "    model_roc_auc = cross_val_score(estimator, x_train,y_train,cv=skfold,scoring='roc_auc')\n",
    "    model_acc = cross_val_score(estimator, x_train,y_train,cv=skfold,scoring='accuracy')\n",
    "    model_pre = cross_val_score(estimator, x_train,y_train,cv=skfold,scoring='precision')\n",
    "    model_rec = cross_val_score(estimator, x_train,y_train,cv=skfold,scoring='recall')\n",
    "\n",
    "    # memasukkan kedalam list kosong\n",
    "    f1.append(model_f1.mean())\n",
    "    f1_std.append(model_f1.std())\n",
    "    roc_auc.append(model_roc_auc.mean())\n",
    "    roc_std.append(model_roc_auc.std())\n",
    "    acc_scr.append(model_acc.mean())\n",
    "    pre.append(model_pre.mean())\n",
    "    rec.append(model_rec.mean())\n",
    "\n",
    "# hasil akan di masukkan kedalam dataframe agar lebih jelas \n",
    "model_comparison = pd.DataFrame({'model':['Logistic Regression','Decision Tree','Random Forest','Naive Bayes','KNN','XGBoost','LightGBM'], \n",
    "                                'f1-score': f1,'std_f1': f1_std, 'roc_auc': roc_auc,'roc_std':roc_std,'Accuracy':acc_scr, 'Precision':pre, \n",
    "                                'Recall':rec})\n",
    "# tampilkan hasilnya\n",
    "model_comparison.set_index('model').sort_values(by='f1-score',ascending=False)"
   ]
  },
  {
   "attachments": {},
   "cell_type": "markdown",
   "metadata": {},
   "source": [
    "Berdasarkan hasil cross-validasi yang dilakukan pada data train yang memiliki duplicate, hasil menunjukkan bahwa model LightGBM merupakan model yang paling tinggi f1-scorenya sebagai metrics utama, dan dapat dilihat juga kestabilan modelnya dari std dari f1 yang cukup baik.\n",
    "\n",
    "terlihat juga bahwa roc_auc cukup tinggi dan juga akurasinya yang tinggi juga"
   ]
  },
  {
   "attachments": {},
   "cell_type": "markdown",
   "metadata": {},
   "source": [
    "Selanjutnya kita akan lihat untuk yang tanpa duplicate"
   ]
  },
  {
   "attachments": {},
   "cell_type": "markdown",
   "metadata": {},
   "source": [
    "### Without Duplicate"
   ]
  },
  {
   "cell_type": "code",
   "execution_count": 222,
   "metadata": {},
   "outputs": [
    {
     "data": {
      "text/html": [
       "<div>\n",
       "<style scoped>\n",
       "    .dataframe tbody tr th:only-of-type {\n",
       "        vertical-align: middle;\n",
       "    }\n",
       "\n",
       "    .dataframe tbody tr th {\n",
       "        vertical-align: top;\n",
       "    }\n",
       "\n",
       "    .dataframe thead th {\n",
       "        text-align: right;\n",
       "    }\n",
       "</style>\n",
       "<table border=\"1\" class=\"dataframe\">\n",
       "  <thead>\n",
       "    <tr style=\"text-align: right;\">\n",
       "      <th></th>\n",
       "      <th>f1-score</th>\n",
       "      <th>std_f1</th>\n",
       "      <th>roc_auc</th>\n",
       "      <th>roc_std</th>\n",
       "      <th>Accuracy</th>\n",
       "      <th>Precision</th>\n",
       "      <th>Recall</th>\n",
       "    </tr>\n",
       "    <tr>\n",
       "      <th>model</th>\n",
       "      <th></th>\n",
       "      <th></th>\n",
       "      <th></th>\n",
       "      <th></th>\n",
       "      <th></th>\n",
       "      <th></th>\n",
       "      <th></th>\n",
       "    </tr>\n",
       "  </thead>\n",
       "  <tbody>\n",
       "    <tr>\n",
       "      <th>Naive Bayes</th>\n",
       "      <td>0.517246</td>\n",
       "      <td>0.025980</td>\n",
       "      <td>0.772186</td>\n",
       "      <td>0.015287</td>\n",
       "      <td>0.697647</td>\n",
       "      <td>0.435398</td>\n",
       "      <td>0.671962</td>\n",
       "    </tr>\n",
       "    <tr>\n",
       "      <th>XGBoost</th>\n",
       "      <td>0.411632</td>\n",
       "      <td>0.016398</td>\n",
       "      <td>0.818971</td>\n",
       "      <td>0.009209</td>\n",
       "      <td>0.776374</td>\n",
       "      <td>0.549418</td>\n",
       "      <td>0.329165</td>\n",
       "    </tr>\n",
       "    <tr>\n",
       "      <th>LightGBM</th>\n",
       "      <td>0.409900</td>\n",
       "      <td>0.013288</td>\n",
       "      <td>0.817826</td>\n",
       "      <td>0.008199</td>\n",
       "      <td>0.781332</td>\n",
       "      <td>0.572552</td>\n",
       "      <td>0.319763</td>\n",
       "    </tr>\n",
       "    <tr>\n",
       "      <th>KNN</th>\n",
       "      <td>0.342294</td>\n",
       "      <td>0.031356</td>\n",
       "      <td>0.680157</td>\n",
       "      <td>0.014660</td>\n",
       "      <td>0.733607</td>\n",
       "      <td>0.414252</td>\n",
       "      <td>0.292125</td>\n",
       "    </tr>\n",
       "    <tr>\n",
       "      <th>Logistic Regression</th>\n",
       "      <td>0.341149</td>\n",
       "      <td>0.026297</td>\n",
       "      <td>0.798580</td>\n",
       "      <td>0.012515</td>\n",
       "      <td>0.780217</td>\n",
       "      <td>0.594850</td>\n",
       "      <td>0.239941</td>\n",
       "    </tr>\n",
       "    <tr>\n",
       "      <th>Random Forest</th>\n",
       "      <td>0.298983</td>\n",
       "      <td>0.016374</td>\n",
       "      <td>0.697106</td>\n",
       "      <td>0.006535</td>\n",
       "      <td>0.695673</td>\n",
       "      <td>0.334244</td>\n",
       "      <td>0.279080</td>\n",
       "    </tr>\n",
       "    <tr>\n",
       "      <th>Decision Tree</th>\n",
       "      <td>0.289536</td>\n",
       "      <td>0.022950</td>\n",
       "      <td>0.550405</td>\n",
       "      <td>0.017385</td>\n",
       "      <td>0.672740</td>\n",
       "      <td>0.298896</td>\n",
       "      <td>0.277510</td>\n",
       "    </tr>\n",
       "  </tbody>\n",
       "</table>\n",
       "</div>"
      ],
      "text/plain": [
       "                     f1-score    std_f1   roc_auc   roc_std  Accuracy  \\\n",
       "model                                                                   \n",
       "Naive Bayes          0.517246  0.025980  0.772186  0.015287  0.697647   \n",
       "XGBoost              0.411632  0.016398  0.818971  0.009209  0.776374   \n",
       "LightGBM             0.409900  0.013288  0.817826  0.008199  0.781332   \n",
       "KNN                  0.342294  0.031356  0.680157  0.014660  0.733607   \n",
       "Logistic Regression  0.341149  0.026297  0.798580  0.012515  0.780217   \n",
       "Random Forest        0.298983  0.016374  0.697106  0.006535  0.695673   \n",
       "Decision Tree        0.289536  0.022950  0.550405  0.017385  0.672740   \n",
       "\n",
       "                     Precision    Recall  \n",
       "model                                     \n",
       "Naive Bayes          0.435398   0.671962  \n",
       "XGBoost              0.549418   0.329165  \n",
       "LightGBM             0.572552   0.319763  \n",
       "KNN                  0.414252   0.292125  \n",
       "Logistic Regression  0.594850   0.239941  \n",
       "Random Forest        0.334244   0.279080  \n",
       "Decision Tree        0.298896   0.277510  "
      ]
     },
     "execution_count": 222,
     "metadata": {},
     "output_type": "execute_result"
    }
   ],
   "source": [
    "# buat list of models yang akan di iterasikan untuk menjalankan cross-val\n",
    "model = [logreg,dt,rf,nb,knn,xgb,lgbm]\n",
    "\n",
    "# buat list kosong untuk menampung hasil yang nanti akan di compile kedalam dataframe\n",
    "f1 = []\n",
    "f1_std = []\n",
    "roc_auc = []\n",
    "roc_std = []\n",
    "acc_scr = []\n",
    "pre = []\n",
    "rec = []\n",
    "\n",
    "# iterasi dari variable model \n",
    "for alg in model:\n",
    "    # SK-fold dengan 5 split\n",
    "    skfold = StratifiedKFold(n_splits=5)\n",
    "    # pipeline dengan transformer\n",
    "    estimator = Pipeline([\n",
    "    ('transformer',transformer),\n",
    "    ('model',alg)\n",
    "    ])\n",
    "    # membuatkan cross val pada masing2 metrics\n",
    "    model_f1 = cross_val_score(estimator, x_train_no_dup,y_train_no_dup,cv=skfold,scoring='f1')\n",
    "    model_roc_auc = cross_val_score(estimator, x_train_no_dup,y_train_no_dup,cv=skfold,scoring='roc_auc')\n",
    "    model_acc = cross_val_score(estimator, x_train_no_dup,y_train_no_dup,cv=skfold,scoring='accuracy')\n",
    "    model_pre = cross_val_score(estimator, x_train_no_dup,y_train_no_dup,cv=skfold,scoring='precision')\n",
    "    model_rec = cross_val_score(estimator, x_train_no_dup,y_train_no_dup,cv=skfold,scoring='recall')\n",
    "\n",
    "    # memasukkan kedalam list kosong\n",
    "    f1.append(model_f1.mean())\n",
    "    f1_std.append(model_f1.std())\n",
    "    roc_auc.append(model_roc_auc.mean())\n",
    "    roc_std.append(model_roc_auc.std())\n",
    "    acc_scr.append(model_acc.mean())\n",
    "    pre.append(model_pre.mean())\n",
    "    rec.append(model_rec.mean())\n",
    "    \n",
    "# hasil akan di masukkan kedalam dataframe agar lebih jelas \n",
    "model_comparison_no_dup = pd.DataFrame({'model':['Logistic Regression','Decision Tree','Random Forest','Naive Bayes','KNN','XGBoost','LightGBM'], \n",
    "                                'f1-score': f1,'std_f1': f1_std, 'roc_auc': roc_auc,'roc_std':roc_std,'Accuracy':acc_scr, 'Precision':pre, \n",
    "                                'Recall':rec})\n",
    "\n",
    "# tampilkan hasilnya\n",
    "model_comparison_no_dup.set_index('model').sort_values(by='f1-score',ascending=False)"
   ]
  },
  {
   "attachments": {},
   "cell_type": "markdown",
   "metadata": {},
   "source": [
    "Ternyata jika kita menghilangkan duplicate, model yang terbaik adalah menggunakan Naive Bayes, dimana model ini bisa dibilang cukup jauh dari scoring f1nya, dimana disini hanya mendapatkan sekitar 0.51, dimana kalau duplicate tetap digunakan, dia bisa mencapai 0.72, dan dapat dilihat juga secara keseluruhan bahwa score lainnya seperti roc_auc dan accuracy berkurang jauh di keseluruhan model. kalau dilihat dari kestabilannya juga menunjukkan bahwa hasil tanpa duplikat ini kurang stabil dibandingkan dengan yang ada duplikatnya"
   ]
  },
  {
   "attachments": {},
   "cell_type": "markdown",
   "metadata": {},
   "source": [
    "Setelah kita membandingkan model, hal yang bisa diambil adalah:\n",
    "\n",
    "1. dengan duplicate LGBM adalah model paling maximum performanya\n",
    "2. tanpa duplicate Naive Bayes merupakan model paling maximum performanya\n",
    "3. **dengan duplicate** secara keseluruhan semua model memiliki performa yang jauh lebih baik dibandingkan **tanpa duplicate**"
   ]
  },
  {
   "attachments": {},
   "cell_type": "markdown",
   "metadata": {},
   "source": [
    "Namun sebelum membuat konklusi, kita akan melakukan model benchmarking pada test set, dimana kalau sebelumnya kita hanya melakukan pada training dan validation saja. "
   ]
  },
  {
   "cell_type": "markdown",
   "metadata": {},
   "source": [
    "## Model Benchmarking : Test Set"
   ]
  },
  {
   "attachments": {},
   "cell_type": "markdown",
   "metadata": {},
   "source": [
    "Setelah melakukan cross-validasi kita akan melakukannya pada test set"
   ]
  },
  {
   "attachments": {},
   "cell_type": "markdown",
   "metadata": {},
   "source": [
    "### With duplicate"
   ]
  },
  {
   "cell_type": "code",
   "execution_count": 223,
   "metadata": {},
   "outputs": [
    {
     "data": {
      "text/html": [
       "<div>\n",
       "<style scoped>\n",
       "    .dataframe tbody tr th:only-of-type {\n",
       "        vertical-align: middle;\n",
       "    }\n",
       "\n",
       "    .dataframe tbody tr th {\n",
       "        vertical-align: top;\n",
       "    }\n",
       "\n",
       "    .dataframe thead th {\n",
       "        text-align: right;\n",
       "    }\n",
       "</style>\n",
       "<table border=\"1\" class=\"dataframe\">\n",
       "  <thead>\n",
       "    <tr style=\"text-align: right;\">\n",
       "      <th></th>\n",
       "      <th>model</th>\n",
       "      <th>Precision</th>\n",
       "      <th>Recall</th>\n",
       "      <th>f1-score</th>\n",
       "      <th>Accuracy</th>\n",
       "      <th>ROC_AUC</th>\n",
       "    </tr>\n",
       "  </thead>\n",
       "  <tbody>\n",
       "    <tr>\n",
       "      <th>6</th>\n",
       "      <td>LightGBM</td>\n",
       "      <td>0.777182</td>\n",
       "      <td>0.707012</td>\n",
       "      <td>0.740438</td>\n",
       "      <td>0.816942</td>\n",
       "      <td>0.794161</td>\n",
       "    </tr>\n",
       "    <tr>\n",
       "      <th>2</th>\n",
       "      <td>Random Forest</td>\n",
       "      <td>0.769502</td>\n",
       "      <td>0.709289</td>\n",
       "      <td>0.738170</td>\n",
       "      <td>0.814178</td>\n",
       "      <td>0.792442</td>\n",
       "    </tr>\n",
       "    <tr>\n",
       "      <th>5</th>\n",
       "      <td>XGBoost</td>\n",
       "      <td>0.798193</td>\n",
       "      <td>0.675614</td>\n",
       "      <td>0.731806</td>\n",
       "      <td>0.817122</td>\n",
       "      <td>0.787798</td>\n",
       "    </tr>\n",
       "    <tr>\n",
       "      <th>1</th>\n",
       "      <td>Decision Tree</td>\n",
       "      <td>0.777943</td>\n",
       "      <td>0.679356</td>\n",
       "      <td>0.725315</td>\n",
       "      <td>0.809973</td>\n",
       "      <td>0.782905</td>\n",
       "    </tr>\n",
       "    <tr>\n",
       "      <th>4</th>\n",
       "      <td>KNN</td>\n",
       "      <td>0.726111</td>\n",
       "      <td>0.656418</td>\n",
       "      <td>0.689508</td>\n",
       "      <td>0.781676</td>\n",
       "      <td>0.755719</td>\n",
       "    </tr>\n",
       "    <tr>\n",
       "      <th>0</th>\n",
       "      <td>Logistic Regression</td>\n",
       "      <td>0.780979</td>\n",
       "      <td>0.555718</td>\n",
       "      <td>0.649368</td>\n",
       "      <td>0.778372</td>\n",
       "      <td>0.732231</td>\n",
       "    </tr>\n",
       "    <tr>\n",
       "      <th>3</th>\n",
       "      <td>Naive Bayes</td>\n",
       "      <td>0.581471</td>\n",
       "      <td>0.702456</td>\n",
       "      <td>0.636263</td>\n",
       "      <td>0.703394</td>\n",
       "      <td>0.703200</td>\n",
       "    </tr>\n",
       "  </tbody>\n",
       "</table>\n",
       "</div>"
      ],
      "text/plain": [
       "                 model  Precision    Recall  f1-score  Accuracy   ROC_AUC\n",
       "6  LightGBM             0.777182   0.707012  0.740438  0.816942  0.794161\n",
       "2  Random Forest        0.769502   0.709289  0.738170  0.814178  0.792442\n",
       "5  XGBoost              0.798193   0.675614  0.731806  0.817122  0.787798\n",
       "1  Decision Tree        0.777943   0.679356  0.725315  0.809973  0.782905\n",
       "4  KNN                  0.726111   0.656418  0.689508  0.781676  0.755719\n",
       "0  Logistic Regression  0.780979   0.555718  0.649368  0.778372  0.732231\n",
       "3  Naive Bayes          0.581471   0.702456  0.636263  0.703394  0.703200"
      ]
     },
     "execution_count": 223,
     "metadata": {},
     "output_type": "execute_result"
    }
   ],
   "source": [
    "# Model \n",
    "model = [logreg,dt,rf,nb,knn,xgb,lgbm]\n",
    "# list kosong untuk menampung metrics\n",
    "pre = []\n",
    "rec = []\n",
    "f1S = []\n",
    "acc = []\n",
    "roc = []\n",
    "\n",
    "# for loop pada model\n",
    "for alg in model:\n",
    "    \n",
    "    # membuatkan pipeline\n",
    "    estimator = Pipeline([\n",
    "        ('transformer',transformer),\n",
    "        ('model',alg)\n",
    "    ])\n",
    "    \n",
    "    # fit data\n",
    "    estimator.fit(x_train,y_train)\n",
    "    \n",
    "    # eval metrics\n",
    "    y_pred = estimator.predict(x_test)\n",
    "    pre_score = precision_score(y_test,y_pred)\n",
    "    rec_score = recall_score(y_test,y_pred)\n",
    "    f1_sscore = f1_score(y_test,y_pred)\n",
    "    acc_score = accuracy_score(y_test,y_pred)\n",
    "    roc_score = roc_auc_score(y_test,y_pred)\n",
    "    \n",
    "    # masukkan kedalam list kosong\n",
    "    pre.append(pre_score)\n",
    "    rec.append(rec_score)\n",
    "    f1S.append(f1_sscore)\n",
    "    acc.append(acc_score)\n",
    "    roc.append(roc_score)\n",
    "\n",
    "# buatkan dataframenya\n",
    "model_test_comparison = pd.DataFrame({'model':['Logistic Regression','Decision Tree','Random Forest','Naive Bayes','KNN','XGBoost','LightGBM'], \n",
    "                                'Precision': pre,'Recall': rec, 'f1-score': f1S,'Accuracy':acc,'ROC_AUC':roc})   \n",
    "\n",
    "# tampilkan hasilnya\n",
    "model_test_comparison.sort_values(by='f1-score',ascending=False) "
   ]
  },
  {
   "attachments": {},
   "cell_type": "markdown",
   "metadata": {},
   "source": [
    "Pada test set menunjukkan bahwa LightGBM merupakan model terbaiknya juga"
   ]
  },
  {
   "attachments": {},
   "cell_type": "markdown",
   "metadata": {},
   "source": [
    "### Without duplicate"
   ]
  },
  {
   "cell_type": "code",
   "execution_count": 224,
   "metadata": {},
   "outputs": [
    {
     "data": {
      "text/html": [
       "<div>\n",
       "<style scoped>\n",
       "    .dataframe tbody tr th:only-of-type {\n",
       "        vertical-align: middle;\n",
       "    }\n",
       "\n",
       "    .dataframe tbody tr th {\n",
       "        vertical-align: top;\n",
       "    }\n",
       "\n",
       "    .dataframe thead th {\n",
       "        text-align: right;\n",
       "    }\n",
       "</style>\n",
       "<table border=\"1\" class=\"dataframe\">\n",
       "  <thead>\n",
       "    <tr style=\"text-align: right;\">\n",
       "      <th></th>\n",
       "      <th>model</th>\n",
       "      <th>Precision</th>\n",
       "      <th>Recall</th>\n",
       "      <th>f1-score</th>\n",
       "      <th>Accuracy</th>\n",
       "      <th>ROC_AUC</th>\n",
       "    </tr>\n",
       "  </thead>\n",
       "  <tbody>\n",
       "    <tr>\n",
       "      <th>3</th>\n",
       "      <td>Naive Bayes</td>\n",
       "      <td>0.461538</td>\n",
       "      <td>0.601253</td>\n",
       "      <td>0.522212</td>\n",
       "      <td>0.738721</td>\n",
       "      <td>0.691394</td>\n",
       "    </tr>\n",
       "    <tr>\n",
       "      <th>5</th>\n",
       "      <td>XGBoost</td>\n",
       "      <td>0.588462</td>\n",
       "      <td>0.319415</td>\n",
       "      <td>0.414073</td>\n",
       "      <td>0.785325</td>\n",
       "      <td>0.624922</td>\n",
       "    </tr>\n",
       "    <tr>\n",
       "      <th>6</th>\n",
       "      <td>LightGBM</td>\n",
       "      <td>0.618644</td>\n",
       "      <td>0.304802</td>\n",
       "      <td>0.408392</td>\n",
       "      <td>0.790283</td>\n",
       "      <td>0.623142</td>\n",
       "    </tr>\n",
       "    <tr>\n",
       "      <th>4</th>\n",
       "      <td>KNN</td>\n",
       "      <td>0.420420</td>\n",
       "      <td>0.292276</td>\n",
       "      <td>0.344828</td>\n",
       "      <td>0.736242</td>\n",
       "      <td>0.583394</td>\n",
       "    </tr>\n",
       "    <tr>\n",
       "      <th>0</th>\n",
       "      <td>Logistic Regression</td>\n",
       "      <td>0.586207</td>\n",
       "      <td>0.212944</td>\n",
       "      <td>0.312404</td>\n",
       "      <td>0.777392</td>\n",
       "      <td>0.583065</td>\n",
       "    </tr>\n",
       "    <tr>\n",
       "      <th>2</th>\n",
       "      <td>Random Forest</td>\n",
       "      <td>0.347709</td>\n",
       "      <td>0.269311</td>\n",
       "      <td>0.303529</td>\n",
       "      <td>0.706495</td>\n",
       "      <td>0.555982</td>\n",
       "    </tr>\n",
       "    <tr>\n",
       "      <th>1</th>\n",
       "      <td>Decision Tree</td>\n",
       "      <td>0.302730</td>\n",
       "      <td>0.254697</td>\n",
       "      <td>0.276644</td>\n",
       "      <td>0.683689</td>\n",
       "      <td>0.535996</td>\n",
       "    </tr>\n",
       "  </tbody>\n",
       "</table>\n",
       "</div>"
      ],
      "text/plain": [
       "                 model  Precision    Recall  f1-score  Accuracy   ROC_AUC\n",
       "3  Naive Bayes          0.461538   0.601253  0.522212  0.738721  0.691394\n",
       "5  XGBoost              0.588462   0.319415  0.414073  0.785325  0.624922\n",
       "6  LightGBM             0.618644   0.304802  0.408392  0.790283  0.623142\n",
       "4  KNN                  0.420420   0.292276  0.344828  0.736242  0.583394\n",
       "0  Logistic Regression  0.586207   0.212944  0.312404  0.777392  0.583065\n",
       "2  Random Forest        0.347709   0.269311  0.303529  0.706495  0.555982\n",
       "1  Decision Tree        0.302730   0.254697  0.276644  0.683689  0.535996"
      ]
     },
     "execution_count": 224,
     "metadata": {},
     "output_type": "execute_result"
    }
   ],
   "source": [
    "# Model \n",
    "model = [logreg,dt,rf,nb,knn,xgb,lgbm]\n",
    "# list kosong untuk menampung metrics\n",
    "pre = []\n",
    "rec = []\n",
    "f1S = []\n",
    "acc = []\n",
    "roc = []\n",
    "\n",
    "# for loop pada model\n",
    "for alg in model:\n",
    "    # membuatkan pipeline\n",
    "    estimator = Pipeline([\n",
    "        ('transformer',transformer),\n",
    "        ('model',alg)\n",
    "    ])\n",
    "    # fit data\n",
    "    estimator.fit(x_train_no_dup,y_train_no_dup)\n",
    "\n",
    "    # eval metrics\n",
    "    y_pred_no_dup = estimator.predict(x_test_no_dup)\n",
    "    pre_score = precision_score(y_test_no_dup,y_pred_no_dup)\n",
    "    rec_score = recall_score(y_test_no_dup,y_pred_no_dup)\n",
    "    f1_sscore = f1_score(y_test_no_dup,y_pred_no_dup)\n",
    "    acc_score = accuracy_score(y_test_no_dup,y_pred_no_dup)\n",
    "    roc_score = roc_auc_score(y_test_no_dup,y_pred_no_dup)\n",
    "    # masukkan kedalam list kosong\n",
    "    pre.append(pre_score)\n",
    "    rec.append(rec_score)\n",
    "    f1S.append(f1_sscore)\n",
    "    acc.append(acc_score)\n",
    "    roc.append(roc_score)\n",
    "# buatkan dataframenya\n",
    "model_test_comparison_no_dup = pd.DataFrame({'model':['Logistic Regression','Decision Tree','Random Forest','Naive Bayes','KNN','XGBoost','LightGBM'], \n",
    "                                'Precision': pre,'Recall': rec, 'f1-score': f1S,'Accuracy':acc,'ROC_AUC':roc})    \n",
    "\n",
    "# tampilkan hasilnya\n",
    "model_test_comparison_no_dup.sort_values(by='f1-score',ascending=False)"
   ]
  },
  {
   "attachments": {},
   "cell_type": "markdown",
   "metadata": {},
   "source": [
    "Tanpa duplikat, menunjukkan bahwa model yang terbaik pada test set adalah LightGBM, hal ini menunjukkan bahwa adanya indikasi underfit pada proses cross validasi, selain itu, ini adalah dampak dari hilangnnya banyak data yang mengandung banyak informasi, oleh karena itu dapat dikonklusikan bahwa **menyertakan duplikat pada data** merupakan langkah yang terbaik."
   ]
  },
  {
   "attachments": {},
   "cell_type": "markdown",
   "metadata": {},
   "source": [
    "## Cross Test "
   ]
  },
  {
   "attachments": {},
   "cell_type": "markdown",
   "metadata": {},
   "source": [
    "### **Duplicate Train on No-Duplicate Test**"
   ]
  },
  {
   "attachments": {},
   "cell_type": "markdown",
   "metadata": {},
   "source": [
    "Karena cross-validasi pada duplikat memenangkan LGBM maka train duplikat akan menggunakan LGBM"
   ]
  },
  {
   "cell_type": "code",
   "execution_count": 225,
   "metadata": {},
   "outputs": [
    {
     "data": {
      "text/html": [
       "<div>\n",
       "<style scoped>\n",
       "    .dataframe tbody tr th:only-of-type {\n",
       "        vertical-align: middle;\n",
       "    }\n",
       "\n",
       "    .dataframe tbody tr th {\n",
       "        vertical-align: top;\n",
       "    }\n",
       "\n",
       "    .dataframe thead th {\n",
       "        text-align: right;\n",
       "    }\n",
       "</style>\n",
       "<table border=\"1\" class=\"dataframe\">\n",
       "  <thead>\n",
       "    <tr style=\"text-align: right;\">\n",
       "      <th></th>\n",
       "      <th>model</th>\n",
       "      <th>Precision</th>\n",
       "      <th>Recall</th>\n",
       "      <th>f1-score</th>\n",
       "      <th>Accuracy</th>\n",
       "      <th>ROC_AUC</th>\n",
       "    </tr>\n",
       "  </thead>\n",
       "  <tbody>\n",
       "    <tr>\n",
       "      <th>0</th>\n",
       "      <td>LightGBM</td>\n",
       "      <td>0.70082</td>\n",
       "      <td>0.356994</td>\n",
       "      <td>0.473029</td>\n",
       "      <td>0.811106</td>\n",
       "      <td>0.654765</td>\n",
       "    </tr>\n",
       "  </tbody>\n",
       "</table>\n",
       "</div>"
      ],
      "text/plain": [
       "      model  Precision    Recall  f1-score  Accuracy   ROC_AUC\n",
       "0  LightGBM  0.70082    0.356994  0.473029  0.811106  0.654765"
      ]
     },
     "execution_count": 225,
     "metadata": {},
     "output_type": "execute_result"
    }
   ],
   "source": [
    "# Model \n",
    "model = [lgbm]\n",
    "# list kosong untuk menampung metrics\n",
    "pre = []\n",
    "rec = []\n",
    "f1S = []\n",
    "acc = []\n",
    "roc = []\n",
    "\n",
    "# for loop pada model\n",
    "for alg in model:\n",
    "    \n",
    "    # membuatkan pipeline\n",
    "    estimator = Pipeline([\n",
    "        ('transformer',transformer),\n",
    "        ('model',alg)\n",
    "    ])\n",
    "    \n",
    "    # fit data\n",
    "    estimator.fit(x_train,y_train)\n",
    "    \n",
    "    # eval metrics\n",
    "    y_pred_no_dup = estimator.predict(x_test_no_dup)\n",
    "    pre_score = precision_score(y_test_no_dup,y_pred_no_dup)\n",
    "    rec_score = recall_score(y_test_no_dup,y_pred_no_dup)\n",
    "    f1_sscore = f1_score(y_test_no_dup,y_pred_no_dup)\n",
    "    acc_score = accuracy_score(y_test_no_dup,y_pred_no_dup)\n",
    "    roc_score = roc_auc_score(y_test_no_dup,y_pred_no_dup)\n",
    "    \n",
    "    # masukkan kedalam list kosong\n",
    "    pre.append(pre_score)\n",
    "    rec.append(rec_score)\n",
    "    f1S.append(f1_sscore)\n",
    "    acc.append(acc_score)\n",
    "    roc.append(roc_score)\n",
    "\n",
    "# buatkan dataframenya\n",
    "model_test_comparison_cross = pd.DataFrame({'model':['LightGBM'], \n",
    "                                'Precision': pre,'Recall': rec, 'f1-score': f1S,'Accuracy':acc,'ROC_AUC':roc})  \n",
    "# tampilkan hasilnya\n",
    "model_test_comparison_cross.sort_values(by='f1-score',ascending=False)"
   ]
  },
  {
   "attachments": {},
   "cell_type": "markdown",
   "metadata": {},
   "source": [
    "### **No-Duplicate Train on Duplicate Test**"
   ]
  },
  {
   "attachments": {},
   "cell_type": "markdown",
   "metadata": {},
   "source": [
    "Karena cross-validasi pada no-duplikat memenangkan Naive Bayes maka train no-duplikat akan menggunakan Naive Bayes"
   ]
  },
  {
   "cell_type": "code",
   "execution_count": 226,
   "metadata": {},
   "outputs": [
    {
     "data": {
      "text/html": [
       "<div>\n",
       "<style scoped>\n",
       "    .dataframe tbody tr th:only-of-type {\n",
       "        vertical-align: middle;\n",
       "    }\n",
       "\n",
       "    .dataframe tbody tr th {\n",
       "        vertical-align: top;\n",
       "    }\n",
       "\n",
       "    .dataframe thead th {\n",
       "        text-align: right;\n",
       "    }\n",
       "</style>\n",
       "<table border=\"1\" class=\"dataframe\">\n",
       "  <thead>\n",
       "    <tr style=\"text-align: right;\">\n",
       "      <th></th>\n",
       "      <th>model</th>\n",
       "      <th>Precision</th>\n",
       "      <th>Recall</th>\n",
       "      <th>f1-score</th>\n",
       "      <th>Accuracy</th>\n",
       "      <th>ROC_AUC</th>\n",
       "    </tr>\n",
       "  </thead>\n",
       "  <tbody>\n",
       "    <tr>\n",
       "      <th>0</th>\n",
       "      <td>Naive Bayes</td>\n",
       "      <td>0.540746</td>\n",
       "      <td>0.799902</td>\n",
       "      <td>0.645276</td>\n",
       "      <td>0.675218</td>\n",
       "      <td>0.701056</td>\n",
       "    </tr>\n",
       "  </tbody>\n",
       "</table>\n",
       "</div>"
      ],
      "text/plain": [
       "         model  Precision    Recall  f1-score  Accuracy   ROC_AUC\n",
       "0  Naive Bayes  0.540746   0.799902  0.645276  0.675218  0.701056"
      ]
     },
     "execution_count": 226,
     "metadata": {},
     "output_type": "execute_result"
    }
   ],
   "source": [
    "# Model terpilih\n",
    "model = [nb]\n",
    "# list kosong untuk menampung metrics\n",
    "pre = []\n",
    "rec = []\n",
    "f1S = []\n",
    "acc = []\n",
    "roc = []\n",
    "\n",
    "# for loop pada model\n",
    "for alg in model:\n",
    "    \n",
    "    # membuatkan pipeline\n",
    "    estimator = Pipeline([\n",
    "        ('transformer',transformer),\n",
    "        ('model',alg)\n",
    "    ])\n",
    "    \n",
    "    # fit data\n",
    "    estimator.fit(x_train_no_dup,y_train_no_dup)\n",
    "    \n",
    "    # eval metrics\n",
    "    y_pred = estimator.predict(x_test)\n",
    "    pre_score = precision_score(y_test,y_pred)\n",
    "    rec_score = recall_score(y_test,y_pred)\n",
    "    f1_sscore = f1_score(y_test,y_pred)\n",
    "    acc_score = accuracy_score(y_test,y_pred)\n",
    "    roc_score = roc_auc_score(y_test,y_pred)\n",
    "    \n",
    "    # masukkan kedalam list kosong\n",
    "    pre.append(pre_score)\n",
    "    rec.append(rec_score)\n",
    "    f1S.append(f1_sscore)\n",
    "    acc.append(acc_score)\n",
    "    roc.append(roc_score)\n",
    "\n",
    "# buatkan dataframenya\n",
    "model_test_comparison_cross_no_dup = pd.DataFrame({'model':['Naive Bayes'], \n",
    "                                'Precision': pre,'Recall': rec, 'f1-score': f1S,'Accuracy':acc,'ROC_AUC':roc})  \n",
    "# tampilkan hasilnya\n",
    "model_test_comparison_cross_no_dup.sort_values(by='f1-score',ascending=False)"
   ]
  },
  {
   "attachments": {},
   "cell_type": "markdown",
   "metadata": {},
   "source": [
    "Overall Test Performance:"
   ]
  },
  {
   "attachments": {},
   "cell_type": "markdown",
   "metadata": {},
   "source": [
    "Test-On | Model\t|Precision\t|Recall\t|F1-Score\t|Accuracy\t|ROC_AUC\n",
    "-----|----------|-----------|-------|-----------|-----------|--------\n",
    "Duplicates |LightGBM\t|0.777182\t|0.707012\t|0.740438\t|0.816942\t|0.794161\n",
    "Duplicates|Naive Bayes\t|0.540746\t|0.799902\t|0.645276\t|0.675218\t|0.701056\n",
    "No-Duplicates |LightGBM\t|0.70082\t|0.356994\t|0.473029\t|0.811106\t|0.654765\n",
    "No-Duplicates |Naive Bayes\t|0.461538\t|0.601253\t|0.522212\t|0.738721\t|0.691394\n",
    "\n"
   ]
  },
  {
   "attachments": {},
   "cell_type": "markdown",
   "metadata": {},
   "source": [
    "Jadi berdasarkan table diatas ini, dimana dilakukan cross test dari model yang terpilih yaitu LightGBM dan Gaussian Naive Bayes, diketahui bahwa:\n",
    "\n",
    "1. Dengan melakukan modelling pada test set duplikat, terlihat bahwa sudah sangat jelas LightGBM memiliki score yang jauh lebih baik dibandingkan Naive Bayes, dimana pastinya karena naive bayes menggunakan training data yang lebih sedikit, maka model kurang mempelajari pattern-pattern yang kompleks, dimana kalau LightGBM mentrainingkan keseluruhan (termasuk duplikat), dan berhasil menghasilkan score yang jauh lebih baik dari Naive Bayes \n",
    "\n",
    "2. Pada test selanjutnya adalah dengan melakukan modelling pada test set tanpa duplikat, disini terlihat bahwa Naive Bayes terlihat lebih unggul pada F1-Scorenya, namun secara overall, LightGBM tidak begitu buruk, walaupun F1-Scorenya cukup rendah (Tentu disebabkan oleh test set yang cukup kecil), Precisionnya bisa memiliki nilai yang tinggi, bahkan lebih tinggi dari naive bayes, dan juga Accuracy yang tinggi. Untuk ROC AUCnya tidak terlalu berbeda dengan Naive Bayes "
   ]
  },
  {
   "attachments": {},
   "cell_type": "markdown",
   "metadata": {},
   "source": [
    "Dari Table diatas, bisa dibilang bahwa LightGBM adalah model yang lebih aman dan lebih stabil. Kita juga harus memperhatikan lagi permasalahan kita, Tentu saja real-live data bisa saja memproduksi duplikasi data, oleh karena itu pilihan yang lebih baik adalah tetap menggunakan Duplikat pada data train dan test, dan juga model yang digunakan adalah LightGBM "
   ]
  },
  {
   "attachments": {},
   "cell_type": "markdown",
   "metadata": {},
   "source": [
    "Konklusi dari model benchmarking :\n",
    "1. Duplikat dari data tetap digunakan karena merupakan informasi yang penting, dimana hal yang sama terjadi juga bisa terjadi di dunia nyata, dan juga dengan menghilangkan duplikat terlihat akan memberikan hasil yang jauh lebih buruk, dimana tidak ada cara lain selain menghapusnya, maka itu menciptakan *uncertainty*, **dimana merupakan salah satu alasan mengapa duplicates tetap digunakan.** (dikutip dari [sini](https://link.springer.com/article/10.1007/s00778-009-0161-2))\n",
    "\n",
    "2. LightGBM merupakan algoritma yang terpilih pada saat model benchmarking diatas ini, dimana:\n",
    "- LightGBM merupakan algoritma yang didasarkan dari tree-based model, dimana merupakan model non-parametric. ([kutipan](https://pro.arcgis.com/en/pro-app/latest/tool-reference/geoai/how-lightgbm-works.htm#:~:text=LightGBM%20is%20a%20gradient%20boosting,high%20performance%20with%20distributed%20systems.))\n",
    "- LightGBM merupakan model yang dibilang lebih ringan dan lebih efektif dibandingkan dengan XGboost (Extreme Gradient Boosting)\n",
    "- Salah satu feature terbaik dari LightGBM adalah EFB (Exclusive Feature Bundling, Lebih detail [disini](https://www.geeksforgeeks.org/lightgbm-light-gradient-boosting-machine/)), dimana LightGBM akan melakukan bundling pada feature yang sudah di encoding dengan mengurangi dimensinya, hal ini tentu akan membantu dalam mempercepat training"
   ]
  },
  {
   "cell_type": "markdown",
   "metadata": {},
   "source": [
    "## Resampling vs Without Resampling"
   ]
  },
  {
   "attachments": {},
   "cell_type": "markdown",
   "metadata": {},
   "source": [
    "Selanjutnya kita akan melakukan resampling pada dataset kita, dimana sudah tertera pada tahapand EDA, dimana dataset ini termasuk dataset yang **imbalance**, oleh karena itu per dilakukan penanganan pada data imbalance yaitu dengan resampling"
   ]
  },
  {
   "attachments": {},
   "cell_type": "markdown",
   "metadata": {},
   "source": [
    "Pada tahap ini dilakukan perbandingan untuk mendapatkan hasil yang paling optimal, antara 2 undersampling, 2 oversampling dan 1 combination"
   ]
  },
  {
   "attachments": {},
   "cell_type": "markdown",
   "metadata": {},
   "source": [
    "Berikut untuk mendefinisikannya:"
   ]
  },
  {
   "cell_type": "code",
   "execution_count": 253,
   "metadata": {},
   "outputs": [],
   "source": [
    "# Undersampling strategy RandomUnderSampler & NearMiss\n",
    "rus = RandomUnderSampler(sampling_strategy='not minority',random_state=100)\n",
    "nm = NearMiss(sampling_strategy='not minority')\n",
    "# Oversampling strategy RandomOverSampling & SMOTE\n",
    "ros = RandomOverSampler(sampling_strategy='not majority',random_state=100)\n",
    "smt = SMOTE(sampling_strategy='not majority',random_state=100)\n",
    "# Combination SMOTEENN\n",
    "smtnn = SMOTEENN(sampling_strategy='auto',random_state=100)\n",
    "# Model & Skfold\n",
    "model = lgb.LGBMClassifier()\n",
    "skfold = StratifiedKFold(n_splits=5)"
   ]
  },
  {
   "cell_type": "markdown",
   "metadata": {},
   "source": [
    "### Under Sampling"
   ]
  },
  {
   "attachments": {},
   "cell_type": "markdown",
   "metadata": {},
   "source": [
    "Pada tahapan ini, hanya untuk memperlihatkan perubahan dari undersampling yang dilakukan"
   ]
  },
  {
   "cell_type": "markdown",
   "metadata": {},
   "source": [
    "#### RandomUnderSampling"
   ]
  },
  {
   "cell_type": "code",
   "execution_count": 227,
   "metadata": {},
   "outputs": [],
   "source": [
    "# Melakukan fitting kepada \n",
    "x_train_rus, y_train_rus = rus.fit_resample(x_train_prep, y_train) # menggunakan prep karena sudah diubah oleh dengan encoding"
   ]
  },
  {
   "cell_type": "code",
   "execution_count": 228,
   "metadata": {},
   "outputs": [
    {
     "data": {
      "text/plain": [
       "0    41992\n",
       "1    24585\n",
       "Name: is_canceled, dtype: int64"
      ]
     },
     "execution_count": 228,
     "metadata": {},
     "output_type": "execute_result"
    }
   ],
   "source": [
    "# Awalnya\n",
    "y_train.value_counts()"
   ]
  },
  {
   "cell_type": "code",
   "execution_count": 229,
   "metadata": {},
   "outputs": [
    {
     "data": {
      "text/plain": [
       "0    24585\n",
       "1    24585\n",
       "Name: is_canceled, dtype: int64"
      ]
     },
     "execution_count": 229,
     "metadata": {},
     "output_type": "execute_result"
    }
   ],
   "source": [
    "# setelah undersampling\n",
    "y_train_rus.value_counts()"
   ]
  },
  {
   "cell_type": "code",
   "execution_count": 230,
   "metadata": {},
   "outputs": [
    {
     "data": {
      "image/png": "[encoded data removed]",
      "text/plain": [
       "<Figure size 640x480 with 1 Axes>"
      ]
     },
     "metadata": {},
     "output_type": "display_data"
    }
   ],
   "source": [
    "# piechart sebelum undersampling\n",
    "y_train.value_counts().plot.pie(autopct = '%.2f')\n",
    "plt.title('Before Undersampling')\n",
    "plt.show()"
   ]
  },
  {
   "cell_type": "code",
   "execution_count": 231,
   "metadata": {},
   "outputs": [
    {
     "data": {
      "image/png": "[encoded data removed]",
      "text/plain": [
       "<Figure size 640x480 with 1 Axes>"
      ]
     },
     "metadata": {},
     "output_type": "display_data"
    }
   ],
   "source": [
    "# piechart setelah undersampling\n",
    "y_train_rus.value_counts().plot.pie(autopct = '%.2f')\n",
    "plt.title('After Undersampling')\n",
    "plt.show()"
   ]
  },
  {
   "attachments": {},
   "cell_type": "markdown",
   "metadata": {},
   "source": [
    "Terlihat bahwa setelah dilakukan RandomUnderSampling, maka kelas mayoritas akan mengikuti kelas minoritas"
   ]
  },
  {
   "cell_type": "markdown",
   "metadata": {},
   "source": [
    "#### NearMiss"
   ]
  },
  {
   "attachments": {},
   "cell_type": "markdown",
   "metadata": {},
   "source": [
    "Selanjutnya masih undersampling, namun kali ini menggunakan NearMiss, hal ini juga dilakukan untuk menunjukkan bagaimana perubahannya"
   ]
  },
  {
   "cell_type": "code",
   "execution_count": 232,
   "metadata": {},
   "outputs": [],
   "source": [
    "# Fit nearmiss \n",
    "x_train_nm, y_train_nm = nm.fit_resample(x_train_prep, y_train)"
   ]
  },
  {
   "cell_type": "code",
   "execution_count": 233,
   "metadata": {},
   "outputs": [
    {
     "data": {
      "text/plain": [
       "0    41992\n",
       "1    24585\n",
       "Name: is_canceled, dtype: int64"
      ]
     },
     "execution_count": 233,
     "metadata": {},
     "output_type": "execute_result"
    }
   ],
   "source": [
    "# awal data\n",
    "y_train.value_counts()"
   ]
  },
  {
   "cell_type": "code",
   "execution_count": 234,
   "metadata": {},
   "outputs": [
    {
     "data": {
      "text/plain": [
       "0    24585\n",
       "1    24585\n",
       "Name: is_canceled, dtype: int64"
      ]
     },
     "execution_count": 234,
     "metadata": {},
     "output_type": "execute_result"
    }
   ],
   "source": [
    "# setelah undersampling dengan nearmiss\n",
    "y_train_nm.value_counts()"
   ]
  },
  {
   "cell_type": "code",
   "execution_count": 235,
   "metadata": {},
   "outputs": [
    {
     "data": {
      "image/png": "[encoded data removed]",
      "text/plain": [
       "<Figure size 640x480 with 1 Axes>"
      ]
     },
     "metadata": {},
     "output_type": "display_data"
    }
   ],
   "source": [
    "# Piechart sebelum\n",
    "y_train.value_counts().plot.pie(autopct = '%.2f')\n",
    "plt.title('Before NearMiss')\n",
    "plt.show()"
   ]
  },
  {
   "cell_type": "code",
   "execution_count": 236,
   "metadata": {},
   "outputs": [
    {
     "data": {
      "image/png": "[encoded data removed]",
      "text/plain": [
       "<Figure size 640x480 with 1 Axes>"
      ]
     },
     "metadata": {},
     "output_type": "display_data"
    }
   ],
   "source": [
    "# piechart sesudah undersampling dengan nearmiss\n",
    "y_train_nm.value_counts().plot.pie(autopct = '%.2f')\n",
    "plt.title('After NearMiss')\n",
    "plt.show()"
   ]
  },
  {
   "attachments": {},
   "cell_type": "markdown",
   "metadata": {},
   "source": [
    "Terlihat bahwa RUS dan NearMiss sama-sama memangkas majority class, namun yang membedakan adalah pilihannya dalam memangkas majority class tersebut"
   ]
  },
  {
   "cell_type": "markdown",
   "metadata": {},
   "source": [
    "### Over Sampling"
   ]
  },
  {
   "attachments": {},
   "cell_type": "markdown",
   "metadata": {},
   "source": [
    "Selanjutnya adalah oversampling, disini juga sama hanya untuk menunjukkan bagaimana perubahannya"
   ]
  },
  {
   "cell_type": "markdown",
   "metadata": {},
   "source": [
    "#### RandomOverSampling"
   ]
  },
  {
   "cell_type": "code",
   "execution_count": 237,
   "metadata": {},
   "outputs": [],
   "source": [
    "# Fit ROS \n",
    "x_train_ros, y_train_ros = ros.fit_resample(x_train_prep, y_train)"
   ]
  },
  {
   "cell_type": "code",
   "execution_count": 238,
   "metadata": {},
   "outputs": [
    {
     "data": {
      "text/plain": [
       "0    41992\n",
       "1    24585\n",
       "Name: is_canceled, dtype: int64"
      ]
     },
     "execution_count": 238,
     "metadata": {},
     "output_type": "execute_result"
    }
   ],
   "source": [
    "# Awalan data\n",
    "y_train.value_counts()"
   ]
  },
  {
   "cell_type": "code",
   "execution_count": 239,
   "metadata": {},
   "outputs": [
    {
     "data": {
      "text/plain": [
       "0    41992\n",
       "1    41992\n",
       "Name: is_canceled, dtype: int64"
      ]
     },
     "execution_count": 239,
     "metadata": {},
     "output_type": "execute_result"
    }
   ],
   "source": [
    "# Setelah resampling dengan ROS\n",
    "y_train_ros.value_counts()"
   ]
  },
  {
   "cell_type": "code",
   "execution_count": 240,
   "metadata": {},
   "outputs": [
    {
     "data": {
      "image/png": "[encoded data removed]",
      "text/plain": [
       "<Figure size 640x480 with 1 Axes>"
      ]
     },
     "metadata": {},
     "output_type": "display_data"
    }
   ],
   "source": [
    "# Piechart sebelum \n",
    "y_train.value_counts().plot.pie(autopct = '%.2f')\n",
    "plt.title('Before oversampling')\n",
    "plt.show()"
   ]
  },
  {
   "cell_type": "code",
   "execution_count": 241,
   "metadata": {},
   "outputs": [
    {
     "data": {
      "image/png": "[encoded data removed]",
      "text/plain": [
       "<Figure size 640x480 with 1 Axes>"
      ]
     },
     "metadata": {},
     "output_type": "display_data"
    }
   ],
   "source": [
    "# piechart sesudah ROS \n",
    "y_train_ros.value_counts().plot.pie(autopct = '%.2f')\n",
    "plt.title('After Oversampling')\n",
    "plt.show()"
   ]
  },
  {
   "attachments": {},
   "cell_type": "markdown",
   "metadata": {},
   "source": [
    "Berbeda dengan undersampling, dimana oversampling dengan ROS menambahkan minority class, sehingga memiliki nilai yang sama dengan majority class"
   ]
  },
  {
   "cell_type": "markdown",
   "metadata": {},
   "source": [
    "#### SMOTE"
   ]
  },
  {
   "attachments": {},
   "cell_type": "markdown",
   "metadata": {},
   "source": [
    "Hal ini juga sama untuk SMOTE, dimana merupakan metode oversampling"
   ]
  },
  {
   "cell_type": "code",
   "execution_count": 242,
   "metadata": {},
   "outputs": [],
   "source": [
    "# fit SMOTE\n",
    "x_train_smt, y_train_smt = smt.fit_resample(x_train_prep, y_train)"
   ]
  },
  {
   "cell_type": "code",
   "execution_count": 243,
   "metadata": {},
   "outputs": [
    {
     "data": {
      "text/plain": [
       "0    41992\n",
       "1    24585\n",
       "Name: is_canceled, dtype: int64"
      ]
     },
     "execution_count": 243,
     "metadata": {},
     "output_type": "execute_result"
    }
   ],
   "source": [
    "# Awal data\n",
    "y_train.value_counts()"
   ]
  },
  {
   "cell_type": "code",
   "execution_count": 244,
   "metadata": {},
   "outputs": [
    {
     "data": {
      "text/plain": [
       "0    41992\n",
       "1    41992\n",
       "Name: is_canceled, dtype: int64"
      ]
     },
     "execution_count": 244,
     "metadata": {},
     "output_type": "execute_result"
    }
   ],
   "source": [
    "# Setelah oversampling dengan SMOTE\n",
    "y_train_smt.value_counts()"
   ]
  },
  {
   "cell_type": "code",
   "execution_count": 245,
   "metadata": {},
   "outputs": [
    {
     "data": {
      "image/png": "[encoded data removed]",
      "text/plain": [
       "<Figure size 640x480 with 1 Axes>"
      ]
     },
     "metadata": {},
     "output_type": "display_data"
    }
   ],
   "source": [
    "# Piechart sebelum\n",
    "y_train.value_counts().plot.pie(autopct = '%.2f')\n",
    "plt.title('Before SMOTE')\n",
    "plt.show()"
   ]
  },
  {
   "cell_type": "code",
   "execution_count": 246,
   "metadata": {},
   "outputs": [
    {
     "data": {
      "image/png": "[encoded data removed]",
      "text/plain": [
       "<Figure size 640x480 with 1 Axes>"
      ]
     },
     "metadata": {},
     "output_type": "display_data"
    }
   ],
   "source": [
    "# Pie chart setelah SMOTE\n",
    "y_train_smt.value_counts().plot.pie(autopct = '%.2f')\n",
    "plt.title('After SMOTE')\n",
    "plt.show()"
   ]
  },
  {
   "attachments": {},
   "cell_type": "markdown",
   "metadata": {},
   "source": [
    "Juga terlihat dimana ROS dan SMOTE sama-sama meningkatkan minority class agar sama dengan majority class, namun cara menambahkan datanya berbeda"
   ]
  },
  {
   "cell_type": "markdown",
   "metadata": {},
   "source": [
    "### Combination (Oversampling & Undersampling)"
   ]
  },
  {
   "attachments": {},
   "cell_type": "markdown",
   "metadata": {},
   "source": [
    "Yang terakhir adalah resampling dengan combination dari oversampling dan undersampling"
   ]
  },
  {
   "cell_type": "markdown",
   "metadata": {},
   "source": [
    "#### SMOTENN"
   ]
  },
  {
   "cell_type": "code",
   "execution_count": 247,
   "metadata": {},
   "outputs": [],
   "source": [
    "# Fit dengan smotenn\n",
    "x_train_smtnn, y_train_smtnn = smtnn.fit_resample(x_train_prep, y_train)"
   ]
  },
  {
   "cell_type": "code",
   "execution_count": 248,
   "metadata": {},
   "outputs": [
    {
     "data": {
      "text/plain": [
       "0    41992\n",
       "1    24585\n",
       "Name: is_canceled, dtype: int64"
      ]
     },
     "execution_count": 248,
     "metadata": {},
     "output_type": "execute_result"
    }
   ],
   "source": [
    "# awal data\n",
    "y_train.value_counts()"
   ]
  },
  {
   "cell_type": "code",
   "execution_count": 249,
   "metadata": {},
   "outputs": [
    {
     "data": {
      "text/plain": [
       "0    23697\n",
       "1    20289\n",
       "Name: is_canceled, dtype: int64"
      ]
     },
     "execution_count": 249,
     "metadata": {},
     "output_type": "execute_result"
    }
   ],
   "source": [
    "# Setelah Smotenn\n",
    "y_train_smtnn.value_counts()"
   ]
  },
  {
   "cell_type": "code",
   "execution_count": 250,
   "metadata": {},
   "outputs": [
    {
     "data": {
      "image/png": "[encoded data removed]",
      "text/plain": [
       "<Figure size 640x480 with 1 Axes>"
      ]
     },
     "metadata": {},
     "output_type": "display_data"
    }
   ],
   "source": [
    "# piechart sebelum\n",
    "y_train.value_counts().plot.pie(autopct = '%.2f')\n",
    "plt.title('Before SMOTENN')\n",
    "plt.show()"
   ]
  },
  {
   "cell_type": "code",
   "execution_count": 251,
   "metadata": {},
   "outputs": [
    {
     "data": {
      "image/png": "[encoded data removed]",
      "text/plain": [
       "<Figure size 640x480 with 1 Axes>"
      ]
     },
     "metadata": {},
     "output_type": "display_data"
    }
   ],
   "source": [
    "# piechart setelah smotenn\n",
    "y_train_smtnn.value_counts().plot.pie(autopct = '%.2f')\n",
    "plt.title('After SMOTENN')\n",
    "plt.show()"
   ]
  },
  {
   "attachments": {},
   "cell_type": "markdown",
   "metadata": {},
   "source": [
    "Dimana kali ini merupakan kombinasi dari oversampling dan undersampling, dan terlihat bahwa hasil akhir tidak sepenuhnya balance (50:50), namun masih menyisakan sekitar 3% dari majority class"
   ]
  },
  {
   "cell_type": "markdown",
   "metadata": {},
   "source": [
    "### Without Resampling"
   ]
  },
  {
   "attachments": {},
   "cell_type": "markdown",
   "metadata": {},
   "source": [
    "Sekarang kita akan compare performanya dengan menggunakan Pipeline dan memasukkan transformer dan modelnya"
   ]
  },
  {
   "cell_type": "code",
   "execution_count": 254,
   "metadata": {},
   "outputs": [
    {
     "data": {
      "text/html": [
       "<style>#sk-container-id-9 {color: black;background-color: white;}#sk-container-id-9 pre{padding: 0;}#sk-container-id-9 div.sk-toggleable {background-color: white;}#sk-container-id-9 label.sk-toggleable__label {cursor: pointer;display: block;width: 100%;margin-bottom: 0;padding: 0.3em;box-sizing: border-box;text-align: center;}#sk-container-id-9 label.sk-toggleable__label-arrow:before {content: \"▸\";float: left;margin-right: 0.25em;color: #696969;}#sk-container-id-9 label.sk-toggleable__label-arrow:hover:before {color: black;}#sk-container-id-9 div.sk-estimator:hover label.sk-toggleable__label-arrow:before {color: black;}#sk-container-id-9 div.sk-toggleable__content {max-height: 0;max-width: 0;overflow: hidden;text-align: left;background-color: #f0f8ff;}#sk-container-id-9 div.sk-toggleable__content pre {margin: 0.2em;color: black;border-radius: 0.25em;background-color: #f0f8ff;}#sk-container-id-9 input.sk-toggleable__control:checked~div.sk-toggleable__content {max-height: 200px;max-width: 100%;overflow: auto;}#sk-container-id-9 input.sk-toggleable__control:checked~label.sk-toggleable__label-arrow:before {content: \"▾\";}#sk-container-id-9 div.sk-estimator input.sk-toggleable__control:checked~label.sk-toggleable__label {background-color: #d4ebff;}#sk-container-id-9 div.sk-label input.sk-toggleable__control:checked~label.sk-toggleable__label {background-color: #d4ebff;}#sk-container-id-9 input.sk-hidden--visually {border: 0;clip: rect(1px 1px 1px 1px);clip: rect(1px, 1px, 1px, 1px);height: 1px;margin: -1px;overflow: hidden;padding: 0;position: absolute;width: 1px;}#sk-container-id-9 div.sk-estimator {font-family: monospace;background-color: #f0f8ff;border: 1px dotted black;border-radius: 0.25em;box-sizing: border-box;margin-bottom: 0.5em;}#sk-container-id-9 div.sk-estimator:hover {background-color: #d4ebff;}#sk-container-id-9 div.sk-parallel-item::after {content: \"\";width: 100%;border-bottom: 1px solid gray;flex-grow: 1;}#sk-container-id-9 div.sk-label:hover label.sk-toggleable__label {background-color: #d4ebff;}#sk-container-id-9 div.sk-serial::before {content: \"\";position: absolute;border-left: 1px solid gray;box-sizing: border-box;top: 0;bottom: 0;left: 50%;z-index: 0;}#sk-container-id-9 div.sk-serial {display: flex;flex-direction: column;align-items: center;background-color: white;padding-right: 0.2em;padding-left: 0.2em;position: relative;}#sk-container-id-9 div.sk-item {position: relative;z-index: 1;}#sk-container-id-9 div.sk-parallel {display: flex;align-items: stretch;justify-content: center;background-color: white;position: relative;}#sk-container-id-9 div.sk-item::before, #sk-container-id-9 div.sk-parallel-item::before {content: \"\";position: absolute;border-left: 1px solid gray;box-sizing: border-box;top: 0;bottom: 0;left: 50%;z-index: -1;}#sk-container-id-9 div.sk-parallel-item {display: flex;flex-direction: column;z-index: 1;position: relative;background-color: white;}#sk-container-id-9 div.sk-parallel-item:first-child::after {align-self: flex-end;width: 50%;}#sk-container-id-9 div.sk-parallel-item:last-child::after {align-self: flex-start;width: 50%;}#sk-container-id-9 div.sk-parallel-item:only-child::after {width: 0;}#sk-container-id-9 div.sk-dashed-wrapped {border: 1px dashed gray;margin: 0 0.4em 0.5em 0.4em;box-sizing: border-box;padding-bottom: 0.4em;background-color: white;}#sk-container-id-9 div.sk-label label {font-family: monospace;font-weight: bold;display: inline-block;line-height: 1.2em;}#sk-container-id-9 div.sk-label-container {text-align: center;}#sk-container-id-9 div.sk-container {/* jupyter's `normalize.less` sets `[hidden] { display: none; }` but bootstrap.min.css set `[hidden] { display: none !important; }` so we also need the `!important` here to be able to override the default hidden behavior on the sphinx rendered scikit-learn.org. See: https://github.com/scikit-learn/scikit-learn/issues/21755 */display: inline-block !important;position: relative;}#sk-container-id-9 div.sk-text-repr-fallback {display: none;}</style><div id=\"sk-container-id-9\" class=\"sk-top-container\"><div class=\"sk-text-repr-fallback\"><pre>Pipeline(steps=[(&#x27;transformer&#x27;,\n",
       "                 ColumnTransformer(remainder=&#x27;passthrough&#x27;,\n",
       "                                   transformers=[(&#x27;onehot&#x27;,\n",
       "                                                  OneHotEncoder(drop=&#x27;first&#x27;),\n",
       "                                                  [&#x27;deposit_type&#x27;,\n",
       "                                                   &#x27;customer_type&#x27;]),\n",
       "                                                 (&#x27;binary&#x27;, BinaryEncoder(),\n",
       "                                                  [&#x27;country&#x27;, &#x27;market_segment&#x27;,\n",
       "                                                   &#x27;reserved_room_type&#x27;])])),\n",
       "                (&#x27;model&#x27;, LGBMClassifier())])</pre><b>In a Jupyter environment, please rerun this cell to show the HTML representation or trust the notebook. <br />On GitHub, the HTML representation is unable to render, please try loading this page with nbviewer.org.</b></div><div class=\"sk-container\" hidden><div class=\"sk-item sk-dashed-wrapped\"><div class=\"sk-label-container\"><div class=\"sk-label sk-toggleable\"><input class=\"sk-toggleable__control sk-hidden--visually\" id=\"sk-estimator-id-80\" type=\"checkbox\" ><label for=\"sk-estimator-id-80\" class=\"sk-toggleable__label sk-toggleable__label-arrow\">Pipeline</label><div class=\"sk-toggleable__content\"><pre>Pipeline(steps=[(&#x27;transformer&#x27;,\n",
       "                 ColumnTransformer(remainder=&#x27;passthrough&#x27;,\n",
       "                                   transformers=[(&#x27;onehot&#x27;,\n",
       "                                                  OneHotEncoder(drop=&#x27;first&#x27;),\n",
       "                                                  [&#x27;deposit_type&#x27;,\n",
       "                                                   &#x27;customer_type&#x27;]),\n",
       "                                                 (&#x27;binary&#x27;, BinaryEncoder(),\n",
       "                                                  [&#x27;country&#x27;, &#x27;market_segment&#x27;,\n",
       "                                                   &#x27;reserved_room_type&#x27;])])),\n",
       "                (&#x27;model&#x27;, LGBMClassifier())])</pre></div></div></div><div class=\"sk-serial\"><div class=\"sk-item sk-dashed-wrapped\"><div class=\"sk-label-container\"><div class=\"sk-label sk-toggleable\"><input class=\"sk-toggleable__control sk-hidden--visually\" id=\"sk-estimator-id-81\" type=\"checkbox\" ><label for=\"sk-estimator-id-81\" class=\"sk-toggleable__label sk-toggleable__label-arrow\">transformer: ColumnTransformer</label><div class=\"sk-toggleable__content\"><pre>ColumnTransformer(remainder=&#x27;passthrough&#x27;,\n",
       "                  transformers=[(&#x27;onehot&#x27;, OneHotEncoder(drop=&#x27;first&#x27;),\n",
       "                                 [&#x27;deposit_type&#x27;, &#x27;customer_type&#x27;]),\n",
       "                                (&#x27;binary&#x27;, BinaryEncoder(),\n",
       "                                 [&#x27;country&#x27;, &#x27;market_segment&#x27;,\n",
       "                                  &#x27;reserved_room_type&#x27;])])</pre></div></div></div><div class=\"sk-parallel\"><div class=\"sk-parallel-item\"><div class=\"sk-item\"><div class=\"sk-label-container\"><div class=\"sk-label sk-toggleable\"><input class=\"sk-toggleable__control sk-hidden--visually\" id=\"sk-estimator-id-82\" type=\"checkbox\" ><label for=\"sk-estimator-id-82\" class=\"sk-toggleable__label sk-toggleable__label-arrow\">onehot</label><div class=\"sk-toggleable__content\"><pre>[&#x27;deposit_type&#x27;, &#x27;customer_type&#x27;]</pre></div></div></div><div class=\"sk-serial\"><div class=\"sk-item\"><div class=\"sk-estimator sk-toggleable\"><input class=\"sk-toggleable__control sk-hidden--visually\" id=\"sk-estimator-id-83\" type=\"checkbox\" ><label for=\"sk-estimator-id-83\" class=\"sk-toggleable__label sk-toggleable__label-arrow\">OneHotEncoder</label><div class=\"sk-toggleable__content\"><pre>OneHotEncoder(drop=&#x27;first&#x27;)</pre></div></div></div></div></div></div><div class=\"sk-parallel-item\"><div class=\"sk-item\"><div class=\"sk-label-container\"><div class=\"sk-label sk-toggleable\"><input class=\"sk-toggleable__control sk-hidden--visually\" id=\"sk-estimator-id-84\" type=\"checkbox\" ><label for=\"sk-estimator-id-84\" class=\"sk-toggleable__label sk-toggleable__label-arrow\">binary</label><div class=\"sk-toggleable__content\"><pre>[&#x27;country&#x27;, &#x27;market_segment&#x27;, &#x27;reserved_room_type&#x27;]</pre></div></div></div><div class=\"sk-serial\"><div class=\"sk-item\"><div class=\"sk-estimator sk-toggleable\"><input class=\"sk-toggleable__control sk-hidden--visually\" id=\"sk-estimator-id-85\" type=\"checkbox\" ><label for=\"sk-estimator-id-85\" class=\"sk-toggleable__label sk-toggleable__label-arrow\">BinaryEncoder</label><div class=\"sk-toggleable__content\"><pre>BinaryEncoder()</pre></div></div></div></div></div></div><div class=\"sk-parallel-item\"><div class=\"sk-item\"><div class=\"sk-label-container\"><div class=\"sk-label sk-toggleable\"><input class=\"sk-toggleable__control sk-hidden--visually\" id=\"sk-estimator-id-86\" type=\"checkbox\" ><label for=\"sk-estimator-id-86\" class=\"sk-toggleable__label sk-toggleable__label-arrow\">remainder</label><div class=\"sk-toggleable__content\"><pre>[&#x27;previous_cancellations&#x27;, &#x27;booking_changes&#x27;, &#x27;days_in_waiting_list&#x27;, &#x27;required_car_parking_spaces&#x27;, &#x27;total_of_special_requests&#x27;]</pre></div></div></div><div class=\"sk-serial\"><div class=\"sk-item\"><div class=\"sk-estimator sk-toggleable\"><input class=\"sk-toggleable__control sk-hidden--visually\" id=\"sk-estimator-id-87\" type=\"checkbox\" ><label for=\"sk-estimator-id-87\" class=\"sk-toggleable__label sk-toggleable__label-arrow\">passthrough</label><div class=\"sk-toggleable__content\"><pre>passthrough</pre></div></div></div></div></div></div></div></div><div class=\"sk-item\"><div class=\"sk-estimator sk-toggleable\"><input class=\"sk-toggleable__control sk-hidden--visually\" id=\"sk-estimator-id-88\" type=\"checkbox\" ><label for=\"sk-estimator-id-88\" class=\"sk-toggleable__label sk-toggleable__label-arrow\">LGBMClassifier</label><div class=\"sk-toggleable__content\"><pre>LGBMClassifier()</pre></div></div></div></div></div></div></div>"
      ],
      "text/plain": [
       "Pipeline(steps=[('transformer',\n",
       "                 ColumnTransformer(remainder='passthrough',\n",
       "                                   transformers=[('onehot',\n",
       "                                                  OneHotEncoder(drop='first'),\n",
       "                                                  ['deposit_type',\n",
       "                                                   'customer_type']),\n",
       "                                                 ('binary', BinaryEncoder(),\n",
       "                                                  ['country', 'market_segment',\n",
       "                                                   'reserved_room_type'])])),\n",
       "                ('model', LGBMClassifier())])"
      ]
     },
     "execution_count": 254,
     "metadata": {},
     "output_type": "execute_result"
    }
   ],
   "source": [
    "# membuat tanpa adanya resampling\n",
    "estimator_without = Pipeline([\n",
    "        ('transformer',transformer),\n",
    "        ('model',model)\n",
    "    ])\n",
    "\n",
    "estimator_without.fit(x_train, y_train)"
   ]
  },
  {
   "cell_type": "code",
   "execution_count": 255,
   "metadata": {},
   "outputs": [
    {
     "name": "stdout",
     "output_type": "stream",
     "text": [
      "Rata-rata score f1 tanpa resampling: 0.7285559799903099\n"
     ]
    }
   ],
   "source": [
    "# cross-val tanpa resampling\n",
    "cv_without = cross_val_score(estimator_without, x_train, y_train, cv=skfold, scoring='f1')\n",
    "print('Rata-rata score f1 tanpa resampling: {}'.format(cv_without.mean()))"
   ]
  },
  {
   "cell_type": "markdown",
   "metadata": {},
   "source": [
    "### With Oversampling"
   ]
  },
  {
   "cell_type": "markdown",
   "metadata": {},
   "source": [
    "#### RandomOverSampling"
   ]
  },
  {
   "cell_type": "code",
   "execution_count": 256,
   "metadata": {},
   "outputs": [
    {
     "data": {
      "text/html": [
       "<style>#sk-container-id-10 {color: black;background-color: white;}#sk-container-id-10 pre{padding: 0;}#sk-container-id-10 div.sk-toggleable {background-color: white;}#sk-container-id-10 label.sk-toggleable__label {cursor: pointer;display: block;width: 100%;margin-bottom: 0;padding: 0.3em;box-sizing: border-box;text-align: center;}#sk-container-id-10 label.sk-toggleable__label-arrow:before {content: \"▸\";float: left;margin-right: 0.25em;color: #696969;}#sk-container-id-10 label.sk-toggleable__label-arrow:hover:before {color: black;}#sk-container-id-10 div.sk-estimator:hover label.sk-toggleable__label-arrow:before {color: black;}#sk-container-id-10 div.sk-toggleable__content {max-height: 0;max-width: 0;overflow: hidden;text-align: left;background-color: #f0f8ff;}#sk-container-id-10 div.sk-toggleable__content pre {margin: 0.2em;color: black;border-radius: 0.25em;background-color: #f0f8ff;}#sk-container-id-10 input.sk-toggleable__control:checked~div.sk-toggleable__content {max-height: 200px;max-width: 100%;overflow: auto;}#sk-container-id-10 input.sk-toggleable__control:checked~label.sk-toggleable__label-arrow:before {content: \"▾\";}#sk-container-id-10 div.sk-estimator input.sk-toggleable__control:checked~label.sk-toggleable__label {background-color: #d4ebff;}#sk-container-id-10 div.sk-label input.sk-toggleable__control:checked~label.sk-toggleable__label {background-color: #d4ebff;}#sk-container-id-10 input.sk-hidden--visually {border: 0;clip: rect(1px 1px 1px 1px);clip: rect(1px, 1px, 1px, 1px);height: 1px;margin: -1px;overflow: hidden;padding: 0;position: absolute;width: 1px;}#sk-container-id-10 div.sk-estimator {font-family: monospace;background-color: #f0f8ff;border: 1px dotted black;border-radius: 0.25em;box-sizing: border-box;margin-bottom: 0.5em;}#sk-container-id-10 div.sk-estimator:hover {background-color: #d4ebff;}#sk-container-id-10 div.sk-parallel-item::after {content: \"\";width: 100%;border-bottom: 1px solid gray;flex-grow: 1;}#sk-container-id-10 div.sk-label:hover label.sk-toggleable__label {background-color: #d4ebff;}#sk-container-id-10 div.sk-serial::before {content: \"\";position: absolute;border-left: 1px solid gray;box-sizing: border-box;top: 0;bottom: 0;left: 50%;z-index: 0;}#sk-container-id-10 div.sk-serial {display: flex;flex-direction: column;align-items: center;background-color: white;padding-right: 0.2em;padding-left: 0.2em;position: relative;}#sk-container-id-10 div.sk-item {position: relative;z-index: 1;}#sk-container-id-10 div.sk-parallel {display: flex;align-items: stretch;justify-content: center;background-color: white;position: relative;}#sk-container-id-10 div.sk-item::before, #sk-container-id-10 div.sk-parallel-item::before {content: \"\";position: absolute;border-left: 1px solid gray;box-sizing: border-box;top: 0;bottom: 0;left: 50%;z-index: -1;}#sk-container-id-10 div.sk-parallel-item {display: flex;flex-direction: column;z-index: 1;position: relative;background-color: white;}#sk-container-id-10 div.sk-parallel-item:first-child::after {align-self: flex-end;width: 50%;}#sk-container-id-10 div.sk-parallel-item:last-child::after {align-self: flex-start;width: 50%;}#sk-container-id-10 div.sk-parallel-item:only-child::after {width: 0;}#sk-container-id-10 div.sk-dashed-wrapped {border: 1px dashed gray;margin: 0 0.4em 0.5em 0.4em;box-sizing: border-box;padding-bottom: 0.4em;background-color: white;}#sk-container-id-10 div.sk-label label {font-family: monospace;font-weight: bold;display: inline-block;line-height: 1.2em;}#sk-container-id-10 div.sk-label-container {text-align: center;}#sk-container-id-10 div.sk-container {/* jupyter's `normalize.less` sets `[hidden] { display: none; }` but bootstrap.min.css set `[hidden] { display: none !important; }` so we also need the `!important` here to be able to override the default hidden behavior on the sphinx rendered scikit-learn.org. See: https://github.com/scikit-learn/scikit-learn/issues/21755 */display: inline-block !important;position: relative;}#sk-container-id-10 div.sk-text-repr-fallback {display: none;}</style><div id=\"sk-container-id-10\" class=\"sk-top-container\"><div class=\"sk-text-repr-fallback\"><pre>Pipeline(steps=[(&#x27;transformer&#x27;,\n",
       "                 ColumnTransformer(remainder=&#x27;passthrough&#x27;,\n",
       "                                   transformers=[(&#x27;onehot&#x27;,\n",
       "                                                  OneHotEncoder(drop=&#x27;first&#x27;),\n",
       "                                                  [&#x27;deposit_type&#x27;,\n",
       "                                                   &#x27;customer_type&#x27;]),\n",
       "                                                 (&#x27;binary&#x27;, BinaryEncoder(),\n",
       "                                                  [&#x27;country&#x27;, &#x27;market_segment&#x27;,\n",
       "                                                   &#x27;reserved_room_type&#x27;])])),\n",
       "                (&#x27;ros&#x27;,\n",
       "                 RandomOverSampler(random_state=100,\n",
       "                                   sampling_strategy=&#x27;not majority&#x27;)),\n",
       "                (&#x27;model&#x27;, LGBMClassifier())])</pre><b>In a Jupyter environment, please rerun this cell to show the HTML representation or trust the notebook. <br />On GitHub, the HTML representation is unable to render, please try loading this page with nbviewer.org.</b></div><div class=\"sk-container\" hidden><div class=\"sk-item sk-dashed-wrapped\"><div class=\"sk-label-container\"><div class=\"sk-label sk-toggleable\"><input class=\"sk-toggleable__control sk-hidden--visually\" id=\"sk-estimator-id-89\" type=\"checkbox\" ><label for=\"sk-estimator-id-89\" class=\"sk-toggleable__label sk-toggleable__label-arrow\">Pipeline</label><div class=\"sk-toggleable__content\"><pre>Pipeline(steps=[(&#x27;transformer&#x27;,\n",
       "                 ColumnTransformer(remainder=&#x27;passthrough&#x27;,\n",
       "                                   transformers=[(&#x27;onehot&#x27;,\n",
       "                                                  OneHotEncoder(drop=&#x27;first&#x27;),\n",
       "                                                  [&#x27;deposit_type&#x27;,\n",
       "                                                   &#x27;customer_type&#x27;]),\n",
       "                                                 (&#x27;binary&#x27;, BinaryEncoder(),\n",
       "                                                  [&#x27;country&#x27;, &#x27;market_segment&#x27;,\n",
       "                                                   &#x27;reserved_room_type&#x27;])])),\n",
       "                (&#x27;ros&#x27;,\n",
       "                 RandomOverSampler(random_state=100,\n",
       "                                   sampling_strategy=&#x27;not majority&#x27;)),\n",
       "                (&#x27;model&#x27;, LGBMClassifier())])</pre></div></div></div><div class=\"sk-serial\"><div class=\"sk-item sk-dashed-wrapped\"><div class=\"sk-label-container\"><div class=\"sk-label sk-toggleable\"><input class=\"sk-toggleable__control sk-hidden--visually\" id=\"sk-estimator-id-90\" type=\"checkbox\" ><label for=\"sk-estimator-id-90\" class=\"sk-toggleable__label sk-toggleable__label-arrow\">transformer: ColumnTransformer</label><div class=\"sk-toggleable__content\"><pre>ColumnTransformer(remainder=&#x27;passthrough&#x27;,\n",
       "                  transformers=[(&#x27;onehot&#x27;, OneHotEncoder(drop=&#x27;first&#x27;),\n",
       "                                 [&#x27;deposit_type&#x27;, &#x27;customer_type&#x27;]),\n",
       "                                (&#x27;binary&#x27;, BinaryEncoder(),\n",
       "                                 [&#x27;country&#x27;, &#x27;market_segment&#x27;,\n",
       "                                  &#x27;reserved_room_type&#x27;])])</pre></div></div></div><div class=\"sk-parallel\"><div class=\"sk-parallel-item\"><div class=\"sk-item\"><div class=\"sk-label-container\"><div class=\"sk-label sk-toggleable\"><input class=\"sk-toggleable__control sk-hidden--visually\" id=\"sk-estimator-id-91\" type=\"checkbox\" ><label for=\"sk-estimator-id-91\" class=\"sk-toggleable__label sk-toggleable__label-arrow\">onehot</label><div class=\"sk-toggleable__content\"><pre>[&#x27;deposit_type&#x27;, &#x27;customer_type&#x27;]</pre></div></div></div><div class=\"sk-serial\"><div class=\"sk-item\"><div class=\"sk-estimator sk-toggleable\"><input class=\"sk-toggleable__control sk-hidden--visually\" id=\"sk-estimator-id-92\" type=\"checkbox\" ><label for=\"sk-estimator-id-92\" class=\"sk-toggleable__label sk-toggleable__label-arrow\">OneHotEncoder</label><div class=\"sk-toggleable__content\"><pre>OneHotEncoder(drop=&#x27;first&#x27;)</pre></div></div></div></div></div></div><div class=\"sk-parallel-item\"><div class=\"sk-item\"><div class=\"sk-label-container\"><div class=\"sk-label sk-toggleable\"><input class=\"sk-toggleable__control sk-hidden--visually\" id=\"sk-estimator-id-93\" type=\"checkbox\" ><label for=\"sk-estimator-id-93\" class=\"sk-toggleable__label sk-toggleable__label-arrow\">binary</label><div class=\"sk-toggleable__content\"><pre>[&#x27;country&#x27;, &#x27;market_segment&#x27;, &#x27;reserved_room_type&#x27;]</pre></div></div></div><div class=\"sk-serial\"><div class=\"sk-item\"><div class=\"sk-estimator sk-toggleable\"><input class=\"sk-toggleable__control sk-hidden--visually\" id=\"sk-estimator-id-94\" type=\"checkbox\" ><label for=\"sk-estimator-id-94\" class=\"sk-toggleable__label sk-toggleable__label-arrow\">BinaryEncoder</label><div class=\"sk-toggleable__content\"><pre>BinaryEncoder()</pre></div></div></div></div></div></div><div class=\"sk-parallel-item\"><div class=\"sk-item\"><div class=\"sk-label-container\"><div class=\"sk-label sk-toggleable\"><input class=\"sk-toggleable__control sk-hidden--visually\" id=\"sk-estimator-id-95\" type=\"checkbox\" ><label for=\"sk-estimator-id-95\" class=\"sk-toggleable__label sk-toggleable__label-arrow\">remainder</label><div class=\"sk-toggleable__content\"><pre>[&#x27;previous_cancellations&#x27;, &#x27;booking_changes&#x27;, &#x27;days_in_waiting_list&#x27;, &#x27;required_car_parking_spaces&#x27;, &#x27;total_of_special_requests&#x27;]</pre></div></div></div><div class=\"sk-serial\"><div class=\"sk-item\"><div class=\"sk-estimator sk-toggleable\"><input class=\"sk-toggleable__control sk-hidden--visually\" id=\"sk-estimator-id-96\" type=\"checkbox\" ><label for=\"sk-estimator-id-96\" class=\"sk-toggleable__label sk-toggleable__label-arrow\">passthrough</label><div class=\"sk-toggleable__content\"><pre>passthrough</pre></div></div></div></div></div></div></div></div><div class=\"sk-item\"><div class=\"sk-estimator sk-toggleable\"><input class=\"sk-toggleable__control sk-hidden--visually\" id=\"sk-estimator-id-97\" type=\"checkbox\" ><label for=\"sk-estimator-id-97\" class=\"sk-toggleable__label sk-toggleable__label-arrow\">RandomOverSampler</label><div class=\"sk-toggleable__content\"><pre>RandomOverSampler(random_state=100, sampling_strategy=&#x27;not majority&#x27;)</pre></div></div></div><div class=\"sk-item\"><div class=\"sk-estimator sk-toggleable\"><input class=\"sk-toggleable__control sk-hidden--visually\" id=\"sk-estimator-id-98\" type=\"checkbox\" ><label for=\"sk-estimator-id-98\" class=\"sk-toggleable__label sk-toggleable__label-arrow\">LGBMClassifier</label><div class=\"sk-toggleable__content\"><pre>LGBMClassifier()</pre></div></div></div></div></div></div></div>"
      ],
      "text/plain": [
       "Pipeline(steps=[('transformer',\n",
       "                 ColumnTransformer(remainder='passthrough',\n",
       "                                   transformers=[('onehot',\n",
       "                                                  OneHotEncoder(drop='first'),\n",
       "                                                  ['deposit_type',\n",
       "                                                   'customer_type']),\n",
       "                                                 ('binary', BinaryEncoder(),\n",
       "                                                  ['country', 'market_segment',\n",
       "                                                   'reserved_room_type'])])),\n",
       "                ('ros',\n",
       "                 RandomOverSampler(random_state=100,\n",
       "                                   sampling_strategy='not majority')),\n",
       "                ('model', LGBMClassifier())])"
      ]
     },
     "execution_count": 256,
     "metadata": {},
     "output_type": "execute_result"
    }
   ],
   "source": [
    "# pipeline dengan ROS\n",
    "estimator_over = Pipeline([\n",
    "        ('transformer',transformer),\n",
    "        ('ros',ros),\n",
    "        ('model',model)\n",
    "    ])\n",
    "\n",
    "estimator_over.fit(x_train, y_train)"
   ]
  },
  {
   "cell_type": "code",
   "execution_count": 257,
   "metadata": {},
   "outputs": [
    {
     "name": "stdout",
     "output_type": "stream",
     "text": [
      "Rata-rata score f1 dengan oversampling: 0.7399235905463385\n"
     ]
    }
   ],
   "source": [
    "# cross-val dengan ROS\n",
    "cv_over = cross_val_score(estimator_over, x_train, y_train, cv=skfold, scoring='f1')\n",
    "print('Rata-rata score f1 dengan oversampling: {}'.format(cv_over.mean()))"
   ]
  },
  {
   "cell_type": "markdown",
   "metadata": {},
   "source": [
    "#### SMOTE"
   ]
  },
  {
   "cell_type": "code",
   "execution_count": 258,
   "metadata": {},
   "outputs": [
    {
     "data": {
      "text/html": [
       "<style>#sk-container-id-11 {color: black;background-color: white;}#sk-container-id-11 pre{padding: 0;}#sk-container-id-11 div.sk-toggleable {background-color: white;}#sk-container-id-11 label.sk-toggleable__label {cursor: pointer;display: block;width: 100%;margin-bottom: 0;padding: 0.3em;box-sizing: border-box;text-align: center;}#sk-container-id-11 label.sk-toggleable__label-arrow:before {content: \"▸\";float: left;margin-right: 0.25em;color: #696969;}#sk-container-id-11 label.sk-toggleable__label-arrow:hover:before {color: black;}#sk-container-id-11 div.sk-estimator:hover label.sk-toggleable__label-arrow:before {color: black;}#sk-container-id-11 div.sk-toggleable__content {max-height: 0;max-width: 0;overflow: hidden;text-align: left;background-color: #f0f8ff;}#sk-container-id-11 div.sk-toggleable__content pre {margin: 0.2em;color: black;border-radius: 0.25em;background-color: #f0f8ff;}#sk-container-id-11 input.sk-toggleable__control:checked~div.sk-toggleable__content {max-height: 200px;max-width: 100%;overflow: auto;}#sk-container-id-11 input.sk-toggleable__control:checked~label.sk-toggleable__label-arrow:before {content: \"▾\";}#sk-container-id-11 div.sk-estimator input.sk-toggleable__control:checked~label.sk-toggleable__label {background-color: #d4ebff;}#sk-container-id-11 div.sk-label input.sk-toggleable__control:checked~label.sk-toggleable__label {background-color: #d4ebff;}#sk-container-id-11 input.sk-hidden--visually {border: 0;clip: rect(1px 1px 1px 1px);clip: rect(1px, 1px, 1px, 1px);height: 1px;margin: -1px;overflow: hidden;padding: 0;position: absolute;width: 1px;}#sk-container-id-11 div.sk-estimator {font-family: monospace;background-color: #f0f8ff;border: 1px dotted black;border-radius: 0.25em;box-sizing: border-box;margin-bottom: 0.5em;}#sk-container-id-11 div.sk-estimator:hover {background-color: #d4ebff;}#sk-container-id-11 div.sk-parallel-item::after {content: \"\";width: 100%;border-bottom: 1px solid gray;flex-grow: 1;}#sk-container-id-11 div.sk-label:hover label.sk-toggleable__label {background-color: #d4ebff;}#sk-container-id-11 div.sk-serial::before {content: \"\";position: absolute;border-left: 1px solid gray;box-sizing: border-box;top: 0;bottom: 0;left: 50%;z-index: 0;}#sk-container-id-11 div.sk-serial {display: flex;flex-direction: column;align-items: center;background-color: white;padding-right: 0.2em;padding-left: 0.2em;position: relative;}#sk-container-id-11 div.sk-item {position: relative;z-index: 1;}#sk-container-id-11 div.sk-parallel {display: flex;align-items: stretch;justify-content: center;background-color: white;position: relative;}#sk-container-id-11 div.sk-item::before, #sk-container-id-11 div.sk-parallel-item::before {content: \"\";position: absolute;border-left: 1px solid gray;box-sizing: border-box;top: 0;bottom: 0;left: 50%;z-index: -1;}#sk-container-id-11 div.sk-parallel-item {display: flex;flex-direction: column;z-index: 1;position: relative;background-color: white;}#sk-container-id-11 div.sk-parallel-item:first-child::after {align-self: flex-end;width: 50%;}#sk-container-id-11 div.sk-parallel-item:last-child::after {align-self: flex-start;width: 50%;}#sk-container-id-11 div.sk-parallel-item:only-child::after {width: 0;}#sk-container-id-11 div.sk-dashed-wrapped {border: 1px dashed gray;margin: 0 0.4em 0.5em 0.4em;box-sizing: border-box;padding-bottom: 0.4em;background-color: white;}#sk-container-id-11 div.sk-label label {font-family: monospace;font-weight: bold;display: inline-block;line-height: 1.2em;}#sk-container-id-11 div.sk-label-container {text-align: center;}#sk-container-id-11 div.sk-container {/* jupyter's `normalize.less` sets `[hidden] { display: none; }` but bootstrap.min.css set `[hidden] { display: none !important; }` so we also need the `!important` here to be able to override the default hidden behavior on the sphinx rendered scikit-learn.org. See: https://github.com/scikit-learn/scikit-learn/issues/21755 */display: inline-block !important;position: relative;}#sk-container-id-11 div.sk-text-repr-fallback {display: none;}</style><div id=\"sk-container-id-11\" class=\"sk-top-container\"><div class=\"sk-text-repr-fallback\"><pre>Pipeline(steps=[(&#x27;transformer&#x27;,\n",
       "                 ColumnTransformer(remainder=&#x27;passthrough&#x27;,\n",
       "                                   transformers=[(&#x27;onehot&#x27;,\n",
       "                                                  OneHotEncoder(drop=&#x27;first&#x27;),\n",
       "                                                  [&#x27;deposit_type&#x27;,\n",
       "                                                   &#x27;customer_type&#x27;]),\n",
       "                                                 (&#x27;binary&#x27;, BinaryEncoder(),\n",
       "                                                  [&#x27;country&#x27;, &#x27;market_segment&#x27;,\n",
       "                                                   &#x27;reserved_room_type&#x27;])])),\n",
       "                (&#x27;smote&#x27;,\n",
       "                 SMOTE(random_state=100, sampling_strategy=&#x27;not majority&#x27;)),\n",
       "                (&#x27;model&#x27;, LGBMClassifier())])</pre><b>In a Jupyter environment, please rerun this cell to show the HTML representation or trust the notebook. <br />On GitHub, the HTML representation is unable to render, please try loading this page with nbviewer.org.</b></div><div class=\"sk-container\" hidden><div class=\"sk-item sk-dashed-wrapped\"><div class=\"sk-label-container\"><div class=\"sk-label sk-toggleable\"><input class=\"sk-toggleable__control sk-hidden--visually\" id=\"sk-estimator-id-99\" type=\"checkbox\" ><label for=\"sk-estimator-id-99\" class=\"sk-toggleable__label sk-toggleable__label-arrow\">Pipeline</label><div class=\"sk-toggleable__content\"><pre>Pipeline(steps=[(&#x27;transformer&#x27;,\n",
       "                 ColumnTransformer(remainder=&#x27;passthrough&#x27;,\n",
       "                                   transformers=[(&#x27;onehot&#x27;,\n",
       "                                                  OneHotEncoder(drop=&#x27;first&#x27;),\n",
       "                                                  [&#x27;deposit_type&#x27;,\n",
       "                                                   &#x27;customer_type&#x27;]),\n",
       "                                                 (&#x27;binary&#x27;, BinaryEncoder(),\n",
       "                                                  [&#x27;country&#x27;, &#x27;market_segment&#x27;,\n",
       "                                                   &#x27;reserved_room_type&#x27;])])),\n",
       "                (&#x27;smote&#x27;,\n",
       "                 SMOTE(random_state=100, sampling_strategy=&#x27;not majority&#x27;)),\n",
       "                (&#x27;model&#x27;, LGBMClassifier())])</pre></div></div></div><div class=\"sk-serial\"><div class=\"sk-item sk-dashed-wrapped\"><div class=\"sk-label-container\"><div class=\"sk-label sk-toggleable\"><input class=\"sk-toggleable__control sk-hidden--visually\" id=\"sk-estimator-id-100\" type=\"checkbox\" ><label for=\"sk-estimator-id-100\" class=\"sk-toggleable__label sk-toggleable__label-arrow\">transformer: ColumnTransformer</label><div class=\"sk-toggleable__content\"><pre>ColumnTransformer(remainder=&#x27;passthrough&#x27;,\n",
       "                  transformers=[(&#x27;onehot&#x27;, OneHotEncoder(drop=&#x27;first&#x27;),\n",
       "                                 [&#x27;deposit_type&#x27;, &#x27;customer_type&#x27;]),\n",
       "                                (&#x27;binary&#x27;, BinaryEncoder(),\n",
       "                                 [&#x27;country&#x27;, &#x27;market_segment&#x27;,\n",
       "                                  &#x27;reserved_room_type&#x27;])])</pre></div></div></div><div class=\"sk-parallel\"><div class=\"sk-parallel-item\"><div class=\"sk-item\"><div class=\"sk-label-container\"><div class=\"sk-label sk-toggleable\"><input class=\"sk-toggleable__control sk-hidden--visually\" id=\"sk-estimator-id-101\" type=\"checkbox\" ><label for=\"sk-estimator-id-101\" class=\"sk-toggleable__label sk-toggleable__label-arrow\">onehot</label><div class=\"sk-toggleable__content\"><pre>[&#x27;deposit_type&#x27;, &#x27;customer_type&#x27;]</pre></div></div></div><div class=\"sk-serial\"><div class=\"sk-item\"><div class=\"sk-estimator sk-toggleable\"><input class=\"sk-toggleable__control sk-hidden--visually\" id=\"sk-estimator-id-102\" type=\"checkbox\" ><label for=\"sk-estimator-id-102\" class=\"sk-toggleable__label sk-toggleable__label-arrow\">OneHotEncoder</label><div class=\"sk-toggleable__content\"><pre>OneHotEncoder(drop=&#x27;first&#x27;)</pre></div></div></div></div></div></div><div class=\"sk-parallel-item\"><div class=\"sk-item\"><div class=\"sk-label-container\"><div class=\"sk-label sk-toggleable\"><input class=\"sk-toggleable__control sk-hidden--visually\" id=\"sk-estimator-id-103\" type=\"checkbox\" ><label for=\"sk-estimator-id-103\" class=\"sk-toggleable__label sk-toggleable__label-arrow\">binary</label><div class=\"sk-toggleable__content\"><pre>[&#x27;country&#x27;, &#x27;market_segment&#x27;, &#x27;reserved_room_type&#x27;]</pre></div></div></div><div class=\"sk-serial\"><div class=\"sk-item\"><div class=\"sk-estimator sk-toggleable\"><input class=\"sk-toggleable__control sk-hidden--visually\" id=\"sk-estimator-id-104\" type=\"checkbox\" ><label for=\"sk-estimator-id-104\" class=\"sk-toggleable__label sk-toggleable__label-arrow\">BinaryEncoder</label><div class=\"sk-toggleable__content\"><pre>BinaryEncoder()</pre></div></div></div></div></div></div><div class=\"sk-parallel-item\"><div class=\"sk-item\"><div class=\"sk-label-container\"><div class=\"sk-label sk-toggleable\"><input class=\"sk-toggleable__control sk-hidden--visually\" id=\"sk-estimator-id-105\" type=\"checkbox\" ><label for=\"sk-estimator-id-105\" class=\"sk-toggleable__label sk-toggleable__label-arrow\">remainder</label><div class=\"sk-toggleable__content\"><pre>[&#x27;previous_cancellations&#x27;, &#x27;booking_changes&#x27;, &#x27;days_in_waiting_list&#x27;, &#x27;required_car_parking_spaces&#x27;, &#x27;total_of_special_requests&#x27;]</pre></div></div></div><div class=\"sk-serial\"><div class=\"sk-item\"><div class=\"sk-estimator sk-toggleable\"><input class=\"sk-toggleable__control sk-hidden--visually\" id=\"sk-estimator-id-106\" type=\"checkbox\" ><label for=\"sk-estimator-id-106\" class=\"sk-toggleable__label sk-toggleable__label-arrow\">passthrough</label><div class=\"sk-toggleable__content\"><pre>passthrough</pre></div></div></div></div></div></div></div></div><div class=\"sk-item\"><div class=\"sk-estimator sk-toggleable\"><input class=\"sk-toggleable__control sk-hidden--visually\" id=\"sk-estimator-id-107\" type=\"checkbox\" ><label for=\"sk-estimator-id-107\" class=\"sk-toggleable__label sk-toggleable__label-arrow\">SMOTE</label><div class=\"sk-toggleable__content\"><pre>SMOTE(random_state=100, sampling_strategy=&#x27;not majority&#x27;)</pre></div></div></div><div class=\"sk-item\"><div class=\"sk-estimator sk-toggleable\"><input class=\"sk-toggleable__control sk-hidden--visually\" id=\"sk-estimator-id-108\" type=\"checkbox\" ><label for=\"sk-estimator-id-108\" class=\"sk-toggleable__label sk-toggleable__label-arrow\">LGBMClassifier</label><div class=\"sk-toggleable__content\"><pre>LGBMClassifier()</pre></div></div></div></div></div></div></div>"
      ],
      "text/plain": [
       "Pipeline(steps=[('transformer',\n",
       "                 ColumnTransformer(remainder='passthrough',\n",
       "                                   transformers=[('onehot',\n",
       "                                                  OneHotEncoder(drop='first'),\n",
       "                                                  ['deposit_type',\n",
       "                                                   'customer_type']),\n",
       "                                                 ('binary', BinaryEncoder(),\n",
       "                                                  ['country', 'market_segment',\n",
       "                                                   'reserved_room_type'])])),\n",
       "                ('smote',\n",
       "                 SMOTE(random_state=100, sampling_strategy='not majority')),\n",
       "                ('model', LGBMClassifier())])"
      ]
     },
     "execution_count": 258,
     "metadata": {},
     "output_type": "execute_result"
    }
   ],
   "source": [
    "# pipeline dengan SMOTE\n",
    "estimator_smt = Pipeline([\n",
    "        ('transformer',transformer),\n",
    "        ('smote',smt),\n",
    "        ('model',model)\n",
    "    ])\n",
    "\n",
    "estimator_smt.fit(x_train, y_train)"
   ]
  },
  {
   "cell_type": "code",
   "execution_count": 259,
   "metadata": {},
   "outputs": [
    {
     "name": "stdout",
     "output_type": "stream",
     "text": [
      "Rata-rata score f1 dengan smote: 0.7399235905463385\n"
     ]
    }
   ],
   "source": [
    "# Cross-val dengan SMOTE\n",
    "cv_smt = cross_val_score(estimator_smt, x_train, y_train, cv=skfold, scoring='f1')\n",
    "print('Rata-rata score f1 dengan smote: {}'.format(cv_over.mean()))"
   ]
  },
  {
   "cell_type": "markdown",
   "metadata": {},
   "source": [
    "### With Undersampling"
   ]
  },
  {
   "cell_type": "markdown",
   "metadata": {},
   "source": [
    "#### RandomUnderSampling"
   ]
  },
  {
   "cell_type": "code",
   "execution_count": 260,
   "metadata": {},
   "outputs": [
    {
     "data": {
      "text/html": [
       "<style>#sk-container-id-12 {color: black;background-color: white;}#sk-container-id-12 pre{padding: 0;}#sk-container-id-12 div.sk-toggleable {background-color: white;}#sk-container-id-12 label.sk-toggleable__label {cursor: pointer;display: block;width: 100%;margin-bottom: 0;padding: 0.3em;box-sizing: border-box;text-align: center;}#sk-container-id-12 label.sk-toggleable__label-arrow:before {content: \"▸\";float: left;margin-right: 0.25em;color: #696969;}#sk-container-id-12 label.sk-toggleable__label-arrow:hover:before {color: black;}#sk-container-id-12 div.sk-estimator:hover label.sk-toggleable__label-arrow:before {color: black;}#sk-container-id-12 div.sk-toggleable__content {max-height: 0;max-width: 0;overflow: hidden;text-align: left;background-color: #f0f8ff;}#sk-container-id-12 div.sk-toggleable__content pre {margin: 0.2em;color: black;border-radius: 0.25em;background-color: #f0f8ff;}#sk-container-id-12 input.sk-toggleable__control:checked~div.sk-toggleable__content {max-height: 200px;max-width: 100%;overflow: auto;}#sk-container-id-12 input.sk-toggleable__control:checked~label.sk-toggleable__label-arrow:before {content: \"▾\";}#sk-container-id-12 div.sk-estimator input.sk-toggleable__control:checked~label.sk-toggleable__label {background-color: #d4ebff;}#sk-container-id-12 div.sk-label input.sk-toggleable__control:checked~label.sk-toggleable__label {background-color: #d4ebff;}#sk-container-id-12 input.sk-hidden--visually {border: 0;clip: rect(1px 1px 1px 1px);clip: rect(1px, 1px, 1px, 1px);height: 1px;margin: -1px;overflow: hidden;padding: 0;position: absolute;width: 1px;}#sk-container-id-12 div.sk-estimator {font-family: monospace;background-color: #f0f8ff;border: 1px dotted black;border-radius: 0.25em;box-sizing: border-box;margin-bottom: 0.5em;}#sk-container-id-12 div.sk-estimator:hover {background-color: #d4ebff;}#sk-container-id-12 div.sk-parallel-item::after {content: \"\";width: 100%;border-bottom: 1px solid gray;flex-grow: 1;}#sk-container-id-12 div.sk-label:hover label.sk-toggleable__label {background-color: #d4ebff;}#sk-container-id-12 div.sk-serial::before {content: \"\";position: absolute;border-left: 1px solid gray;box-sizing: border-box;top: 0;bottom: 0;left: 50%;z-index: 0;}#sk-container-id-12 div.sk-serial {display: flex;flex-direction: column;align-items: center;background-color: white;padding-right: 0.2em;padding-left: 0.2em;position: relative;}#sk-container-id-12 div.sk-item {position: relative;z-index: 1;}#sk-container-id-12 div.sk-parallel {display: flex;align-items: stretch;justify-content: center;background-color: white;position: relative;}#sk-container-id-12 div.sk-item::before, #sk-container-id-12 div.sk-parallel-item::before {content: \"\";position: absolute;border-left: 1px solid gray;box-sizing: border-box;top: 0;bottom: 0;left: 50%;z-index: -1;}#sk-container-id-12 div.sk-parallel-item {display: flex;flex-direction: column;z-index: 1;position: relative;background-color: white;}#sk-container-id-12 div.sk-parallel-item:first-child::after {align-self: flex-end;width: 50%;}#sk-container-id-12 div.sk-parallel-item:last-child::after {align-self: flex-start;width: 50%;}#sk-container-id-12 div.sk-parallel-item:only-child::after {width: 0;}#sk-container-id-12 div.sk-dashed-wrapped {border: 1px dashed gray;margin: 0 0.4em 0.5em 0.4em;box-sizing: border-box;padding-bottom: 0.4em;background-color: white;}#sk-container-id-12 div.sk-label label {font-family: monospace;font-weight: bold;display: inline-block;line-height: 1.2em;}#sk-container-id-12 div.sk-label-container {text-align: center;}#sk-container-id-12 div.sk-container {/* jupyter's `normalize.less` sets `[hidden] { display: none; }` but bootstrap.min.css set `[hidden] { display: none !important; }` so we also need the `!important` here to be able to override the default hidden behavior on the sphinx rendered scikit-learn.org. See: https://github.com/scikit-learn/scikit-learn/issues/21755 */display: inline-block !important;position: relative;}#sk-container-id-12 div.sk-text-repr-fallback {display: none;}</style><div id=\"sk-container-id-12\" class=\"sk-top-container\"><div class=\"sk-text-repr-fallback\"><pre>Pipeline(steps=[(&#x27;transformer&#x27;,\n",
       "                 ColumnTransformer(remainder=&#x27;passthrough&#x27;,\n",
       "                                   transformers=[(&#x27;onehot&#x27;,\n",
       "                                                  OneHotEncoder(drop=&#x27;first&#x27;),\n",
       "                                                  [&#x27;deposit_type&#x27;,\n",
       "                                                   &#x27;customer_type&#x27;]),\n",
       "                                                 (&#x27;binary&#x27;, BinaryEncoder(),\n",
       "                                                  [&#x27;country&#x27;, &#x27;market_segment&#x27;,\n",
       "                                                   &#x27;reserved_room_type&#x27;])])),\n",
       "                (&#x27;rus&#x27;,\n",
       "                 RandomUnderSampler(random_state=100,\n",
       "                                    sampling_strategy=&#x27;not minority&#x27;)),\n",
       "                (&#x27;model&#x27;, LGBMClassifier())])</pre><b>In a Jupyter environment, please rerun this cell to show the HTML representation or trust the notebook. <br />On GitHub, the HTML representation is unable to render, please try loading this page with nbviewer.org.</b></div><div class=\"sk-container\" hidden><div class=\"sk-item sk-dashed-wrapped\"><div class=\"sk-label-container\"><div class=\"sk-label sk-toggleable\"><input class=\"sk-toggleable__control sk-hidden--visually\" id=\"sk-estimator-id-109\" type=\"checkbox\" ><label for=\"sk-estimator-id-109\" class=\"sk-toggleable__label sk-toggleable__label-arrow\">Pipeline</label><div class=\"sk-toggleable__content\"><pre>Pipeline(steps=[(&#x27;transformer&#x27;,\n",
       "                 ColumnTransformer(remainder=&#x27;passthrough&#x27;,\n",
       "                                   transformers=[(&#x27;onehot&#x27;,\n",
       "                                                  OneHotEncoder(drop=&#x27;first&#x27;),\n",
       "                                                  [&#x27;deposit_type&#x27;,\n",
       "                                                   &#x27;customer_type&#x27;]),\n",
       "                                                 (&#x27;binary&#x27;, BinaryEncoder(),\n",
       "                                                  [&#x27;country&#x27;, &#x27;market_segment&#x27;,\n",
       "                                                   &#x27;reserved_room_type&#x27;])])),\n",
       "                (&#x27;rus&#x27;,\n",
       "                 RandomUnderSampler(random_state=100,\n",
       "                                    sampling_strategy=&#x27;not minority&#x27;)),\n",
       "                (&#x27;model&#x27;, LGBMClassifier())])</pre></div></div></div><div class=\"sk-serial\"><div class=\"sk-item sk-dashed-wrapped\"><div class=\"sk-label-container\"><div class=\"sk-label sk-toggleable\"><input class=\"sk-toggleable__control sk-hidden--visually\" id=\"sk-estimator-id-110\" type=\"checkbox\" ><label for=\"sk-estimator-id-110\" class=\"sk-toggleable__label sk-toggleable__label-arrow\">transformer: ColumnTransformer</label><div class=\"sk-toggleable__content\"><pre>ColumnTransformer(remainder=&#x27;passthrough&#x27;,\n",
       "                  transformers=[(&#x27;onehot&#x27;, OneHotEncoder(drop=&#x27;first&#x27;),\n",
       "                                 [&#x27;deposit_type&#x27;, &#x27;customer_type&#x27;]),\n",
       "                                (&#x27;binary&#x27;, BinaryEncoder(),\n",
       "                                 [&#x27;country&#x27;, &#x27;market_segment&#x27;,\n",
       "                                  &#x27;reserved_room_type&#x27;])])</pre></div></div></div><div class=\"sk-parallel\"><div class=\"sk-parallel-item\"><div class=\"sk-item\"><div class=\"sk-label-container\"><div class=\"sk-label sk-toggleable\"><input class=\"sk-toggleable__control sk-hidden--visually\" id=\"sk-estimator-id-111\" type=\"checkbox\" ><label for=\"sk-estimator-id-111\" class=\"sk-toggleable__label sk-toggleable__label-arrow\">onehot</label><div class=\"sk-toggleable__content\"><pre>[&#x27;deposit_type&#x27;, &#x27;customer_type&#x27;]</pre></div></div></div><div class=\"sk-serial\"><div class=\"sk-item\"><div class=\"sk-estimator sk-toggleable\"><input class=\"sk-toggleable__control sk-hidden--visually\" id=\"sk-estimator-id-112\" type=\"checkbox\" ><label for=\"sk-estimator-id-112\" class=\"sk-toggleable__label sk-toggleable__label-arrow\">OneHotEncoder</label><div class=\"sk-toggleable__content\"><pre>OneHotEncoder(drop=&#x27;first&#x27;)</pre></div></div></div></div></div></div><div class=\"sk-parallel-item\"><div class=\"sk-item\"><div class=\"sk-label-container\"><div class=\"sk-label sk-toggleable\"><input class=\"sk-toggleable__control sk-hidden--visually\" id=\"sk-estimator-id-113\" type=\"checkbox\" ><label for=\"sk-estimator-id-113\" class=\"sk-toggleable__label sk-toggleable__label-arrow\">binary</label><div class=\"sk-toggleable__content\"><pre>[&#x27;country&#x27;, &#x27;market_segment&#x27;, &#x27;reserved_room_type&#x27;]</pre></div></div></div><div class=\"sk-serial\"><div class=\"sk-item\"><div class=\"sk-estimator sk-toggleable\"><input class=\"sk-toggleable__control sk-hidden--visually\" id=\"sk-estimator-id-114\" type=\"checkbox\" ><label for=\"sk-estimator-id-114\" class=\"sk-toggleable__label sk-toggleable__label-arrow\">BinaryEncoder</label><div class=\"sk-toggleable__content\"><pre>BinaryEncoder()</pre></div></div></div></div></div></div><div class=\"sk-parallel-item\"><div class=\"sk-item\"><div class=\"sk-label-container\"><div class=\"sk-label sk-toggleable\"><input class=\"sk-toggleable__control sk-hidden--visually\" id=\"sk-estimator-id-115\" type=\"checkbox\" ><label for=\"sk-estimator-id-115\" class=\"sk-toggleable__label sk-toggleable__label-arrow\">remainder</label><div class=\"sk-toggleable__content\"><pre>[&#x27;previous_cancellations&#x27;, &#x27;booking_changes&#x27;, &#x27;days_in_waiting_list&#x27;, &#x27;required_car_parking_spaces&#x27;, &#x27;total_of_special_requests&#x27;]</pre></div></div></div><div class=\"sk-serial\"><div class=\"sk-item\"><div class=\"sk-estimator sk-toggleable\"><input class=\"sk-toggleable__control sk-hidden--visually\" id=\"sk-estimator-id-116\" type=\"checkbox\" ><label for=\"sk-estimator-id-116\" class=\"sk-toggleable__label sk-toggleable__label-arrow\">passthrough</label><div class=\"sk-toggleable__content\"><pre>passthrough</pre></div></div></div></div></div></div></div></div><div class=\"sk-item\"><div class=\"sk-estimator sk-toggleable\"><input class=\"sk-toggleable__control sk-hidden--visually\" id=\"sk-estimator-id-117\" type=\"checkbox\" ><label for=\"sk-estimator-id-117\" class=\"sk-toggleable__label sk-toggleable__label-arrow\">RandomUnderSampler</label><div class=\"sk-toggleable__content\"><pre>RandomUnderSampler(random_state=100, sampling_strategy=&#x27;not minority&#x27;)</pre></div></div></div><div class=\"sk-item\"><div class=\"sk-estimator sk-toggleable\"><input class=\"sk-toggleable__control sk-hidden--visually\" id=\"sk-estimator-id-118\" type=\"checkbox\" ><label for=\"sk-estimator-id-118\" class=\"sk-toggleable__label sk-toggleable__label-arrow\">LGBMClassifier</label><div class=\"sk-toggleable__content\"><pre>LGBMClassifier()</pre></div></div></div></div></div></div></div>"
      ],
      "text/plain": [
       "Pipeline(steps=[('transformer',\n",
       "                 ColumnTransformer(remainder='passthrough',\n",
       "                                   transformers=[('onehot',\n",
       "                                                  OneHotEncoder(drop='first'),\n",
       "                                                  ['deposit_type',\n",
       "                                                   'customer_type']),\n",
       "                                                 ('binary', BinaryEncoder(),\n",
       "                                                  ['country', 'market_segment',\n",
       "                                                   'reserved_room_type'])])),\n",
       "                ('rus',\n",
       "                 RandomUnderSampler(random_state=100,\n",
       "                                    sampling_strategy='not minority')),\n",
       "                ('model', LGBMClassifier())])"
      ]
     },
     "execution_count": 260,
     "metadata": {},
     "output_type": "execute_result"
    }
   ],
   "source": [
    "# Pipeline dengan RUS\n",
    "estimator_under = Pipeline([\n",
    "        ('transformer',transformer),\n",
    "        ('rus',rus),\n",
    "        ('model',model)\n",
    "    ])\n",
    "\n",
    "estimator_under.fit(x_train, y_train)"
   ]
  },
  {
   "cell_type": "code",
   "execution_count": 261,
   "metadata": {},
   "outputs": [
    {
     "name": "stdout",
     "output_type": "stream",
     "text": [
      "Rata-rata score f1 dengan undersampling: 0.7389056320678609\n"
     ]
    }
   ],
   "source": [
    "# cross-val dengan RUS\n",
    "cv_under = cross_val_score(estimator_under, x_train, y_train, cv=skfold, scoring='f1')\n",
    "print('Rata-rata score f1 dengan undersampling: {}'.format(cv_under.mean()))"
   ]
  },
  {
   "cell_type": "markdown",
   "metadata": {},
   "source": [
    "#### NearMiss"
   ]
  },
  {
   "cell_type": "code",
   "execution_count": 262,
   "metadata": {},
   "outputs": [
    {
     "data": {
      "text/html": [
       "<style>#sk-container-id-13 {color: black;background-color: white;}#sk-container-id-13 pre{padding: 0;}#sk-container-id-13 div.sk-toggleable {background-color: white;}#sk-container-id-13 label.sk-toggleable__label {cursor: pointer;display: block;width: 100%;margin-bottom: 0;padding: 0.3em;box-sizing: border-box;text-align: center;}#sk-container-id-13 label.sk-toggleable__label-arrow:before {content: \"▸\";float: left;margin-right: 0.25em;color: #696969;}#sk-container-id-13 label.sk-toggleable__label-arrow:hover:before {color: black;}#sk-container-id-13 div.sk-estimator:hover label.sk-toggleable__label-arrow:before {color: black;}#sk-container-id-13 div.sk-toggleable__content {max-height: 0;max-width: 0;overflow: hidden;text-align: left;background-color: #f0f8ff;}#sk-container-id-13 div.sk-toggleable__content pre {margin: 0.2em;color: black;border-radius: 0.25em;background-color: #f0f8ff;}#sk-container-id-13 input.sk-toggleable__control:checked~div.sk-toggleable__content {max-height: 200px;max-width: 100%;overflow: auto;}#sk-container-id-13 input.sk-toggleable__control:checked~label.sk-toggleable__label-arrow:before {content: \"▾\";}#sk-container-id-13 div.sk-estimator input.sk-toggleable__control:checked~label.sk-toggleable__label {background-color: #d4ebff;}#sk-container-id-13 div.sk-label input.sk-toggleable__control:checked~label.sk-toggleable__label {background-color: #d4ebff;}#sk-container-id-13 input.sk-hidden--visually {border: 0;clip: rect(1px 1px 1px 1px);clip: rect(1px, 1px, 1px, 1px);height: 1px;margin: -1px;overflow: hidden;padding: 0;position: absolute;width: 1px;}#sk-container-id-13 div.sk-estimator {font-family: monospace;background-color: #f0f8ff;border: 1px dotted black;border-radius: 0.25em;box-sizing: border-box;margin-bottom: 0.5em;}#sk-container-id-13 div.sk-estimator:hover {background-color: #d4ebff;}#sk-container-id-13 div.sk-parallel-item::after {content: \"\";width: 100%;border-bottom: 1px solid gray;flex-grow: 1;}#sk-container-id-13 div.sk-label:hover label.sk-toggleable__label {background-color: #d4ebff;}#sk-container-id-13 div.sk-serial::before {content: \"\";position: absolute;border-left: 1px solid gray;box-sizing: border-box;top: 0;bottom: 0;left: 50%;z-index: 0;}#sk-container-id-13 div.sk-serial {display: flex;flex-direction: column;align-items: center;background-color: white;padding-right: 0.2em;padding-left: 0.2em;position: relative;}#sk-container-id-13 div.sk-item {position: relative;z-index: 1;}#sk-container-id-13 div.sk-parallel {display: flex;align-items: stretch;justify-content: center;background-color: white;position: relative;}#sk-container-id-13 div.sk-item::before, #sk-container-id-13 div.sk-parallel-item::before {content: \"\";position: absolute;border-left: 1px solid gray;box-sizing: border-box;top: 0;bottom: 0;left: 50%;z-index: -1;}#sk-container-id-13 div.sk-parallel-item {display: flex;flex-direction: column;z-index: 1;position: relative;background-color: white;}#sk-container-id-13 div.sk-parallel-item:first-child::after {align-self: flex-end;width: 50%;}#sk-container-id-13 div.sk-parallel-item:last-child::after {align-self: flex-start;width: 50%;}#sk-container-id-13 div.sk-parallel-item:only-child::after {width: 0;}#sk-container-id-13 div.sk-dashed-wrapped {border: 1px dashed gray;margin: 0 0.4em 0.5em 0.4em;box-sizing: border-box;padding-bottom: 0.4em;background-color: white;}#sk-container-id-13 div.sk-label label {font-family: monospace;font-weight: bold;display: inline-block;line-height: 1.2em;}#sk-container-id-13 div.sk-label-container {text-align: center;}#sk-container-id-13 div.sk-container {/* jupyter's `normalize.less` sets `[hidden] { display: none; }` but bootstrap.min.css set `[hidden] { display: none !important; }` so we also need the `!important` here to be able to override the default hidden behavior on the sphinx rendered scikit-learn.org. See: https://github.com/scikit-learn/scikit-learn/issues/21755 */display: inline-block !important;position: relative;}#sk-container-id-13 div.sk-text-repr-fallback {display: none;}</style><div id=\"sk-container-id-13\" class=\"sk-top-container\"><div class=\"sk-text-repr-fallback\"><pre>Pipeline(steps=[(&#x27;transformer&#x27;,\n",
       "                 ColumnTransformer(remainder=&#x27;passthrough&#x27;,\n",
       "                                   transformers=[(&#x27;onehot&#x27;,\n",
       "                                                  OneHotEncoder(drop=&#x27;first&#x27;),\n",
       "                                                  [&#x27;deposit_type&#x27;,\n",
       "                                                   &#x27;customer_type&#x27;]),\n",
       "                                                 (&#x27;binary&#x27;, BinaryEncoder(),\n",
       "                                                  [&#x27;country&#x27;, &#x27;market_segment&#x27;,\n",
       "                                                   &#x27;reserved_room_type&#x27;])])),\n",
       "                (&#x27;NM&#x27;, NearMiss(sampling_strategy=&#x27;not minority&#x27;)),\n",
       "                (&#x27;model&#x27;, LGBMClassifier())])</pre><b>In a Jupyter environment, please rerun this cell to show the HTML representation or trust the notebook. <br />On GitHub, the HTML representation is unable to render, please try loading this page with nbviewer.org.</b></div><div class=\"sk-container\" hidden><div class=\"sk-item sk-dashed-wrapped\"><div class=\"sk-label-container\"><div class=\"sk-label sk-toggleable\"><input class=\"sk-toggleable__control sk-hidden--visually\" id=\"sk-estimator-id-119\" type=\"checkbox\" ><label for=\"sk-estimator-id-119\" class=\"sk-toggleable__label sk-toggleable__label-arrow\">Pipeline</label><div class=\"sk-toggleable__content\"><pre>Pipeline(steps=[(&#x27;transformer&#x27;,\n",
       "                 ColumnTransformer(remainder=&#x27;passthrough&#x27;,\n",
       "                                   transformers=[(&#x27;onehot&#x27;,\n",
       "                                                  OneHotEncoder(drop=&#x27;first&#x27;),\n",
       "                                                  [&#x27;deposit_type&#x27;,\n",
       "                                                   &#x27;customer_type&#x27;]),\n",
       "                                                 (&#x27;binary&#x27;, BinaryEncoder(),\n",
       "                                                  [&#x27;country&#x27;, &#x27;market_segment&#x27;,\n",
       "                                                   &#x27;reserved_room_type&#x27;])])),\n",
       "                (&#x27;NM&#x27;, NearMiss(sampling_strategy=&#x27;not minority&#x27;)),\n",
       "                (&#x27;model&#x27;, LGBMClassifier())])</pre></div></div></div><div class=\"sk-serial\"><div class=\"sk-item sk-dashed-wrapped\"><div class=\"sk-label-container\"><div class=\"sk-label sk-toggleable\"><input class=\"sk-toggleable__control sk-hidden--visually\" id=\"sk-estimator-id-120\" type=\"checkbox\" ><label for=\"sk-estimator-id-120\" class=\"sk-toggleable__label sk-toggleable__label-arrow\">transformer: ColumnTransformer</label><div class=\"sk-toggleable__content\"><pre>ColumnTransformer(remainder=&#x27;passthrough&#x27;,\n",
       "                  transformers=[(&#x27;onehot&#x27;, OneHotEncoder(drop=&#x27;first&#x27;),\n",
       "                                 [&#x27;deposit_type&#x27;, &#x27;customer_type&#x27;]),\n",
       "                                (&#x27;binary&#x27;, BinaryEncoder(),\n",
       "                                 [&#x27;country&#x27;, &#x27;market_segment&#x27;,\n",
       "                                  &#x27;reserved_room_type&#x27;])])</pre></div></div></div><div class=\"sk-parallel\"><div class=\"sk-parallel-item\"><div class=\"sk-item\"><div class=\"sk-label-container\"><div class=\"sk-label sk-toggleable\"><input class=\"sk-toggleable__control sk-hidden--visually\" id=\"sk-estimator-id-121\" type=\"checkbox\" ><label for=\"sk-estimator-id-121\" class=\"sk-toggleable__label sk-toggleable__label-arrow\">onehot</label><div class=\"sk-toggleable__content\"><pre>[&#x27;deposit_type&#x27;, &#x27;customer_type&#x27;]</pre></div></div></div><div class=\"sk-serial\"><div class=\"sk-item\"><div class=\"sk-estimator sk-toggleable\"><input class=\"sk-toggleable__control sk-hidden--visually\" id=\"sk-estimator-id-122\" type=\"checkbox\" ><label for=\"sk-estimator-id-122\" class=\"sk-toggleable__label sk-toggleable__label-arrow\">OneHotEncoder</label><div class=\"sk-toggleable__content\"><pre>OneHotEncoder(drop=&#x27;first&#x27;)</pre></div></div></div></div></div></div><div class=\"sk-parallel-item\"><div class=\"sk-item\"><div class=\"sk-label-container\"><div class=\"sk-label sk-toggleable\"><input class=\"sk-toggleable__control sk-hidden--visually\" id=\"sk-estimator-id-123\" type=\"checkbox\" ><label for=\"sk-estimator-id-123\" class=\"sk-toggleable__label sk-toggleable__label-arrow\">binary</label><div class=\"sk-toggleable__content\"><pre>[&#x27;country&#x27;, &#x27;market_segment&#x27;, &#x27;reserved_room_type&#x27;]</pre></div></div></div><div class=\"sk-serial\"><div class=\"sk-item\"><div class=\"sk-estimator sk-toggleable\"><input class=\"sk-toggleable__control sk-hidden--visually\" id=\"sk-estimator-id-124\" type=\"checkbox\" ><label for=\"sk-estimator-id-124\" class=\"sk-toggleable__label sk-toggleable__label-arrow\">BinaryEncoder</label><div class=\"sk-toggleable__content\"><pre>BinaryEncoder()</pre></div></div></div></div></div></div><div class=\"sk-parallel-item\"><div class=\"sk-item\"><div class=\"sk-label-container\"><div class=\"sk-label sk-toggleable\"><input class=\"sk-toggleable__control sk-hidden--visually\" id=\"sk-estimator-id-125\" type=\"checkbox\" ><label for=\"sk-estimator-id-125\" class=\"sk-toggleable__label sk-toggleable__label-arrow\">remainder</label><div class=\"sk-toggleable__content\"><pre>[&#x27;previous_cancellations&#x27;, &#x27;booking_changes&#x27;, &#x27;days_in_waiting_list&#x27;, &#x27;required_car_parking_spaces&#x27;, &#x27;total_of_special_requests&#x27;]</pre></div></div></div><div class=\"sk-serial\"><div class=\"sk-item\"><div class=\"sk-estimator sk-toggleable\"><input class=\"sk-toggleable__control sk-hidden--visually\" id=\"sk-estimator-id-126\" type=\"checkbox\" ><label for=\"sk-estimator-id-126\" class=\"sk-toggleable__label sk-toggleable__label-arrow\">passthrough</label><div class=\"sk-toggleable__content\"><pre>passthrough</pre></div></div></div></div></div></div></div></div><div class=\"sk-item\"><div class=\"sk-estimator sk-toggleable\"><input class=\"sk-toggleable__control sk-hidden--visually\" id=\"sk-estimator-id-127\" type=\"checkbox\" ><label for=\"sk-estimator-id-127\" class=\"sk-toggleable__label sk-toggleable__label-arrow\">NearMiss</label><div class=\"sk-toggleable__content\"><pre>NearMiss(sampling_strategy=&#x27;not minority&#x27;)</pre></div></div></div><div class=\"sk-item\"><div class=\"sk-estimator sk-toggleable\"><input class=\"sk-toggleable__control sk-hidden--visually\" id=\"sk-estimator-id-128\" type=\"checkbox\" ><label for=\"sk-estimator-id-128\" class=\"sk-toggleable__label sk-toggleable__label-arrow\">LGBMClassifier</label><div class=\"sk-toggleable__content\"><pre>LGBMClassifier()</pre></div></div></div></div></div></div></div>"
      ],
      "text/plain": [
       "Pipeline(steps=[('transformer',\n",
       "                 ColumnTransformer(remainder='passthrough',\n",
       "                                   transformers=[('onehot',\n",
       "                                                  OneHotEncoder(drop='first'),\n",
       "                                                  ['deposit_type',\n",
       "                                                   'customer_type']),\n",
       "                                                 ('binary', BinaryEncoder(),\n",
       "                                                  ['country', 'market_segment',\n",
       "                                                   'reserved_room_type'])])),\n",
       "                ('NM', NearMiss(sampling_strategy='not minority')),\n",
       "                ('model', LGBMClassifier())])"
      ]
     },
     "execution_count": 262,
     "metadata": {},
     "output_type": "execute_result"
    }
   ],
   "source": [
    "# Pipeline dengan NearMiss\n",
    "estimator_nm = Pipeline([\n",
    "        ('transformer',transformer),\n",
    "        ('NM',nm),\n",
    "        ('model',model)\n",
    "    ])\n",
    "\n",
    "estimator_nm.fit(x_train, y_train)"
   ]
  },
  {
   "cell_type": "code",
   "execution_count": 263,
   "metadata": {},
   "outputs": [
    {
     "name": "stdout",
     "output_type": "stream",
     "text": [
      "Rata-rata score f1 dengan nearmiss: 0.7389056320678609\n"
     ]
    }
   ],
   "source": [
    "# Cross-val dengan NearMiss\n",
    "cv_nm = cross_val_score(estimator_nm, x_train, y_train, cv=skfold, scoring='f1')\n",
    "print('Rata-rata score f1 dengan nearmiss: {}'.format(cv_under.mean()))"
   ]
  },
  {
   "cell_type": "markdown",
   "metadata": {},
   "source": [
    "### With Combination Sampling"
   ]
  },
  {
   "cell_type": "markdown",
   "metadata": {},
   "source": [
    "#### SMOTENN"
   ]
  },
  {
   "cell_type": "code",
   "execution_count": 264,
   "metadata": {},
   "outputs": [
    {
     "data": {
      "text/html": [
       "<style>#sk-container-id-14 {color: black;background-color: white;}#sk-container-id-14 pre{padding: 0;}#sk-container-id-14 div.sk-toggleable {background-color: white;}#sk-container-id-14 label.sk-toggleable__label {cursor: pointer;display: block;width: 100%;margin-bottom: 0;padding: 0.3em;box-sizing: border-box;text-align: center;}#sk-container-id-14 label.sk-toggleable__label-arrow:before {content: \"▸\";float: left;margin-right: 0.25em;color: #696969;}#sk-container-id-14 label.sk-toggleable__label-arrow:hover:before {color: black;}#sk-container-id-14 div.sk-estimator:hover label.sk-toggleable__label-arrow:before {color: black;}#sk-container-id-14 div.sk-toggleable__content {max-height: 0;max-width: 0;overflow: hidden;text-align: left;background-color: #f0f8ff;}#sk-container-id-14 div.sk-toggleable__content pre {margin: 0.2em;color: black;border-radius: 0.25em;background-color: #f0f8ff;}#sk-container-id-14 input.sk-toggleable__control:checked~div.sk-toggleable__content {max-height: 200px;max-width: 100%;overflow: auto;}#sk-container-id-14 input.sk-toggleable__control:checked~label.sk-toggleable__label-arrow:before {content: \"▾\";}#sk-container-id-14 div.sk-estimator input.sk-toggleable__control:checked~label.sk-toggleable__label {background-color: #d4ebff;}#sk-container-id-14 div.sk-label input.sk-toggleable__control:checked~label.sk-toggleable__label {background-color: #d4ebff;}#sk-container-id-14 input.sk-hidden--visually {border: 0;clip: rect(1px 1px 1px 1px);clip: rect(1px, 1px, 1px, 1px);height: 1px;margin: -1px;overflow: hidden;padding: 0;position: absolute;width: 1px;}#sk-container-id-14 div.sk-estimator {font-family: monospace;background-color: #f0f8ff;border: 1px dotted black;border-radius: 0.25em;box-sizing: border-box;margin-bottom: 0.5em;}#sk-container-id-14 div.sk-estimator:hover {background-color: #d4ebff;}#sk-container-id-14 div.sk-parallel-item::after {content: \"\";width: 100%;border-bottom: 1px solid gray;flex-grow: 1;}#sk-container-id-14 div.sk-label:hover label.sk-toggleable__label {background-color: #d4ebff;}#sk-container-id-14 div.sk-serial::before {content: \"\";position: absolute;border-left: 1px solid gray;box-sizing: border-box;top: 0;bottom: 0;left: 50%;z-index: 0;}#sk-container-id-14 div.sk-serial {display: flex;flex-direction: column;align-items: center;background-color: white;padding-right: 0.2em;padding-left: 0.2em;position: relative;}#sk-container-id-14 div.sk-item {position: relative;z-index: 1;}#sk-container-id-14 div.sk-parallel {display: flex;align-items: stretch;justify-content: center;background-color: white;position: relative;}#sk-container-id-14 div.sk-item::before, #sk-container-id-14 div.sk-parallel-item::before {content: \"\";position: absolute;border-left: 1px solid gray;box-sizing: border-box;top: 0;bottom: 0;left: 50%;z-index: -1;}#sk-container-id-14 div.sk-parallel-item {display: flex;flex-direction: column;z-index: 1;position: relative;background-color: white;}#sk-container-id-14 div.sk-parallel-item:first-child::after {align-self: flex-end;width: 50%;}#sk-container-id-14 div.sk-parallel-item:last-child::after {align-self: flex-start;width: 50%;}#sk-container-id-14 div.sk-parallel-item:only-child::after {width: 0;}#sk-container-id-14 div.sk-dashed-wrapped {border: 1px dashed gray;margin: 0 0.4em 0.5em 0.4em;box-sizing: border-box;padding-bottom: 0.4em;background-color: white;}#sk-container-id-14 div.sk-label label {font-family: monospace;font-weight: bold;display: inline-block;line-height: 1.2em;}#sk-container-id-14 div.sk-label-container {text-align: center;}#sk-container-id-14 div.sk-container {/* jupyter's `normalize.less` sets `[hidden] { display: none; }` but bootstrap.min.css set `[hidden] { display: none !important; }` so we also need the `!important` here to be able to override the default hidden behavior on the sphinx rendered scikit-learn.org. See: https://github.com/scikit-learn/scikit-learn/issues/21755 */display: inline-block !important;position: relative;}#sk-container-id-14 div.sk-text-repr-fallback {display: none;}</style><div id=\"sk-container-id-14\" class=\"sk-top-container\"><div class=\"sk-text-repr-fallback\"><pre>Pipeline(steps=[(&#x27;transformer&#x27;,\n",
       "                 ColumnTransformer(remainder=&#x27;passthrough&#x27;,\n",
       "                                   transformers=[(&#x27;onehot&#x27;,\n",
       "                                                  OneHotEncoder(drop=&#x27;first&#x27;),\n",
       "                                                  [&#x27;deposit_type&#x27;,\n",
       "                                                   &#x27;customer_type&#x27;]),\n",
       "                                                 (&#x27;binary&#x27;, BinaryEncoder(),\n",
       "                                                  [&#x27;country&#x27;, &#x27;market_segment&#x27;,\n",
       "                                                   &#x27;reserved_room_type&#x27;])])),\n",
       "                (&#x27;SMOTENN&#x27;, SMOTEENN(random_state=100)),\n",
       "                (&#x27;model&#x27;, LGBMClassifier())])</pre><b>In a Jupyter environment, please rerun this cell to show the HTML representation or trust the notebook. <br />On GitHub, the HTML representation is unable to render, please try loading this page with nbviewer.org.</b></div><div class=\"sk-container\" hidden><div class=\"sk-item sk-dashed-wrapped\"><div class=\"sk-label-container\"><div class=\"sk-label sk-toggleable\"><input class=\"sk-toggleable__control sk-hidden--visually\" id=\"sk-estimator-id-129\" type=\"checkbox\" ><label for=\"sk-estimator-id-129\" class=\"sk-toggleable__label sk-toggleable__label-arrow\">Pipeline</label><div class=\"sk-toggleable__content\"><pre>Pipeline(steps=[(&#x27;transformer&#x27;,\n",
       "                 ColumnTransformer(remainder=&#x27;passthrough&#x27;,\n",
       "                                   transformers=[(&#x27;onehot&#x27;,\n",
       "                                                  OneHotEncoder(drop=&#x27;first&#x27;),\n",
       "                                                  [&#x27;deposit_type&#x27;,\n",
       "                                                   &#x27;customer_type&#x27;]),\n",
       "                                                 (&#x27;binary&#x27;, BinaryEncoder(),\n",
       "                                                  [&#x27;country&#x27;, &#x27;market_segment&#x27;,\n",
       "                                                   &#x27;reserved_room_type&#x27;])])),\n",
       "                (&#x27;SMOTENN&#x27;, SMOTEENN(random_state=100)),\n",
       "                (&#x27;model&#x27;, LGBMClassifier())])</pre></div></div></div><div class=\"sk-serial\"><div class=\"sk-item sk-dashed-wrapped\"><div class=\"sk-label-container\"><div class=\"sk-label sk-toggleable\"><input class=\"sk-toggleable__control sk-hidden--visually\" id=\"sk-estimator-id-130\" type=\"checkbox\" ><label for=\"sk-estimator-id-130\" class=\"sk-toggleable__label sk-toggleable__label-arrow\">transformer: ColumnTransformer</label><div class=\"sk-toggleable__content\"><pre>ColumnTransformer(remainder=&#x27;passthrough&#x27;,\n",
       "                  transformers=[(&#x27;onehot&#x27;, OneHotEncoder(drop=&#x27;first&#x27;),\n",
       "                                 [&#x27;deposit_type&#x27;, &#x27;customer_type&#x27;]),\n",
       "                                (&#x27;binary&#x27;, BinaryEncoder(),\n",
       "                                 [&#x27;country&#x27;, &#x27;market_segment&#x27;,\n",
       "                                  &#x27;reserved_room_type&#x27;])])</pre></div></div></div><div class=\"sk-parallel\"><div class=\"sk-parallel-item\"><div class=\"sk-item\"><div class=\"sk-label-container\"><div class=\"sk-label sk-toggleable\"><input class=\"sk-toggleable__control sk-hidden--visually\" id=\"sk-estimator-id-131\" type=\"checkbox\" ><label for=\"sk-estimator-id-131\" class=\"sk-toggleable__label sk-toggleable__label-arrow\">onehot</label><div class=\"sk-toggleable__content\"><pre>[&#x27;deposit_type&#x27;, &#x27;customer_type&#x27;]</pre></div></div></div><div class=\"sk-serial\"><div class=\"sk-item\"><div class=\"sk-estimator sk-toggleable\"><input class=\"sk-toggleable__control sk-hidden--visually\" id=\"sk-estimator-id-132\" type=\"checkbox\" ><label for=\"sk-estimator-id-132\" class=\"sk-toggleable__label sk-toggleable__label-arrow\">OneHotEncoder</label><div class=\"sk-toggleable__content\"><pre>OneHotEncoder(drop=&#x27;first&#x27;)</pre></div></div></div></div></div></div><div class=\"sk-parallel-item\"><div class=\"sk-item\"><div class=\"sk-label-container\"><div class=\"sk-label sk-toggleable\"><input class=\"sk-toggleable__control sk-hidden--visually\" id=\"sk-estimator-id-133\" type=\"checkbox\" ><label for=\"sk-estimator-id-133\" class=\"sk-toggleable__label sk-toggleable__label-arrow\">binary</label><div class=\"sk-toggleable__content\"><pre>[&#x27;country&#x27;, &#x27;market_segment&#x27;, &#x27;reserved_room_type&#x27;]</pre></div></div></div><div class=\"sk-serial\"><div class=\"sk-item\"><div class=\"sk-estimator sk-toggleable\"><input class=\"sk-toggleable__control sk-hidden--visually\" id=\"sk-estimator-id-134\" type=\"checkbox\" ><label for=\"sk-estimator-id-134\" class=\"sk-toggleable__label sk-toggleable__label-arrow\">BinaryEncoder</label><div class=\"sk-toggleable__content\"><pre>BinaryEncoder()</pre></div></div></div></div></div></div><div class=\"sk-parallel-item\"><div class=\"sk-item\"><div class=\"sk-label-container\"><div class=\"sk-label sk-toggleable\"><input class=\"sk-toggleable__control sk-hidden--visually\" id=\"sk-estimator-id-135\" type=\"checkbox\" ><label for=\"sk-estimator-id-135\" class=\"sk-toggleable__label sk-toggleable__label-arrow\">remainder</label><div class=\"sk-toggleable__content\"><pre>[&#x27;previous_cancellations&#x27;, &#x27;booking_changes&#x27;, &#x27;days_in_waiting_list&#x27;, &#x27;required_car_parking_spaces&#x27;, &#x27;total_of_special_requests&#x27;]</pre></div></div></div><div class=\"sk-serial\"><div class=\"sk-item\"><div class=\"sk-estimator sk-toggleable\"><input class=\"sk-toggleable__control sk-hidden--visually\" id=\"sk-estimator-id-136\" type=\"checkbox\" ><label for=\"sk-estimator-id-136\" class=\"sk-toggleable__label sk-toggleable__label-arrow\">passthrough</label><div class=\"sk-toggleable__content\"><pre>passthrough</pre></div></div></div></div></div></div></div></div><div class=\"sk-item\"><div class=\"sk-estimator sk-toggleable\"><input class=\"sk-toggleable__control sk-hidden--visually\" id=\"sk-estimator-id-137\" type=\"checkbox\" ><label for=\"sk-estimator-id-137\" class=\"sk-toggleable__label sk-toggleable__label-arrow\">SMOTEENN</label><div class=\"sk-toggleable__content\"><pre>SMOTEENN(random_state=100)</pre></div></div></div><div class=\"sk-item\"><div class=\"sk-estimator sk-toggleable\"><input class=\"sk-toggleable__control sk-hidden--visually\" id=\"sk-estimator-id-138\" type=\"checkbox\" ><label for=\"sk-estimator-id-138\" class=\"sk-toggleable__label sk-toggleable__label-arrow\">LGBMClassifier</label><div class=\"sk-toggleable__content\"><pre>LGBMClassifier()</pre></div></div></div></div></div></div></div>"
      ],
      "text/plain": [
       "Pipeline(steps=[('transformer',\n",
       "                 ColumnTransformer(remainder='passthrough',\n",
       "                                   transformers=[('onehot',\n",
       "                                                  OneHotEncoder(drop='first'),\n",
       "                                                  ['deposit_type',\n",
       "                                                   'customer_type']),\n",
       "                                                 ('binary', BinaryEncoder(),\n",
       "                                                  ['country', 'market_segment',\n",
       "                                                   'reserved_room_type'])])),\n",
       "                ('SMOTENN', SMOTEENN(random_state=100)),\n",
       "                ('model', LGBMClassifier())])"
      ]
     },
     "execution_count": 264,
     "metadata": {},
     "output_type": "execute_result"
    }
   ],
   "source": [
    "# Pipeline dengan SMOTEENN\n",
    "estimator_smtnn = Pipeline([\n",
    "        ('transformer',transformer),\n",
    "        ('SMOTENN',smtnn),\n",
    "        ('model',model)\n",
    "    ])\n",
    "\n",
    "estimator_smtnn.fit(x_train, y_train)"
   ]
  },
  {
   "cell_type": "code",
   "execution_count": 265,
   "metadata": {},
   "outputs": [
    {
     "name": "stdout",
     "output_type": "stream",
     "text": [
      "Rata-rata score f1 dengan SMOTENN: 0.7389056320678609\n"
     ]
    }
   ],
   "source": [
    "# cross-val dengan SMOTEENN\n",
    "cv_smtnn = cross_val_score(estimator_smtnn, x_train, y_train, cv=skfold, scoring='f1')\n",
    "print('Rata-rata score f1 dengan SMOTENN: {}'.format(cv_under.mean()))"
   ]
  },
  {
   "attachments": {},
   "cell_type": "markdown",
   "metadata": {},
   "source": [
    "Setelah mendapatkan hasil cross-val tiap metode resampling kita akan buatkan summarynya"
   ]
  },
  {
   "cell_type": "markdown",
   "metadata": {},
   "source": [
    "### Summary"
   ]
  },
  {
   "cell_type": "code",
   "execution_count": 266,
   "metadata": {},
   "outputs": [
    {
     "data": {
      "text/html": [
       "<div>\n",
       "<style scoped>\n",
       "    .dataframe tbody tr th:only-of-type {\n",
       "        vertical-align: middle;\n",
       "    }\n",
       "\n",
       "    .dataframe tbody tr th {\n",
       "        vertical-align: top;\n",
       "    }\n",
       "\n",
       "    .dataframe thead th {\n",
       "        text-align: right;\n",
       "    }\n",
       "</style>\n",
       "<table border=\"1\" class=\"dataframe\">\n",
       "  <thead>\n",
       "    <tr style=\"text-align: right;\">\n",
       "      <th></th>\n",
       "      <th>without</th>\n",
       "      <th>ROS</th>\n",
       "      <th>SMOTE</th>\n",
       "      <th>RUS</th>\n",
       "      <th>NearMiss</th>\n",
       "      <th>SMOTENN</th>\n",
       "    </tr>\n",
       "  </thead>\n",
       "  <tbody>\n",
       "    <tr>\n",
       "      <th>0</th>\n",
       "      <td>0.726036</td>\n",
       "      <td>0.739235</td>\n",
       "      <td>0.738265</td>\n",
       "      <td>0.735460</td>\n",
       "      <td>0.702748</td>\n",
       "      <td>0.676345</td>\n",
       "    </tr>\n",
       "    <tr>\n",
       "      <th>1</th>\n",
       "      <td>0.724175</td>\n",
       "      <td>0.733409</td>\n",
       "      <td>0.733762</td>\n",
       "      <td>0.735031</td>\n",
       "      <td>0.704847</td>\n",
       "      <td>0.705164</td>\n",
       "    </tr>\n",
       "    <tr>\n",
       "      <th>2</th>\n",
       "      <td>0.731791</td>\n",
       "      <td>0.740549</td>\n",
       "      <td>0.738548</td>\n",
       "      <td>0.739736</td>\n",
       "      <td>0.711388</td>\n",
       "      <td>0.711583</td>\n",
       "    </tr>\n",
       "    <tr>\n",
       "      <th>3</th>\n",
       "      <td>0.737879</td>\n",
       "      <td>0.746929</td>\n",
       "      <td>0.741759</td>\n",
       "      <td>0.745439</td>\n",
       "      <td>0.723979</td>\n",
       "      <td>0.707525</td>\n",
       "    </tr>\n",
       "    <tr>\n",
       "      <th>4</th>\n",
       "      <td>0.722899</td>\n",
       "      <td>0.739496</td>\n",
       "      <td>0.739776</td>\n",
       "      <td>0.738861</td>\n",
       "      <td>0.700891</td>\n",
       "      <td>0.703938</td>\n",
       "    </tr>\n",
       "  </tbody>\n",
       "</table>\n",
       "</div>"
      ],
      "text/plain": [
       "    without       ROS     SMOTE       RUS  NearMiss   SMOTENN\n",
       "0  0.726036  0.739235  0.738265  0.735460  0.702748  0.676345\n",
       "1  0.724175  0.733409  0.733762  0.735031  0.704847  0.705164\n",
       "2  0.731791  0.740549  0.738548  0.739736  0.711388  0.711583\n",
       "3  0.737879  0.746929  0.741759  0.745439  0.723979  0.707525\n",
       "4  0.722899  0.739496  0.739776  0.738861  0.700891  0.703938"
      ]
     },
     "execution_count": 266,
     "metadata": {},
     "output_type": "execute_result"
    }
   ],
   "source": [
    "# buat datafram tiap iterasi dari cross-validation\n",
    "summary = pd.DataFrame({'without':cv_without,'ROS':cv_over,'SMOTE':cv_smt,'RUS':cv_under,'NearMiss':cv_nm,'SMOTENN':cv_smtnn})\n",
    "summary"
   ]
  },
  {
   "cell_type": "code",
   "execution_count": 267,
   "metadata": {},
   "outputs": [],
   "source": [
    "# buatkan row baru dimana adalah average dari tiap column\n",
    "summary = summary.append(summary.mean(axis=0),ignore_index=True)"
   ]
  },
  {
   "cell_type": "code",
   "execution_count": 268,
   "metadata": {},
   "outputs": [],
   "source": [
    "# masukkan column calculation\n",
    "summary['Calculation'] = ['iteration','iteration','iteration','iteration','iteration','Average']"
   ]
  },
  {
   "cell_type": "code",
   "execution_count": 269,
   "metadata": {},
   "outputs": [
    {
     "data": {
      "text/html": [
       "<div>\n",
       "<style scoped>\n",
       "    .dataframe tbody tr th:only-of-type {\n",
       "        vertical-align: middle;\n",
       "    }\n",
       "\n",
       "    .dataframe tbody tr th {\n",
       "        vertical-align: top;\n",
       "    }\n",
       "\n",
       "    .dataframe thead th {\n",
       "        text-align: right;\n",
       "    }\n",
       "</style>\n",
       "<table border=\"1\" class=\"dataframe\">\n",
       "  <thead>\n",
       "    <tr style=\"text-align: right;\">\n",
       "      <th></th>\n",
       "      <th>without</th>\n",
       "      <th>ROS</th>\n",
       "      <th>SMOTE</th>\n",
       "      <th>RUS</th>\n",
       "      <th>NearMiss</th>\n",
       "      <th>SMOTENN</th>\n",
       "      <th>Calculation</th>\n",
       "    </tr>\n",
       "  </thead>\n",
       "  <tbody>\n",
       "    <tr>\n",
       "      <th>0</th>\n",
       "      <td>0.726036</td>\n",
       "      <td>0.739235</td>\n",
       "      <td>0.738265</td>\n",
       "      <td>0.735460</td>\n",
       "      <td>0.702748</td>\n",
       "      <td>0.676345</td>\n",
       "      <td>iteration</td>\n",
       "    </tr>\n",
       "    <tr>\n",
       "      <th>1</th>\n",
       "      <td>0.724175</td>\n",
       "      <td>0.733409</td>\n",
       "      <td>0.733762</td>\n",
       "      <td>0.735031</td>\n",
       "      <td>0.704847</td>\n",
       "      <td>0.705164</td>\n",
       "      <td>iteration</td>\n",
       "    </tr>\n",
       "    <tr>\n",
       "      <th>2</th>\n",
       "      <td>0.731791</td>\n",
       "      <td>0.740549</td>\n",
       "      <td>0.738548</td>\n",
       "      <td>0.739736</td>\n",
       "      <td>0.711388</td>\n",
       "      <td>0.711583</td>\n",
       "      <td>iteration</td>\n",
       "    </tr>\n",
       "    <tr>\n",
       "      <th>3</th>\n",
       "      <td>0.737879</td>\n",
       "      <td>0.746929</td>\n",
       "      <td>0.741759</td>\n",
       "      <td>0.745439</td>\n",
       "      <td>0.723979</td>\n",
       "      <td>0.707525</td>\n",
       "      <td>iteration</td>\n",
       "    </tr>\n",
       "    <tr>\n",
       "      <th>4</th>\n",
       "      <td>0.722899</td>\n",
       "      <td>0.739496</td>\n",
       "      <td>0.739776</td>\n",
       "      <td>0.738861</td>\n",
       "      <td>0.700891</td>\n",
       "      <td>0.703938</td>\n",
       "      <td>iteration</td>\n",
       "    </tr>\n",
       "    <tr>\n",
       "      <th>5</th>\n",
       "      <td>0.728556</td>\n",
       "      <td>0.739924</td>\n",
       "      <td>0.738422</td>\n",
       "      <td>0.738906</td>\n",
       "      <td>0.708771</td>\n",
       "      <td>0.700911</td>\n",
       "      <td>Average</td>\n",
       "    </tr>\n",
       "  </tbody>\n",
       "</table>\n",
       "</div>"
      ],
      "text/plain": [
       "    without       ROS     SMOTE       RUS  NearMiss   SMOTENN Calculation\n",
       "0  0.726036  0.739235  0.738265  0.735460  0.702748  0.676345  iteration \n",
       "1  0.724175  0.733409  0.733762  0.735031  0.704847  0.705164  iteration \n",
       "2  0.731791  0.740549  0.738548  0.739736  0.711388  0.711583  iteration \n",
       "3  0.737879  0.746929  0.741759  0.745439  0.723979  0.707525  iteration \n",
       "4  0.722899  0.739496  0.739776  0.738861  0.700891  0.703938  iteration \n",
       "5  0.728556  0.739924  0.738422  0.738906  0.708771  0.700911  Average   "
      ]
     },
     "execution_count": 269,
     "metadata": {},
     "output_type": "execute_result"
    }
   ],
   "source": [
    "# hasil akhir summary\n",
    "summary"
   ]
  },
  {
   "attachments": {},
   "cell_type": "markdown",
   "metadata": {},
   "source": [
    "Berdasarkan hasil cross validasi, untuk menangani imbalance data, **RandomOverSampler** memiliki average yang paling tinggi, oleh karena itu kita akan menggunakan RandomOverSampler sebagai penanganan imbalance data kita."
   ]
  },
  {
   "attachments": {},
   "cell_type": "markdown",
   "metadata": {},
   "source": [
    "Selanjutnya kita akan lihat bagaimana resampling akan mempengaruhi perubahan pada test set "
   ]
  },
  {
   "cell_type": "code",
   "execution_count": 270,
   "metadata": {},
   "outputs": [],
   "source": [
    "# fit data dengan ROS\n",
    "aft_sampl = estimator_over.fit(x_train, y_train)"
   ]
  },
  {
   "cell_type": "code",
   "execution_count": 273,
   "metadata": {},
   "outputs": [],
   "source": [
    "# predict x_test\n",
    "y_pred = aft_sampl.predict(x_test)"
   ]
  },
  {
   "cell_type": "code",
   "execution_count": 274,
   "metadata": {},
   "outputs": [
    {
     "name": "stdout",
     "output_type": "stream",
     "text": [
      "              precision    recall  f1-score   support\n",
      "\n",
      "           0       0.87      0.81      0.84     10498\n",
      "           1       0.71      0.80      0.75      6147\n",
      "\n",
      "    accuracy                           0.81     16645\n",
      "   macro avg       0.79      0.80      0.80     16645\n",
      "weighted avg       0.81      0.81      0.81     16645\n",
      "\n",
      "ROC AUC Score: 0.8034352558047653\n"
     ]
    }
   ],
   "source": [
    "# print classification report & roc auc\n",
    "print(classification_report(y_test, y_pred))\n",
    "print('ROC AUC Score:',roc_auc_score(y_test, y_pred))"
   ]
  },
  {
   "attachments": {},
   "cell_type": "markdown",
   "metadata": {},
   "source": [
    "Tanpa Resampling:"
   ]
  },
  {
   "attachments": {},
   "cell_type": "markdown",
   "metadata": {},
   "source": [
    "model|Precision|Recall|f1-score|Accuracy|ROC_AUC\n",
    "-----|------------|--------|--------|----------|------\n",
    "LightGBM|0.777182|0.707012|0.740438|0.816942|0.794161"
   ]
  },
  {
   "attachments": {},
   "cell_type": "markdown",
   "metadata": {},
   "source": [
    "Terlihat bahwa precision mengalami penurunan namun pada recallnya naik cukup drastis, hal ini merupakan dampak dari oversampling, namun hal yang perlu di perhatikan bahwa penurunan pada precision lebih sedikit jika kita bandingkan dengan kenaikan dari recallnya, dan hal ini tentu membuat f1-score jadi lebih baik karena mean harmonicnya menjadi lebih besar. Selain itu, untuk accuracy tidak terlihat adanya perubahan yang besar, masih ada di angka 0.81, dan untuk roc auc juga terlihat adanya peningkatan yang cukup signifikan.\n",
    "\n",
    "dari report diatas, menunjukkan bahwa melakukan resampling (lebih tepatnya lagi dengan RandomOverSampler) telah mengimprove performance dari model ini, oleh karena itu kita akan menggunakan RandomOverSampler di dalam pemodelan kita nanti"
   ]
  },
  {
   "cell_type": "markdown",
   "metadata": {},
   "source": [
    "## Hyperparameter Tuning"
   ]
  },
  {
   "attachments": {},
   "cell_type": "markdown",
   "metadata": {},
   "source": [
    "Dalam tahapan hyperparameter tuning, pendekatan yang dilakukan yaitu dengan **bayesian optimization** dengan menggunakan library **optuna**"
   ]
  },
  {
   "attachments": {},
   "cell_type": "markdown",
   "metadata": {},
   "source": [
    "kita menggunakan **Bayesian Optimization** dengan alasan:\n",
    "1. *Larger Scale*, dengan menggunakan bayesian optimization tuning, range dari tiap parameter lebih luas jangkauannya, hal ini dapat meningkatkan kesempatan untuk mendapatkan hidden layer yang tidak terdeteksi dibandingkan dengan menetapkan parameter secara manual dan paksa seperti **GridSearchCV**, selain itu Gridsearch memakan waktu yang lama jika dikombinasikan dengan parameter yang banyak, argumen parameter yang panjang dan juga cross-val yang foldnya banyak, oleh karena itu Bayesian Optimization dipilih berdasarkan hal hal itu\n",
    "\n",
    "2. mengapa tidak RandomizedCV? Karena bayesian optimization justru merupakan bentuk lebih efisien dan lebih efektif dari RandomizedSearch, karena di randomized search kita secara acak mencari hyperparameter optimal, dan jika sudah ketemu kita akan melakukan adjustment dan lakukan Randomized search ulang, dan hal ini memakan waktu yang lama. dimana bayesian optimization sudah melakukan hal itu secara otomatis dari setiap trial yang dibuatnya, dimana dia akan melakukan adjustment dari trial yang lebih dulu terbuat untuk mengoptimisasi trial yang selanjutnya."
   ]
  },
  {
   "cell_type": "code",
   "execution_count": 275,
   "metadata": {},
   "outputs": [],
   "source": [
    "# buat function untuk melakukan trial\n",
    "def objective(trial):\n",
    "    # definisikan hyperparameter dari LightGBM\n",
    "    model_param = {\n",
    "        'learning_rate': trial.suggest_uniform('learning_rate', 0.01, 1.0),\n",
    "        'num_leaves': trial.suggest_int('num_leaves', 2, 150),\n",
    "        'max_depth': trial.suggest_int('max_depth', -1, 1000),\n",
    "        'n_estimators': trial.suggest_int('n_estimators', 50, 1000, step=50),\n",
    "        'min_child_samples': trial.suggest_int('min_child_samples', 1, 100),\n",
    "        'subsample': trial.suggest_uniform('subsample', 0.1, 1.0),\n",
    "        'colsample_bytree': trial.suggest_uniform('colsample_bytree', 0.1, 1.0),\n",
    "        'reg_alpha': trial.suggest_loguniform('reg_alpha', 1e-8, 1.0),\n",
    "        'reg_lambda': trial.suggest_loguniform('reg_lambda', 1e-8, 1.0),\n",
    "    }\n",
    "\n",
    "    # memasukkan kedalam model\n",
    "    model = lgb.LGBMClassifier(**model_param) # ** untuk membuka dictionary\n",
    "\n",
    "    # buatlah pipeline untuk fungsi ini\n",
    "    pipeline = Pipeline([\n",
    "        ('transformer', transformer), # transformer dan ros langsung di masukkan, karena merupakan global variable\n",
    "        ('Resampling', ros),\n",
    "        ('model', model)\n",
    "    ])\n",
    "\n",
    "    # evaluasi performance menggunakan cross-val\n",
    "    scores = cross_val_score(pipeline, x_train, y_train, cv=5, scoring='f1')\n",
    "    # dari cros-val return mean dari 5 fold\n",
    "    return np.mean(scores)"
   ]
  },
  {
   "cell_type": "code",
   "execution_count": 276,
   "metadata": {},
   "outputs": [
    {
     "name": "stderr",
     "output_type": "stream",
     "text": [
      "\u001b[32m[I 2023-05-24 11:46:41,736]\u001b[0m A new study created in memory with name: no-name-8d8c430f-493e-494a-96b6-6e5c4e11d212\u001b[0m\n",
      "\u001b[32m[I 2023-05-24 11:46:54,094]\u001b[0m Trial 0 finished with value: 0.731941422183501 and parameters: {'learning_rate': 0.06127925691239073, 'num_leaves': 4, 'max_depth': 479, 'n_estimators': 800, 'min_child_samples': 57, 'subsample': 0.7370630440860401, 'colsample_bytree': 0.13516500481723598, 'reg_alpha': 1.47515803163193e-08, 'reg_lambda': 0.2693178076741363}. Best is trial 0 with value: 0.731941422183501.\u001b[0m\n",
      "\u001b[32m[I 2023-05-24 11:47:11,457]\u001b[0m Trial 1 finished with value: 0.7408676371123402 and parameters: {'learning_rate': 0.45327615741043137, 'num_leaves': 76, 'max_depth': 582, 'n_estimators': 400, 'min_child_samples': 51, 'subsample': 0.37471466005124476, 'colsample_bytree': 0.482504127634085, 'reg_alpha': 0.4915113484365091, 'reg_lambda': 0.21770797563041372}. Best is trial 1 with value: 0.7408676371123402.\u001b[0m\n",
      "\u001b[32m[I 2023-05-24 11:47:21,715]\u001b[0m Trial 2 finished with value: 0.7404147596462062 and parameters: {'learning_rate': 0.3103135219008828, 'num_leaves': 147, 'max_depth': 695, 'n_estimators': 100, 'min_child_samples': 46, 'subsample': 0.5474543308866766, 'colsample_bytree': 0.5002778820794872, 'reg_alpha': 3.9818513710063115e-07, 'reg_lambda': 5.397497501256191e-08}. Best is trial 1 with value: 0.7408676371123402.\u001b[0m\n",
      "\u001b[32m[I 2023-05-24 11:47:51,380]\u001b[0m Trial 3 finished with value: 0.7393194025104937 and parameters: {'learning_rate': 0.16841662643201977, 'num_leaves': 75, 'max_depth': 628, 'n_estimators': 600, 'min_child_samples': 30, 'subsample': 0.8589145210538921, 'colsample_bytree': 0.707642855214429, 'reg_alpha': 0.010249382616755263, 'reg_lambda': 0.0001275817390185334}. Best is trial 1 with value: 0.7408676371123402.\u001b[0m\n",
      "\u001b[32m[I 2023-05-24 11:48:04,758]\u001b[0m Trial 4 finished with value: 0.7393697057683072 and parameters: {'learning_rate': 0.5973373110987291, 'num_leaves': 90, 'max_depth': 972, 'n_estimators': 400, 'min_child_samples': 71, 'subsample': 0.10748593687918391, 'colsample_bytree': 0.35139391285308674, 'reg_alpha': 0.34439176983428355, 'reg_lambda': 0.1587545193451577}. Best is trial 1 with value: 0.7408676371123402.\u001b[0m\n",
      "\u001b[32m[I 2023-05-24 11:48:42,361]\u001b[0m Trial 5 finished with value: 0.7371353303014774 and parameters: {'learning_rate': 0.38160533876500136, 'num_leaves': 64, 'max_depth': 971, 'n_estimators': 700, 'min_child_samples': 60, 'subsample': 0.7712833191168343, 'colsample_bytree': 0.8261557612525087, 'reg_alpha': 0.0003550729933269086, 'reg_lambda': 0.046438907647319415}. Best is trial 1 with value: 0.7408676371123402.\u001b[0m\n",
      "\u001b[32m[I 2023-05-24 11:48:57,746]\u001b[0m Trial 6 finished with value: 0.7342903291310247 and parameters: {'learning_rate': 0.9211198357896924, 'num_leaves': 34, 'max_depth': 970, 'n_estimators': 400, 'min_child_samples': 91, 'subsample': 0.9250011505270413, 'colsample_bytree': 0.172936687582032, 'reg_alpha': 2.483869008146544e-08, 'reg_lambda': 0.001406474711062657}. Best is trial 1 with value: 0.7408676371123402.\u001b[0m\n",
      "\u001b[32m[I 2023-05-24 11:49:10,965]\u001b[0m Trial 7 finished with value: 0.7355941569198312 and parameters: {'learning_rate': 0.3377229428318364, 'num_leaves': 54, 'max_depth': 818, 'n_estimators': 750, 'min_child_samples': 92, 'subsample': 0.6588823775561141, 'colsample_bytree': 0.1322681805770398, 'reg_alpha': 0.7251907819620788, 'reg_lambda': 0.0011322073849636394}. Best is trial 1 with value: 0.7408676371123402.\u001b[0m\n",
      "\u001b[32m[I 2023-05-24 11:49:32,677]\u001b[0m Trial 8 finished with value: 0.7377286028703601 and parameters: {'learning_rate': 0.19925982776457665, 'num_leaves': 145, 'max_depth': 138, 'n_estimators': 450, 'min_child_samples': 3, 'subsample': 0.49162453543632667, 'colsample_bytree': 0.5898373442173164, 'reg_alpha': 0.003891518307177032, 'reg_lambda': 0.0005601336248997399}. Best is trial 1 with value: 0.7408676371123402.\u001b[0m\n",
      "\u001b[32m[I 2023-05-24 11:50:05,472]\u001b[0m Trial 9 finished with value: 0.735882124618745 and parameters: {'learning_rate': 0.6813980576793613, 'num_leaves': 149, 'max_depth': 960, 'n_estimators': 650, 'min_child_samples': 100, 'subsample': 0.35431469652928604, 'colsample_bytree': 0.7341279710433988, 'reg_alpha': 0.0004701653178766382, 'reg_lambda': 2.603523115685391e-05}. Best is trial 1 with value: 0.7408676371123402.\u001b[0m\n",
      "\u001b[32m[I 2023-05-24 11:50:41,846]\u001b[0m Trial 10 finished with value: 0.735858947501719 and parameters: {'learning_rate': 0.4864181407418492, 'num_leaves': 108, 'max_depth': 364, 'n_estimators': 1000, 'min_child_samples': 25, 'subsample': 0.32104724987762795, 'colsample_bytree': 0.955496384504136, 'reg_alpha': 7.470203424513976e-06, 'reg_lambda': 0.8029225991910641}. Best is trial 1 with value: 0.7408676371123402.\u001b[0m\n",
      "\u001b[32m[I 2023-05-24 11:50:46,155]\u001b[0m Trial 11 finished with value: 0.7407052146139357 and parameters: {'learning_rate': 0.35537846825050334, 'num_leaves': 114, 'max_depth': 669, 'n_estimators': 50, 'min_child_samples': 39, 'subsample': 0.5776744635369473, 'colsample_bytree': 0.46696178707849123, 'reg_alpha': 5.006011572658618e-06, 'reg_lambda': 5.6952336479649096e-08}. Best is trial 1 with value: 0.7408676371123402.\u001b[0m\n",
      "\u001b[32m[I 2023-05-24 11:50:52,252]\u001b[0m Trial 12 finished with value: 0.7398531516524673 and parameters: {'learning_rate': 0.4874369762707061, 'num_leaves': 111, 'max_depth': 347, 'n_estimators': 100, 'min_child_samples': 37, 'subsample': 0.46460471779024826, 'colsample_bytree': 0.42278321571226263, 'reg_alpha': 1.5655835459149536e-05, 'reg_lambda': 2.554772839791764e-08}. Best is trial 1 with value: 0.7408676371123402.\u001b[0m\n",
      "\u001b[32m[I 2023-05-24 11:51:04,428]\u001b[0m Trial 13 finished with value: 0.738676030764475 and parameters: {'learning_rate': 0.6792760235735487, 'num_leaves': 117, 'max_depth': 622, 'n_estimators': 250, 'min_child_samples': 14, 'subsample': 0.6080788134687257, 'colsample_bytree': 0.3345480628280262, 'reg_alpha': 1.7096614630385524e-05, 'reg_lambda': 1.5566271832103654e-06}. Best is trial 1 with value: 0.7408676371123402.\u001b[0m\n",
      "\u001b[32m[I 2023-05-24 11:51:15,593]\u001b[0m Trial 14 finished with value: 0.7399155876756494 and parameters: {'learning_rate': 0.4315098481513559, 'num_leaves': 91, 'max_depth': 742, 'n_estimators': 250, 'min_child_samples': 74, 'subsample': 0.3883045104157415, 'colsample_bytree': 0.5696266714793111, 'reg_alpha': 0.024212615271383246, 'reg_lambda': 1.3636814134022263e-06}. Best is trial 1 with value: 0.7408676371123402.\u001b[0m\n",
      "\u001b[32m[I 2023-05-24 11:51:23,015]\u001b[0m Trial 15 finished with value: 0.7405708853511422 and parameters: {'learning_rate': 0.26931876355857265, 'num_leaves': 41, 'max_depth': 496, 'n_estimators': 200, 'min_child_samples': 48, 'subsample': 0.26227367326848183, 'colsample_bytree': 0.4751363055824415, 'reg_alpha': 0.06504741477311607, 'reg_lambda': 0.013159258227263984}. Best is trial 1 with value: 0.7408676371123402.\u001b[0m\n",
      "\u001b[32m[I 2023-05-24 11:51:26,981]\u001b[0m Trial 16 finished with value: 0.7166273123329789 and parameters: {'learning_rate': 0.024290177936589497, 'num_leaves': 125, 'max_depth': 65, 'n_estimators': 50, 'min_child_samples': 39, 'subsample': 0.6107377426170623, 'colsample_bytree': 0.31968193239429266, 'reg_alpha': 0.0015274355475012663, 'reg_lambda': 0.012128737181625009}. Best is trial 1 with value: 0.7408676371123402.\u001b[0m\n",
      "\u001b[32m[I 2023-05-24 11:51:48,186]\u001b[0m Trial 17 finished with value: 0.7372982304696426 and parameters: {'learning_rate': 0.5601222378791446, 'num_leaves': 93, 'max_depth': 332, 'n_estimators': 500, 'min_child_samples': 69, 'subsample': 0.47894703631113805, 'colsample_bytree': 0.5980753554207441, 'reg_alpha': 0.00010536185687365746, 'reg_lambda': 1.259168121410167e-08}. Best is trial 1 with value: 0.7408676371123402.\u001b[0m\n",
      "\u001b[32m[I 2023-05-24 11:51:57,285]\u001b[0m Trial 18 finished with value: 0.740202723791447 and parameters: {'learning_rate': 0.3934095643091464, 'num_leaves': 128, 'max_depth': 780, 'n_estimators': 300, 'min_child_samples': 20, 'subsample': 0.6877699148474807, 'colsample_bytree': 0.2604482413218009, 'reg_alpha': 0.16431968674443304, 'reg_lambda': 1.5020465431961211e-05}. Best is trial 1 with value: 0.7408676371123402.\u001b[0m\n",
      "\u001b[32m[I 2023-05-24 11:52:27,124]\u001b[0m Trial 19 finished with value: 0.7394164252365802 and parameters: {'learning_rate': 0.23861092550705199, 'num_leaves': 76, 'max_depth': 562, 'n_estimators': 850, 'min_child_samples': 59, 'subsample': 0.22870617169691287, 'colsample_bytree': 0.4517945486536733, 'reg_alpha': 0.043325667730496294, 'reg_lambda': 1.6726628130197524e-07}. Best is trial 1 with value: 0.7408676371123402.\u001b[0m\n",
      "\u001b[32m[I 2023-05-24 11:52:35,831]\u001b[0m Trial 20 finished with value: 0.7408663406694525 and parameters: {'learning_rate': 0.33864842204704954, 'num_leaves': 16, 'max_depth': 852, 'n_estimators': 350, 'min_child_samples': 37, 'subsample': 0.43143134091691515, 'colsample_bytree': 0.4059135226674762, 'reg_alpha': 0.006238530332372035, 'reg_lambda': 2.725227428841038e-07}. Best is trial 1 with value: 0.7408676371123402.\u001b[0m\n",
      "\u001b[32m[I 2023-05-24 11:52:45,234]\u001b[0m Trial 21 finished with value: 0.7397913010339984 and parameters: {'learning_rate': 0.347253561783654, 'num_leaves': 22, 'max_depth': 847, 'n_estimators': 350, 'min_child_samples': 34, 'subsample': 0.41397538006475343, 'colsample_bytree': 0.40550998316399206, 'reg_alpha': 0.6579676151832569, 'reg_lambda': 2.4952554497877677e-07}. Best is trial 1 with value: 0.7408676371123402.\u001b[0m\n",
      "\u001b[32m[I 2023-05-24 11:52:56,262]\u001b[0m Trial 22 finished with value: 0.7406680488002937 and parameters: {'learning_rate': 0.4336707672519307, 'num_leaves': 7, 'max_depth': 875, 'n_estimators': 550, 'min_child_samples': 44, 'subsample': 0.5421930287467018, 'colsample_bytree': 0.4949990101702222, 'reg_alpha': 0.007844744329262656, 'reg_lambda': 1.6536863785251398e-06}. Best is trial 1 with value: 0.7408676371123402.\u001b[0m\n",
      "\u001b[32m[I 2023-05-24 11:53:03,425]\u001b[0m Trial 23 finished with value: 0.7344343538139696 and parameters: {'learning_rate': 0.11657927112588842, 'num_leaves': 56, 'max_depth': 687, 'n_estimators': 150, 'min_child_samples': 52, 'subsample': 0.4576944595250696, 'colsample_bytree': 0.2556892518173998, 'reg_alpha': 0.10310134397897863, 'reg_lambda': 1.1546588899726796e-08}. Best is trial 1 with value: 0.7408676371123402.\u001b[0m\n",
      "\u001b[32m[I 2023-05-24 11:53:12,544]\u001b[0m Trial 24 finished with value: 0.7420480208065985 and parameters: {'learning_rate': 0.27170008148766983, 'num_leaves': 21, 'max_depth': 447, 'n_estimators': 300, 'min_child_samples': 20, 'subsample': 0.39251721231001596, 'colsample_bytree': 0.40668384652369416, 'reg_alpha': 0.033282660087053655, 'reg_lambda': 4.4526520012742697e-07}. Best is trial 24 with value: 0.7420480208065985.\u001b[0m\n",
      "\u001b[32m[I 2023-05-24 11:53:21,470]\u001b[0m Trial 25 finished with value: 0.7413130192857796 and parameters: {'learning_rate': 0.23972979866024133, 'num_leaves': 18, 'max_depth': 241, 'n_estimators': 350, 'min_child_samples': 11, 'subsample': 0.3139339036905819, 'colsample_bytree': 0.3530118186984621, 'reg_alpha': 0.018844845053837107, 'reg_lambda': 5.382486087129946e-06}. Best is trial 24 with value: 0.7420480208065985.\u001b[0m\n",
      "\u001b[32m[I 2023-05-24 11:53:35,027]\u001b[0m Trial 26 finished with value: 0.738533395655857 and parameters: {'learning_rate': 0.15353572736844223, 'num_leaves': 31, 'max_depth': 209, 'n_estimators': 500, 'min_child_samples': 1, 'subsample': 0.3153594566969996, 'colsample_bytree': 0.2366028952364565, 'reg_alpha': 0.07228773314858211, 'reg_lambda': 1.3419771793164215e-05}. Best is trial 24 with value: 0.7420480208065985.\u001b[0m\n",
      "\u001b[32m[I 2023-05-24 11:53:45,015]\u001b[0m Trial 27 finished with value: 0.7407772640062184 and parameters: {'learning_rate': 0.25377334668291995, 'num_leaves': 43, 'max_depth': 257, 'n_estimators': 300, 'min_child_samples': 10, 'subsample': 0.2597728298054589, 'colsample_bytree': 0.35712403094524525, 'reg_alpha': 0.223106970679113, 'reg_lambda': 6.341544496037932e-06}. Best is trial 24 with value: 0.7420480208065985.\u001b[0m\n",
      "\u001b[32m[I 2023-05-24 11:53:56,247]\u001b[0m Trial 28 finished with value: 0.7407750846820728 and parameters: {'learning_rate': 0.11195246906739617, 'num_leaves': 21, 'max_depth': 427, 'n_estimators': 450, 'min_child_samples': 21, 'subsample': 0.3743025988866229, 'colsample_bytree': 0.5210135742740376, 'reg_alpha': 0.02101505174132636, 'reg_lambda': 7.826347124493621e-05}. Best is trial 24 with value: 0.7420480208065985.\u001b[0m\n",
      "\u001b[32m[I 2023-05-24 11:54:02,492]\u001b[0m Trial 29 finished with value: 0.7305105602048915 and parameters: {'learning_rate': 0.053823706594708975, 'num_leaves': 8, 'max_depth': 436, 'n_estimators': 200, 'min_child_samples': 10, 'subsample': 0.1952520190494712, 'colsample_bytree': 0.19322587843792427, 'reg_alpha': 0.25881997236668064, 'reg_lambda': 0.9796657723049874}. Best is trial 24 with value: 0.7420480208065985.\u001b[0m\n",
      "\u001b[32m[I 2023-05-24 11:54:12,700]\u001b[0m Trial 30 finished with value: 0.7002146353069165 and parameters: {'learning_rate': 0.2147072783612344, 'num_leaves': 2, 'max_depth': 561, 'n_estimators': 600, 'min_child_samples': 26, 'subsample': 0.3261446188149205, 'colsample_bytree': 0.29659055678702667, 'reg_alpha': 0.9834825449108844, 'reg_lambda': 2.6710859989758e-06}. Best is trial 24 with value: 0.7420480208065985.\u001b[0m\n",
      "\u001b[32m[I 2023-05-24 11:54:22,235]\u001b[0m Trial 31 finished with value: 0.7405936216207837 and parameters: {'learning_rate': 0.28421879581650605, 'num_leaves': 14, 'max_depth': 9, 'n_estimators': 350, 'min_child_samples': 17, 'subsample': 0.41166556902370083, 'colsample_bytree': 0.39048782162226126, 'reg_alpha': 0.003279726950883076, 'reg_lambda': 4.40758048072894e-07}. Best is trial 24 with value: 0.7420480208065985.\u001b[0m\n",
      "\u001b[32m[I 2023-05-24 11:54:31,751]\u001b[0m Trial 32 finished with value: 0.7417002554767189 and parameters: {'learning_rate': 0.19435146341146142, 'num_leaves': 22, 'max_depth': 266, 'n_estimators': 350, 'min_child_samples': 27, 'subsample': 0.41357330390772395, 'colsample_bytree': 0.39885694725321913, 'reg_alpha': 0.022593620564679024, 'reg_lambda': 5.044732916127356e-07}. Best is trial 24 with value: 0.7420480208065985.\u001b[0m\n",
      "\u001b[32m[I 2023-05-24 11:54:42,879]\u001b[0m Trial 33 finished with value: 0.7409196198784275 and parameters: {'learning_rate': 0.11909010652729925, 'num_leaves': 27, 'max_depth': 258, 'n_estimators': 400, 'min_child_samples': 28, 'subsample': 0.3680007949601386, 'colsample_bytree': 0.5310284241859344, 'reg_alpha': 0.015876819577928976, 'reg_lambda': 4.765076235952807e-06}. Best is trial 24 with value: 0.7420480208065985.\u001b[0m\n",
      "\u001b[32m[I 2023-05-24 11:54:51,995]\u001b[0m Trial 34 finished with value: 0.7407991814448572 and parameters: {'learning_rate': 0.09444735771078155, 'num_leaves': 29, 'max_depth': 264, 'n_estimators': 300, 'min_child_samples': 8, 'subsample': 0.4920743124124485, 'colsample_bytree': 0.5316141526365596, 'reg_alpha': 0.020913826321236128, 'reg_lambda': 6.403198032018517e-06}. Best is trial 24 with value: 0.7420480208065985.\u001b[0m\n",
      "\u001b[32m[I 2023-05-24 11:55:06,792]\u001b[0m Trial 35 finished with value: 0.7410826919726553 and parameters: {'learning_rate': 0.1650672172412737, 'num_leaves': 40, 'max_depth': 137, 'n_estimators': 450, 'min_child_samples': 29, 'subsample': 0.36269644919169053, 'colsample_bytree': 0.3672559287228384, 'reg_alpha': 0.020387713050021673, 'reg_lambda': 6.251310385981582e-07}. Best is trial 24 with value: 0.7420480208065985.\u001b[0m\n",
      "\u001b[32m[I 2023-05-24 11:55:21,491]\u001b[0m Trial 36 finished with value: 0.7412050755343174 and parameters: {'learning_rate': 0.17783632014772055, 'num_leaves': 44, 'max_depth': 179, 'n_estimators': 450, 'min_child_samples': 15, 'subsample': 0.2922299605169809, 'colsample_bytree': 0.36346725843664174, 'reg_alpha': 0.0015829429195809768, 'reg_lambda': 6.238548912776868e-07}. Best is trial 24 with value: 0.7420480208065985.\u001b[0m\n",
      "\u001b[32m[I 2023-05-24 11:55:39,590]\u001b[0m Trial 37 finished with value: 0.7283524841668274 and parameters: {'learning_rate': 0.01124071542091612, 'num_leaves': 49, 'max_depth': 201, 'n_estimators': 550, 'min_child_samples': 13, 'subsample': 0.16546717356009258, 'colsample_bytree': 0.3064676323948412, 'reg_alpha': 0.001314780384926238, 'reg_lambda': 1.0398984706612301e-07}. Best is trial 24 with value: 0.7420480208065985.\u001b[0m\n",
      "\u001b[32m[I 2023-05-24 11:55:45,582]\u001b[0m Trial 38 finished with value: 0.738184886592492 and parameters: {'learning_rate': 0.20083750169580722, 'num_leaves': 14, 'max_depth': 106, 'n_estimators': 200, 'min_child_samples': 19, 'subsample': 0.2894285185874047, 'colsample_bytree': 0.42597005237851154, 'reg_alpha': 0.04452249635232718, 'reg_lambda': 7.492872325561237e-07}. Best is trial 24 with value: 0.7420480208065985.\u001b[0m\n",
      "\u001b[32m[I 2023-05-24 11:56:00,673]\u001b[0m Trial 39 finished with value: 0.7398885468603154 and parameters: {'learning_rate': 0.3041868452638164, 'num_leaves': 71, 'max_depth': 427, 'n_estimators': 400, 'min_child_samples': 6, 'subsample': 0.2776220572753254, 'colsample_bytree': 0.37541442665658425, 'reg_alpha': 0.0025745001913324277, 'reg_lambda': 8.579848162850304e-08}. Best is trial 24 with value: 0.7420480208065985.\u001b[0m\n",
      "\u001b[32m[I 2023-05-24 11:56:09,193]\u001b[0m Trial 40 finished with value: 0.7397345572140764 and parameters: {'learning_rate': 0.17192152646881795, 'num_leaves': 35, 'max_depth': 305, 'n_estimators': 250, 'min_child_samples': 23, 'subsample': 0.20248545549475178, 'colsample_bytree': 0.29081062908434985, 'reg_alpha': 0.007946357721366247, 'reg_lambda': 6.286852249545173e-07}. Best is trial 24 with value: 0.7420480208065985.\u001b[0m\n",
      "\u001b[32m[I 2023-05-24 11:56:23,387]\u001b[0m Trial 41 finished with value: 0.7410612547165152 and parameters: {'learning_rate': 0.22130315579923104, 'num_leaves': 41, 'max_depth': 174, 'n_estimators': 450, 'min_child_samples': 33, 'subsample': 0.3570811758493525, 'colsample_bytree': 0.3512993235963218, 'reg_alpha': 0.00977239203842542, 'reg_lambda': 4.95233414568951e-07}. Best is trial 24 with value: 0.7420480208065985.\u001b[0m\n",
      "\u001b[32m[I 2023-05-24 11:56:35,419]\u001b[0m Trial 42 finished with value: 0.7409398783479016 and parameters: {'learning_rate': 0.16769149539078065, 'num_leaves': 23, 'max_depth': 112, 'n_estimators': 450, 'min_child_samples': 15, 'subsample': 0.3322886926262154, 'colsample_bytree': 0.36313688846260983, 'reg_alpha': 0.12044770477543017, 'reg_lambda': 2.437893221807855e-07}. Best is trial 24 with value: 0.7420480208065985.\u001b[0m\n",
      "\u001b[32m[I 2023-05-24 11:56:48,578]\u001b[0m Trial 43 finished with value: 0.7404698579967871 and parameters: {'learning_rate': 0.28600674556883643, 'num_leaves': 62, 'max_depth': 35, 'n_estimators': 350, 'min_child_samples': 30, 'subsample': 0.414669203927447, 'colsample_bytree': 0.4439085096285303, 'reg_alpha': 0.02987882590333976, 'reg_lambda': 4.59511692622105e-08}. Best is trial 24 with value: 0.7420480208065985.\u001b[0m\n",
      "\u001b[32m[I 2023-05-24 11:57:08,107]\u001b[0m Trial 44 finished with value: 0.741777946177356 and parameters: {'learning_rate': 0.07822066822885183, 'num_leaves': 48, 'max_depth': 137, 'n_estimators': 600, 'min_child_samples': 4, 'subsample': 0.30414991028750765, 'colsample_bytree': 0.3860676287583968, 'reg_alpha': 0.0007353471756104755, 'reg_lambda': 2.7253995669151273e-06}. Best is trial 24 with value: 0.7420480208065985.\u001b[0m\n",
      "\u001b[32m[I 2023-05-24 11:57:30,263]\u001b[0m Trial 45 finished with value: 0.7410358429585073 and parameters: {'learning_rate': 0.0685661439380724, 'num_leaves': 51, 'max_depth': 188, 'n_estimators': 700, 'min_child_samples': 4, 'subsample': 0.302655978080216, 'colsample_bytree': 0.45353176900676184, 'reg_alpha': 0.0007658345124056875, 'reg_lambda': 3.0021976524661097e-06}. Best is trial 24 with value: 0.7420480208065985.\u001b[0m\n",
      "\u001b[32m[I 2023-05-24 11:57:43,391]\u001b[0m Trial 46 finished with value: 0.7361929173691352 and parameters: {'learning_rate': 0.23012547473273592, 'num_leaves': 62, 'max_depth': 74, 'n_estimators': 650, 'min_child_samples': 12, 'subsample': 0.26699689298079365, 'colsample_bytree': 0.11799295079571126, 'reg_alpha': 0.0003880295549087706, 'reg_lambda': 1.2196584482903658e-06}. Best is trial 24 with value: 0.7420480208065985.\u001b[0m\n",
      "\u001b[32m[I 2023-05-24 11:57:56,254]\u001b[0m Trial 47 finished with value: 0.7373712497904131 and parameters: {'learning_rate': 0.06382069235789112, 'num_leaves': 11, 'max_depth': 369, 'n_estimators': 600, 'min_child_samples': 6, 'subsample': 0.1370923224889008, 'colsample_bytree': 0.3253905927742766, 'reg_alpha': 0.004087503335158295, 'reg_lambda': 2.8707472454974862e-06}. Best is trial 24 with value: 0.7420480208065985.\u001b[0m\n",
      "\u001b[32m[I 2023-05-24 11:58:24,183]\u001b[0m Trial 48 finished with value: 0.7404043387458136 and parameters: {'learning_rate': 0.13689792414210622, 'num_leaves': 48, 'max_depth': 294, 'n_estimators': 900, 'min_child_samples': 1, 'subsample': 0.22330153148874266, 'colsample_bytree': 0.3918726652702336, 'reg_alpha': 0.001081911419928967, 'reg_lambda': 1.361688860414685e-07}. Best is trial 24 with value: 0.7420480208065985.\u001b[0m\n",
      "\u001b[32m[I 2023-05-24 11:58:36,763]\u001b[0m Trial 49 finished with value: 0.7416430134985118 and parameters: {'learning_rate': 0.25907922212527135, 'num_leaves': 20, 'max_depth': 386, 'n_estimators': 500, 'min_child_samples': 16, 'subsample': 0.3186304432779875, 'colsample_bytree': 0.4276795367182121, 'reg_alpha': 0.000199891896554923, 'reg_lambda': 1.3541628251521947e-06}. Best is trial 24 with value: 0.7420480208065985.\u001b[0m\n",
      "\u001b[32m[I 2023-05-24 11:58:52,589]\u001b[0m Trial 50 finished with value: 0.7394794312397948 and parameters: {'learning_rate': 0.26294403554269846, 'num_leaves': 35, 'max_depth': 384, 'n_estimators': 550, 'min_child_samples': 24, 'subsample': 0.33906921804857987, 'colsample_bytree': 0.47998048618487477, 'reg_alpha': 0.00017168088464975217, 'reg_lambda': 5.286285317606354e-05}. Best is trial 24 with value: 0.7420480208065985.\u001b[0m\n",
      "\u001b[32m[I 2023-05-24 11:59:06,470]\u001b[0m Trial 51 finished with value: 0.7411953522800148 and parameters: {'learning_rate': 0.3034501835238194, 'num_leaves': 24, 'max_depth': 461, 'n_estimators': 500, 'min_child_samples': 16, 'subsample': 0.31163967391673886, 'colsample_bytree': 0.4205892323082261, 'reg_alpha': 0.0006079717361188291, 'reg_lambda': 1.0577625778145814e-06}. Best is trial 24 with value: 0.7420480208065985.\u001b[0m\n",
      "\u001b[32m[I 2023-05-24 11:59:21,593]\u001b[0m Trial 52 finished with value: 0.7411571754742836 and parameters: {'learning_rate': 0.18681080690434798, 'num_leaves': 17, 'max_depth': 233, 'n_estimators': 650, 'min_child_samples': 18, 'subsample': 0.23501315471259515, 'colsample_bytree': 0.34515425393527255, 'reg_alpha': 5.075317910305595e-05, 'reg_lambda': 3.345115099403785e-07}. Best is trial 24 with value: 0.7420480208065985.\u001b[0m\n",
      "\u001b[32m[I 2023-05-24 11:59:33,349]\u001b[0m Trial 53 finished with value: 0.7417925959476008 and parameters: {'learning_rate': 0.14388614266073474, 'num_leaves': 33, 'max_depth': 316, 'n_estimators': 400, 'min_child_samples': 11, 'subsample': 0.4017763062256182, 'colsample_bytree': 0.4341397763564602, 'reg_alpha': 0.00019523183806912953, 'reg_lambda': 1.6105528419056987e-06}. Best is trial 24 with value: 0.7420480208065985.\u001b[0m\n",
      "\u001b[32m[I 2023-05-24 11:59:43,107]\u001b[0m Trial 54 finished with value: 0.7413082113634377 and parameters: {'learning_rate': 0.09618278618369586, 'num_leaves': 33, 'max_depth': 313, 'n_estimators': 300, 'min_child_samples': 8, 'subsample': 0.39365130734020587, 'colsample_bytree': 0.4894070552998314, 'reg_alpha': 0.000275518403970707, 'reg_lambda': 9.701235239907619e-06}. Best is trial 24 with value: 0.7420480208065985.\u001b[0m\n",
      "\u001b[32m[I 2023-05-24 11:59:50,245]\u001b[0m Trial 55 finished with value: 0.7004503097531943 and parameters: {'learning_rate': 0.38912863642676176, 'num_leaves': 2, 'max_depth': 535, 'n_estimators': 350, 'min_child_samples': 11, 'subsample': 0.43985732434424135, 'colsample_bytree': 0.43847215531204775, 'reg_alpha': 7.577678644345565e-05, 'reg_lambda': 1.9244726223199938e-05}. Best is trial 24 with value: 0.7420480208065985.\u001b[0m\n",
      "\u001b[32m[I 2023-05-24 11:59:57,774]\u001b[0m Trial 56 finished with value: 0.7408570984438212 and parameters: {'learning_rate': 0.25210576607261065, 'num_leaves': 19, 'max_depth': 400, 'n_estimators': 250, 'min_child_samples': 22, 'subsample': 0.39367117976078725, 'colsample_bytree': 0.4152106381807462, 'reg_alpha': 0.00022811526923280172, 'reg_lambda': 2.480914013075305e-06}. Best is trial 24 with value: 0.7420480208065985.\u001b[0m\n",
      "\u001b[32m[I 2023-05-24 12:00:17,890]\u001b[0m Trial 57 finished with value: 0.7408010629233199 and parameters: {'learning_rate': 0.14100680964926246, 'num_leaves': 26, 'max_depth': 500, 'n_estimators': 750, 'min_child_samples': 3, 'subsample': 0.5170444006040963, 'colsample_bytree': 0.4686900576180032, 'reg_alpha': 0.4092561918983656, 'reg_lambda': 2.5155619520081024e-05}. Best is trial 24 with value: 0.7420480208065985.\u001b[0m\n",
      "\u001b[32m[I 2023-05-24 12:00:26,887]\u001b[0m Trial 58 finished with value: 0.7397245821099863 and parameters: {'learning_rate': 0.22875946584285622, 'num_leaves': 9, 'max_depth': 339, 'n_estimators': 400, 'min_child_samples': 77, 'subsample': 0.4489826815637647, 'colsample_bytree': 0.3905064578392334, 'reg_alpha': 0.002207054397064731, 'reg_lambda': 1.375601564002377e-06}. Best is trial 24 with value: 0.7420480208065985.\u001b[0m\n",
      "\u001b[32m[I 2023-05-24 12:00:39,866]\u001b[0m Trial 59 finished with value: 0.7388817804022189 and parameters: {'learning_rate': 0.3388879447752062, 'num_leaves': 37, 'max_depth': 274, 'n_estimators': 500, 'min_child_samples': 6, 'subsample': 0.34783312202108885, 'colsample_bytree': 0.5561149253885369, 'reg_alpha': 0.000735683785370095, 'reg_lambda': 1.9341271446594711e-07}. Best is trial 24 with value: 0.7420480208065985.\u001b[0m\n",
      "\u001b[32m[I 2023-05-24 12:00:45,788]\u001b[0m Trial 60 finished with value: 0.7383651285998447 and parameters: {'learning_rate': 0.20111933489364262, 'num_leaves': 29, 'max_depth': 150, 'n_estimators': 150, 'min_child_samples': 32, 'subsample': 0.4734950591189834, 'colsample_bytree': 0.32345319830436403, 'reg_alpha': 0.059732622727843736, 'reg_lambda': 4.31859426496949e-06}. Best is trial 24 with value: 0.7420480208065985.\u001b[0m\n",
      "\u001b[32m[I 2023-05-24 12:00:55,045]\u001b[0m Trial 61 finished with value: 0.740779980880425 and parameters: {'learning_rate': 0.09171997209086336, 'num_leaves': 32, 'max_depth': 305, 'n_estimators': 300, 'min_child_samples': 9, 'subsample': 0.3948003135338763, 'colsample_bytree': 0.5027431711936129, 'reg_alpha': 0.0004229298922511425, 'reg_lambda': 6.9024082606760755e-06}. Best is trial 24 with value: 0.7420480208065985.\u001b[0m\n",
      "\u001b[32m[I 2023-05-24 12:01:03,979]\u001b[0m Trial 62 finished with value: 0.7394304714802664 and parameters: {'learning_rate': 0.1393076683725213, 'num_leaves': 16, 'max_depth': 227, 'n_estimators': 300, 'min_child_samples': 14, 'subsample': 0.381402057045712, 'colsample_bytree': 0.47561562103865695, 'reg_alpha': 0.00018989886836237984, 'reg_lambda': 1.2344541297719103e-05}. Best is trial 24 with value: 0.7420480208065985.\u001b[0m\n",
      "\u001b[32m[I 2023-05-24 12:01:18,906]\u001b[0m Trial 63 finished with value: 0.7415633677676373 and parameters: {'learning_rate': 0.09373974408057682, 'num_leaves': 56, 'max_depth': 329, 'n_estimators': 400, 'min_child_samples': 19, 'subsample': 0.4232886370985631, 'colsample_bytree': 0.4379569929296249, 'reg_alpha': 0.004642308577187889, 'reg_lambda': 9.214076816076739e-06}. Best is trial 24 with value: 0.7420480208065985.\u001b[0m\n",
      "\u001b[32m[I 2023-05-24 12:01:36,293]\u001b[0m Trial 64 finished with value: 0.7404844536288108 and parameters: {'learning_rate': 0.036791770391148365, 'num_leaves': 82, 'max_depth': 341, 'n_estimators': 400, 'min_child_samples': 43, 'subsample': 0.4202980870056278, 'colsample_bytree': 0.43927911341793413, 'reg_alpha': 0.004962654259032333, 'reg_lambda': 2.1228260031019428e-06}. Best is trial 24 with value: 0.7420480208065985.\u001b[0m\n",
      "\u001b[32m[I 2023-05-24 12:01:57,299]\u001b[0m Trial 65 finished with value: 0.7412285949710862 and parameters: {'learning_rate': 0.0639967707285603, 'num_leaves': 59, 'max_depth': 393, 'n_estimators': 600, 'min_child_samples': 20, 'subsample': 0.44130992124373214, 'colsample_bytree': 0.4072874208346605, 'reg_alpha': 0.008657024547479958, 'reg_lambda': 1.0830666726569641e-06}. Best is trial 24 with value: 0.7420480208065985.\u001b[0m\n",
      "\u001b[32m[I 2023-05-24 12:02:16,306]\u001b[0m Trial 66 finished with value: 0.7370309642955215 and parameters: {'learning_rate': 0.011225374640084551, 'num_leaves': 54, 'max_depth': 470, 'n_estimators': 500, 'min_child_samples': 26, 'subsample': 0.3333456533754188, 'colsample_bytree': 0.39100874747435765, 'reg_alpha': 0.01140640652647901, 'reg_lambda': 3.4955812746960004e-05}. Best is trial 24 with value: 0.7420480208065985.\u001b[0m\n",
      "\u001b[32m[I 2023-05-24 12:02:28,623]\u001b[0m Trial 67 finished with value: 0.7399293657829904 and parameters: {'learning_rate': 0.12398993473205738, 'num_leaves': 68, 'max_depth': 236, 'n_estimators': 350, 'min_child_samples': 18, 'subsample': 0.365343961378609, 'colsample_bytree': 0.285118396642728, 'reg_alpha': 0.0023512610249580524, 'reg_lambda': 4.821044580921807e-06}. Best is trial 24 with value: 0.7420480208065985.\u001b[0m\n",
      "\u001b[32m[I 2023-05-24 12:02:42,218]\u001b[0m Trial 68 finished with value: 0.7402870828483603 and parameters: {'learning_rate': 0.1975768826488551, 'num_leaves': 46, 'max_depth': 512, 'n_estimators': 400, 'min_child_samples': 65, 'subsample': 0.5170979956102103, 'colsample_bytree': 0.3422142789914119, 'reg_alpha': 0.004332660489558854, 'reg_lambda': 3.1709355062853455e-07}. Best is trial 24 with value: 0.7420480208065985.\u001b[0m\n",
      "\u001b[32m[I 2023-05-24 12:02:51,735]\u001b[0m Trial 69 finished with value: 0.7407331732863784 and parameters: {'learning_rate': 0.2533502422146517, 'num_leaves': 21, 'max_depth': 358, 'n_estimators': 350, 'min_child_samples': 83, 'subsample': 0.31221046210942843, 'colsample_bytree': 0.5104912735423243, 'reg_alpha': 0.014345712849017787, 'reg_lambda': 9.133035547615348e-06}. Best is trial 24 with value: 0.7420480208065985.\u001b[0m\n",
      "\u001b[32m[I 2023-05-24 12:03:09,421]\u001b[0m Trial 70 finished with value: 0.740625480838226 and parameters: {'learning_rate': 0.15335414760511626, 'num_leaves': 39, 'max_depth': 447, 'n_estimators': 550, 'min_child_samples': 13, 'subsample': 0.2590047959584748, 'colsample_bytree': 0.45178875021389664, 'reg_alpha': 0.03606210825944869, 'reg_lambda': 1.9488101588512724e-06}. Best is trial 24 with value: 0.7420480208065985.\u001b[0m\n",
      "\u001b[32m[I 2023-05-24 12:03:17,756]\u001b[0m Trial 71 finished with value: 0.7404957897522305 and parameters: {'learning_rate': 0.0734134827424721, 'num_leaves': 32, 'max_depth': 318, 'n_estimators': 250, 'min_child_samples': 7, 'subsample': 0.40815353710453894, 'colsample_bytree': 0.4893236547535121, 'reg_alpha': 0.0011391963654416434, 'reg_lambda': 1.183427495643572e-05}. Best is trial 24 with value: 0.7420480208065985.\u001b[0m\n",
      "\u001b[32m[I 2023-05-24 12:03:25,713]\u001b[0m Trial 72 finished with value: 0.7368527443560143 and parameters: {'learning_rate': 0.10159295554872895, 'num_leaves': 12, 'max_depth': 275, 'n_estimators': 300, 'min_child_samples': 10, 'subsample': 0.3778098910469023, 'colsample_bytree': 0.4207432639625837, 'reg_alpha': 0.00027601458307675733, 'reg_lambda': 8.107317218627885e-06}. Best is trial 24 with value: 0.7420480208065985.\u001b[0m\n",
      "\u001b[32m[I 2023-05-24 12:03:38,079]\u001b[0m Trial 73 finished with value: 0.7407899056074455 and parameters: {'learning_rate': 0.08447572832564687, 'num_leaves': 27, 'max_depth': 419, 'n_estimators': 450, 'min_child_samples': 4, 'subsample': 0.46063265288225647, 'colsample_bytree': 0.37539624232244106, 'reg_alpha': 0.00013142861213523308, 'reg_lambda': 3.6046659047219477e-06}. Best is trial 24 with value: 0.7420480208065985.\u001b[0m\n",
      "\u001b[32m[I 2023-05-24 12:03:59,089]\u001b[0m Trial 74 finished with value: 0.7412758667686079 and parameters: {'learning_rate': 0.0434667271947863, 'num_leaves': 142, 'max_depth': 608, 'n_estimators': 400, 'min_child_samples': 17, 'subsample': 0.3543245894357948, 'colsample_bytree': 0.45814653225328317, 'reg_alpha': 0.0005183498975476916, 'reg_lambda': 8.897371672922435e-07}. Best is trial 24 with value: 0.7420480208065985.\u001b[0m\n",
      "\u001b[32m[I 2023-05-24 12:04:11,109]\u001b[0m Trial 75 finished with value: 0.7412619613140115 and parameters: {'learning_rate': 0.11733786861361792, 'num_leaves': 99, 'max_depth': 291, 'n_estimators': 200, 'min_child_samples': 23, 'subsample': 0.40515765072617244, 'colsample_bytree': 0.5341359219359799, 'reg_alpha': 0.00580534004496808, 'reg_lambda': 1.8217091321166258e-06}. Best is trial 24 with value: 0.7420480208065985.\u001b[0m\n",
      "\u001b[32m[I 2023-05-24 12:04:18,497]\u001b[0m Trial 76 finished with value: 0.7363034974672052 and parameters: {'learning_rate': 0.1773070829556191, 'num_leaves': 5, 'max_depth': 320, 'n_estimators': 300, 'min_child_samples': 54, 'subsample': 0.2869145549402828, 'colsample_bytree': 0.49478378072014434, 'reg_alpha': 0.0002991978794332087, 'reg_lambda': 0.00012603552542988312}. Best is trial 24 with value: 0.7420480208065985.\u001b[0m\n",
      "\u001b[32m[I 2023-05-24 12:04:25,004]\u001b[0m Trial 77 finished with value: 0.7417801254316496 and parameters: {'learning_rate': 0.2161843598495897, 'num_leaves': 20, 'max_depth': 162, 'n_estimators': 250, 'min_child_samples': 8, 'subsample': 0.42967957490588, 'colsample_bytree': 0.5903727298190751, 'reg_alpha': 0.001779676070655698, 'reg_lambda': 4.272808635534066e-07}. Best is trial 24 with value: 0.7420480208065985.\u001b[0m\n",
      "\u001b[32m[I 2023-05-24 12:04:30,119]\u001b[0m Trial 78 finished with value: 0.7407098872598573 and parameters: {'learning_rate': 0.3189952318282063, 'num_leaves': 18, 'max_depth': 151, 'n_estimators': 150, 'min_child_samples': 1, 'subsample': 0.44240549689413494, 'colsample_bytree': 0.6153864281934082, 'reg_alpha': 0.013881563446457296, 'reg_lambda': 4.2245448766337063e-07}. Best is trial 24 with value: 0.7420480208065985.\u001b[0m\n",
      "\u001b[32m[I 2023-05-24 12:04:43,183]\u001b[0m Trial 79 finished with value: 0.7409334454437067 and parameters: {'learning_rate': 0.216974707407173, 'num_leaves': 24, 'max_depth': 96, 'n_estimators': 500, 'min_child_samples': 12, 'subsample': 0.4861564887257333, 'colsample_bytree': 0.33268198051469927, 'reg_alpha': 0.0019374327846099276, 'reg_lambda': 4.985593999117198e-07}. Best is trial 24 with value: 0.7420480208065985.\u001b[0m\n",
      "\u001b[32m[I 2023-05-24 12:04:50,251]\u001b[0m Trial 80 finished with value: 0.740804635902145 and parameters: {'learning_rate': 0.2759456973662255, 'num_leaves': 12, 'max_depth': 220, 'n_estimators': 250, 'min_child_samples': 27, 'subsample': 0.4285851545419824, 'colsample_bytree': 0.5818414038655154, 'reg_alpha': 0.003026876694181153, 'reg_lambda': 1.660760122644284e-07}. Best is trial 24 with value: 0.7420480208065985.\u001b[0m\n",
      "\u001b[32m[I 2023-05-24 12:05:06,001]\u001b[0m Trial 81 finished with value: 0.7412447965560044 and parameters: {'learning_rate': 0.15432111125183337, 'num_leaves': 34, 'max_depth': 165, 'n_estimators': 350, 'min_child_samples': 8, 'subsample': 0.3926811039767327, 'colsample_bytree': 0.43328078028109446, 'reg_alpha': 0.0010034610096870625, 'reg_lambda': 7.46879418084307e-07}. Best is trial 24 with value: 0.7420480208065985.\u001b[0m\n",
      "\u001b[32m[I 2023-05-24 12:05:14,074]\u001b[0m Trial 82 finished with value: 0.7402032656572622 and parameters: {'learning_rate': 0.08895912271379953, 'num_leaves': 29, 'max_depth': 242, 'n_estimators': 200, 'min_child_samples': 20, 'subsample': 0.32964215571537, 'colsample_bytree': 0.4026676311369839, 'reg_alpha': 0.02812469836646033, 'reg_lambda': 4.218594150738905e-06}. Best is trial 24 with value: 0.7420480208065985.\u001b[0m\n",
      "\u001b[32m[I 2023-05-24 12:05:24,259]\u001b[0m Trial 83 finished with value: 0.7374277702659282 and parameters: {'learning_rate': 0.20047946078072335, 'num_leaves': 7, 'max_depth': 204, 'n_estimators': 400, 'min_child_samples': 15, 'subsample': 0.36020723791364606, 'colsample_bytree': 0.3733562824073833, 'reg_alpha': 0.0005812897183718858, 'reg_lambda': 1.8070359680942403e-06}. Best is trial 24 with value: 0.7420480208065985.\u001b[0m\n",
      "\u001b[32m[I 2023-05-24 12:05:32,600]\u001b[0m Trial 84 finished with value: 0.7404903638704659 and parameters: {'learning_rate': 0.23346539986313822, 'num_leaves': 21, 'max_depth': 367, 'n_estimators': 250, 'min_child_samples': 5, 'subsample': 0.37772524841027233, 'colsample_bytree': 0.4715177901786407, 'reg_alpha': 0.0014364648751047091, 'reg_lambda': 1.1290393148550505e-06}. Best is trial 24 with value: 0.7420480208065985.\u001b[0m\n",
      "\u001b[32m[I 2023-05-24 12:05:46,553]\u001b[0m Trial 85 finished with value: 0.7408986073619532 and parameters: {'learning_rate': 0.03891033420259987, 'num_leaves': 43, 'max_depth': 125, 'n_estimators': 350, 'min_child_samples': 9, 'subsample': 0.3117328812650621, 'colsample_bytree': 0.436062631546152, 'reg_alpha': 0.006944090425901309, 'reg_lambda': 5.393521961283653e-06}. Best is trial 24 with value: 0.7420480208065985.\u001b[0m\n",
      "\u001b[32m[I 2023-05-24 12:05:58,097]\u001b[0m Trial 86 finished with value: 0.740954389315564 and parameters: {'learning_rate': 0.12785919969331522, 'num_leaves': 38, 'max_depth': 415, 'n_estimators': 300, 'min_child_samples': 11, 'subsample': 0.42029692632673515, 'colsample_bytree': 0.35333116038788304, 'reg_alpha': 7.160622152012969e-05, 'reg_lambda': 1.7491984505152565e-05}. Best is trial 24 with value: 0.7420480208065985.\u001b[0m\n",
      "\u001b[32m[I 2023-05-24 12:06:11,269]\u001b[0m Trial 87 finished with value: 0.7417523472257551 and parameters: {'learning_rate': 0.17379238774084155, 'num_leaves': 25, 'max_depth': 256, 'n_estimators': 400, 'min_child_samples': 3, 'subsample': 0.34288722199076715, 'colsample_bytree': 0.5153822216682982, 'reg_alpha': 0.003388197614801845, 'reg_lambda': 2.68599773209993e-06}. Best is trial 24 with value: 0.7420480208065985.\u001b[0m\n",
      "\u001b[32m[I 2023-05-24 12:06:31,832]\u001b[0m Trial 88 finished with value: 0.7398711296934497 and parameters: {'learning_rate': 0.18188670500034965, 'num_leaves': 81, 'max_depth': 76, 'n_estimators': 450, 'min_child_samples': 2, 'subsample': 0.34096974351254267, 'colsample_bytree': 0.5218248740793664, 'reg_alpha': 0.019819180387459303, 'reg_lambda': 3.137936368547925e-06}. Best is trial 24 with value: 0.7420480208065985.\u001b[0m\n",
      "\u001b[32m[I 2023-05-24 12:06:48,050]\u001b[0m Trial 89 finished with value: 0.7403320212669792 and parameters: {'learning_rate': 0.2422240917887091, 'num_leaves': 52, 'max_depth': 271, 'n_estimators': 400, 'min_child_samples': 4, 'subsample': 0.4606017936765451, 'colsample_bytree': 0.4048029943912739, 'reg_alpha': 0.003783757644545721, 'reg_lambda': 3.8284930704783676e-07}. Best is trial 24 with value: 0.7420480208065985.\u001b[0m\n",
      "\u001b[32m[I 2023-05-24 12:07:04,526]\u001b[0m Trial 90 finished with value: 0.7415558037604912 and parameters: {'learning_rate': 0.1614906060320629, 'num_leaves': 15, 'max_depth': 191, 'n_estimators': 650, 'min_child_samples': 17, 'subsample': 0.2748461209296526, 'colsample_bytree': 0.5529948214577568, 'reg_alpha': 0.0017508232268195502, 'reg_lambda': 1.5099940657259774e-06}. Best is trial 24 with value: 0.7420480208065985.\u001b[0m\n",
      "\u001b[32m[I 2023-05-24 12:07:20,800]\u001b[0m Trial 91 finished with value: 0.7411645481767432 and parameters: {'learning_rate': 0.14727950066188417, 'num_leaves': 18, 'max_depth': 178, 'n_estimators': 650, 'min_child_samples': 17, 'subsample': 0.30518024667625027, 'colsample_bytree': 0.558411068680285, 'reg_alpha': 0.0017154380737629741, 'reg_lambda': 7.925013917015236e-07}. Best is trial 24 with value: 0.7420480208065985.\u001b[0m\n",
      "\u001b[32m[I 2023-05-24 12:07:35,541]\u001b[0m Trial 92 finished with value: 0.7412742024196672 and parameters: {'learning_rate': 0.21125171678613724, 'num_leaves': 15, 'max_depth': 252, 'n_estimators': 700, 'min_child_samples': 22, 'subsample': 0.27813616670804076, 'colsample_bytree': 0.6227137395184225, 'reg_alpha': 0.0027339261718890514, 'reg_lambda': 1.483244004137665e-06}. Best is trial 24 with value: 0.7420480208065985.\u001b[0m\n",
      "\u001b[32m[I 2023-05-24 12:07:51,907]\u001b[0m Trial 93 finished with value: 0.740771204629568 and parameters: {'learning_rate': 0.16856213993915956, 'num_leaves': 25, 'max_depth': 209, 'n_estimators': 600, 'min_child_samples': 13, 'subsample': 0.2507211238348166, 'colsample_bytree': 0.5460310757970224, 'reg_alpha': 0.005333525639306525, 'reg_lambda': 2.504871315604014e-06}. Best is trial 24 with value: 0.7420480208065985.\u001b[0m\n",
      "\u001b[32m[I 2023-05-24 12:08:12,333]\u001b[0m Trial 94 finished with value: 0.7403368435841851 and parameters: {'learning_rate': 0.2958735010938337, 'num_leaves': 21, 'max_depth': 40, 'n_estimators': 700, 'min_child_samples': 19, 'subsample': 0.29336522802236464, 'colsample_bytree': 0.4499106245092681, 'reg_alpha': 0.0007665317544640262, 'reg_lambda': 2.644678445775587e-07}. Best is trial 24 with value: 0.7420480208065985.\u001b[0m\n",
      "\u001b[32m[I 2023-05-24 12:08:22,195]\u001b[0m Trial 95 finished with value: 0.7405306822587648 and parameters: {'learning_rate': 0.27087298671161447, 'num_leaves': 10, 'max_depth': 382, 'n_estimators': 350, 'min_child_samples': 15, 'subsample': 0.33678187937090026, 'colsample_bytree': 0.38715527905439906, 'reg_alpha': 0.010504461034295582, 'reg_lambda': 5.901868125820583e-07}. Best is trial 24 with value: 0.7420480208065985.\u001b[0m\n",
      "\u001b[32m[I 2023-05-24 12:08:46,186]\u001b[0m Trial 96 finished with value: 0.7408499831638358 and parameters: {'learning_rate': 0.1164511818014404, 'num_leaves': 30, 'max_depth': 285, 'n_estimators': 750, 'min_child_samples': 25, 'subsample': 0.32076399315685133, 'colsample_bytree': 0.42279567354524433, 'reg_alpha': 0.0475168996866967, 'reg_lambda': 1.0159375392538335e-06}. Best is trial 24 with value: 0.7420480208065985.\u001b[0m\n",
      "\u001b[32m[I 2023-05-24 12:08:59,225]\u001b[0m Trial 97 finished with value: 0.7415885556448583 and parameters: {'learning_rate': 0.18639539661888205, 'num_leaves': 14, 'max_depth': 188, 'n_estimators': 450, 'min_child_samples': 30, 'subsample': 0.3506138409939762, 'colsample_bytree': 0.5092856186775826, 'reg_alpha': 0.0009458124931071869, 'reg_lambda': 6.227118929194982e-06}. Best is trial 24 with value: 0.7420480208065985.\u001b[0m\n",
      "\u001b[32m[I 2023-05-24 12:09:15,075]\u001b[0m Trial 98 finished with value: 0.7420250845522873 and parameters: {'learning_rate': 0.1822809643886107, 'num_leaves': 25, 'max_depth': 129, 'n_estimators': 450, 'min_child_samples': 30, 'subsample': 0.3560760893349462, 'colsample_bytree': 0.508666331651199, 'reg_alpha': 0.0013013638757973353, 'reg_lambda': 3.490195343007601e-06}. Best is trial 24 with value: 0.7420480208065985.\u001b[0m\n",
      "\u001b[32m[I 2023-05-24 12:09:29,039]\u001b[0m Trial 99 finished with value: 0.7412243210234827 and parameters: {'learning_rate': 0.2121756098114813, 'num_leaves': 25, 'max_depth': 133, 'n_estimators': 450, 'min_child_samples': 34, 'subsample': 0.3730417690943102, 'colsample_bytree': 0.5011897720792499, 'reg_alpha': 0.00042268879664083853, 'reg_lambda': 7.604744327925818e-06}. Best is trial 24 with value: 0.7420480208065985.\u001b[0m\n",
      "\u001b[32m[I 2023-05-24 12:09:45,348]\u001b[0m Trial 100 finished with value: 0.7410271231216362 and parameters: {'learning_rate': 0.18462711125747025, 'num_leaves': 37, 'max_depth': 95, 'n_estimators': 450, 'min_child_samples': 37, 'subsample': 0.4019172930167653, 'colsample_bytree': 0.4656870031506165, 'reg_alpha': 0.0011596898184898343, 'reg_lambda': 3.452612091846955e-06}. Best is trial 24 with value: 0.7420480208065985.\u001b[0m\n",
      "\u001b[32m[I 2023-05-24 12:10:00,178]\u001b[0m Trial 101 finished with value: 0.7413962702936203 and parameters: {'learning_rate': 0.15595786725530195, 'num_leaves': 15, 'max_depth': 198, 'n_estimators': 550, 'min_child_samples': 30, 'subsample': 0.3489329041199666, 'colsample_bytree': 0.5141360747134162, 'reg_alpha': 0.0009539814063590344, 'reg_lambda': 2.1038179448203285e-06}. Best is trial 24 with value: 0.7420480208065985.\u001b[0m\n",
      "\u001b[32m[I 2023-05-24 12:10:12,856]\u001b[0m Trial 102 finished with value: 0.7374762799301551 and parameters: {'learning_rate': 0.1425324698520189, 'num_leaves': 6, 'max_depth': 158, 'n_estimators': 500, 'min_child_samples': 32, 'subsample': 0.4266103318153171, 'colsample_bytree': 0.5342492729583741, 'reg_alpha': 0.0015789030736051205, 'reg_lambda': 1.3923690008515343e-06}. Best is trial 24 with value: 0.7420480208065985.\u001b[0m\n",
      "\u001b[32m[I 2023-05-24 12:10:27,310]\u001b[0m Trial 103 finished with value: 0.74107586316745 and parameters: {'learning_rate': 0.1943487954917128, 'num_leaves': 13, 'max_depth': 336, 'n_estimators': 550, 'min_child_samples': 41, 'subsample': 0.35731246238707726, 'colsample_bytree': 0.4842272135787108, 'reg_alpha': 0.0022872799489649645, 'reg_lambda': 7.707516432836393e-07}. Best is trial 24 with value: 0.7420480208065985.\u001b[0m\n",
      "\u001b[32m[I 2023-05-24 12:10:39,274]\u001b[0m Trial 104 finished with value: 0.7412455867733724 and parameters: {'learning_rate': 0.25892075331808667, 'num_leaves': 21, 'max_depth': 122, 'n_estimators': 400, 'min_child_samples': 24, 'subsample': 0.2764132866279544, 'colsample_bytree': 0.55978101532898, 'reg_alpha': 0.003498671757087728, 'reg_lambda': 6.28915080537297e-06}. Best is trial 24 with value: 0.7420480208065985.\u001b[0m\n",
      "\u001b[32m[I 2023-05-24 12:10:57,294]\u001b[0m Trial 105 finished with value: 0.7408486218461506 and parameters: {'learning_rate': 0.12631397492991525, 'num_leaves': 27, 'max_depth': 185, 'n_estimators': 650, 'min_child_samples': 47, 'subsample': 0.3791700093766505, 'colsample_bytree': 0.5811163297847448, 'reg_alpha': 0.0006959290897932102, 'reg_lambda': 4.980956595346958e-07}. Best is trial 24 with value: 0.7420480208065985.\u001b[0m\n",
      "\u001b[32m[I 2023-05-24 12:11:20,159]\u001b[0m Trial 106 finished with value: 0.7408574449135732 and parameters: {'learning_rate': 0.10123865490993082, 'num_leaves': 57, 'max_depth': 50, 'n_estimators': 500, 'min_child_samples': 36, 'subsample': 0.3281220848942872, 'colsample_bytree': 0.4618407230870838, 'reg_alpha': 0.0003540809388841745, 'reg_lambda': 2.662939876572353e-06}. Best is trial 24 with value: 0.7420480208065985.\u001b[0m\n",
      "\u001b[32m[I 2023-05-24 12:11:31,970]\u001b[0m Trial 107 finished with value: 0.7403847411432812 and parameters: {'learning_rate': 0.21648651462271185, 'num_leaves': 9, 'max_depth': 255, 'n_estimators': 450, 'min_child_samples': 27, 'subsample': 0.38964065013566096, 'colsample_bytree': 0.4359069356894697, 'reg_alpha': 0.0018694536776398167, 'reg_lambda': 1.5160388098810136e-06}. Best is trial 24 with value: 0.7420480208065985.\u001b[0m\n",
      "\u001b[32m[I 2023-05-24 12:11:49,082]\u001b[0m Trial 108 finished with value: 0.7403106640100032 and parameters: {'learning_rate': 0.16569208333706695, 'num_leaves': 20, 'max_depth': 219, 'n_estimators': 600, 'min_child_samples': 99, 'subsample': 0.2968380678553111, 'colsample_bytree': 0.504157221553232, 'reg_alpha': 0.008033962810252683, 'reg_lambda': 3.919838729897582e-06}. Best is trial 24 with value: 0.7420480208065985.\u001b[0m\n",
      "\u001b[32m[I 2023-05-24 12:12:03,690]\u001b[0m Trial 109 finished with value: 0.7406890249285694 and parameters: {'learning_rate': 0.2364477206934888, 'num_leaves': 29, 'max_depth': 147, 'n_estimators': 400, 'min_child_samples': 7, 'subsample': 0.4112942286589666, 'colsample_bytree': 0.4122821603970732, 'reg_alpha': 0.0005555491624063676, 'reg_lambda': 2.440727081456706e-07}. Best is trial 24 with value: 0.7420480208065985.\u001b[0m\n",
      "\u001b[32m[I 2023-05-24 12:12:25,078]\u001b[0m Trial 110 finished with value: 0.7414047014058057 and parameters: {'learning_rate': 0.07591170572699527, 'num_leaves': 67, 'max_depth': 83, 'n_estimators': 450, 'min_child_samples': 21, 'subsample': 0.4458215047008204, 'colsample_bytree': 0.4831355248902242, 'reg_alpha': 0.00017832443350923545, 'reg_lambda': 9.657703228649164e-07}. Best is trial 24 with value: 0.7420480208065985.\u001b[0m\n",
      "\u001b[32m[I 2023-05-24 12:12:46,774]\u001b[0m Trial 111 finished with value: 0.741114488096344 and parameters: {'learning_rate': 0.10981500654222201, 'num_leaves': 70, 'max_depth': 82, 'n_estimators': 450, 'min_child_samples': 22, 'subsample': 0.44407441251226776, 'colsample_bytree': 0.48450278873747116, 'reg_alpha': 0.00013020742988723003, 'reg_lambda': 1.0440435114742445e-06}. Best is trial 24 with value: 0.7420480208065985.\u001b[0m\n",
      "\u001b[32m[I 2023-05-24 12:13:05,732]\u001b[0m Trial 112 finished with value: 0.7413949039160622 and parameters: {'learning_rate': 0.06690748059103983, 'num_leaves': 63, 'max_depth': 58, 'n_estimators': 400, 'min_child_samples': 20, 'subsample': 0.47017307333224656, 'colsample_bytree': 0.5464063856638937, 'reg_alpha': 0.0004860482545249116, 'reg_lambda': 3.8067154892863545e-07}. Best is trial 24 with value: 0.7420480208065985.\u001b[0m\n",
      "\u001b[32m[I 2023-05-24 12:13:27,816]\u001b[0m Trial 113 finished with value: 0.7414193255221464 and parameters: {'learning_rate': 0.13154818066557128, 'num_leaves': 68, 'max_depth': 111, 'n_estimators': 450, 'min_child_samples': 17, 'subsample': 0.42142321707729763, 'colsample_bytree': 0.4506837439896648, 'reg_alpha': 0.00022172886761624822, 'reg_lambda': 2.0084810316326835e-06}. Best is trial 24 with value: 0.7420480208065985.\u001b[0m\n",
      "\u001b[32m[I 2023-05-24 12:13:50,201]\u001b[0m Trial 114 finished with value: 0.7411091006564792 and parameters: {'learning_rate': 0.18521987765803902, 'num_leaves': 60, 'max_depth': 117, 'n_estimators': 500, 'min_child_samples': 28, 'subsample': 0.36463139075458445, 'colsample_bytree': 0.4518383026604279, 'reg_alpha': 0.00024535814166666006, 'reg_lambda': 1.0922978873150063e-05}. Best is trial 24 with value: 0.7420480208065985.\u001b[0m\n",
      "\u001b[32m[I 2023-05-24 12:14:16,862]\u001b[0m Trial 115 finished with value: 0.7403197483901156 and parameters: {'learning_rate': 0.13486924520164992, 'num_leaves': 73, 'max_depth': 21, 'n_estimators': 550, 'min_child_samples': 16, 'subsample': 0.351299149102071, 'colsample_bytree': 0.5194918609343674, 'reg_alpha': 0.001248681994151356, 'reg_lambda': 2.612159039806214e-06}. Best is trial 24 with value: 0.7420480208065985.\u001b[0m\n",
      "\u001b[32m[I 2023-05-24 12:14:34,718]\u001b[0m Trial 116 finished with value: 0.7407098356898163 and parameters: {'learning_rate': 0.1975521622189688, 'num_leaves': 78, 'max_depth': 917, 'n_estimators': 350, 'min_child_samples': 13, 'subsample': 0.41112099370725047, 'colsample_bytree': 0.42124592088584656, 'reg_alpha': 0.0008434837426247511, 'reg_lambda': 4.879705717767171e-06}. Best is trial 24 with value: 0.7420480208065985.\u001b[0m\n",
      "\u001b[32m[I 2023-05-24 12:14:53,371]\u001b[0m Trial 117 finished with value: 0.7413864577379499 and parameters: {'learning_rate': 0.16301995404507938, 'num_leaves': 46, 'max_depth': 449, 'n_estimators': 450, 'min_child_samples': 30, 'subsample': 0.42983034261152253, 'colsample_bytree': 0.3813476913013496, 'reg_alpha': 0.003097804810186168, 'reg_lambda': 6.19962935994019e-07}. Best is trial 24 with value: 0.7420480208065985.\u001b[0m\n",
      "\u001b[32m[I 2023-05-24 12:15:07,150]\u001b[0m Trial 118 finished with value: 0.7381617365747903 and parameters: {'learning_rate': 0.05080300705637586, 'num_leaves': 17, 'max_depth': 169, 'n_estimators': 400, 'min_child_samples': 18, 'subsample': 0.3901285426155307, 'colsample_bytree': 0.465780229004996, 'reg_alpha': 0.005354610728501785, 'reg_lambda': 1.4320076587683777e-06}. Best is trial 24 with value: 0.7420480208065985.\u001b[0m\n",
      "\u001b[32m[I 2023-05-24 12:15:22,624]\u001b[0m Trial 119 finished with value: 0.740955416363304 and parameters: {'learning_rate': 0.22484346740995037, 'num_leaves': 23, 'max_depth': 193, 'n_estimators': 500, 'min_child_samples': 10, 'subsample': 0.32243647854603263, 'colsample_bytree': 0.4437688284999869, 'reg_alpha': 0.0003757419015108544, 'reg_lambda': 1.9035813667527449e-06}. Best is trial 24 with value: 0.7420480208065985.\u001b[0m\n",
      "\u001b[32m[I 2023-05-24 12:15:37,408]\u001b[0m Trial 120 finished with value: 0.7410032560927035 and parameters: {'learning_rate': 0.2766956296035012, 'num_leaves': 66, 'max_depth': 300, 'n_estimators': 300, 'min_child_samples': 25, 'subsample': 0.49460796702958904, 'colsample_bytree': 0.39763582123194535, 'reg_alpha': 0.0008854714236232952, 'reg_lambda': 6.0191070846077965e-06}. Best is trial 24 with value: 0.7420480208065985.\u001b[0m\n",
      "\u001b[32m[I 2023-05-24 12:16:19,947]\u001b[0m Trial 121 finished with value: 0.7409087539098238 and parameters: {'learning_rate': 0.0859203397793285, 'num_leaves': 58, 'max_depth': 97, 'n_estimators': 1000, 'min_child_samples': 21, 'subsample': 0.4540035835930489, 'colsample_bytree': 0.4800078114344781, 'reg_alpha': 0.00014856466267895642, 'reg_lambda': 8.571423066413446e-07}. Best is trial 24 with value: 0.7420480208065985.\u001b[0m\n",
      "\u001b[32m[I 2023-05-24 12:16:40,447]\u001b[0m Trial 122 finished with value: 0.74168242679879 and parameters: {'learning_rate': 0.0809254935384955, 'num_leaves': 66, 'max_depth': 130, 'n_estimators': 450, 'min_child_samples': 16, 'subsample': 0.43058510955119905, 'colsample_bytree': 0.5123319641577889, 'reg_alpha': 0.0002078619128739612, 'reg_lambda': 3.7747927346648946e-06}. Best is trial 24 with value: 0.7420480208065985.\u001b[0m\n",
      "\u001b[32m[I 2023-05-24 12:16:51,584]\u001b[0m Trial 123 finished with value: 0.7413644127053638 and parameters: {'learning_rate': 0.1539109313645992, 'num_leaves': 18, 'max_depth': 140, 'n_estimators': 350, 'min_child_samples': 14, 'subsample': 0.37220349859369756, 'colsample_bytree': 0.5067624005352062, 'reg_alpha': 8.474332244821297e-05, 'reg_lambda': 3.5762580186039675e-06}. Best is trial 24 with value: 0.7420480208065985.\u001b[0m\n",
      "\u001b[32m[I 2023-05-24 12:17:11,609]\u001b[0m Trial 124 finished with value: 0.7418820808198359 and parameters: {'learning_rate': 0.10555045952993383, 'num_leaves': 53, 'max_depth': 487, 'n_estimators': 450, 'min_child_samples': 6, 'subsample': 0.4254734387380336, 'colsample_bytree': 0.4272825458728314, 'reg_alpha': 0.0002220433393226985, 'reg_lambda': 8.771628140789787e-06}. Best is trial 24 with value: 0.7420480208065985.\u001b[0m\n",
      "\u001b[32m[I 2023-05-24 12:17:28,132]\u001b[0m Trial 125 finished with value: 0.7417978887230526 and parameters: {'learning_rate': 0.02887970827503991, 'num_leaves': 53, 'max_depth': 475, 'n_estimators': 400, 'min_child_samples': 7, 'subsample': 0.3975574593578834, 'colsample_bytree': 0.5998631120671466, 'reg_alpha': 4.380702164442101e-05, 'reg_lambda': 1.6126438643922943e-05}. Best is trial 24 with value: 0.7420480208065985.\u001b[0m\n",
      "\u001b[32m[I 2023-05-24 12:17:44,530]\u001b[0m Trial 126 finished with value: 0.7421600902326189 and parameters: {'learning_rate': 0.0547594864021636, 'num_leaves': 53, 'max_depth': 530, 'n_estimators': 400, 'min_child_samples': 5, 'subsample': 0.39952552908180594, 'colsample_bytree': 0.5786692275796086, 'reg_alpha': 3.207022878574708e-05, 'reg_lambda': 1.4815914388137583e-05}. Best is trial 126 with value: 0.7421600902326189.\u001b[0m\n",
      "\u001b[32m[I 2023-05-24 12:18:00,385]\u001b[0m Trial 127 finished with value: 0.7413160975880686 and parameters: {'learning_rate': 0.032113734095820023, 'num_leaves': 48, 'max_depth': 491, 'n_estimators': 400, 'min_child_samples': 2, 'subsample': 0.3994228880224265, 'colsample_bytree': 0.5960453189198297, 'reg_alpha': 6.241671159883742e-05, 'reg_lambda': 1.4311603193309592e-05}. Best is trial 126 with value: 0.7421600902326189.\u001b[0m\n",
      "\u001b[32m[I 2023-05-24 12:18:22,022]\u001b[0m Trial 128 finished with value: 0.7422302650236642 and parameters: {'learning_rate': 0.026936363474040874, 'num_leaves': 53, 'max_depth': 544, 'n_estimators': 500, 'min_child_samples': 5, 'subsample': 0.34316035604019696, 'colsample_bytree': 0.5766416828034828, 'reg_alpha': 4.263225587033657e-05, 'reg_lambda': 2.880637138589614e-05}. Best is trial 128 with value: 0.7422302650236642.\u001b[0m\n",
      "\u001b[32m[I 2023-05-24 12:18:42,233]\u001b[0m Trial 129 finished with value: 0.7415784218856663 and parameters: {'learning_rate': 0.019468022016560525, 'num_leaves': 49, 'max_depth': 531, 'n_estimators': 500, 'min_child_samples': 6, 'subsample': 0.377499909515262, 'colsample_bytree': 0.6138883219928064, 'reg_alpha': 3.931111682206369e-05, 'reg_lambda': 2.9441575507850195e-05}. Best is trial 128 with value: 0.7422302650236642.\u001b[0m\n",
      "\u001b[32m[I 2023-05-24 12:18:57,816]\u001b[0m Trial 130 finished with value: 0.7413494648682564 and parameters: {'learning_rate': 0.03926778823925069, 'num_leaves': 55, 'max_depth': 582, 'n_estimators': 400, 'min_child_samples': 4, 'subsample': 0.4002289234771521, 'colsample_bytree': 0.6369059294319448, 'reg_alpha': 3.333470551619107e-05, 'reg_lambda': 2.1025029233312944e-05}. Best is trial 128 with value: 0.7422302650236642.\u001b[0m\n",
      "\u001b[32m[I 2023-05-24 12:19:20,119]\u001b[0m Trial 131 finished with value: 0.7424220343626132 and parameters: {'learning_rate': 0.056968058682670256, 'num_leaves': 53, 'max_depth': 549, 'n_estimators': 450, 'min_child_samples': 8, 'subsample': 0.35759068739396627, 'colsample_bytree': 0.5862649124461232, 'reg_alpha': 9.612860376693792e-05, 'reg_lambda': 1.4774497059689626e-05}. Best is trial 131 with value: 0.7424220343626132.\u001b[0m\n",
      "\u001b[32m[I 2023-05-24 12:19:40,063]\u001b[0m Trial 132 finished with value: 0.7417993521957764 and parameters: {'learning_rate': 0.06258488878340258, 'num_leaves': 61, 'max_depth': 550, 'n_estimators': 500, 'min_child_samples': 8, 'subsample': 0.33254518414606554, 'colsample_bytree': 0.5693853293193815, 'reg_alpha': 0.00012225806266586212, 'reg_lambda': 1.2340621599650428e-05}. Best is trial 131 with value: 0.7424220343626132.\u001b[0m\n",
      "\u001b[32m[I 2023-05-24 12:19:56,887]\u001b[0m Trial 133 finished with value: 0.7422220488506677 and parameters: {'learning_rate': 0.05567086448265261, 'num_leaves': 53, 'max_depth': 642, 'n_estimators': 450, 'min_child_samples': 9, 'subsample': 0.33879262523636844, 'colsample_bytree': 0.584460331651218, 'reg_alpha': 0.00011585619119915369, 'reg_lambda': 3.910404470598222e-05}. Best is trial 131 with value: 0.7424220343626132.\u001b[0m\n",
      "\u001b[32m[I 2023-05-24 12:20:15,085]\u001b[0m Trial 134 finished with value: 0.7412659113465034 and parameters: {'learning_rate': 0.06611934096268554, 'num_leaves': 53, 'max_depth': 550, 'n_estimators': 500, 'min_child_samples': 8, 'subsample': 0.36418693219553616, 'colsample_bytree': 0.5783158939417653, 'reg_alpha': 0.00011968694436514397, 'reg_lambda': 4.0803532483529494e-05}. Best is trial 131 with value: 0.7424220343626132.\u001b[0m\n",
      "\u001b[32m[I 2023-05-24 12:20:28,087]\u001b[0m Trial 135 finished with value: 0.7422034392606985 and parameters: {'learning_rate': 0.05050248652902681, 'num_leaves': 51, 'max_depth': 630, 'n_estimators': 350, 'min_child_samples': 5, 'subsample': 0.3369950471030002, 'colsample_bytree': 0.5994015032171442, 'reg_alpha': 2.6181673027402322e-05, 'reg_lambda': 1.9153132207869162e-05}. Best is trial 131 with value: 0.7424220343626132.\u001b[0m\n",
      "\u001b[32m[I 2023-05-24 12:20:40,425]\u001b[0m Trial 136 finished with value: 0.7424867162171513 and parameters: {'learning_rate': 0.058263316553391606, 'num_leaves': 50, 'max_depth': 621, 'n_estimators': 350, 'min_child_samples': 5, 'subsample': 0.3412089883318084, 'colsample_bytree': 0.5967828396149097, 'reg_alpha': 2.461675857740532e-05, 'reg_lambda': 1.8379226942060608e-05}. Best is trial 136 with value: 0.7424867162171513.\u001b[0m\n",
      "\u001b[32m[I 2023-05-24 12:20:53,484]\u001b[0m Trial 137 finished with value: 0.739105054921579 and parameters: {'learning_rate': 0.010821671021077, 'num_leaves': 51, 'max_depth': 654, 'n_estimators': 350, 'min_child_samples': 5, 'subsample': 0.34014399561617115, 'colsample_bytree': 0.6466550263676347, 'reg_alpha': 3.1339314369153836e-05, 'reg_lambda': 2.1494126790797806e-05}. Best is trial 136 with value: 0.7424867162171513.\u001b[0m\n",
      "\u001b[32m[I 2023-05-24 12:21:04,528]\u001b[0m Trial 138 finished with value: 0.7419846608011378 and parameters: {'learning_rate': 0.04815652185005692, 'num_leaves': 47, 'max_depth': 720, 'n_estimators': 300, 'min_child_samples': 1, 'subsample': 0.29928218464002543, 'colsample_bytree': 0.5916855594369281, 'reg_alpha': 1.948192586191178e-05, 'reg_lambda': 6.044191968743206e-05}. Best is trial 136 with value: 0.7424867162171513.\u001b[0m\n",
      "\u001b[32m[I 2023-05-24 12:21:14,778]\u001b[0m Trial 139 finished with value: 0.7419370059461168 and parameters: {'learning_rate': 0.05148627553490326, 'num_leaves': 44, 'max_depth': 718, 'n_estimators': 300, 'min_child_samples': 1, 'subsample': 0.319041797584844, 'colsample_bytree': 0.6014847645660151, 'reg_alpha': 2.2800349639592894e-05, 'reg_lambda': 5.87675269015954e-05}. Best is trial 136 with value: 0.7424867162171513.\u001b[0m\n",
      "\u001b[32m[I 2023-05-24 12:21:25,022]\u001b[0m Trial 140 finished with value: 0.7415164769490922 and parameters: {'learning_rate': 0.05402911939890653, 'num_leaves': 44, 'max_depth': 731, 'n_estimators': 300, 'min_child_samples': 1, 'subsample': 0.29934241218056834, 'colsample_bytree': 0.5722596273659506, 'reg_alpha': 1.860517025461355e-05, 'reg_lambda': 6.882963593679774e-05}. Best is trial 136 with value: 0.7424867162171513.\u001b[0m\n",
      "\u001b[32m[I 2023-05-24 12:21:34,489]\u001b[0m Trial 141 finished with value: 0.7405414487360882 and parameters: {'learning_rate': 0.02868309625833113, 'num_leaves': 41, 'max_depth': 598, 'n_estimators': 250, 'min_child_samples': 7, 'subsample': 0.32196161407014395, 'colsample_bytree': 0.5844006044054441, 'reg_alpha': 2.1440683123178807e-05, 'reg_lambda': 4.923720041511711e-05}. Best is trial 136 with value: 0.7424867162171513.\u001b[0m\n",
      "\u001b[32m[I 2023-05-24 12:21:45,041]\u001b[0m Trial 142 finished with value: 0.7418042352990708 and parameters: {'learning_rate': 0.05186018726928369, 'num_leaves': 51, 'max_depth': 645, 'n_estimators': 300, 'min_child_samples': 9, 'subsample': 0.3323733530858318, 'colsample_bytree': 0.5989036384274178, 'reg_alpha': 1.154154305400045e-05, 'reg_lambda': 3.099122985961455e-05}. Best is trial 136 with value: 0.7424867162171513.\u001b[0m\n",
      "\u001b[32m[I 2023-05-24 12:21:55,671]\u001b[0m Trial 143 finished with value: 0.7422294075789833 and parameters: {'learning_rate': 0.05112183514472367, 'num_leaves': 51, 'max_depth': 645, 'n_estimators': 300, 'min_child_samples': 10, 'subsample': 0.33299631186411033, 'colsample_bytree': 0.6050495636946547, 'reg_alpha': 1.3437462181119297e-05, 'reg_lambda': 3.0857672828574776e-05}. Best is trial 136 with value: 0.7424867162171513.\u001b[0m\n",
      "\u001b[32m[I 2023-05-24 12:22:07,074]\u001b[0m Trial 144 finished with value: 0.7420721769082642 and parameters: {'learning_rate': 0.052868463375522194, 'num_leaves': 60, 'max_depth': 651, 'n_estimators': 300, 'min_child_samples': 5, 'subsample': 0.31636731636348514, 'colsample_bytree': 0.5962063808384616, 'reg_alpha': 9.529620610049823e-06, 'reg_lambda': 3.076152026259269e-05}. Best is trial 136 with value: 0.7424867162171513.\u001b[0m\n",
      "\u001b[32m[I 2023-05-24 12:22:18,157]\u001b[0m Trial 145 finished with value: 0.7416902023445004 and parameters: {'learning_rate': 0.039579127153860603, 'num_leaves': 60, 'max_depth': 649, 'n_estimators': 300, 'min_child_samples': 3, 'subsample': 0.3047761575856667, 'colsample_bytree': 0.6421968591331542, 'reg_alpha': 9.841014818700523e-06, 'reg_lambda': 2.9888514622675524e-05}. Best is trial 136 with value: 0.7424867162171513.\u001b[0m\n",
      "\u001b[32m[I 2023-05-24 12:22:28,921]\u001b[0m Trial 146 finished with value: 0.7416731147821018 and parameters: {'learning_rate': 0.05657536190363635, 'num_leaves': 46, 'max_depth': 701, 'n_estimators': 300, 'min_child_samples': 1, 'subsample': 0.34030055515523144, 'colsample_bytree': 0.6031205038288191, 'reg_alpha': 1.2646431658267762e-05, 'reg_lambda': 6.575790374159672e-05}. Best is trial 136 with value: 0.7424867162171513.\u001b[0m\n",
      "\u001b[32m[I 2023-05-24 12:22:40,122]\u001b[0m Trial 147 finished with value: 0.7414516595433919 and parameters: {'learning_rate': 0.05352617577137523, 'num_leaves': 51, 'max_depth': 629, 'n_estimators': 300, 'min_child_samples': 5, 'subsample': 0.3173119210527398, 'colsample_bytree': 0.6257901690610392, 'reg_alpha': 2.528807969928721e-05, 'reg_lambda': 3.7301481637735385e-05}. Best is trial 136 with value: 0.7424867162171513.\u001b[0m\n",
      "\u001b[32m[I 2023-05-24 12:22:49,030]\u001b[0m Trial 148 finished with value: 0.7423057537762907 and parameters: {'learning_rate': 0.0670158533739298, 'num_leaves': 56, 'max_depth': 783, 'n_estimators': 250, 'min_child_samples': 9, 'subsample': 0.2859305505394761, 'colsample_bytree': 0.6644035882630593, 'reg_alpha': 6.190508448831096e-06, 'reg_lambda': 9.405982953414307e-05}. Best is trial 136 with value: 0.7424867162171513.\u001b[0m\n",
      "\u001b[32m[I 2023-05-24 12:22:59,419]\u001b[0m Trial 149 finished with value: 0.7400245498000853 and parameters: {'learning_rate': 0.01577354425730313, 'num_leaves': 57, 'max_depth': 782, 'n_estimators': 250, 'min_child_samples': 10, 'subsample': 0.28649356924675173, 'colsample_bytree': 0.6564373604770403, 'reg_alpha': 6.368478250371572e-06, 'reg_lambda': 0.00010716581541696867}. Best is trial 136 with value: 0.7424867162171513.\u001b[0m\n",
      "\u001b[32m[I 2023-05-24 12:23:06,737]\u001b[0m Trial 150 finished with value: 0.7422509504007269 and parameters: {'learning_rate': 0.09971018829663736, 'num_leaves': 50, 'max_depth': 689, 'n_estimators': 200, 'min_child_samples': 5, 'subsample': 0.2449417071188939, 'colsample_bytree': 0.6621602816397012, 'reg_alpha': 1.5602810240839304e-05, 'reg_lambda': 8.59469193842795e-05}. Best is trial 136 with value: 0.7424867162171513.\u001b[0m\n",
      "\u001b[32m[I 2023-05-24 12:23:14,621]\u001b[0m Trial 151 finished with value: 0.7422930187864719 and parameters: {'learning_rate': 0.08189369161097787, 'num_leaves': 50, 'max_depth': 688, 'n_estimators': 250, 'min_child_samples': 5, 'subsample': 0.2391013561886025, 'colsample_bytree': 0.6669245850807443, 'reg_alpha': 1.2660900540813765e-05, 'reg_lambda': 7.953384438460316e-05}. Best is trial 136 with value: 0.7424867162171513.\u001b[0m\n",
      "\u001b[32m[I 2023-05-24 12:23:21,904]\u001b[0m Trial 152 finished with value: 0.7422434557047334 and parameters: {'learning_rate': 0.09154238721619795, 'num_leaves': 55, 'max_depth': 689, 'n_estimators': 200, 'min_child_samples': 3, 'subsample': 0.2463625506015273, 'colsample_bytree': 0.6651600658082133, 'reg_alpha': 1.7658422169425546e-05, 'reg_lambda': 0.00018764285752630768}. Best is trial 136 with value: 0.7424867162171513.\u001b[0m\n",
      "\u001b[32m[I 2023-05-24 12:23:28,830]\u001b[0m Trial 153 finished with value: 0.74136487719829 and parameters: {'learning_rate': 0.08194930002262919, 'num_leaves': 46, 'max_depth': 683, 'n_estimators': 200, 'min_child_samples': 3, 'subsample': 0.24866684400047134, 'colsample_bytree': 0.678394346843704, 'reg_alpha': 1.735546875575037e-05, 'reg_lambda': 0.0001862436381934457}. Best is trial 136 with value: 0.7424867162171513.\u001b[0m\n",
      "\u001b[32m[I 2023-05-24 12:23:35,703]\u001b[0m Trial 154 finished with value: 0.7415036966996464 and parameters: {'learning_rate': 0.10181556454158242, 'num_leaves': 48, 'max_depth': 742, 'n_estimators': 200, 'min_child_samples': 1, 'subsample': 0.23598816624294872, 'colsample_bytree': 0.6798324381135304, 'reg_alpha': 4.261997562973431e-06, 'reg_lambda': 5.483993105068136e-05}. Best is trial 136 with value: 0.7424867162171513.\u001b[0m\n",
      "\u001b[32m[I 2023-05-24 12:23:44,452]\u001b[0m Trial 155 finished with value: 0.7422896217951678 and parameters: {'learning_rate': 0.07519357854938513, 'num_leaves': 55, 'max_depth': 706, 'n_estimators': 250, 'min_child_samples': 5, 'subsample': 0.24457526461082688, 'colsample_bytree': 0.6172469553906971, 'reg_alpha': 2.5713669195525266e-05, 'reg_lambda': 8.575749307632737e-05}. Best is trial 136 with value: 0.7424867162171513.\u001b[0m\n",
      "\u001b[32m[I 2023-05-24 12:23:51,285]\u001b[0m Trial 156 finished with value: 0.7419374891903474 and parameters: {'learning_rate': 0.08107753210916531, 'num_leaves': 54, 'max_depth': 793, 'n_estimators': 150, 'min_child_samples': 5, 'subsample': 0.21725123224812892, 'colsample_bytree': 0.6246823234299321, 'reg_alpha': 8.332949979749256e-06, 'reg_lambda': 8.28404961213222e-05}. Best is trial 136 with value: 0.7424867162171513.\u001b[0m\n",
      "\u001b[32m[I 2023-05-24 12:23:59,999]\u001b[0m Trial 157 finished with value: 0.7419738806974627 and parameters: {'learning_rate': 0.07099725521728553, 'num_leaves': 56, 'max_depth': 764, 'n_estimators': 250, 'min_child_samples': 11, 'subsample': 0.26626524514774647, 'colsample_bytree': 0.6605240061788822, 'reg_alpha': 1.3109204117384771e-05, 'reg_lambda': 0.0001656065875154027}. Best is trial 136 with value: 0.7424867162171513.\u001b[0m\n",
      "\u001b[32m[I 2023-05-24 12:24:07,445]\u001b[0m Trial 158 finished with value: 0.7420183611480805 and parameters: {'learning_rate': 0.10716409872003264, 'num_leaves': 63, 'max_depth': 676, 'n_estimators': 200, 'min_child_samples': 3, 'subsample': 0.2502735551833305, 'colsample_bytree': 0.62003934838631, 'reg_alpha': 5.5358554386088645e-05, 'reg_lambda': 2.3172586388868924e-05}. Best is trial 136 with value: 0.7424867162171513.\u001b[0m\n",
      "\u001b[32m[I 2023-05-24 12:24:12,612]\u001b[0m Trial 159 finished with value: 0.7416013292308715 and parameters: {'learning_rate': 0.10889140004791727, 'num_leaves': 64, 'max_depth': 670, 'n_estimators': 100, 'min_child_samples': 4, 'subsample': 0.24785255745985268, 'colsample_bytree': 0.6298919533967209, 'reg_alpha': 5.242054844228761e-05, 'reg_lambda': 9.938764521799817e-05}. Best is trial 136 with value: 0.7424867162171513.\u001b[0m\n",
      "\u001b[32m[I 2023-05-24 12:24:21,670]\u001b[0m Trial 160 finished with value: 0.7411697434161437 and parameters: {'learning_rate': 0.026525643014148902, 'num_leaves': 58, 'max_depth': 625, 'n_estimators': 200, 'min_child_samples': 9, 'subsample': 0.21305628670869636, 'colsample_bytree': 0.6157022388995269, 'reg_alpha': 4.540052274529331e-06, 'reg_lambda': 2.320188239820907e-05}. Best is trial 136 with value: 0.7424867162171513.\u001b[0m\n",
      "\u001b[32m[I 2023-05-24 12:24:27,841]\u001b[0m Trial 161 finished with value: 0.741331036336201 and parameters: {'learning_rate': 0.09085720487268661, 'num_leaves': 50, 'max_depth': 708, 'n_estimators': 150, 'min_child_samples': 6, 'subsample': 0.271678691990096, 'colsample_bytree': 0.6110292454504578, 'reg_alpha': 3.193260130013475e-05, 'reg_lambda': 4.4002685106724746e-05}. Best is trial 136 with value: 0.7424867162171513.\u001b[0m\n",
      "\u001b[32m[I 2023-05-24 12:24:36,289]\u001b[0m Trial 162 finished with value: 0.7410942920195397 and parameters: {'learning_rate': 0.0402905113484707, 'num_leaves': 55, 'max_depth': 674, 'n_estimators': 200, 'min_child_samples': 3, 'subsample': 0.19036066718251213, 'colsample_bytree': 0.5671730879201214, 'reg_alpha': 1.6479414609989173e-05, 'reg_lambda': 3.909501520070774e-05}. Best is trial 136 with value: 0.7424867162171513.\u001b[0m\n",
      "\u001b[32m[I 2023-05-24 12:24:44,836]\u001b[0m Trial 163 finished with value: 0.7419478520523166 and parameters: {'learning_rate': 0.06360649937531923, 'num_leaves': 62, 'max_depth': 586, 'n_estimators': 250, 'min_child_samples': 5, 'subsample': 0.23302587002594402, 'colsample_bytree': 0.6632606859921801, 'reg_alpha': 2.6810360113134668e-05, 'reg_lambda': 0.00014675364907843036}. Best is trial 136 with value: 0.7424867162171513.\u001b[0m\n",
      "\u001b[32m[I 2023-05-24 12:24:53,822]\u001b[0m Trial 164 finished with value: 0.7417288190856108 and parameters: {'learning_rate': 0.11400967877161945, 'num_leaves': 59, 'max_depth': 612, 'n_estimators': 250, 'min_child_samples': 11, 'subsample': 0.2578631613132824, 'colsample_bytree': 0.6366876911054575, 'reg_alpha': 4.777630398564864e-05, 'reg_lambda': 0.00024057042035089833}. Best is trial 136 with value: 0.7424867162171513.\u001b[0m\n",
      "\u001b[32m[I 2023-05-24 12:25:01,459]\u001b[0m Trial 165 finished with value: 0.7384860303800999 and parameters: {'learning_rate': 0.012139517940211508, 'num_leaves': 49, 'max_depth': 691, 'n_estimators': 200, 'min_child_samples': 7, 'subsample': 0.28762369405495464, 'colsample_bytree': 0.6906981188381628, 'reg_alpha': 9.15346731296907e-06, 'reg_lambda': 8.592583708908377e-05}. Best is trial 136 with value: 0.7424867162171513.\u001b[0m\n",
      "\u001b[32m[I 2023-05-24 12:25:09,111]\u001b[0m Trial 166 finished with value: 0.7420796785748783 and parameters: {'learning_rate': 0.08930170750754172, 'num_leaves': 42, 'max_depth': 655, 'n_estimators': 250, 'min_child_samples': 4, 'subsample': 0.23522080535449474, 'colsample_bytree': 0.5867969059188979, 'reg_alpha': 7.482042505829727e-05, 'reg_lambda': 2.3002655093165282e-05}. Best is trial 136 with value: 0.7424867162171513.\u001b[0m\n",
      "\u001b[32m[I 2023-05-24 12:25:17,694]\u001b[0m Trial 167 finished with value: 0.7425495423019572 and parameters: {'learning_rate': 0.09423927265469567, 'num_leaves': 55, 'max_depth': 638, 'n_estimators': 250, 'min_child_samples': 9, 'subsample': 0.23542578360889393, 'colsample_bytree': 0.6484849625386756, 'reg_alpha': 7.97369994830372e-05, 'reg_lambda': 1.8620897460681723e-05}. Best is trial 167 with value: 0.7425495423019572.\u001b[0m\n",
      "\u001b[32m[I 2023-05-24 12:25:25,028]\u001b[0m Trial 168 finished with value: 0.7420065703826813 and parameters: {'learning_rate': 0.07835238510101922, 'num_leaves': 41, 'max_depth': 639, 'n_estimators': 250, 'min_child_samples': 12, 'subsample': 0.20025396987189228, 'colsample_bytree': 0.7146648677020072, 'reg_alpha': 8.634228425852005e-05, 'reg_lambda': 1.6919889555134247e-05}. Best is trial 167 with value: 0.7425495423019572.\u001b[0m\n",
      "\u001b[32m[I 2023-05-24 12:25:33,546]\u001b[0m Trial 169 finished with value: 0.7425058825096926 and parameters: {'learning_rate': 0.07229862585686953, 'num_leaves': 53, 'max_depth': 835, 'n_estimators': 250, 'min_child_samples': 9, 'subsample': 0.2267888778432846, 'colsample_bytree': 0.6483378797296856, 'reg_alpha': 7.003499109879728e-05, 'reg_lambda': 2.681063042489742e-05}. Best is trial 167 with value: 0.7425495423019572.\u001b[0m\n",
      "\u001b[32m[I 2023-05-24 12:25:41,720]\u001b[0m Trial 170 finished with value: 0.7415838204340695 and parameters: {'learning_rate': 0.08244024731535408, 'num_leaves': 53, 'max_depth': 519, 'n_estimators': 250, 'min_child_samples': 9, 'subsample': 0.22274101479427488, 'colsample_bytree': 0.6511848744976889, 'reg_alpha': 6.293319956949137e-06, 'reg_lambda': 2.8514051976902117e-05}. Best is trial 167 with value: 0.7425495423019572.\u001b[0m\n",
      "\u001b[32m[I 2023-05-24 12:25:49,989]\u001b[0m Trial 171 finished with value: 0.7420400007773372 and parameters: {'learning_rate': 0.09318175162119506, 'num_leaves': 56, 'max_depth': 833, 'n_estimators': 250, 'min_child_samples': 7, 'subsample': 0.23722717446075908, 'colsample_bytree': 0.668235637243146, 'reg_alpha': 3.8475509620303816e-05, 'reg_lambda': 1.7036647433555817e-05}. Best is trial 167 with value: 0.7425495423019572.\u001b[0m\n",
      "\u001b[32m[I 2023-05-24 12:25:58,060]\u001b[0m Trial 172 finished with value: 0.7417047461762102 and parameters: {'learning_rate': 0.09336950319325076, 'num_leaves': 56, 'max_depth': 837, 'n_estimators': 250, 'min_child_samples': 7, 'subsample': 0.2342990040646184, 'colsample_bytree': 0.6730944170697435, 'reg_alpha': 3.829802900071629e-05, 'reg_lambda': 1.5161318417060344e-05}. Best is trial 167 with value: 0.7425495423019572.\u001b[0m\n",
      "\u001b[32m[I 2023-05-24 12:26:05,961]\u001b[0m Trial 173 finished with value: 0.741129354335136 and parameters: {'learning_rate': 0.034903658242333505, 'num_leaves': 51, 'max_depth': 565, 'n_estimators': 200, 'min_child_samples': 5, 'subsample': 0.17795482269293078, 'colsample_bytree': 0.6432172903660556, 'reg_alpha': 7.621038625271675e-05, 'reg_lambda': 3.640544448858157e-05}. Best is trial 167 with value: 0.7425495423019572.\u001b[0m\n",
      "\u001b[32m[I 2023-05-24 12:26:14,408]\u001b[0m Trial 174 finished with value: 0.7417555498235741 and parameters: {'learning_rate': 0.06685595174854153, 'num_leaves': 55, 'max_depth': 877, 'n_estimators': 250, 'min_child_samples': 9, 'subsample': 0.2618098696300555, 'colsample_bytree': 0.6976883637170768, 'reg_alpha': 1.5739577800809493e-05, 'reg_lambda': 2.55456603285465e-05}. Best is trial 167 with value: 0.7425495423019572.\u001b[0m\n",
      "\u001b[32m[I 2023-05-24 12:26:20,403]\u001b[0m Trial 175 finished with value: 0.7418271479954867 and parameters: {'learning_rate': 0.11970696226450776, 'num_leaves': 58, 'max_depth': 811, 'n_estimators': 150, 'min_child_samples': 12, 'subsample': 0.2259114486062084, 'colsample_bytree': 0.6507853467891901, 'reg_alpha': 2.7995552553978764e-05, 'reg_lambda': 4.723738310373223e-05}. Best is trial 167 with value: 0.7425495423019572.\u001b[0m\n",
      "\u001b[32m[I 2023-05-24 12:26:28,198]\u001b[0m Trial 176 finished with value: 0.7414157505518721 and parameters: {'learning_rate': 0.09594362668175899, 'num_leaves': 50, 'max_depth': 759, 'n_estimators': 250, 'min_child_samples': 6, 'subsample': 0.24536402486031658, 'colsample_bytree': 0.6334973645797453, 'reg_alpha': 6.061039589759637e-05, 'reg_lambda': 1.900329577657029e-05}. Best is trial 167 with value: 0.7425495423019572.\u001b[0m\n",
      "\u001b[32m[I 2023-05-24 12:26:38,368]\u001b[0m Trial 177 finished with value: 0.7418502337804684 and parameters: {'learning_rate': 0.06339258383401704, 'num_leaves': 43, 'max_depth': 659, 'n_estimators': 350, 'min_child_samples': 10, 'subsample': 0.20292629087684025, 'colsample_bytree': 0.6689460017865344, 'reg_alpha': 4.590725649986363e-05, 'reg_lambda': 0.00011096758117641195}. Best is trial 167 with value: 0.7425495423019572.\u001b[0m\n",
      "\u001b[32m[I 2023-05-24 12:26:47,748]\u001b[0m Trial 178 finished with value: 0.7417380726268202 and parameters: {'learning_rate': 0.03332410638596631, 'num_leaves': 60, 'max_depth': 694, 'n_estimators': 250, 'min_child_samples': 4, 'subsample': 0.27198539962860935, 'colsample_bytree': 0.5844797582290625, 'reg_alpha': 8.940002683879667e-05, 'reg_lambda': 1.1188523256273919e-05}. Best is trial 167 with value: 0.7425495423019572.\u001b[0m\n",
      "\u001b[32m[I 2023-05-24 12:26:55,627]\u001b[0m Trial 179 finished with value: 0.7422488371845954 and parameters: {'learning_rate': 0.049748470467573, 'num_leaves': 54, 'max_depth': 607, 'n_estimators': 200, 'min_child_samples': 8, 'subsample': 0.21256060644415875, 'colsample_bytree': 0.6136741981230591, 'reg_alpha': 1.41951347424819e-05, 'reg_lambda': 0.0002768191597437908}. Best is trial 167 with value: 0.7425495423019572.\u001b[0m\n",
      "\u001b[32m[I 2023-05-24 12:27:03,672]\u001b[0m Trial 180 finished with value: 0.7420459186420484 and parameters: {'learning_rate': 0.05251966140890952, 'num_leaves': 53, 'max_depth': 616, 'n_estimators': 200, 'min_child_samples': 13, 'subsample': 0.17869508958801145, 'colsample_bytree': 0.6112026225940165, 'reg_alpha': 1.1732630961931178e-05, 'reg_lambda': 0.000345866194991749}. Best is trial 167 with value: 0.7425495423019572.\u001b[0m\n",
      "\u001b[32m[I 2023-05-24 12:27:11,284]\u001b[0m Trial 181 finished with value: 0.7416589379836245 and parameters: {'learning_rate': 0.043359524784095466, 'num_leaves': 53, 'max_depth': 611, 'n_estimators': 200, 'min_child_samples': 8, 'subsample': 0.1564472959128816, 'colsample_bytree': 0.6124117649308749, 'reg_alpha': 1.079108417739288e-05, 'reg_lambda': 0.0002592850639079396}. Best is trial 167 with value: 0.7425495423019572.\u001b[0m\n",
      "\u001b[32m[I 2023-05-24 12:27:18,038]\u001b[0m Trial 182 finished with value: 0.7369660473667186 and parameters: {'learning_rate': 0.012591650983900152, 'num_leaves': 46, 'max_depth': 596, 'n_estimators': 150, 'min_child_samples': 13, 'subsample': 0.19043620715037315, 'colsample_bytree': 0.5710070723019341, 'reg_alpha': 4.1126003164593385e-06, 'reg_lambda': 0.00048646632567231015}. Best is trial 167 with value: 0.7425495423019572.\u001b[0m\n",
      "\u001b[32m[I 2023-05-24 12:27:25,754]\u001b[0m Trial 183 finished with value: 0.7422097409740174 and parameters: {'learning_rate': 0.0674120072147944, 'num_leaves': 50, 'max_depth': 568, 'n_estimators': 200, 'min_child_samples': 10, 'subsample': 0.212826870849302, 'colsample_bytree': 0.5991030840880156, 'reg_alpha': 7.752073560972526e-06, 'reg_lambda': 7.80255068469184e-05}. Best is trial 167 with value: 0.7425495423019572.\u001b[0m\n",
      "\u001b[32m[I 2023-05-24 12:27:35,644]\u001b[0m Trial 184 finished with value: 0.7421937289735083 and parameters: {'learning_rate': 0.0692786135625097, 'num_leaves': 49, 'max_depth': 564, 'n_estimators': 300, 'min_child_samples': 3, 'subsample': 0.2204806176853769, 'colsample_bytree': 0.5908919587605311, 'reg_alpha': 7.022239481083765e-06, 'reg_lambda': 7.982444054747178e-05}. Best is trial 167 with value: 0.7425495423019572.\u001b[0m\n",
      "\u001b[32m[I 2023-05-24 12:27:44,630]\u001b[0m Trial 185 finished with value: 0.7414140155404035 and parameters: {'learning_rate': 0.07465717209849042, 'num_leaves': 44, 'max_depth': 635, 'n_estimators': 300, 'min_child_samples': 3, 'subsample': 0.21239506568383312, 'colsample_bytree': 0.5944913278912247, 'reg_alpha': 7.433776355763408e-06, 'reg_lambda': 8.34648088029943e-05}. Best is trial 167 with value: 0.7425495423019572.\u001b[0m\n",
      "\u001b[32m[I 2023-05-24 12:27:52,547]\u001b[0m Trial 186 finished with value: 0.7415737150910624 and parameters: {'learning_rate': 0.06686919139818402, 'num_leaves': 49, 'max_depth': 573, 'n_estimators': 200, 'min_child_samples': 5, 'subsample': 0.21212879227554926, 'colsample_bytree': 0.550877747667907, 'reg_alpha': 1.5187266550407654e-05, 'reg_lambda': 0.00012037667145851744}. Best is trial 167 with value: 0.7425495423019572.\u001b[0m\n",
      "\u001b[32m[I 2023-05-24 12:28:02,323]\u001b[0m Trial 187 finished with value: 0.741489719580093 and parameters: {'learning_rate': 0.03511403535697856, 'num_leaves': 47, 'max_depth': 535, 'n_estimators': 300, 'min_child_samples': 10, 'subsample': 0.22573719271681109, 'colsample_bytree': 0.6307211279138432, 'reg_alpha': 2.252359356519448e-05, 'reg_lambda': 6.615786259530341e-05}. Best is trial 167 with value: 0.7425495423019572.\u001b[0m\n",
      "\u001b[32m[I 2023-05-24 12:28:09,893]\u001b[0m Trial 188 finished with value: 0.7413218355022397 and parameters: {'learning_rate': 0.1266388509788373, 'num_leaves': 51, 'max_depth': 656, 'n_estimators': 200, 'min_child_samples': 7, 'subsample': 0.2625563624507939, 'colsample_bytree': 0.5835561807904434, 'reg_alpha': 5.944328689605415e-06, 'reg_lambda': 3.933739054609927e-05}. Best is trial 167 with value: 0.7425495423019572.\u001b[0m\n",
      "\u001b[32m[I 2023-05-24 12:28:19,135]\u001b[0m Trial 189 finished with value: 0.7407482742045889 and parameters: {'learning_rate': 0.050369750973408435, 'num_leaves': 39, 'max_depth': 560, 'n_estimators': 250, 'min_child_samples': 3, 'subsample': 0.23998696136913622, 'colsample_bytree': 0.6007533997700074, 'reg_alpha': 8.333905514788507e-06, 'reg_lambda': 0.00012745579804020708}. Best is trial 167 with value: 0.7425495423019572.\u001b[0m\n",
      "\u001b[32m[I 2023-05-24 12:28:31,025]\u001b[0m Trial 190 finished with value: 0.7416824336691814 and parameters: {'learning_rate': 0.07942493290003093, 'num_leaves': 55, 'max_depth': 589, 'n_estimators': 350, 'min_child_samples': 8, 'subsample': 0.2877719976786525, 'colsample_bytree': 0.5626390774968842, 'reg_alpha': 2.4644524558491936e-05, 'reg_lambda': 5.491842662401762e-05}. Best is trial 167 with value: 0.7425495423019572.\u001b[0m\n",
      "\u001b[32m[I 2023-05-24 12:28:39,839]\u001b[0m Trial 191 finished with value: 0.7388659901028254 and parameters: {'learning_rate': 0.3734755802992079, 'num_leaves': 49, 'max_depth': 630, 'n_estimators': 300, 'min_child_samples': 5, 'subsample': 0.20614439819793767, 'colsample_bytree': 0.651798278753409, 'reg_alpha': 2.5862869350627286e-06, 'reg_lambda': 8.052027813183968e-05}. Best is trial 167 with value: 0.7425495423019572.\u001b[0m\n",
      "\u001b[32m[I 2023-05-24 12:28:49,642]\u001b[0m Trial 192 finished with value: 0.7421521959928783 and parameters: {'learning_rate': 0.09969817381757358, 'num_leaves': 59, 'max_depth': 506, 'n_estimators': 300, 'min_child_samples': 11, 'subsample': 0.22205267251627714, 'colsample_bytree': 0.6221385807802992, 'reg_alpha': 1.4178078548992298e-05, 'reg_lambda': 0.0001671013718696012}. Best is trial 167 with value: 0.7425495423019572.\u001b[0m\n",
      "\u001b[32m[I 2023-05-24 12:28:58,908]\u001b[0m Trial 193 finished with value: 0.7410987817724747 and parameters: {'learning_rate': 0.1008042634799952, 'num_leaves': 58, 'max_depth': 517, 'n_estimators': 250, 'min_child_samples': 63, 'subsample': 0.2287414191418427, 'colsample_bytree': 0.6247411430780724, 'reg_alpha': 1.4141394473732493e-05, 'reg_lambda': 0.0001863992566883958}. Best is trial 167 with value: 0.7425495423019572.\u001b[0m\n",
      "\u001b[32m[I 2023-05-24 12:29:07,622]\u001b[0m Trial 194 finished with value: 0.7421592625229676 and parameters: {'learning_rate': 0.06542992082128928, 'num_leaves': 52, 'max_depth': 543, 'n_estimators': 250, 'min_child_samples': 11, 'subsample': 0.24778867285785214, 'colsample_bytree': 0.5876813075444606, 'reg_alpha': 3.1597015917732345e-05, 'reg_lambda': 2.8129016983527734e-05}. Best is trial 167 with value: 0.7425495423019572.\u001b[0m\n",
      "\u001b[32m[I 2023-05-24 12:29:17,072]\u001b[0m Trial 195 finished with value: 0.7412850137727139 and parameters: {'learning_rate': 0.07325165570020221, 'num_leaves': 53, 'max_depth': 544, 'n_estimators': 250, 'min_child_samples': 11, 'subsample': 0.1937067702086223, 'colsample_bytree': 0.5767478435644071, 'reg_alpha': 2.953981198057177e-05, 'reg_lambda': 0.0001448585183969572}. Best is trial 167 with value: 0.7425495423019572.\u001b[0m\n",
      "\u001b[32m[I 2023-05-24 12:29:23,533]\u001b[0m Trial 196 finished with value: 0.7395269292857575 and parameters: {'learning_rate': 0.027432301340189577, 'num_leaves': 44, 'max_depth': 573, 'n_estimators': 150, 'min_child_samples': 10, 'subsample': 0.25184477559461993, 'colsample_bytree': 0.6131910596156798, 'reg_alpha': 1.7910805343606188e-05, 'reg_lambda': 4.757263543761881e-05}. Best is trial 167 with value: 0.7425495423019572.\u001b[0m\n",
      "\u001b[32m[I 2023-05-24 12:29:30,895]\u001b[0m Trial 197 finished with value: 0.741628986457442 and parameters: {'learning_rate': 0.11611522767694164, 'num_leaves': 50, 'max_depth': 508, 'n_estimators': 200, 'min_child_samples': 8, 'subsample': 0.2200203721592962, 'colsample_bytree': 0.6415242122402942, 'reg_alpha': 0.00010393543984329247, 'reg_lambda': 9.533583212318864e-05}. Best is trial 167 with value: 0.7425495423019572.\u001b[0m\n",
      "\u001b[32m[I 2023-05-24 12:29:37,991]\u001b[0m Trial 198 finished with value: 0.7418469157754181 and parameters: {'learning_rate': 0.0941553676768824, 'num_leaves': 47, 'max_depth': 599, 'n_estimators': 200, 'min_child_samples': 14, 'subsample': 0.27194534168556783, 'colsample_bytree': 0.6857591843351649, 'reg_alpha': 3.5866589528745304e-05, 'reg_lambda': 2.5685140841519825e-05}. Best is trial 167 with value: 0.7425495423019572.\u001b[0m\n",
      "\u001b[32m[I 2023-05-24 12:29:50,503]\u001b[0m Trial 199 finished with value: 0.742488031250651 and parameters: {'learning_rate': 0.060181359819535866, 'num_leaves': 56, 'max_depth': 535, 'n_estimators': 250, 'min_child_samples': 9, 'subsample': 0.24547701492002094, 'colsample_bytree': 0.543226621367134, 'reg_alpha': 4.907544928359304e-05, 'reg_lambda': 6.785540343272254e-05}. Best is trial 167 with value: 0.7425495423019572.\u001b[0m\n"
     ]
    }
   ],
   "source": [
    "# membuat study dengan optuna, dimana tujuan untuk memaksimalkan nilai f-1 dengan pendekatan bayesian\n",
    "study = optuna.create_study(direction='maximize', sampler=optuna.samplers.TPESampler())\n",
    "\n",
    "# memanggil function objective diatas dan menggunakan trial 200 \n",
    "study.optimize(objective, n_trials=200)"
   ]
  },
  {
   "attachments": {},
   "cell_type": "markdown",
   "metadata": {},
   "source": [
    "Berdasarkan study yang dilakukan optuna, yang terbaik ada pada trial 167 dengan score f1 = 0.7425495423019572\n",
    "\n",
    "**Note:**\n",
    "Hasil bisa berbeda jika di run ulang"
   ]
  },
  {
   "attachments": {},
   "cell_type": "markdown",
   "metadata": {},
   "source": [
    "Berikut default Hyperparameter dari LGBM:\n",
    "1. `learning_rate` : 0.1\n",
    "2. `num_leaves` : 31\n",
    "3. `max_depth` : -1 (no limit)\n",
    "4. `n_estimator` : 100\n",
    "5. `min_child_samples` : 20\n",
    "6. `subsample` : 1\n",
    "7. `colsample_bytree` : 1\n",
    "8. `reg_alpha` : 0\n",
    "9. `reg_lambda`: 0"
   ]
  },
  {
   "attachments": {},
   "cell_type": "markdown",
   "metadata": {},
   "source": [
    "Sekarang kita lihat best parameternya"
   ]
  },
  {
   "cell_type": "code",
   "execution_count": 277,
   "metadata": {},
   "outputs": [
    {
     "data": {
      "text/plain": [
       "{'learning_rate': 0.09423927265469567,\n",
       " 'num_leaves': 55,\n",
       " 'max_depth': 638,\n",
       " 'n_estimators': 250,\n",
       " 'min_child_samples': 9,\n",
       " 'subsample': 0.23542578360889393,\n",
       " 'colsample_bytree': 0.6484849625386756,\n",
       " 'reg_alpha': 7.97369994830372e-05,\n",
       " 'reg_lambda': 1.8620897460681723e-05}"
      ]
     },
     "execution_count": 277,
     "metadata": {},
     "output_type": "execute_result"
    }
   ],
   "source": [
    "# masukkan best parameter dari study kedalam variable best_params\n",
    "best_params = study.best_params\n",
    "best_params"
   ]
  },
  {
   "attachments": {},
   "cell_type": "markdown",
   "metadata": {},
   "source": [
    "Terlihat bahwa tidak ada satupun dari parameternya yang menggunakan default hyperparameternya, hal ini karena scale yang cukup luas yang menimbulkan banyaknya hidden combination yang lebih preferable"
   ]
  },
  {
   "attachments": {},
   "cell_type": "markdown",
   "metadata": {},
   "source": [
    "Setelah kita melakukan hyperparameter tuning, kita akan compare apakah memang hyperparameter tuning telah mengimprove model kita atau tanpa hyperparameter tuning yang lebih baik"
   ]
  },
  {
   "cell_type": "code",
   "execution_count": 278,
   "metadata": {},
   "outputs": [
    {
     "data": {
      "text/html": [
       "<style>#sk-container-id-15 {color: black;background-color: white;}#sk-container-id-15 pre{padding: 0;}#sk-container-id-15 div.sk-toggleable {background-color: white;}#sk-container-id-15 label.sk-toggleable__label {cursor: pointer;display: block;width: 100%;margin-bottom: 0;padding: 0.3em;box-sizing: border-box;text-align: center;}#sk-container-id-15 label.sk-toggleable__label-arrow:before {content: \"▸\";float: left;margin-right: 0.25em;color: #696969;}#sk-container-id-15 label.sk-toggleable__label-arrow:hover:before {color: black;}#sk-container-id-15 div.sk-estimator:hover label.sk-toggleable__label-arrow:before {color: black;}#sk-container-id-15 div.sk-toggleable__content {max-height: 0;max-width: 0;overflow: hidden;text-align: left;background-color: #f0f8ff;}#sk-container-id-15 div.sk-toggleable__content pre {margin: 0.2em;color: black;border-radius: 0.25em;background-color: #f0f8ff;}#sk-container-id-15 input.sk-toggleable__control:checked~div.sk-toggleable__content {max-height: 200px;max-width: 100%;overflow: auto;}#sk-container-id-15 input.sk-toggleable__control:checked~label.sk-toggleable__label-arrow:before {content: \"▾\";}#sk-container-id-15 div.sk-estimator input.sk-toggleable__control:checked~label.sk-toggleable__label {background-color: #d4ebff;}#sk-container-id-15 div.sk-label input.sk-toggleable__control:checked~label.sk-toggleable__label {background-color: #d4ebff;}#sk-container-id-15 input.sk-hidden--visually {border: 0;clip: rect(1px 1px 1px 1px);clip: rect(1px, 1px, 1px, 1px);height: 1px;margin: -1px;overflow: hidden;padding: 0;position: absolute;width: 1px;}#sk-container-id-15 div.sk-estimator {font-family: monospace;background-color: #f0f8ff;border: 1px dotted black;border-radius: 0.25em;box-sizing: border-box;margin-bottom: 0.5em;}#sk-container-id-15 div.sk-estimator:hover {background-color: #d4ebff;}#sk-container-id-15 div.sk-parallel-item::after {content: \"\";width: 100%;border-bottom: 1px solid gray;flex-grow: 1;}#sk-container-id-15 div.sk-label:hover label.sk-toggleable__label {background-color: #d4ebff;}#sk-container-id-15 div.sk-serial::before {content: \"\";position: absolute;border-left: 1px solid gray;box-sizing: border-box;top: 0;bottom: 0;left: 50%;z-index: 0;}#sk-container-id-15 div.sk-serial {display: flex;flex-direction: column;align-items: center;background-color: white;padding-right: 0.2em;padding-left: 0.2em;position: relative;}#sk-container-id-15 div.sk-item {position: relative;z-index: 1;}#sk-container-id-15 div.sk-parallel {display: flex;align-items: stretch;justify-content: center;background-color: white;position: relative;}#sk-container-id-15 div.sk-item::before, #sk-container-id-15 div.sk-parallel-item::before {content: \"\";position: absolute;border-left: 1px solid gray;box-sizing: border-box;top: 0;bottom: 0;left: 50%;z-index: -1;}#sk-container-id-15 div.sk-parallel-item {display: flex;flex-direction: column;z-index: 1;position: relative;background-color: white;}#sk-container-id-15 div.sk-parallel-item:first-child::after {align-self: flex-end;width: 50%;}#sk-container-id-15 div.sk-parallel-item:last-child::after {align-self: flex-start;width: 50%;}#sk-container-id-15 div.sk-parallel-item:only-child::after {width: 0;}#sk-container-id-15 div.sk-dashed-wrapped {border: 1px dashed gray;margin: 0 0.4em 0.5em 0.4em;box-sizing: border-box;padding-bottom: 0.4em;background-color: white;}#sk-container-id-15 div.sk-label label {font-family: monospace;font-weight: bold;display: inline-block;line-height: 1.2em;}#sk-container-id-15 div.sk-label-container {text-align: center;}#sk-container-id-15 div.sk-container {/* jupyter's `normalize.less` sets `[hidden] { display: none; }` but bootstrap.min.css set `[hidden] { display: none !important; }` so we also need the `!important` here to be able to override the default hidden behavior on the sphinx rendered scikit-learn.org. See: https://github.com/scikit-learn/scikit-learn/issues/21755 */display: inline-block !important;position: relative;}#sk-container-id-15 div.sk-text-repr-fallback {display: none;}</style><div id=\"sk-container-id-15\" class=\"sk-top-container\"><div class=\"sk-text-repr-fallback\"><pre>Pipeline(steps=[(&#x27;transformer&#x27;,\n",
       "                 ColumnTransformer(remainder=&#x27;passthrough&#x27;,\n",
       "                                   transformers=[(&#x27;onehot&#x27;,\n",
       "                                                  OneHotEncoder(drop=&#x27;first&#x27;),\n",
       "                                                  [&#x27;deposit_type&#x27;,\n",
       "                                                   &#x27;customer_type&#x27;]),\n",
       "                                                 (&#x27;binary&#x27;, BinaryEncoder(),\n",
       "                                                  [&#x27;country&#x27;, &#x27;market_segment&#x27;,\n",
       "                                                   &#x27;reserved_room_type&#x27;])])),\n",
       "                (&#x27;Resampling&#x27;,\n",
       "                 RandomOverSampler(random_state=100,\n",
       "                                   sampling_strategy=&#x27;not majority&#x27;)),\n",
       "                (&#x27;model&#x27;,\n",
       "                 LGBMClassifier(colsample_bytree=0.6484849625386756,\n",
       "                                learning_rate=0.09423927265469567,\n",
       "                                max_depth=638, min_child_samples=9,\n",
       "                                n_estimators=250, num_leaves=55,\n",
       "                                reg_alpha=7.97369994830372e-05,\n",
       "                                reg_lambda=1.8620897460681723e-05,\n",
       "                                subsample=0.23542578360889393))])</pre><b>In a Jupyter environment, please rerun this cell to show the HTML representation or trust the notebook. <br />On GitHub, the HTML representation is unable to render, please try loading this page with nbviewer.org.</b></div><div class=\"sk-container\" hidden><div class=\"sk-item sk-dashed-wrapped\"><div class=\"sk-label-container\"><div class=\"sk-label sk-toggleable\"><input class=\"sk-toggleable__control sk-hidden--visually\" id=\"sk-estimator-id-139\" type=\"checkbox\" ><label for=\"sk-estimator-id-139\" class=\"sk-toggleable__label sk-toggleable__label-arrow\">Pipeline</label><div class=\"sk-toggleable__content\"><pre>Pipeline(steps=[(&#x27;transformer&#x27;,\n",
       "                 ColumnTransformer(remainder=&#x27;passthrough&#x27;,\n",
       "                                   transformers=[(&#x27;onehot&#x27;,\n",
       "                                                  OneHotEncoder(drop=&#x27;first&#x27;),\n",
       "                                                  [&#x27;deposit_type&#x27;,\n",
       "                                                   &#x27;customer_type&#x27;]),\n",
       "                                                 (&#x27;binary&#x27;, BinaryEncoder(),\n",
       "                                                  [&#x27;country&#x27;, &#x27;market_segment&#x27;,\n",
       "                                                   &#x27;reserved_room_type&#x27;])])),\n",
       "                (&#x27;Resampling&#x27;,\n",
       "                 RandomOverSampler(random_state=100,\n",
       "                                   sampling_strategy=&#x27;not majority&#x27;)),\n",
       "                (&#x27;model&#x27;,\n",
       "                 LGBMClassifier(colsample_bytree=0.6484849625386756,\n",
       "                                learning_rate=0.09423927265469567,\n",
       "                                max_depth=638, min_child_samples=9,\n",
       "                                n_estimators=250, num_leaves=55,\n",
       "                                reg_alpha=7.97369994830372e-05,\n",
       "                                reg_lambda=1.8620897460681723e-05,\n",
       "                                subsample=0.23542578360889393))])</pre></div></div></div><div class=\"sk-serial\"><div class=\"sk-item sk-dashed-wrapped\"><div class=\"sk-label-container\"><div class=\"sk-label sk-toggleable\"><input class=\"sk-toggleable__control sk-hidden--visually\" id=\"sk-estimator-id-140\" type=\"checkbox\" ><label for=\"sk-estimator-id-140\" class=\"sk-toggleable__label sk-toggleable__label-arrow\">transformer: ColumnTransformer</label><div class=\"sk-toggleable__content\"><pre>ColumnTransformer(remainder=&#x27;passthrough&#x27;,\n",
       "                  transformers=[(&#x27;onehot&#x27;, OneHotEncoder(drop=&#x27;first&#x27;),\n",
       "                                 [&#x27;deposit_type&#x27;, &#x27;customer_type&#x27;]),\n",
       "                                (&#x27;binary&#x27;, BinaryEncoder(),\n",
       "                                 [&#x27;country&#x27;, &#x27;market_segment&#x27;,\n",
       "                                  &#x27;reserved_room_type&#x27;])])</pre></div></div></div><div class=\"sk-parallel\"><div class=\"sk-parallel-item\"><div class=\"sk-item\"><div class=\"sk-label-container\"><div class=\"sk-label sk-toggleable\"><input class=\"sk-toggleable__control sk-hidden--visually\" id=\"sk-estimator-id-141\" type=\"checkbox\" ><label for=\"sk-estimator-id-141\" class=\"sk-toggleable__label sk-toggleable__label-arrow\">onehot</label><div class=\"sk-toggleable__content\"><pre>[&#x27;deposit_type&#x27;, &#x27;customer_type&#x27;]</pre></div></div></div><div class=\"sk-serial\"><div class=\"sk-item\"><div class=\"sk-estimator sk-toggleable\"><input class=\"sk-toggleable__control sk-hidden--visually\" id=\"sk-estimator-id-142\" type=\"checkbox\" ><label for=\"sk-estimator-id-142\" class=\"sk-toggleable__label sk-toggleable__label-arrow\">OneHotEncoder</label><div class=\"sk-toggleable__content\"><pre>OneHotEncoder(drop=&#x27;first&#x27;)</pre></div></div></div></div></div></div><div class=\"sk-parallel-item\"><div class=\"sk-item\"><div class=\"sk-label-container\"><div class=\"sk-label sk-toggleable\"><input class=\"sk-toggleable__control sk-hidden--visually\" id=\"sk-estimator-id-143\" type=\"checkbox\" ><label for=\"sk-estimator-id-143\" class=\"sk-toggleable__label sk-toggleable__label-arrow\">binary</label><div class=\"sk-toggleable__content\"><pre>[&#x27;country&#x27;, &#x27;market_segment&#x27;, &#x27;reserved_room_type&#x27;]</pre></div></div></div><div class=\"sk-serial\"><div class=\"sk-item\"><div class=\"sk-estimator sk-toggleable\"><input class=\"sk-toggleable__control sk-hidden--visually\" id=\"sk-estimator-id-144\" type=\"checkbox\" ><label for=\"sk-estimator-id-144\" class=\"sk-toggleable__label sk-toggleable__label-arrow\">BinaryEncoder</label><div class=\"sk-toggleable__content\"><pre>BinaryEncoder()</pre></div></div></div></div></div></div><div class=\"sk-parallel-item\"><div class=\"sk-item\"><div class=\"sk-label-container\"><div class=\"sk-label sk-toggleable\"><input class=\"sk-toggleable__control sk-hidden--visually\" id=\"sk-estimator-id-145\" type=\"checkbox\" ><label for=\"sk-estimator-id-145\" class=\"sk-toggleable__label sk-toggleable__label-arrow\">remainder</label><div class=\"sk-toggleable__content\"><pre>[&#x27;previous_cancellations&#x27;, &#x27;booking_changes&#x27;, &#x27;days_in_waiting_list&#x27;, &#x27;required_car_parking_spaces&#x27;, &#x27;total_of_special_requests&#x27;]</pre></div></div></div><div class=\"sk-serial\"><div class=\"sk-item\"><div class=\"sk-estimator sk-toggleable\"><input class=\"sk-toggleable__control sk-hidden--visually\" id=\"sk-estimator-id-146\" type=\"checkbox\" ><label for=\"sk-estimator-id-146\" class=\"sk-toggleable__label sk-toggleable__label-arrow\">passthrough</label><div class=\"sk-toggleable__content\"><pre>passthrough</pre></div></div></div></div></div></div></div></div><div class=\"sk-item\"><div class=\"sk-estimator sk-toggleable\"><input class=\"sk-toggleable__control sk-hidden--visually\" id=\"sk-estimator-id-147\" type=\"checkbox\" ><label for=\"sk-estimator-id-147\" class=\"sk-toggleable__label sk-toggleable__label-arrow\">RandomOverSampler</label><div class=\"sk-toggleable__content\"><pre>RandomOverSampler(random_state=100, sampling_strategy=&#x27;not majority&#x27;)</pre></div></div></div><div class=\"sk-item\"><div class=\"sk-estimator sk-toggleable\"><input class=\"sk-toggleable__control sk-hidden--visually\" id=\"sk-estimator-id-148\" type=\"checkbox\" ><label for=\"sk-estimator-id-148\" class=\"sk-toggleable__label sk-toggleable__label-arrow\">LGBMClassifier</label><div class=\"sk-toggleable__content\"><pre>LGBMClassifier(colsample_bytree=0.6484849625386756,\n",
       "               learning_rate=0.09423927265469567, max_depth=638,\n",
       "               min_child_samples=9, n_estimators=250, num_leaves=55,\n",
       "               reg_alpha=7.97369994830372e-05,\n",
       "               reg_lambda=1.8620897460681723e-05,\n",
       "               subsample=0.23542578360889393)</pre></div></div></div></div></div></div></div>"
      ],
      "text/plain": [
       "Pipeline(steps=[('transformer',\n",
       "                 ColumnTransformer(remainder='passthrough',\n",
       "                                   transformers=[('onehot',\n",
       "                                                  OneHotEncoder(drop='first'),\n",
       "                                                  ['deposit_type',\n",
       "                                                   'customer_type']),\n",
       "                                                 ('binary', BinaryEncoder(),\n",
       "                                                  ['country', 'market_segment',\n",
       "                                                   'reserved_room_type'])])),\n",
       "                ('Resampling',\n",
       "                 RandomOverSampler(random_state=100,\n",
       "                                   sampling_strategy='not majority')),\n",
       "                ('model',\n",
       "                 LGBMClassifier(colsample_bytree=0.6484849625386756,\n",
       "                                learning_rate=0.09423927265469567,\n",
       "                                max_depth=638, min_child_samples=9,\n",
       "                                n_estimators=250, num_leaves=55,\n",
       "                                reg_alpha=7.97369994830372e-05,\n",
       "                                reg_lambda=1.8620897460681723e-05,\n",
       "                                subsample=0.23542578360889393))])"
      ]
     },
     "execution_count": 278,
     "metadata": {},
     "output_type": "execute_result"
    }
   ],
   "source": [
    "# buat model LGBM dengan best parameternya \n",
    "model = lgb.LGBMClassifier(**best_params) # ** untuk membuka dictionary\n",
    "# buat pipeline best bs \n",
    "best_bs = Pipeline([\n",
    "    ('transformer', transformer),\n",
    "    ('Resampling', ros),\n",
    "    ('model', model)\n",
    "])\n",
    "\n",
    "# fit pada data train\n",
    "best_bs.fit(x_train, y_train)"
   ]
  },
  {
   "cell_type": "code",
   "execution_count": 279,
   "metadata": {},
   "outputs": [
    {
     "data": {
      "text/html": [
       "<style>#sk-container-id-16 {color: black;background-color: white;}#sk-container-id-16 pre{padding: 0;}#sk-container-id-16 div.sk-toggleable {background-color: white;}#sk-container-id-16 label.sk-toggleable__label {cursor: pointer;display: block;width: 100%;margin-bottom: 0;padding: 0.3em;box-sizing: border-box;text-align: center;}#sk-container-id-16 label.sk-toggleable__label-arrow:before {content: \"▸\";float: left;margin-right: 0.25em;color: #696969;}#sk-container-id-16 label.sk-toggleable__label-arrow:hover:before {color: black;}#sk-container-id-16 div.sk-estimator:hover label.sk-toggleable__label-arrow:before {color: black;}#sk-container-id-16 div.sk-toggleable__content {max-height: 0;max-width: 0;overflow: hidden;text-align: left;background-color: #f0f8ff;}#sk-container-id-16 div.sk-toggleable__content pre {margin: 0.2em;color: black;border-radius: 0.25em;background-color: #f0f8ff;}#sk-container-id-16 input.sk-toggleable__control:checked~div.sk-toggleable__content {max-height: 200px;max-width: 100%;overflow: auto;}#sk-container-id-16 input.sk-toggleable__control:checked~label.sk-toggleable__label-arrow:before {content: \"▾\";}#sk-container-id-16 div.sk-estimator input.sk-toggleable__control:checked~label.sk-toggleable__label {background-color: #d4ebff;}#sk-container-id-16 div.sk-label input.sk-toggleable__control:checked~label.sk-toggleable__label {background-color: #d4ebff;}#sk-container-id-16 input.sk-hidden--visually {border: 0;clip: rect(1px 1px 1px 1px);clip: rect(1px, 1px, 1px, 1px);height: 1px;margin: -1px;overflow: hidden;padding: 0;position: absolute;width: 1px;}#sk-container-id-16 div.sk-estimator {font-family: monospace;background-color: #f0f8ff;border: 1px dotted black;border-radius: 0.25em;box-sizing: border-box;margin-bottom: 0.5em;}#sk-container-id-16 div.sk-estimator:hover {background-color: #d4ebff;}#sk-container-id-16 div.sk-parallel-item::after {content: \"\";width: 100%;border-bottom: 1px solid gray;flex-grow: 1;}#sk-container-id-16 div.sk-label:hover label.sk-toggleable__label {background-color: #d4ebff;}#sk-container-id-16 div.sk-serial::before {content: \"\";position: absolute;border-left: 1px solid gray;box-sizing: border-box;top: 0;bottom: 0;left: 50%;z-index: 0;}#sk-container-id-16 div.sk-serial {display: flex;flex-direction: column;align-items: center;background-color: white;padding-right: 0.2em;padding-left: 0.2em;position: relative;}#sk-container-id-16 div.sk-item {position: relative;z-index: 1;}#sk-container-id-16 div.sk-parallel {display: flex;align-items: stretch;justify-content: center;background-color: white;position: relative;}#sk-container-id-16 div.sk-item::before, #sk-container-id-16 div.sk-parallel-item::before {content: \"\";position: absolute;border-left: 1px solid gray;box-sizing: border-box;top: 0;bottom: 0;left: 50%;z-index: -1;}#sk-container-id-16 div.sk-parallel-item {display: flex;flex-direction: column;z-index: 1;position: relative;background-color: white;}#sk-container-id-16 div.sk-parallel-item:first-child::after {align-self: flex-end;width: 50%;}#sk-container-id-16 div.sk-parallel-item:last-child::after {align-self: flex-start;width: 50%;}#sk-container-id-16 div.sk-parallel-item:only-child::after {width: 0;}#sk-container-id-16 div.sk-dashed-wrapped {border: 1px dashed gray;margin: 0 0.4em 0.5em 0.4em;box-sizing: border-box;padding-bottom: 0.4em;background-color: white;}#sk-container-id-16 div.sk-label label {font-family: monospace;font-weight: bold;display: inline-block;line-height: 1.2em;}#sk-container-id-16 div.sk-label-container {text-align: center;}#sk-container-id-16 div.sk-container {/* jupyter's `normalize.less` sets `[hidden] { display: none; }` but bootstrap.min.css set `[hidden] { display: none !important; }` so we also need the `!important` here to be able to override the default hidden behavior on the sphinx rendered scikit-learn.org. See: https://github.com/scikit-learn/scikit-learn/issues/21755 */display: inline-block !important;position: relative;}#sk-container-id-16 div.sk-text-repr-fallback {display: none;}</style><div id=\"sk-container-id-16\" class=\"sk-top-container\"><div class=\"sk-text-repr-fallback\"><pre>Pipeline(steps=[(&#x27;transformer&#x27;,\n",
       "                 ColumnTransformer(remainder=&#x27;passthrough&#x27;,\n",
       "                                   transformers=[(&#x27;onehot&#x27;,\n",
       "                                                  OneHotEncoder(drop=&#x27;first&#x27;),\n",
       "                                                  [&#x27;deposit_type&#x27;,\n",
       "                                                   &#x27;customer_type&#x27;]),\n",
       "                                                 (&#x27;binary&#x27;, BinaryEncoder(),\n",
       "                                                  [&#x27;country&#x27;, &#x27;market_segment&#x27;,\n",
       "                                                   &#x27;reserved_room_type&#x27;])])),\n",
       "                (&#x27;oversampling&#x27;,\n",
       "                 RandomOverSampler(random_state=100,\n",
       "                                   sampling_strategy=&#x27;not majority&#x27;)),\n",
       "                (&#x27;model&#x27;, LGBMClassifier())])</pre><b>In a Jupyter environment, please rerun this cell to show the HTML representation or trust the notebook. <br />On GitHub, the HTML representation is unable to render, please try loading this page with nbviewer.org.</b></div><div class=\"sk-container\" hidden><div class=\"sk-item sk-dashed-wrapped\"><div class=\"sk-label-container\"><div class=\"sk-label sk-toggleable\"><input class=\"sk-toggleable__control sk-hidden--visually\" id=\"sk-estimator-id-149\" type=\"checkbox\" ><label for=\"sk-estimator-id-149\" class=\"sk-toggleable__label sk-toggleable__label-arrow\">Pipeline</label><div class=\"sk-toggleable__content\"><pre>Pipeline(steps=[(&#x27;transformer&#x27;,\n",
       "                 ColumnTransformer(remainder=&#x27;passthrough&#x27;,\n",
       "                                   transformers=[(&#x27;onehot&#x27;,\n",
       "                                                  OneHotEncoder(drop=&#x27;first&#x27;),\n",
       "                                                  [&#x27;deposit_type&#x27;,\n",
       "                                                   &#x27;customer_type&#x27;]),\n",
       "                                                 (&#x27;binary&#x27;, BinaryEncoder(),\n",
       "                                                  [&#x27;country&#x27;, &#x27;market_segment&#x27;,\n",
       "                                                   &#x27;reserved_room_type&#x27;])])),\n",
       "                (&#x27;oversampling&#x27;,\n",
       "                 RandomOverSampler(random_state=100,\n",
       "                                   sampling_strategy=&#x27;not majority&#x27;)),\n",
       "                (&#x27;model&#x27;, LGBMClassifier())])</pre></div></div></div><div class=\"sk-serial\"><div class=\"sk-item sk-dashed-wrapped\"><div class=\"sk-label-container\"><div class=\"sk-label sk-toggleable\"><input class=\"sk-toggleable__control sk-hidden--visually\" id=\"sk-estimator-id-150\" type=\"checkbox\" ><label for=\"sk-estimator-id-150\" class=\"sk-toggleable__label sk-toggleable__label-arrow\">transformer: ColumnTransformer</label><div class=\"sk-toggleable__content\"><pre>ColumnTransformer(remainder=&#x27;passthrough&#x27;,\n",
       "                  transformers=[(&#x27;onehot&#x27;, OneHotEncoder(drop=&#x27;first&#x27;),\n",
       "                                 [&#x27;deposit_type&#x27;, &#x27;customer_type&#x27;]),\n",
       "                                (&#x27;binary&#x27;, BinaryEncoder(),\n",
       "                                 [&#x27;country&#x27;, &#x27;market_segment&#x27;,\n",
       "                                  &#x27;reserved_room_type&#x27;])])</pre></div></div></div><div class=\"sk-parallel\"><div class=\"sk-parallel-item\"><div class=\"sk-item\"><div class=\"sk-label-container\"><div class=\"sk-label sk-toggleable\"><input class=\"sk-toggleable__control sk-hidden--visually\" id=\"sk-estimator-id-151\" type=\"checkbox\" ><label for=\"sk-estimator-id-151\" class=\"sk-toggleable__label sk-toggleable__label-arrow\">onehot</label><div class=\"sk-toggleable__content\"><pre>[&#x27;deposit_type&#x27;, &#x27;customer_type&#x27;]</pre></div></div></div><div class=\"sk-serial\"><div class=\"sk-item\"><div class=\"sk-estimator sk-toggleable\"><input class=\"sk-toggleable__control sk-hidden--visually\" id=\"sk-estimator-id-152\" type=\"checkbox\" ><label for=\"sk-estimator-id-152\" class=\"sk-toggleable__label sk-toggleable__label-arrow\">OneHotEncoder</label><div class=\"sk-toggleable__content\"><pre>OneHotEncoder(drop=&#x27;first&#x27;)</pre></div></div></div></div></div></div><div class=\"sk-parallel-item\"><div class=\"sk-item\"><div class=\"sk-label-container\"><div class=\"sk-label sk-toggleable\"><input class=\"sk-toggleable__control sk-hidden--visually\" id=\"sk-estimator-id-153\" type=\"checkbox\" ><label for=\"sk-estimator-id-153\" class=\"sk-toggleable__label sk-toggleable__label-arrow\">binary</label><div class=\"sk-toggleable__content\"><pre>[&#x27;country&#x27;, &#x27;market_segment&#x27;, &#x27;reserved_room_type&#x27;]</pre></div></div></div><div class=\"sk-serial\"><div class=\"sk-item\"><div class=\"sk-estimator sk-toggleable\"><input class=\"sk-toggleable__control sk-hidden--visually\" id=\"sk-estimator-id-154\" type=\"checkbox\" ><label for=\"sk-estimator-id-154\" class=\"sk-toggleable__label sk-toggleable__label-arrow\">BinaryEncoder</label><div class=\"sk-toggleable__content\"><pre>BinaryEncoder()</pre></div></div></div></div></div></div><div class=\"sk-parallel-item\"><div class=\"sk-item\"><div class=\"sk-label-container\"><div class=\"sk-label sk-toggleable\"><input class=\"sk-toggleable__control sk-hidden--visually\" id=\"sk-estimator-id-155\" type=\"checkbox\" ><label for=\"sk-estimator-id-155\" class=\"sk-toggleable__label sk-toggleable__label-arrow\">remainder</label><div class=\"sk-toggleable__content\"><pre>[&#x27;previous_cancellations&#x27;, &#x27;booking_changes&#x27;, &#x27;days_in_waiting_list&#x27;, &#x27;required_car_parking_spaces&#x27;, &#x27;total_of_special_requests&#x27;]</pre></div></div></div><div class=\"sk-serial\"><div class=\"sk-item\"><div class=\"sk-estimator sk-toggleable\"><input class=\"sk-toggleable__control sk-hidden--visually\" id=\"sk-estimator-id-156\" type=\"checkbox\" ><label for=\"sk-estimator-id-156\" class=\"sk-toggleable__label sk-toggleable__label-arrow\">passthrough</label><div class=\"sk-toggleable__content\"><pre>passthrough</pre></div></div></div></div></div></div></div></div><div class=\"sk-item\"><div class=\"sk-estimator sk-toggleable\"><input class=\"sk-toggleable__control sk-hidden--visually\" id=\"sk-estimator-id-157\" type=\"checkbox\" ><label for=\"sk-estimator-id-157\" class=\"sk-toggleable__label sk-toggleable__label-arrow\">RandomOverSampler</label><div class=\"sk-toggleable__content\"><pre>RandomOverSampler(random_state=100, sampling_strategy=&#x27;not majority&#x27;)</pre></div></div></div><div class=\"sk-item\"><div class=\"sk-estimator sk-toggleable\"><input class=\"sk-toggleable__control sk-hidden--visually\" id=\"sk-estimator-id-158\" type=\"checkbox\" ><label for=\"sk-estimator-id-158\" class=\"sk-toggleable__label sk-toggleable__label-arrow\">LGBMClassifier</label><div class=\"sk-toggleable__content\"><pre>LGBMClassifier()</pre></div></div></div></div></div></div></div>"
      ],
      "text/plain": [
       "Pipeline(steps=[('transformer',\n",
       "                 ColumnTransformer(remainder='passthrough',\n",
       "                                   transformers=[('onehot',\n",
       "                                                  OneHotEncoder(drop='first'),\n",
       "                                                  ['deposit_type',\n",
       "                                                   'customer_type']),\n",
       "                                                 ('binary', BinaryEncoder(),\n",
       "                                                  ['country', 'market_segment',\n",
       "                                                   'reserved_room_type'])])),\n",
       "                ('oversampling',\n",
       "                 RandomOverSampler(random_state=100,\n",
       "                                   sampling_strategy='not majority')),\n",
       "                ('model', LGBMClassifier())])"
      ]
     },
     "execution_count": 279,
     "metadata": {},
     "output_type": "execute_result"
    }
   ],
   "source": [
    "# buat tanpa tuning\n",
    "estimator = Pipeline([\n",
    "    ('transformer',transformer),\n",
    "    ('oversampling',ros),\n",
    "    ('model',lgbm ) # disini menggunakan variable lgbm dimana merupakan model tanpa tuning parameter\n",
    "    ])\n",
    "\n",
    "# fit pada data train\n",
    "estimator.fit(x_train,y_train)"
   ]
  },
  {
   "cell_type": "code",
   "execution_count": 280,
   "metadata": {},
   "outputs": [],
   "source": [
    "# predict dengan tuning dan default\n",
    "y_pred_default = estimator.predict(x_test)\n",
    "y_pred_tuned = best_bs.predict(x_test)"
   ]
  },
  {
   "cell_type": "code",
   "execution_count": 281,
   "metadata": {},
   "outputs": [
    {
     "name": "stdout",
     "output_type": "stream",
     "text": [
      "F1 not tuned:  0.7512846077153157\n",
      "F1 Tuned: 0.7516596258298129\n"
     ]
    }
   ],
   "source": [
    "# lihat hasil f1-score\n",
    "f1_default = f1_score(y_test,y_pred_default)\n",
    "f1_tuned = f1_score(y_test,y_pred_tuned)\n",
    "\n",
    "print('F1 not tuned: ',f1_default)\n",
    "print('F1 Tuned:',f1_tuned)"
   ]
  },
  {
   "attachments": {},
   "cell_type": "markdown",
   "metadata": {},
   "source": [
    "Terlihat walau hanya sedikit yang meningkat, namun ini membuktikan bahwa tuning model kita telah mengimprove model"
   ]
  },
  {
   "attachments": {},
   "cell_type": "markdown",
   "metadata": {},
   "source": [
    "Lalu kita akan lihat untuk metrics-metrics yang lainnya"
   ]
  },
  {
   "cell_type": "code",
   "execution_count": 282,
   "metadata": {},
   "outputs": [
    {
     "name": "stdout",
     "output_type": "stream",
     "text": [
      "Classification Report Default : \n",
      "               precision    recall  f1-score   support\n",
      "\n",
      "           0       0.87      0.81      0.84     10498\n",
      "           1       0.71      0.80      0.75      6147\n",
      "\n",
      "    accuracy                           0.81     16645\n",
      "   macro avg       0.79      0.80      0.80     16645\n",
      "weighted avg       0.81      0.81      0.81     16645\n",
      "\n",
      "Classification Report Tuned : \n",
      "               precision    recall  f1-score   support\n",
      "\n",
      "           0       0.88      0.80      0.84     10498\n",
      "           1       0.70      0.81      0.75      6147\n",
      "\n",
      "    accuracy                           0.80     16645\n",
      "   macro avg       0.79      0.80      0.79     16645\n",
      "weighted avg       0.81      0.80      0.80     16645\n",
      "\n"
     ]
    }
   ],
   "source": [
    "# Classification report before & after tuning\n",
    "report_default = classification_report(y_test, y_pred_default)\n",
    "report_tuned = classification_report(y_test, y_pred_tuned)\n",
    "\n",
    "print('Classification Report Default : \\n', report_default)\n",
    "print('Classification Report Tuned : \\n', report_tuned)"
   ]
  },
  {
   "attachments": {},
   "cell_type": "markdown",
   "metadata": {},
   "source": [
    "Setelah tuning, kita lihat bahwa adanya trade-off antara precision dan recall, dan untuk f1-score masih sama karena peningkatannya tidak begitu signifikan, namun untuk accuracynya terlihat menurun, **namun** perlu diperhatikan bahwa accuracy pada titik ini merupakan metrics yang kurang tepat untuk digunakan dikarenakan data yang kita hadapi adalah data imbalance, walau sudah di resampling, accuracy bukanlah metrics yang tepat"
   ]
  },
  {
   "attachments": {},
   "cell_type": "markdown",
   "metadata": {},
   "source": [
    "dan tentunya kita juga perlu melihat roc aucnya"
   ]
  },
  {
   "cell_type": "code",
   "execution_count": 283,
   "metadata": {},
   "outputs": [
    {
     "name": "stdout",
     "output_type": "stream",
     "text": [
      "ROC/AUC not tuned:  0.8034352558047653\n",
      "ROC/AUC Tuned: 0.8039333171613128\n"
     ]
    }
   ],
   "source": [
    "# ROC AUC before & after tuning\n",
    "roc_auc_default = roc_auc_score(y_test,y_pred_default)\n",
    "roc_auc_tuned = roc_auc_score(y_test,y_pred_tuned)\n",
    "\n",
    "print('ROC/AUC not tuned: ',roc_auc_default)\n",
    "print('ROC/AUC Tuned:',roc_auc_tuned)"
   ]
  },
  {
   "attachments": {},
   "cell_type": "markdown",
   "metadata": {},
   "source": [
    "terluhat bahwa roc auc juga meningkat walau hanya sedikit saja (sama seperti f1)"
   ]
  },
  {
   "attachments": {},
   "cell_type": "markdown",
   "metadata": {},
   "source": [
    "Konklusinya, walaupun dengan hyperparameter f1-score dan roc aucnya hanya sedikit lebih baik, tuning tersebut menunjukkan adanya peningkatan performa, walaupun dari sisi akurasi yang justru menurun, namun hal ini tidak bisa dijadikan benchmark, karena akurasi pada data imbalance merupakan metrics yang buruk atau kurang tepat untuk digunakan. oleh karena itu model yang kita gunakan adalah **model yang sudah di tuning hyperparameternya** "
   ]
  },
  {
   "attachments": {},
   "cell_type": "markdown",
   "metadata": {},
   "source": [
    "## Feature Importance"
   ]
  },
  {
   "attachments": {},
   "cell_type": "markdown",
   "metadata": {},
   "source": [
    "Sekarang kita perlu tau untuk keperluan bisnis hotel ini kedepannya, sebenarnya feature apa saja yang memiliki tingkat pengaruh paling tinggi terhadap seorang/organisasi melakukan cancelation"
   ]
  },
  {
   "cell_type": "code",
   "execution_count": 284,
   "metadata": {},
   "outputs": [],
   "source": [
    "# mengambil model dari best bs\n",
    "model = best_bs.named_steps['model']"
   ]
  },
  {
   "cell_type": "code",
   "execution_count": 285,
   "metadata": {},
   "outputs": [
    {
     "data": {
      "text/plain": [
       "array([ 105,   55,  128,  494,  507,   36,  305,  435,  589,  595,  837,\n",
       "        750,  695,    0,  536,  428,  721,   88,  428,  749,  565,  612,\n",
       "       1580, 1034,   80, 1148])"
      ]
     },
     "execution_count": 285,
     "metadata": {},
     "output_type": "execute_result"
    }
   ],
   "source": [
    "# extract feature importance\n",
    "feature_imp_arr = model.feature_importances_\n",
    "feature_imp_arr"
   ]
  },
  {
   "attachments": {},
   "cell_type": "markdown",
   "metadata": {},
   "source": [
    "Terlihat masih dalam bentuk array, namun hal penting yang perlu diketahui adalah array ini mengeluarkan **sesuai dengan urutan**"
   ]
  },
  {
   "attachments": {},
   "cell_type": "markdown",
   "metadata": {},
   "source": [
    "selanjutnya kita akan ambil feature namesnya"
   ]
  },
  {
   "cell_type": "code",
   "execution_count": 286,
   "metadata": {},
   "outputs": [
    {
     "data": {
      "text/plain": [
       "['deposit_type_Non Refund',\n",
       " 'deposit_type_Refundable',\n",
       " 'customer_type_Group',\n",
       " 'customer_type_Transient',\n",
       " 'customer_type_Transient-Party',\n",
       " 'country_0',\n",
       " 'country_1',\n",
       " 'country_2',\n",
       " 'country_3',\n",
       " 'country_4',\n",
       " 'country_5',\n",
       " 'country_6',\n",
       " 'country_7',\n",
       " 'market_segment_0',\n",
       " 'market_segment_1',\n",
       " 'market_segment_2',\n",
       " 'market_segment_3',\n",
       " 'reserved_room_type_0',\n",
       " 'reserved_room_type_1',\n",
       " 'reserved_room_type_2',\n",
       " 'reserved_room_type_3',\n",
       " 'previous_cancellations',\n",
       " 'booking_changes',\n",
       " 'days_in_waiting_list',\n",
       " 'required_car_parking_spaces',\n",
       " 'total_of_special_requests']"
      ]
     },
     "execution_count": 286,
     "metadata": {},
     "output_type": "execute_result"
    }
   ],
   "source": [
    "# masukkan nama feature ke feature_names\n",
    "feature_names = features \n",
    "feature_names"
   ]
  },
  {
   "cell_type": "code",
   "execution_count": 287,
   "metadata": {},
   "outputs": [],
   "source": [
    "# membuat series untuk score dan nama featurenya\n",
    "arr_series = pd.Series(feature_imp_arr, name='Score')\n",
    "list_series = pd.Series(feature_names, name='Feature')"
   ]
  },
  {
   "cell_type": "code",
   "execution_count": 288,
   "metadata": {},
   "outputs": [],
   "source": [
    "# melakukan concat untuk menggabungkan kedalam 1 dataframe\n",
    "feature_importance = pd.concat([arr_series, list_series], axis=1)\n",
    "# sort berdasarkan score tertinggi dan ambil top 10nya\n",
    "feature_importance_plot = feature_importance.sort_values(by='Score',ascending=False).head(10)"
   ]
  },
  {
   "cell_type": "code",
   "execution_count": 289,
   "metadata": {},
   "outputs": [
    {
     "data": {
      "image/png": "[encoded data removed]",
      "text/plain": [
       "<Figure size 500x500 with 1 Axes>"
      ]
     },
     "metadata": {},
     "output_type": "display_data"
    }
   ],
   "source": [
    "# plot dari feature importance plot\n",
    "plt.figure(figsize=(5,5))\n",
    "sns.barplot(feature_importance_plot, y='Feature',x='Score')\n",
    "plt.xticks(rotation=45, ha='right')\n",
    "plt.show()"
   ]
  },
  {
   "attachments": {},
   "cell_type": "markdown",
   "metadata": {},
   "source": [
    "Dari barplot diatas menunjukkan bahwa `booking change` adalah feature yang paling berpengaruh terhadap target variable, yaitu apakah customer akan cancel atau tidak, diikuti juga dengan `total special request` dan `days in waiting list`. \n",
    "\n",
    "tentu untuk `booking change` ini sangat masuk akal dimana jika sering terjadinya perubahan pada booking akan berdampak kepada ketidak pastian, dan juga untuk `special request`, dimana banyaknya request yang diminta customer menunjukkan kebutuhan utama dari customer tersebut untuk menginap di hotel ini, dan untuk `days in waiting list` menunjukkan berapa lama customer itu akan menunggu untuk mendapatkan kamarnya, semakin lama antriannya semakin sedikit customer akan mempertahankan dirinya dalam list tersebut"
   ]
  },
  {
   "attachments": {},
   "cell_type": "markdown",
   "metadata": {},
   "source": [
    "# Conclusion & Recommendation"
   ]
  },
  {
   "attachments": {},
   "cell_type": "markdown",
   "metadata": {},
   "source": [
    "## Conclusion"
   ]
  },
  {
   "cell_type": "code",
   "execution_count": 290,
   "metadata": {},
   "outputs": [
    {
     "name": "stdout",
     "output_type": "stream",
     "text": [
      "Classification Report Tuned : \n",
      "               precision    recall  f1-score   support\n",
      "\n",
      "           0       0.88      0.80      0.84     10498\n",
      "           1       0.70      0.81      0.75      6147\n",
      "\n",
      "    accuracy                           0.80     16645\n",
      "   macro avg       0.79      0.80      0.79     16645\n",
      "weighted avg       0.81      0.80      0.80     16645\n",
      "\n",
      "ROC/AUC Tuned: 0.8039333171613128\n"
     ]
    }
   ],
   "source": [
    "# Hasil report model terakhir\n",
    "print('Classification Report Tuned : \\n', report_tuned)\n",
    "print('ROC/AUC Tuned:',roc_auc_tuned)"
   ]
  },
  {
   "attachments": {},
   "cell_type": "markdown",
   "metadata": {},
   "source": [
    "Classification report yang akan menjadi final model adalah yang di tuning seperti diatas, dan menurut classification report diatas bahwa model ini akan digunakan oleh hotel baik dari bagian marketing ataupun management untuk memprediksi terjadinya cancelation dari customer. Dan berdasarkan model ini menunjukkan bahwa:\n",
    "\n",
    "1. Dari seluruh customer yang akan cancel maka sekitar 81% diprediksi dengan benar menggunakan model ini, hal ini bisa dilihat dari recallnya pada target 1 (cancel), dan model juga dapat menebak dengan benar untuk customer yang tidak melakukan cancel sebesar 80% dari seluruh customer yang memang tidak cancel, hal ini juga dilihat dati recall dari target 0 (not cancel). \n",
    "\n",
    "2. Dari seluruh prediksi cancel dari model, model dapat mengidentifikasi sekitar 70% ketepatan prediksi target 1 (cancel) hal ini diambil dari precisionnya, dan dari seluruh prediksi bahwa customer tidak akan cancel akan diidentifikasi benar oleh model sekitar 88% pada target 0(tidak cancel) hal ini juga diambil dari precisionnya"
   ]
  },
  {
   "cell_type": "markdown",
   "metadata": {},
   "source": [
    "Lalu bagaimana hal ini akan membantu hotel dalam meningkatkan profitablitas atau mengurangi revenue loss? kita akan berikan ilustrasi dengan menggunakan test data, dimana pada test data terdapat:\n",
    "\n",
    "1. 6147 customer akan cancel\n",
    "2. 10498 customer tidak akan cancel"
   ]
  },
  {
   "cell_type": "markdown",
   "metadata": {},
   "source": [
    "Disini kita akan mengambil **scenario yang pertama**, yaitu tanpa menggunakan model dan menganggap seluruh customer akan melakukan booking tanpa ada cancel, artinya akan ada **16645** customer yang melakukan booking pada hotel, dan dengan anggapan hotel mengambil keuntungan dari kamar sebesar 70% dimana harga rata-rata kamar di portugal sekitar 85 USD (dilansir dari [sini](https://www.budgetyourtrip.com/hotels/portugal-PT#:~:text=The%20average%20hotel%20price%20in,days%20in%20Portugal%20is%20%24296.)), maka keuntungannya bisa 60 USD per kamar. Maka dari itu **skenario pertamanya**,"
   ]
  },
  {
   "cell_type": "markdown",
   "metadata": {},
   "source": [
    "**Skenario Tanpa Model** :\n",
    "\n",
    "1. Menerima seluruh booking, maka ekspetasi keuntungan diawal:<br>\n",
    "16.645 Books X 60 USD = 998.700 USD\n",
    "2. Customer yang ternyata cancel = 6.147 Cancel X 60 USD = 368.820 USD\n",
    "3. Total Revenue Loss = **368.820 USD**\n",
    "4. Net profit = **629.880 USD**"
   ]
  },
  {
   "cell_type": "markdown",
   "metadata": {},
   "source": [
    "Terlihat pada skenario pertama jika tidak menggunakan model, dan secara besar-besaran menerima seluruh customer yang melakukan booking, maka revenue loss akan menjadi 368.820 USD dan net profitnya 629.880 USD, dimana tidak ada tindakan resource allocation, dimana langsung mengisi kamar yang terprediksi cancel dengan yang di prediksi tidak cancel."
   ]
  },
  {
   "cell_type": "markdown",
   "metadata": {},
   "source": [
    "**Skenario Dengan Model :**"
   ]
  },
  {
   "cell_type": "markdown",
   "metadata": {},
   "source": [
    "Jika dengan model, kita akan lihat hasil prediksinya dengan lebih detail menggunakan Confusion Matrix: "
   ]
  },
  {
   "cell_type": "code",
   "execution_count": 291,
   "metadata": {},
   "outputs": [
    {
     "data": {
      "image/png": "[encoded data removed]",
      "text/plain": [
       "<Figure size 640x480 with 2 Axes>"
      ]
     },
     "metadata": {},
     "output_type": "display_data"
    }
   ],
   "source": [
    "# Confusion matrix\n",
    "cm = confusion_matrix(y_test, y_pred_tuned)\n",
    "\n",
    "# Reorder the confusion matrix\n",
    "cm_reordered = cm[::-1, ::-1]\n",
    "\n",
    "# Create a heatmap of the reordered confusion matrix\n",
    "ax = sns.heatmap(cm_reordered, annot=True, fmt=\"d\", cmap=\"Blues\")\n",
    "\n",
    "# Set the tick labels for x-axis and y-axis\n",
    "ax.set_xticklabels([\"Cancel\", \"Not Cancel\"])\n",
    "ax.set_yticklabels([\"Cancel\", \"Not Cancel\"])\n",
    "\n",
    "# Add labels, title, and axis ticks\n",
    "plt.xlabel(\"Predicted\")\n",
    "plt.ylabel(\"Actual\")\n",
    "plt.title(\"Confusion Matrix\")\n",
    "\n",
    "# Show the plot\n",
    "plt.show()"
   ]
  },
  {
   "cell_type": "markdown",
   "metadata": {},
   "source": [
    "Dapat digambarkan seperti ini:\n",
    "\n",
    "TP |FN\n",
    "---|---\n",
    "FP |TN"
   ]
  },
  {
   "cell_type": "markdown",
   "metadata": {},
   "source": [
    "Jika hotel sudah menjadikan data untuk membuat keputusan dan juga sudah menggunakan otomasi dari data (dimana hotel sudah *Data-Driven*), maka hotel sudah mempersiapkan langkah **Resource Allocation**, Dimana hotel tidak akan menyia-nyiakan kamar yang sudah terprediksi akan cancel, melainkan hotel tersebut akan mencari penggantinya dimana penggantinya juga akan diperlakukan model prediction untuk menentukan apakah penggantinya benar-benar tidak cancel atau tidak, maka dari ini skenarionya akan seperti ini:"
   ]
  },
  {
   "attachments": {},
   "cell_type": "markdown",
   "metadata": {},
   "source": [
    "1. Menerima seluruh booking dengan prediksi tidak cancel:<br>\n",
    "8.371(Benar-Benar tidak cancel) + 1.165(kesalahan model dalam memprediksi) = 9.536 Booking<br>\n",
    "Keuntungan nett dari hasil prediksi tidak cancel = 8374 Book X 60 USD = 502.260 USD<br>\n",
    "Salah prediksi = 1165 Book X 60 USD = 69.900 USD\n",
    "\n",
    "\n",
    "2. Melakukan **Resource Allocation** dari yang terprediksi cancel =<br>\n",
    "4982 (benar-benar cancel) + 2.127 (Terprediksi cancel padahal tidak cancel) = 7.109 Booking<br>\n",
    "Melakukan **Resource Allocation** dengan menggunakan model,\n",
    "**Akan ada 88% yang terprediksi tidak cancel dari pengganti terprediksi cancel** (Hal ini berdasarkan precision dari 0),<br>\n",
    "Maka... akan dilakukan prioritas untuk terprediksi tidak cancel sebanyak 7.109 booking, maka hitungan akan benar-benar tidak<br>\n",
    "cancel adalah:\n",
    "Alokasi ke bookingan baru dengan prediksi tidak cancel sebanyak 7.109, dengan ketepatan 88%<br>\n",
    "Yang benar-benar tidak cancel = 7.109 X 88% = 6.256 Bookings X 60 USD = 375.360 USD<br>\n",
    "Yang ternyata cancel = 7.109 - 6.256 = 853 Bookings X 60 USD = 51.180 USD\n",
    "\n",
    "3. \n",
    "- True Negative = 502.260 USD (Revenue)\n",
    "- False Negative = 69.900 USD (Revenue Loss)\n",
    "- Alokasi pada seluruh kelas positive dan digantikan dengan kelas negatif:<br>\n",
    "    - True Negative hasil alokasi dari positive class = 375.360 USD (Revenue/ Berdasarkan precision target 0)\n",
    "    - False Negative hasil alokasi dari positive class = 51.180 USD (Revenue Loss)\n",
    "\n",
    "Total dengan menggunakan model:\n",
    "Net Profit = **877.620 USD**<br>\n",
    "Dengan total Revenue Loss = **121.080 USD**\n"
   ]
  },
  {
   "attachments": {},
   "cell_type": "markdown",
   "metadata": {},
   "source": [
    "**Konklusi dari Perbandingan**,\n",
    "\n",
    "Perhitungan|Tanpa model|Dengan Model \n",
    "-----------|-----------|-----------\n",
    "Total Revenue Loss| **368.820 USD**|**121.080 USD**\n",
    "Net profit  |**629.880 USD**|**877.620 USD**\n",
    "\n",
    "Terlihat dengan model, hotel akan mengimplementasikan **Resource Allocation** dimana hal itu secara signifikan sangat meningkatkan net profit dan juga mengurangi total revenue lossnya.\n",
    "\n",
    "Oleh karena itu penggunaan model untuk memprediksi bisa sangat membantu hotel portugal ini untuk meningkatkan keuntungan dan juga pastinya mengurangi potensi hilangnnya keuntungan.\n"
   ]
  },
  {
   "attachments": {},
   "cell_type": "markdown",
   "metadata": {},
   "source": [
    "**IMPORTANT NOTE:**\n",
    "\n",
    "**JIKA MODEL DI RUN ULANG DARI AWAL, BISA TERJADI PERUBAHAN PADA HASIL CONFUSION MATRIX (WALAU TIDAK BANYAK), HAL INI DISEBABKAN OLEH HYPERPARAMETER TUNING YANG DIGUNAKAN DENGAN MEMGGUNAKAN BAYESIAN OPTIMIZATION**"
   ]
  },
  {
   "attachments": {},
   "cell_type": "markdown",
   "metadata": {},
   "source": [
    "## Recommendation"
   ]
  },
  {
   "attachments": {},
   "cell_type": "markdown",
   "metadata": {},
   "source": [
    "1. Datanya cukup terbatas, setiap kolom juga memiliki limitnya masing-masing, model ini kurang di percaya jika model digunakan untuk memprediksi data yang melewati batas, ataupun jika ada kolom baru yang belum pernah di trainingkan di dalam model ini\n",
    "\n",
    "2. Bisa terjadinya bias, walaupun hasil akhir dari model menghasilkan hasil yang bagus dan juga cukup berpengaruh untuk menyelesaikan permasalahan di hotel, hal ini bisa terjadi karena keberadaan dari duplikat yang cukup banyak. namun seperti yang sudah di sampaikan di atas bahwa duplikat tersebut memang membawa banyak informasi penting, namun perlu di perhatikan bahwa nature dari duplikat itu sendiri membawakan bias pada data.\n",
    "\n",
    "3. Penambahan area training, dimana menambahkan kolom yang mungkin akan lebih relevan seperti \"berapa hari menginap\" atau \"harga kamar yang di sewakan\" bisa membantu untuk meningkatkan model agar model memiliki performa yang lebih akurat \n",
    "\n",
    "4. Jika sudah menggunakan model ini untuk melakukan business decision, akan lebih baik dengan mengimplementasi **Resource Allocation**, dimana seperti yang di sampaikan pada bagian **Conclusion**, namun perlu diingat ada kalanya model tidak bisa dipercaya, maka pada momen itu lebih baik menggunakan cara seperti biasanya\n",
    "\n",
    "5. Walaupun sudah dilakukan model benchmarking, bisa lebih baik lagi dengan model-model yang belum teruji disini, bisa saja dengan model yang belum pernah teruji disini bisa melebihi performa dari model yang sekarang \n",
    "\n",
    "6. Improvement of data quality, dimana disini qualitas datanya masih kurang maksimal (Duplicates sampai 70% data), sehingga cara membersihkan data menjadi cara yang *uncertain* dan tidak ada cara-cara lain selain menetapkan informasi tersebut kedalam data."
   ]
  },
  {
   "attachments": {},
   "cell_type": "markdown",
   "metadata": {},
   "source": [
    "# Saving model : Pickle"
   ]
  },
  {
   "attachments": {},
   "cell_type": "markdown",
   "metadata": {},
   "source": [
    "Tentu pada tahap akhir kita perlu menyimpan model ini dengan menggunakan pickle, dimana nantinya model kita bisa digunakan untuk melakukan prediksi "
   ]
  },
  {
   "cell_type": "code",
   "execution_count": 292,
   "metadata": {},
   "outputs": [],
   "source": [
    "# Saving model\n",
    "filename = 'Cancellation Hotel Booking Model.sav'\n",
    "pickle.dump(best_bs, open(filename, 'wb'))"
   ]
  }
 ],
 "metadata": {
  "kernelspec": {
   "display_name": "Python 3",
   "language": "python",
   "name": "python3"
  },
  "language_info": {
   "codemirror_mode": {
    "name": "ipython",
    "version": 3
   },
   "file_extension": ".py",
   "mimetype": "text/x-python",
   "name": "python",
   "nbconvert_exporter": "python",
   "pygments_lexer": "ipython3",
   "version": "3.11.1"
  },
  "orig_nbformat": 4
 },
 "nbformat": 4,
 "nbformat_minor": 2
}
